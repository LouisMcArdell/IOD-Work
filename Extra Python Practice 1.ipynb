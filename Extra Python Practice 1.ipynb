{
 "cells": [
  {
   "cell_type": "markdown",
   "id": "43829575-7890-43fe-9ce0-b42576193cd7",
   "metadata": {},
   "source": [
    "## Extra Python Practice 1"
   ]
  },
  {
   "cell_type": "code",
   "execution_count": 1,
   "id": "96c4a11f-5ee9-4ee8-aa86-6b296049e12e",
   "metadata": {},
   "outputs": [],
   "source": [
    "import random"
   ]
  },
  {
   "cell_type": "markdown",
   "id": "4cf48ca4-ead5-4af0-8b1f-a277bb3f4ff5",
   "metadata": {},
   "source": [
    "#### 1. Odd or Even\n",
    "\n",
    "Ask the user for a number. Depending on whether the number is even or odd, print out an appropriate message to the user. "
   ]
  },
  {
   "cell_type": "code",
   "execution_count": 4,
   "id": "95f18af9-74ef-44a9-9eaf-514071718b75",
   "metadata": {},
   "outputs": [
    {
     "name": "stdout",
     "output_type": "stream",
     "text": [
      "The number was odd\n"
     ]
    }
   ],
   "source": [
    "#Answer:\n",
    "user_num = int(input(\"Enter a number: \"))\n",
    "if user_num % 2 == 0:\n",
    "    print(\"The number was even\")\n",
    "else:\n",
    "    print(\"The number was odd\")"
   ]
  },
  {
   "cell_type": "markdown",
   "id": "0b6535f9-f3b9-41d9-873a-7e87e7089a9b",
   "metadata": {},
   "source": [
    "**Extra**:\n",
    " 1. If the number is a multiple of 4, print out a different message.\n",
    " 2. Ask the user for two numbers: one number to check (call it num) and one number to divide by (check). If check divides evenly into num, tell that to the user. If not, print a different appropriate message."
   ]
  },
  {
   "cell_type": "code",
   "execution_count": 7,
   "id": "479547aa",
   "metadata": {},
   "outputs": [
    {
     "name": "stdout",
     "output_type": "stream",
     "text": [
      "The number was odd\n"
     ]
    }
   ],
   "source": [
    "user_num = int(input(\"Enter a number: \"))\n",
    "if user_num % 4 == 0 :\n",
    "    print(\"The number was divisible by 4\")\n",
    "elif user_num % 2 == 0:\n",
    "    print(\"The number was even\")\n",
    "else:\n",
    "    print(\"The number was odd\")"
   ]
  },
  {
   "cell_type": "code",
   "execution_count": 9,
   "id": "342629d0",
   "metadata": {},
   "outputs": [
    {
     "name": "stdout",
     "output_type": "stream",
     "text": [
      "the number did NOT divide evenly\n"
     ]
    }
   ],
   "source": [
    "num = int(input(\"Enter a number to check: \"))\n",
    "check = int(input(\"Enter a number to divide by: \"))\n",
    "\n",
    "if num % check == 0:\n",
    "    print(\"The number divided evenly\")\n",
    "else:\n",
    "    print(\"the number did NOT divide evenly\")"
   ]
  },
  {
   "cell_type": "markdown",
   "id": "f249deb0-db9c-460c-a9ef-93e78fda963a",
   "metadata": {},
   "source": [
    "</br>\n",
    "\n",
    "#### 2. Max of Three\n",
    "\n",
    "Implement a function that takes as input three variables, and returns the largest of the three. Do this without using the Python `max()` function!"
   ]
  },
  {
   "cell_type": "code",
   "execution_count": 16,
   "id": "ebc859d2-32ce-4f64-a187-e345bcff6431",
   "metadata": {},
   "outputs": [
    {
     "name": "stdout",
     "output_type": "stream",
     "text": [
      "30\n"
     ]
    }
   ],
   "source": [
    "#Answer:\n",
    "def max_check(a,b,c):\n",
    "    max = 0\n",
    "    if a > b and a > c:\n",
    "        max = a\n",
    "    elif b > c:\n",
    "        max = b\n",
    "    else:\n",
    "        max = c\n",
    "    return max\n",
    "\n",
    "print(max_check(10,30,1))"
   ]
  },
  {
   "cell_type": "markdown",
   "id": "9b383638-88ef-457e-a1d1-3504e0fb0e58",
   "metadata": {},
   "source": [
    "</br>\n",
    "\n",
    "#### 3. Fibonacci Sequence\n",
    "\n",
    "Ask the user to enter a number and generate the Fibonacci sequence up to that specified number of terms."
   ]
  },
  {
   "cell_type": "code",
   "execution_count": 28,
   "id": "e15c9728-ba2c-4968-b111-5de99de806b2",
   "metadata": {},
   "outputs": [
    {
     "name": "stdout",
     "output_type": "stream",
     "text": [
      "[1, 1, 2, 3, 5, 8, 13, 21, 34, 55]\n"
     ]
    }
   ],
   "source": [
    "#Answer:\n",
    "fib_check = int(input(\"enter a number: \"))\n",
    "fib_sequence = []\n",
    "a = 0\n",
    "b = 1\n",
    "for i in range(fib_check):\n",
    "    a, b = b, a + b\n",
    "    fib_sequence.append(a)\n",
    "print(fib_sequence)\n",
    "\n"
   ]
  },
  {
   "cell_type": "markdown",
   "id": "cbc52d58-3c9b-416c-a5da-c68b8b8148b8",
   "metadata": {},
   "source": [
    "</br>\n",
    "\n",
    "#### 4. Reverse a String\n",
    "\n",
    "Ask the user for a string and write a function to reverse the string.</br>\n",
    "**Example Input**: pizza </br>\n",
    "**Example Output**: azzip"
   ]
  },
  {
   "cell_type": "code",
   "execution_count": 36,
   "id": "45242c8b-d7ad-4d06-8be0-b80a91e3d3cb",
   "metadata": {},
   "outputs": [
    {
     "name": "stdout",
     "output_type": "stream",
     "text": [
      "siuoL\n"
     ]
    }
   ],
   "source": [
    "#Answer:\n",
    "starter = input(\"Enter a string to reverse: \")\n",
    "reversed = ''\n",
    "for i in range(len(starter)):\n",
    "    reversed = reversed + (starter[len(starter)-1-i])\n",
    "\n",
    "print(reversed)"
   ]
  },
  {
   "cell_type": "markdown",
   "id": "2b9ad64e-79cc-4ee7-ac62-5a4200b7b019",
   "metadata": {},
   "source": [
    "</br>\n",
    "\n",
    "#### 5. Count Characters\n",
    "\n",
    "Write a program that counts the occurrences of each character in a string. </br>\n",
    "**Example Input**: burger </br>\n",
    "**Example Output**: </br>\n",
    "'b': 1 </br>\n",
    "'u': 1 </br>\n",
    "'r': 2 </br>\n",
    "'g': 1 </br>\n",
    "'e': 1"
   ]
  },
  {
   "cell_type": "code",
   "execution_count": 37,
   "id": "1534ffbc-02f8-4554-9967-c3c3fd952dcc",
   "metadata": {},
   "outputs": [
    {
     "name": "stdout",
     "output_type": "stream",
     "text": [
      "{'H': 1, 'a': 1, 'p': 2, 'y': 1}\n"
     ]
    }
   ],
   "source": [
    "#Answer:\n",
    "starter = input(\"enter a string: \")\n",
    "char_count = {}\n",
    "for i in starter:\n",
    "    if i in char_count:\n",
    "        char_count[i] += 1\n",
    "    else:\n",
    "        char_count[i] = 1\n",
    "print(char_count)"
   ]
  },
  {
   "cell_type": "markdown",
   "id": "57331de8-28e8-4b73-bb05-a30d360912fb",
   "metadata": {},
   "source": [
    "</br>\n",
    "\n",
    "#### 6. Guess the Number\n",
    "\n",
    "Write a program where a user tries to guess a randomly generated number.\n",
    " - prints whether the guess is too low or too high and user has another guess\n",
    " - once the user guesses the number print out how many guesses it took"
   ]
  },
  {
   "cell_type": "code",
   "execution_count": 43,
   "id": "b8fc699e-6f94-48b6-bd45-2167dfc0427d",
   "metadata": {},
   "outputs": [
    {
     "name": "stdout",
     "output_type": "stream",
     "text": [
      "Enter a guess\n",
      "Your guess was too high, please try again\n",
      "Your guess was too low, please try again\n",
      "Your guess was too low, please try again\n",
      "nice work! You've guess it\n"
     ]
    }
   ],
   "source": [
    "#Answer:\n",
    "rand_num = random.randint(1, 100)\n",
    "guess = 0\n",
    "print(\"Enter a guess\")\n",
    "while guess != rand_num:\n",
    "    guess = int(input(\"enter your guess: \"))\n",
    "    if guess == rand_num:\n",
    "        print(\"nice work! You've guess it\")\n",
    "    elif guess > rand_num:\n",
    "        print(\"Your guess was too high, please try again\")\n",
    "    else:\n",
    "        print(\"Your guess was too low, please try again\")\n",
    "\n",
    "\n"
   ]
  },
  {
   "cell_type": "code",
   "execution_count": null,
   "id": "a7cac576-e3fe-4ef2-b7e7-db6495c25738",
   "metadata": {},
   "outputs": [],
   "source": []
  }
 ],
 "metadata": {
  "kernelspec": {
   "display_name": "Python 3 (ipykernel)",
   "language": "python",
   "name": "python3"
  },
  "language_info": {
   "codemirror_mode": {
    "name": "ipython",
    "version": 3
   },
   "file_extension": ".py",
   "mimetype": "text/x-python",
   "name": "python",
   "nbconvert_exporter": "python",
   "pygments_lexer": "ipython3",
   "version": "3.9.10"
  }
 },
 "nbformat": 4,
 "nbformat_minor": 5
}
