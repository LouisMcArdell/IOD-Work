{
 "cells": [
  {
   "cell_type": "code",
   "execution_count": null,
   "metadata": {},
   "outputs": [],
   "source": [
    "pip install gradio"
   ]
  },
  {
   "cell_type": "code",
   "execution_count": 8,
   "metadata": {},
   "outputs": [],
   "source": [
    "import gradio as gr\n",
    "import pandas as pd\n",
    "import numpy as np\n",
    "import sklearn\n",
    "from sklearn import preprocessing\n",
    "from sklearn.model_selection import train_test_split\n",
    "from sklearn.ensemble import RandomForestClassifier\n",
    "from sklearn.linear_model import LogisticRegression\n",
    "from sklearn.metrics import accuracy_score\n",
    "\n",
    "# Pycaret to train various ML models\n",
    "from pycaret.classification import *"
   ]
  },
  {
   "cell_type": "code",
   "execution_count": 9,
   "metadata": {},
   "outputs": [
    {
     "data": {
      "text/plain": [
       "'1.26.2'"
      ]
     },
     "execution_count": 9,
     "metadata": {},
     "output_type": "execute_result"
    }
   ],
   "source": [
    "import numpy\n",
    "numpy.version.version"
   ]
  },
  {
   "cell_type": "code",
   "execution_count": 10,
   "metadata": {},
   "outputs": [
    {
     "data": {
      "text/plain": [
       "'1.26.2'"
      ]
     },
     "execution_count": 10,
     "metadata": {},
     "output_type": "execute_result"
    }
   ],
   "source": [
    "numpy.__version__"
   ]
  },
  {
   "cell_type": "code",
   "execution_count": 11,
   "metadata": {},
   "outputs": [],
   "source": [
    "def encode_ages(df): # Binning ages \n",
    "    df.Age = df.Age.fillna(-0.5)\n",
    "    bins = (-1, 0, 5, 12, 18, 25, 35, 60, 120)\n",
    "    categories = pd.cut(df.Age, bins, labels=False)\n",
    "    df.Age = categories\n",
    "    return df\n",
    "\n",
    "def encode_fares(df): # Binning fares\n",
    "    df.Fare = df.Fare.fillna(-0.5)\n",
    "    bins = (-1, 0, 8, 15, 31, 1000)\n",
    "    categories = pd.cut(df.Fare, bins, labels=False)\n",
    "    df.Fare = categories\n",
    "    return df\n",
    "\n",
    "def encode_sex(df):\n",
    "    mapping = {\"male\": 0, \"female\": 1}\n",
    "    return df.replace({'Sex': mapping})"
   ]
  },
  {
   "cell_type": "code",
   "execution_count": 12,
   "metadata": {},
   "outputs": [],
   "source": [
    "import warnings\n",
    "warnings.filterwarnings('ignore')\n",
    "\n",
    "\n",
    "def transform_features(df):\n",
    "    df = encode_ages(df)\n",
    "    df = encode_fares(df)\n",
    "    df = encode_sex(df)\n",
    "    return df\n",
    "\n",
    "# Asyraf added\n",
    "  # train = data[['PassengerId', 'Fare', 'Age', 'Sex', 'Survived']]\n",
    "  # train = transform_features(train)\n",
    "\n",
    "\n",
    "  # X_all = train.drop(['Survived', 'PassengerId'], axis=1)\n",
    "  # y_all = train['Survived']\n",
    "\n",
    "  # num_test = 0.20\n",
    "  # X_train, X_test, y_train, y_test = train_test_split(X_all, y_all, test_size=num_test, random_state=23)\n",
    "\n",
    "  # # Pass what model to train\n",
    "  # # if model== 'RF':\n",
    "  # clf = RandomForestClassifier()\n",
    "  # clf.fit(X_train, y_train)\n",
    "  # predictions = clf.predict(X_test)\n",
    "  # acc = accuracy_score(y_test, predictions)\n",
    "  # print(\"accuracy of Random Forest: \", acc)\n",
    "  # elif model == 'LR':\n",
    "  #   clf = RandomForestClassifier()\n",
    "  #   clf.fit(X_train, y_train)\n",
    "  #   predictions = clf.predict(X_test)\n",
    "  #   acc = accuracy_score(y_test, predictions)\n",
    "  #   print(\"accuracy of Logistic Regression: \", acc)\n",
    "  # else:\n",
    "  #   pass\n",
    "\n",
    "  # return {'Accuracy of Random Forest': int(acc)}"
   ]
  },
  {
   "cell_type": "code",
   "execution_count": null,
   "metadata": {},
   "outputs": [],
   "source": [
    "data = pd.read_csv('https://raw.githubusercontent.com/gradio-app/titanic/master/train.csv')\n",
    "\n",
    "# data = transform_features(data[['PassengerId', 'Fare', 'Age', 'Sex', 'Survived']])\n",
    "# y_out = data['Survived']\n",
    "s = setup(data, target = 'Survived',feature_selection = True, ignore_features = ['Cabin', 'Parch', 'Ticket', 'SibSp', 'Embarked', 'Name', 'Pclass'])\n",
    "\n",
    "best = compare_models(n_select = 15)\n",
    "compare_model_results = pull()\n",
    "\n",
    "\n",
    "# If want to do manual split train testing \n",
    "# train = data[['PassengerId', 'Fare', 'Age', 'Sex', 'Survived']]\n",
    "# train = transform_features(train)\n",
    "\n",
    "# X_all = train.drop(['Survived', 'PassengerId'], axis=1)\n",
    "# y_all = train['Survived']\n",
    "# # print('yalll is:',y_all)\n",
    "\n",
    "# num_test = 0.2\n",
    "# X_train, X_test, y_train, y_test = train_test_split(X_all, y_all, test_size=num_test, random_state=23)"
   ]
  },
  {
   "cell_type": "markdown",
   "metadata": {},
   "source": [
    "### Write a prediction function"
   ]
  },
  {
   "cell_type": "code",
   "execution_count": 14,
   "metadata": {},
   "outputs": [],
   "source": [
    "# Modify fn ,add can pick what model to train on and pass accuracy as well - Asyraf\n",
    "def predict_survival(sex, age, fare, model):\n",
    "\n",
    "  df = pd.DataFrame.from_dict({'Sex': [sex], 'Age': [age], 'Fare': [fare]})\n",
    "  df = encode_sex(df)\n",
    "  df = encode_fares(df)\n",
    "  df = encode_ages(df)\n",
    "\n",
    "  model_index = list(compare_model_results['Model']).index(model)\n",
    "  model = best[model_index]\n",
    "\n",
    "  # pred = predict_model(model, df,raw_score=True)\n",
    "  pred = model.predict_proba(df)[0]\n",
    "  \n",
    "  return {'Perishes': pred[0].astype('float64'), 'Survives': pred[1].astype('float64')}"
   ]
  },
  {
   "cell_type": "markdown",
   "metadata": {},
   "source": [
    "### Build a shareable UI in 4 lines of code!"
   ]
  },
  {
   "cell_type": "code",
   "execution_count": 15,
   "metadata": {},
   "outputs": [
    {
     "name": "stdout",
     "output_type": "stream",
     "text": [
      "Running on local URL:  http://127.0.0.1:7862\n",
      "\n",
      "To create a public link, set `share=True` in `launch()`.\n"
     ]
    },
    {
     "data": {
      "text/html": [
       "<div><iframe src=\"http://127.0.0.1:7862/\" width=\"100%\" height=\"500\" allow=\"autoplay; camera; microphone; clipboard-read; clipboard-write;\" frameborder=\"0\" allowfullscreen></iframe></div>"
      ],
      "text/plain": [
       "<IPython.core.display.HTML object>"
      ]
     },
     "metadata": {},
     "output_type": "display_data"
    },
    {
     "name": "stderr",
     "output_type": "stream",
     "text": [
      "Traceback (most recent call last):\n",
      "  File \"C:\\Users\\aicyb\\anaconda3\\lib\\site-packages\\gradio\\routes.py\", line 414, in run_predict\n",
      "    output = await app.get_blocks().process_api(\n",
      "  File \"C:\\Users\\aicyb\\anaconda3\\lib\\site-packages\\gradio\\blocks.py\", line 1323, in process_api\n",
      "    result = await self.call_function(\n",
      "  File \"C:\\Users\\aicyb\\anaconda3\\lib\\site-packages\\gradio\\blocks.py\", line 1051, in call_function\n",
      "    prediction = await anyio.to_thread.run_sync(\n",
      "  File \"C:\\Users\\aicyb\\anaconda3\\lib\\site-packages\\anyio\\to_thread.py\", line 33, in run_sync\n",
      "    return await get_asynclib().run_sync_in_worker_thread(\n",
      "  File \"C:\\Users\\aicyb\\anaconda3\\lib\\site-packages\\anyio\\_backends\\_asyncio.py\", line 877, in run_sync_in_worker_thread\n",
      "    return await future\n",
      "  File \"C:\\Users\\aicyb\\anaconda3\\lib\\site-packages\\anyio\\_backends\\_asyncio.py\", line 807, in run\n",
      "    result = context.run(func, *args)\n",
      "  File \"C:\\Users\\aicyb\\AppData\\Local\\Temp\\ipykernel_14144\\1596690375.py\", line 9, in predict_survival\n",
      "    model_index = list(compare_model_results['Model']).index(model)\n",
      "ValueError: '' is not in list\n",
      "Traceback (most recent call last):\n",
      "  File \"C:\\Users\\aicyb\\anaconda3\\lib\\site-packages\\gradio\\routes.py\", line 414, in run_predict\n",
      "    output = await app.get_blocks().process_api(\n",
      "  File \"C:\\Users\\aicyb\\anaconda3\\lib\\site-packages\\gradio\\blocks.py\", line 1323, in process_api\n",
      "    result = await self.call_function(\n",
      "  File \"C:\\Users\\aicyb\\anaconda3\\lib\\site-packages\\gradio\\blocks.py\", line 1051, in call_function\n",
      "    prediction = await anyio.to_thread.run_sync(\n",
      "  File \"C:\\Users\\aicyb\\anaconda3\\lib\\site-packages\\anyio\\to_thread.py\", line 33, in run_sync\n",
      "    return await get_asynclib().run_sync_in_worker_thread(\n",
      "  File \"C:\\Users\\aicyb\\anaconda3\\lib\\site-packages\\anyio\\_backends\\_asyncio.py\", line 877, in run_sync_in_worker_thread\n",
      "    return await future\n",
      "  File \"C:\\Users\\aicyb\\anaconda3\\lib\\site-packages\\anyio\\_backends\\_asyncio.py\", line 807, in run\n",
      "    result = context.run(func, *args)\n",
      "  File \"C:\\Users\\aicyb\\AppData\\Local\\Temp\\ipykernel_14144\\1596690375.py\", line 9, in predict_survival\n",
      "    model_index = list(compare_model_results['Model']).index(model)\n",
      "ValueError: '' is not in list\n"
     ]
    },
    {
     "name": "stdout",
     "output_type": "stream",
     "text": [
      "Keyboard interruption in main thread... closing server.\n"
     ]
    }
   ],
   "source": [
    "sex = gr.inputs.Radio(['female', 'male'], label=\"Sex\")\n",
    "age = gr.inputs.Slider(minimum=0, maximum=120, default=22, label=\"Age\")\n",
    "fare = gr.inputs.Slider(minimum=0, maximum=1000, default=100, label=\"Fare (british pounds)\")\n",
    "# Add radio button to train and can choose what classifier to train\n",
    "model = gr.inputs.Dropdown(list(compare_model_results['Model']), label=\"Choose Machine Learning Classifier\")\n",
    "\n",
    "gr.Interface(predict_survival, [sex, age, fare, model], \"label\", live=True).launch(debug=True);"
   ]
  },
  {
   "cell_type": "code",
   "execution_count": null,
   "metadata": {},
   "outputs": [],
   "source": []
  }
 ],
 "metadata": {
  "kernelspec": {
   "display_name": "Python 3 (ipykernel)",
   "language": "python",
   "name": "python3"
  },
  "language_info": {
   "codemirror_mode": {
    "name": "ipython",
    "version": 3
   },
   "file_extension": ".py",
   "mimetype": "text/x-python",
   "name": "python",
   "nbconvert_exporter": "python",
   "pygments_lexer": "ipython3",
   "version": "3.9.13"
  },
  "toc": {
   "base_numbering": 1,
   "nav_menu": {},
   "number_sections": true,
   "sideBar": true,
   "skip_h1_title": false,
   "title_cell": "Table of Contents",
   "title_sidebar": "Contents",
   "toc_cell": false,
   "toc_position": {},
   "toc_section_display": true,
   "toc_window_display": false
  }
 },
 "nbformat": 4,
 "nbformat_minor": 4
}
