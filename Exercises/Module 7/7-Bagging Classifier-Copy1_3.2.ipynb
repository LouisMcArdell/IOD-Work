{
 "cells": [
  {
   "cell_type": "markdown",
   "id": "6f4df5b1",
   "metadata": {},
   "source": [
    "## Regression"
   ]
  },
  {
   "cell_type": "code",
   "execution_count": 2,
   "id": "0ff7712f",
   "metadata": {},
   "outputs": [],
   "source": [
    "import pandas as pd\n",
    "import numpy as np\n",
    "from sklearn import model_selection\n",
    "from sklearn.model_selection import train_test_split\n",
    "from sklearn.model_selection import cross_val_score\n",
    "from sklearn.model_selection import KFold\n",
    "\n",
    "# Classifier\n",
    "from sklearn.ensemble import BaggingClassifier\n",
    "from sklearn.tree import DecisionTreeClassifier\n",
    "\n",
    "# Regressor\n",
    "from sklearn.ensemble import BaggingRegressor\n",
    "from sklearn.tree import DecisionTreeRegressor"
   ]
  },
  {
   "cell_type": "code",
   "execution_count": 5,
   "id": "c2ce932a",
   "metadata": {},
   "outputs": [],
   "source": [
    "#load the data \n",
    "#url = \"Wine_data.csv\"\n",
    "dataframe=pd.read_csv(\"d:/data/winequality-red.csv\") \n",
    "arr = dataframe.values \n",
    "X = arr[:, 1:14] \n",
    "Y = arr[:, 0]\n",
    "\n",
    "#initialize the base regressor\n",
    "base_cls = DecisionTreeRegressor()\n",
    "\n",
    "#split the data\n",
    "X_train, X_test, y_train, y_test = train_test_split(X, Y, test_size = 0.2, random_state = 0)\n",
    "\n",
    "Kfold = model_selection.KFold(n_splits=3)"
   ]
  },
  {
   "cell_type": "code",
   "execution_count": 6,
   "id": "86c91054",
   "metadata": {},
   "outputs": [
    {
     "name": "stdout",
     "output_type": "stream",
     "text": [
      "Mean Absolute Error: 0.37821912500000077\n",
      "Mean Squared Error: 0.3175001274561114\n",
      "Root Mean Squared Error 0.563471496578231\n"
     ]
    },
    {
     "data": {
      "text/plain": [
       "0.8725240825818797"
      ]
     },
     "execution_count": 6,
     "metadata": {},
     "output_type": "execute_result"
    }
   ],
   "source": [
    "#define bagging regressor\n",
    "num_trees = 500\n",
    "model_reg = BaggingRegressor(base_estimator = base_cls, n_estimators =num_trees,random_state=5)\n",
    "results = model_selection.cross_val_score(model_reg,X_train,y_train,cv = Kfold)\n",
    "results.mean()\n",
    "\n",
    "#fit the model on the whole dataset\n",
    "model_reg.fit(X_train, y_train)\n",
    "y_pred = model_reg.predict(X_test)\n",
    "\n",
    "#Accuracy Scores\n",
    "from sklearn import metrics\n",
    "print('Mean Absolute Error:', metrics.mean_absolute_error(y_test, y_pred))\n",
    "print('Mean Squared Error:', metrics.mean_squared_error(y_test,y_pred))\n",
    "print('Root Mean Squared Error', np.sqrt(metrics.mean_squared_error(y_test,y_pred)))\n",
    "acc = cross_val_score(model_reg,X_train,y_train,cv = 10)\n",
    "acc.mean()"
   ]
  },
  {
   "cell_type": "code",
   "execution_count": null,
   "id": "a0b94913",
   "metadata": {},
   "outputs": [],
   "source": [
    "# Now again let’s compare the results without the bagging Regressor,  WITH decision tree regressor ONLY"
   ]
  },
  {
   "cell_type": "code",
   "execution_count": 20,
   "id": "0cc71300",
   "metadata": {},
   "outputs": [
    {
     "name": "stdout",
     "output_type": "stream",
     "text": [
      "Mean Absolute Error: 0.49468750000000006\n",
      "Mean Squared Error: 0.62846875\n",
      "Root Mean Squared Error 0.7927602096472804\n"
     ]
    },
    {
     "data": {
      "text/plain": [
       "0.7253915907752022"
      ]
     },
     "execution_count": 20,
     "metadata": {},
     "output_type": "execute_result"
    }
   ],
   "source": [
    "X_train, X_test, y_train, y_test = train_test_split(X, Y, test_size = 0.2, random_state = 0)\n",
    "dt_model= DecisionTreeRegressor()\n",
    "dt_model.fit(X_train,y_train)\n",
    "y_pred_dt = dt_model.predict(X_test)\n",
    "from sklearn import metrics\n",
    "print('Mean Absolute Error:', metrics.mean_absolute_error(y_test, y_pred_dt))\n",
    "print('Mean Squared Error:', metrics.mean_squared_error (y_test,y_pred_dt))\n",
    "print('Root Mean Squared Error', np.sqrt(metrics.mean_squared_error (y_test,y_pred_dt)))\n",
    "acc = cross_val_score(dt_model, X_train,y_train,cv = 10)\n",
    "acc.mean()"
   ]
  },
  {
   "cell_type": "code",
   "execution_count": null,
   "id": "04a2cc08",
   "metadata": {},
   "outputs": [],
   "source": [
    "# Homework: design an app for this problem (gradio)"
   ]
  },
  {
   "cell_type": "markdown",
   "id": "7d521896",
   "metadata": {},
   "source": [
    "## Classification"
   ]
  },
  {
   "cell_type": "code",
   "execution_count": 1,
   "id": "f3d4ade4",
   "metadata": {},
   "outputs": [
    {
     "ename": "NameError",
     "evalue": "name 'dataframe' is not defined",
     "output_type": "error",
     "traceback": [
      "\u001b[1;31m---------------------------------------------------------------------------\u001b[0m",
      "\u001b[1;31mNameError\u001b[0m                                 Traceback (most recent call last)",
      "\u001b[1;32mc:\\Users\\Louis\\Documents\\GitHub\\IOD-Work\\Exercises\\Module 7\\7-Bagging Classifier-Copy1_3.2.ipynb Cell 9\u001b[0m line \u001b[0;36m4\n\u001b[0;32m      <a href='vscode-notebook-cell:/c%3A/Users/Louis/Documents/GitHub/IOD-Work/Exercises/Module%207/7-Bagging%20Classifier-Copy1_3.2.ipynb#X11sZmlsZQ%3D%3D?line=0'>1</a>\u001b[0m \u001b[39mfrom\u001b[39;00m \u001b[39msklearn\u001b[39;00m\u001b[39m.\u001b[39;00m\u001b[39mmetrics\u001b[39;00m \u001b[39mimport\u001b[39;00m confusion_matrix\n\u001b[0;32m      <a href='vscode-notebook-cell:/c%3A/Users/Louis/Documents/GitHub/IOD-Work/Exercises/Module%207/7-Bagging%20Classifier-Copy1_3.2.ipynb#X11sZmlsZQ%3D%3D?line=2'>3</a>\u001b[0m \u001b[39m#lets convert the dataset into classification problem\u001b[39;00m\n\u001b[1;32m----> <a href='vscode-notebook-cell:/c%3A/Users/Louis/Documents/GitHub/IOD-Work/Exercises/Module%207/7-Bagging%20Classifier-Copy1_3.2.ipynb#X11sZmlsZQ%3D%3D?line=3'>4</a>\u001b[0m dataframe1  \u001b[39m=\u001b[39m dataframe\u001b[39m.\u001b[39mcopy()\n\u001b[0;32m      <a href='vscode-notebook-cell:/c%3A/Users/Louis/Documents/GitHub/IOD-Work/Exercises/Module%207/7-Bagging%20Classifier-Copy1_3.2.ipynb#X11sZmlsZQ%3D%3D?line=4'>5</a>\u001b[0m dataframe1[\u001b[39m\"\u001b[39m\u001b[39mquality\u001b[39m\u001b[39m\"\u001b[39m] \u001b[39m=\u001b[39m np\u001b[39m.\u001b[39mwhere(dataframe[\u001b[39m'\u001b[39m\u001b[39mquality\u001b[39m\u001b[39m'\u001b[39m]\u001b[39m>\u001b[39m\u001b[39m=\u001b[39m\u001b[39m5\u001b[39m,\u001b[39m1\u001b[39m,\u001b[39m0\u001b[39m)\n",
      "\u001b[1;31mNameError\u001b[0m: name 'dataframe' is not defined"
     ]
    }
   ],
   "source": [
    "from sklearn.metrics import confusion_matrix\n",
    "\n",
    "#lets convert the dataset into classification problem\n",
    "dataframe1  = dataframe.copy()\n",
    "dataframe1[\"quality\"] = np.where(dataframe['quality']>=5,1,0)"
   ]
  },
  {
   "cell_type": "code",
   "execution_count": 12,
   "id": "776ff20e",
   "metadata": {},
   "outputs": [],
   "source": [
    "arr = dataframe1.values \n",
    "X = arr[:, 1:11] \n",
    "Y = arr[:, 11]\n",
    "kfold = model_selection.KFold(n_splits=3)\n",
    "\n",
    "#initialize the base classifier\n",
    "base_cls = DecisionTreeClassifier()\n",
    "\n",
    "#no. of base classifiers\n",
    "X_train, X_test, y_train, y_test = train_test_split(X, Y, test_size = 0.2, random_state = 0)"
   ]
  },
  {
   "cell_type": "code",
   "execution_count": 13,
   "id": "34d4856d",
   "metadata": {},
   "outputs": [
    {
     "name": "stdout",
     "output_type": "stream",
     "text": [
      "Confusion Matrix \n",
      " [[  1  12]\n",
      " [  2 305]]\n",
      "Accuracy Score 0.95625\n",
      "Balanced Accuracy  0.5352042094713104\n",
      "Recall Accuracy Score~TP 0.993485342019544\n",
      "Precision Score ~ Ratio of TP 0.9621451104100947\n",
      "F1 Score 0.9775641025641026\n",
      "auc_roc score 0.5352042094713104\n",
      "Classification Report \n",
      "               precision    recall  f1-score   support\n",
      "\n",
      "         0.0       0.33      0.08      0.12        13\n",
      "         1.0       0.96      0.99      0.98       307\n",
      "\n",
      "    accuracy                           0.96       320\n",
      "   macro avg       0.65      0.54      0.55       320\n",
      "weighted avg       0.94      0.96      0.94       320\n",
      "\n"
     ]
    },
    {
     "data": {
      "text/plain": [
       "0.961675688976378"
      ]
     },
     "execution_count": 13,
     "metadata": {},
     "output_type": "execute_result"
    }
   ],
   "source": [
    "#bagging classifier\n",
    "num_trees = 500\n",
    "model_classifier = BaggingClassifier(base_estimator = base_cls,n_estimators=num_trees,random_state=3)\n",
    "results1 = model_selection.cross_val_score(model_classifier,X_train,y_train,cv = kfold)\n",
    "results1.mean()\n",
    "\n",
    "# fit the model on the whole dataset\n",
    "model_classifier.fit(X_train, y_train)\n",
    "y_pred = model_classifier.predict(X_test)\n",
    "def evaluation_score (y_test,y_pred):\n",
    "    cm = confusion_matrix(y_test,y_pred) \n",
    "    print(\"Confusion Matrix \\n\", cm)\n",
    "    print(\"Accuracy Score\",metrics.accuracy_score(y_test, y_pred))\n",
    "    print('Balanced Accuracy ',metrics.balanced_accuracy_score(y_test,y_pred))\n",
    "    print(\"Recall Accuracy Score~TP\",metrics.recall_score(y_test, y_pred))\n",
    "    print(\"Precision Score ~ Ratio of TP\",metrics.precision_score(y_test, y_pred))\n",
    "    print(\"F1 Score\",metrics.f1_score(y_test, y_pred))\n",
    "    print(\"auc_roc score\", metrics.roc_auc_score(y_test,y_pred))\n",
    "    print(\"Classification Report \\n\", metrics.classification_report(y_test,y_pred))\n",
    "evaluation_score(y_test,y_pred)\n",
    "acc = cross_val_score(model_classifier,X_train,y_train,cv = 10)\n",
    "acc.mean()"
   ]
  },
  {
   "cell_type": "code",
   "execution_count": 14,
   "id": "0a18a22e",
   "metadata": {},
   "outputs": [],
   "source": [
    "# Now again let’s compare the results without the bagging classifier WITH decision tree classifier ONLY"
   ]
  },
  {
   "cell_type": "code",
   "execution_count": 15,
   "id": "b824cc7d",
   "metadata": {},
   "outputs": [
    {
     "name": "stdout",
     "output_type": "stream",
     "text": [
      "Confusion Matrix \n",
      " [[  1  12]\n",
      " [  2 305]]\n",
      "Accuracy Score 0.95625\n",
      "Balanced Accuracy  0.5352042094713104\n",
      "Recall Accuracy Score~TP 0.993485342019544\n",
      "Precision Score ~ Ratio of TP 0.9621451104100947\n",
      "F1 Score 0.9775641025641026\n",
      "auc_roc score 0.5352042094713104\n",
      "Classification Report \n",
      "               precision    recall  f1-score   support\n",
      "\n",
      "         0.0       0.33      0.08      0.12        13\n",
      "         1.0       0.96      0.99      0.98       307\n",
      "\n",
      "    accuracy                           0.96       320\n",
      "   macro avg       0.65      0.54      0.55       320\n",
      "weighted avg       0.94      0.96      0.94       320\n",
      "\n"
     ]
    },
    {
     "data": {
      "text/plain": [
       "0.9327632874015748"
      ]
     },
     "execution_count": 15,
     "metadata": {},
     "output_type": "execute_result"
    }
   ],
   "source": [
    "X_train, X_test, y_train, y_test = train_test_split(X, Y, test_size = 0.2, random_state = 0)\n",
    "dt_model = DecisionTreeClassifier()\n",
    "dt_model.fit(X_train,y_train)\n",
    "y_pred_dt = dt_model.predict(X_test)\n",
    "def evaluation_score (y_test,y_pred):\n",
    "    cm = confusion_matrix(y_test,y_pred) \n",
    "    print(\"Confusion Matrix \\n\", cm)\n",
    "    print(\"Accuracy Score\",metrics.accuracy_score(y_test, y_pred))\n",
    "    print('Balanced Accuracy ',metrics.balanced_accuracy_score(y_test,y_pred))\n",
    "    print(\"Recall Accuracy Score~TP\",metrics.recall_score(y_test, y_pred))\n",
    "    print(\"Precision Score ~ Ratio of TP\",metrics.precision_score(y_test, y_pred))\n",
    "    print(\"F1 Score\",metrics.f1_score(y_test, y_pred))\n",
    "    print(\"auc_roc score\", metrics.roc_auc_score(y_test,y_pred))\n",
    "    print(\"Classification Report \\n\", metrics.classification_report(y_test,y_pred))\n",
    "evaluation_score(y_test,y_pred)\n",
    "acc = cross_val_score(dt_model, X_train,y_train,cv = 10)\n",
    "acc.mean()"
   ]
  },
  {
   "cell_type": "code",
   "execution_count": null,
   "id": "6e6c44db",
   "metadata": {},
   "outputs": [],
   "source": [
    "################################################################################################################################"
   ]
  },
  {
   "cell_type": "code",
   "execution_count": null,
   "id": "07e81ca9",
   "metadata": {},
   "outputs": [],
   "source": [
    "# Homework: Design an app for this problem (gradio)"
   ]
  },
  {
   "cell_type": "code",
   "execution_count": 21,
   "id": "afd1fe84",
   "metadata": {},
   "outputs": [],
   "source": [
    "################################################################################################################################"
   ]
  },
  {
   "cell_type": "code",
   "execution_count": 2,
   "id": "649b6c85",
   "metadata": {},
   "outputs": [],
   "source": [
    "from sklearn.datasets import load_breast_cancer,load_diabetes"
   ]
  },
  {
   "cell_type": "code",
   "execution_count": 3,
   "id": "503bc7c5",
   "metadata": {},
   "outputs": [],
   "source": [
    "from sklearn.linear_model import LinearRegression \n",
    "from sklearn.naive_bayes import GaussianNB"
   ]
  },
  {
   "cell_type": "code",
   "execution_count": 4,
   "id": "d506eeb6",
   "metadata": {},
   "outputs": [],
   "source": [
    "from sklearn.ensemble import BaggingClassifier,BaggingRegressor \n",
    "from sklearn.model_selection import cross_val_score"
   ]
  },
  {
   "cell_type": "markdown",
   "id": "0d560ba0",
   "metadata": {},
   "source": [
    "Let’s start with classification. We can import our dataset, train our model and calculate the variance of some performance metric (let’s say the balanced accuracy) over 10-fold cross-validation."
   ]
  },
  {
   "cell_type": "code",
   "execution_count": 5,
   "id": "fdd3a816",
   "metadata": {},
   "outputs": [
    {
     "data": {
      "text/plain": [
       "0.0011182285777794419"
      ]
     },
     "execution_count": 5,
     "metadata": {},
     "output_type": "execute_result"
    }
   ],
   "source": [
    "X,y = load_breast_cancer(return_X_y=True) \n",
    "nb = GaussianNB() \n",
    "cross_val_score(nb,X,y,scoring=\"balanced_accuracy\",cv=10).var() \n",
    "\n",
    "# The smalller the variance, the stable is the model."
   ]
  },
  {
   "cell_type": "markdown",
   "id": "16fcc4cd",
   "metadata": {},
   "source": [
    "This variance is a measure of the stability of the model."
   ]
  },
  {
   "cell_type": "markdown",
   "id": "34f1119d",
   "metadata": {},
   "source": [
    "Let’s now apply bagging using, for example, 10 models and half of the original column count. In real-life projects, you want to optimize these values using a hyperparameter tuning technique like gridsearch."
   ]
  },
  {
   "cell_type": "code",
   "execution_count": 6,
   "id": "8744234a",
   "metadata": {},
   "outputs": [],
   "source": [
    "model = BaggingClassifier(GaussianNB(),n_estimators = 15, max_features = 0.5,random_state = 0, n_jobs = -1)"
   ]
  },
  {
   "cell_type": "code",
   "execution_count": 7,
   "id": "a3cebb37",
   "metadata": {},
   "outputs": [
    {
     "data": {
      "text/plain": [
       "0.001299575584748743"
      ]
     },
     "execution_count": 7,
     "metadata": {},
     "output_type": "execute_result"
    }
   ],
   "source": [
    "# Variance is, then:\n",
    "\n",
    "cross_val_score(model,X,y,scoring=\"balanced_accuracy\",cv=10).var() "
   ]
  },
  {
   "cell_type": "markdown",
   "id": "ea65cf42",
   "metadata": {},
   "source": [
    "As we can see, it is lower than the original variance. So, bagging has reduced the variance making our model more stable."
   ]
  },
  {
   "cell_type": "markdown",
   "id": "dd2a8135",
   "metadata": {},
   "source": [
    "We can apply the same concept to regression as well. Let’s use a linear regression model and the R-squared metric."
   ]
  },
  {
   "cell_type": "code",
   "execution_count": 8,
   "id": "8d6c8e71",
   "metadata": {},
   "outputs": [
    {
     "data": {
      "text/plain": [
       "0.021606486588161965"
      ]
     },
     "execution_count": 8,
     "metadata": {},
     "output_type": "execute_result"
    }
   ],
   "source": [
    "X,y = load_diabetes(return_X_y=True) \n",
    "lr = LinearRegression() \n",
    "cross_val_score(lr,X,y,scoring=\"r2\",cv=10).var() "
   ]
  },
  {
   "cell_type": "code",
   "execution_count": 9,
   "id": "b21e711b",
   "metadata": {},
   "outputs": [
    {
     "data": {
      "text/plain": [
       "0.013137024989029111"
      ]
     },
     "execution_count": 9,
     "metadata": {},
     "output_type": "execute_result"
    }
   ],
   "source": [
    "# Let’s now apply a BaggingRegressor to our model and calculate the new variance:\n",
    "\n",
    "model = BaggingRegressor(LinearRegression(),n_estimators = 10, max_features = 0.5,random_state = 0, n_jobs = -1) \n",
    "cross_val_score(model,X,y,scoring=\"r2\",cv=10).var() "
   ]
  },
  {
   "cell_type": "markdown",
   "id": "d0fec72d",
   "metadata": {},
   "source": [
    "It’s half the original value. So, we have created a more stable model. Bagging is a very useful technique that mathematically increases the stability of a model."
   ]
  },
  {
   "cell_type": "code",
   "execution_count": 31,
   "id": "347d6cbf",
   "metadata": {},
   "outputs": [],
   "source": [
    "################################################################################################################################"
   ]
  },
  {
   "cell_type": "markdown",
   "id": "624d5661",
   "metadata": {},
   "source": [
    "#### Voting wih Python using Scikit-Learn"
   ]
  },
  {
   "cell_type": "code",
   "execution_count": 10,
   "id": "3694a8b7",
   "metadata": {},
   "outputs": [],
   "source": [
    "import pandas as pd\n",
    "from sklearn.ensemble import VotingClassifier\n",
    "from sklearn.linear_model import LogisticRegression\n",
    "from sklearn.neighbors import KNeighborsClassifier\n",
    "from sklearn.datasets import load_breast_cancer\n",
    "from sklearn.model_selection import train_test_split\n",
    "from sklearn.metrics import accuracy_score"
   ]
  },
  {
   "attachments": {
    "image.png": {
     "image/png": "[encoded data removed]"
    }
   },
   "cell_type": "markdown",
   "id": "7a80c98e",
   "metadata": {},
   "source": [
    "![image.png](attachment:image.png)"
   ]
  },
  {
   "cell_type": "code",
   "execution_count": 11,
   "id": "bd8c989b",
   "metadata": {},
   "outputs": [
    {
     "data": {
      "text/html": [
       "<div>\n",
       "<style scoped>\n",
       "    .dataframe tbody tr th:only-of-type {\n",
       "        vertical-align: middle;\n",
       "    }\n",
       "\n",
       "    .dataframe tbody tr th {\n",
       "        vertical-align: top;\n",
       "    }\n",
       "\n",
       "    .dataframe thead th {\n",
       "        text-align: right;\n",
       "    }\n",
       "</style>\n",
       "<table border=\"1\" class=\"dataframe\">\n",
       "  <thead>\n",
       "    <tr style=\"text-align: right;\">\n",
       "      <th></th>\n",
       "      <th>mean radius</th>\n",
       "      <th>mean texture</th>\n",
       "      <th>mean perimeter</th>\n",
       "      <th>mean area</th>\n",
       "      <th>mean smoothness</th>\n",
       "      <th>mean compactness</th>\n",
       "      <th>mean concavity</th>\n",
       "      <th>mean concave points</th>\n",
       "      <th>mean symmetry</th>\n",
       "      <th>mean fractal dimension</th>\n",
       "      <th>...</th>\n",
       "      <th>worst radius</th>\n",
       "      <th>worst texture</th>\n",
       "      <th>worst perimeter</th>\n",
       "      <th>worst area</th>\n",
       "      <th>worst smoothness</th>\n",
       "      <th>worst compactness</th>\n",
       "      <th>worst concavity</th>\n",
       "      <th>worst concave points</th>\n",
       "      <th>worst symmetry</th>\n",
       "      <th>worst fractal dimension</th>\n",
       "    </tr>\n",
       "  </thead>\n",
       "  <tbody>\n",
       "    <tr>\n",
       "      <th>0</th>\n",
       "      <td>17.99</td>\n",
       "      <td>10.38</td>\n",
       "      <td>122.80</td>\n",
       "      <td>1001.0</td>\n",
       "      <td>0.11840</td>\n",
       "      <td>0.27760</td>\n",
       "      <td>0.3001</td>\n",
       "      <td>0.14710</td>\n",
       "      <td>0.2419</td>\n",
       "      <td>0.07871</td>\n",
       "      <td>...</td>\n",
       "      <td>25.38</td>\n",
       "      <td>17.33</td>\n",
       "      <td>184.60</td>\n",
       "      <td>2019.0</td>\n",
       "      <td>0.1622</td>\n",
       "      <td>0.6656</td>\n",
       "      <td>0.7119</td>\n",
       "      <td>0.2654</td>\n",
       "      <td>0.4601</td>\n",
       "      <td>0.11890</td>\n",
       "    </tr>\n",
       "    <tr>\n",
       "      <th>1</th>\n",
       "      <td>20.57</td>\n",
       "      <td>17.77</td>\n",
       "      <td>132.90</td>\n",
       "      <td>1326.0</td>\n",
       "      <td>0.08474</td>\n",
       "      <td>0.07864</td>\n",
       "      <td>0.0869</td>\n",
       "      <td>0.07017</td>\n",
       "      <td>0.1812</td>\n",
       "      <td>0.05667</td>\n",
       "      <td>...</td>\n",
       "      <td>24.99</td>\n",
       "      <td>23.41</td>\n",
       "      <td>158.80</td>\n",
       "      <td>1956.0</td>\n",
       "      <td>0.1238</td>\n",
       "      <td>0.1866</td>\n",
       "      <td>0.2416</td>\n",
       "      <td>0.1860</td>\n",
       "      <td>0.2750</td>\n",
       "      <td>0.08902</td>\n",
       "    </tr>\n",
       "    <tr>\n",
       "      <th>2</th>\n",
       "      <td>19.69</td>\n",
       "      <td>21.25</td>\n",
       "      <td>130.00</td>\n",
       "      <td>1203.0</td>\n",
       "      <td>0.10960</td>\n",
       "      <td>0.15990</td>\n",
       "      <td>0.1974</td>\n",
       "      <td>0.12790</td>\n",
       "      <td>0.2069</td>\n",
       "      <td>0.05999</td>\n",
       "      <td>...</td>\n",
       "      <td>23.57</td>\n",
       "      <td>25.53</td>\n",
       "      <td>152.50</td>\n",
       "      <td>1709.0</td>\n",
       "      <td>0.1444</td>\n",
       "      <td>0.4245</td>\n",
       "      <td>0.4504</td>\n",
       "      <td>0.2430</td>\n",
       "      <td>0.3613</td>\n",
       "      <td>0.08758</td>\n",
       "    </tr>\n",
       "    <tr>\n",
       "      <th>3</th>\n",
       "      <td>11.42</td>\n",
       "      <td>20.38</td>\n",
       "      <td>77.58</td>\n",
       "      <td>386.1</td>\n",
       "      <td>0.14250</td>\n",
       "      <td>0.28390</td>\n",
       "      <td>0.2414</td>\n",
       "      <td>0.10520</td>\n",
       "      <td>0.2597</td>\n",
       "      <td>0.09744</td>\n",
       "      <td>...</td>\n",
       "      <td>14.91</td>\n",
       "      <td>26.50</td>\n",
       "      <td>98.87</td>\n",
       "      <td>567.7</td>\n",
       "      <td>0.2098</td>\n",
       "      <td>0.8663</td>\n",
       "      <td>0.6869</td>\n",
       "      <td>0.2575</td>\n",
       "      <td>0.6638</td>\n",
       "      <td>0.17300</td>\n",
       "    </tr>\n",
       "    <tr>\n",
       "      <th>4</th>\n",
       "      <td>20.29</td>\n",
       "      <td>14.34</td>\n",
       "      <td>135.10</td>\n",
       "      <td>1297.0</td>\n",
       "      <td>0.10030</td>\n",
       "      <td>0.13280</td>\n",
       "      <td>0.1980</td>\n",
       "      <td>0.10430</td>\n",
       "      <td>0.1809</td>\n",
       "      <td>0.05883</td>\n",
       "      <td>...</td>\n",
       "      <td>22.54</td>\n",
       "      <td>16.67</td>\n",
       "      <td>152.20</td>\n",
       "      <td>1575.0</td>\n",
       "      <td>0.1374</td>\n",
       "      <td>0.2050</td>\n",
       "      <td>0.4000</td>\n",
       "      <td>0.1625</td>\n",
       "      <td>0.2364</td>\n",
       "      <td>0.07678</td>\n",
       "    </tr>\n",
       "  </tbody>\n",
       "</table>\n",
       "<p>5 rows × 30 columns</p>\n",
       "</div>"
      ],
      "text/plain": [
       "   mean radius  mean texture  mean perimeter  mean area  mean smoothness  \\\n",
       "0        17.99         10.38          122.80     1001.0          0.11840   \n",
       "1        20.57         17.77          132.90     1326.0          0.08474   \n",
       "2        19.69         21.25          130.00     1203.0          0.10960   \n",
       "3        11.42         20.38           77.58      386.1          0.14250   \n",
       "4        20.29         14.34          135.10     1297.0          0.10030   \n",
       "\n",
       "   mean compactness  mean concavity  mean concave points  mean symmetry  \\\n",
       "0           0.27760          0.3001              0.14710         0.2419   \n",
       "1           0.07864          0.0869              0.07017         0.1812   \n",
       "2           0.15990          0.1974              0.12790         0.2069   \n",
       "3           0.28390          0.2414              0.10520         0.2597   \n",
       "4           0.13280          0.1980              0.10430         0.1809   \n",
       "\n",
       "   mean fractal dimension  ...  worst radius  worst texture  worst perimeter  \\\n",
       "0                 0.07871  ...         25.38          17.33           184.60   \n",
       "1                 0.05667  ...         24.99          23.41           158.80   \n",
       "2                 0.05999  ...         23.57          25.53           152.50   \n",
       "3                 0.09744  ...         14.91          26.50            98.87   \n",
       "4                 0.05883  ...         22.54          16.67           152.20   \n",
       "\n",
       "   worst area  worst smoothness  worst compactness  worst concavity  \\\n",
       "0      2019.0            0.1622             0.6656           0.7119   \n",
       "1      1956.0            0.1238             0.1866           0.2416   \n",
       "2      1709.0            0.1444             0.4245           0.4504   \n",
       "3       567.7            0.2098             0.8663           0.6869   \n",
       "4      1575.0            0.1374             0.2050           0.4000   \n",
       "\n",
       "   worst concave points  worst symmetry  worst fractal dimension  \n",
       "0                0.2654          0.4601                  0.11890  \n",
       "1                0.1860          0.2750                  0.08902  \n",
       "2                0.2430          0.3613                  0.08758  \n",
       "3                0.2575          0.6638                  0.17300  \n",
       "4                0.1625          0.2364                  0.07678  \n",
       "\n",
       "[5 rows x 30 columns]"
      ]
     },
     "execution_count": 11,
     "metadata": {},
     "output_type": "execute_result"
    }
   ],
   "source": [
    "cancer = load_breast_cancer()\n",
    "cancer_df = pd.DataFrame(cancer.data, columns=cancer.feature_names)\n",
    "cancer_df.head()"
   ]
  },
  {
   "cell_type": "code",
   "execution_count": 12,
   "id": "cac7cfd0",
   "metadata": {},
   "outputs": [
    {
     "name": "stderr",
     "output_type": "stream",
     "text": [
      "c:\\Users\\Louis\\AppData\\Local\\Programs\\Python\\Python311\\Lib\\site-packages\\sklearn\\linear_model\\_logistic.py:460: ConvergenceWarning: lbfgs failed to converge (status=1):\n",
      "STOP: TOTAL NO. of ITERATIONS REACHED LIMIT.\n",
      "\n",
      "Increase the number of iterations (max_iter) or scale the data as shown in:\n",
      "    https://scikit-learn.org/stable/modules/preprocessing.html\n",
      "Please also refer to the documentation for alternative solver options:\n",
      "    https://scikit-learn.org/stable/modules/linear_model.html#logistic-regression\n",
      "  n_iter_i = _check_optimize_result(\n"
     ]
    },
    {
     "name": "stdout",
     "output_type": "stream",
     "text": [
      "Voting accuracy score:0.9561\n"
     ]
    }
   ],
   "source": [
    "logistic = LogisticRegression()\n",
    "knearest = KNeighborsClassifier(n_neighbors = 6)\n",
    "\n",
    "voting = VotingClassifier(estimators = [('LR', logistic), ('KNN', knearest)], voting = 'soft')\n",
    "X = cancer.data; y = cancer.target\n",
    "X_train, X_test, y_train, y_test = train_test_split(X, y, test_size = 0.2, random_state = 100)\n",
    "voting.fit(X_train, y_train)\n",
    "predicted = voting.predict(X_test)\n",
    "accuracy = accuracy_score(predicted, y_test)\n",
    "print(f'Voting accuracy score:{accuracy:.4f}')"
   ]
  },
  {
   "cell_type": "code",
   "execution_count": null,
   "id": "15b3dfe0",
   "metadata": {},
   "outputs": [],
   "source": [
    "################################################################################################################################"
   ]
  },
  {
   "cell_type": "markdown",
   "id": "f1e6486f",
   "metadata": {},
   "source": [
    " #### Homework:\n",
    "\n",
    "do the voting for these classifiers SVM, random forest, naive Bayes, decision tree, KNN"
   ]
  },
  {
   "cell_type": "code",
   "execution_count": 16,
   "id": "111cc563",
   "metadata": {},
   "outputs": [
    {
     "name": "stderr",
     "output_type": "stream",
     "text": [
      "c:\\Users\\Louis\\AppData\\Local\\Programs\\Python\\Python311\\Lib\\site-packages\\sklearn\\linear_model\\_logistic.py:460: ConvergenceWarning: lbfgs failed to converge (status=1):\n",
      "STOP: TOTAL NO. of ITERATIONS REACHED LIMIT.\n",
      "\n",
      "Increase the number of iterations (max_iter) or scale the data as shown in:\n",
      "    https://scikit-learn.org/stable/modules/preprocessing.html\n",
      "Please also refer to the documentation for alternative solver options:\n",
      "    https://scikit-learn.org/stable/modules/linear_model.html#logistic-regression\n",
      "  n_iter_i = _check_optimize_result(\n"
     ]
    },
    {
     "name": "stdout",
     "output_type": "stream",
     "text": [
      "Voting accuracy score:0.9649\n"
     ]
    }
   ],
   "source": [
    "################################################################################################################################\n",
    "from sklearn.ensemble import RandomForestClassifier, VotingClassifier\n",
    "from sklearn.linear_model import LogisticRegression\n",
    "from sklearn.naive_bayes import GaussianNB\n",
    "from sklearn.neighbors import KNeighborsClassifier\n",
    "from sklearn.svm import SVC\n",
    "from sklearn.tree import DecisionTreeClassifier\n",
    "\n",
    "# Initialize classifiers\n",
    "logistic = LogisticRegression()\n",
    "knearest = KNeighborsClassifier(n_neighbors=6)\n",
    "svm = SVC(probability=True)  # Enable probability estimates for SVC\n",
    "random_forest = RandomForestClassifier()\n",
    "naive_bayes = GaussianNB()\n",
    "decision_tree = DecisionTreeClassifier()\n",
    "\n",
    "voting = VotingClassifier(estimators=[\n",
    "    ('LR', logistic),\n",
    "    ('KNN', knearest),\n",
    "    ('SVM', svm),\n",
    "    ('RF', random_forest),\n",
    "    ('NB', naive_bayes),\n",
    "    ('DT', decision_tree)],\n",
    "    voting='soft')\n",
    "X = cancer.data; y = cancer.target\n",
    "X_train, X_test, y_train, y_test = train_test_split(X, y, test_size = 0.2, random_state = 100)\n",
    "voting.fit(X_train, y_train)\n",
    "predicted = voting.predict(X_test)\n",
    "accuracy = accuracy_score(predicted, y_test)\n",
    "print(f'Voting accuracy score:{accuracy:.4f}')"
   ]
  },
  {
   "cell_type": "code",
   "execution_count": 39,
   "id": "e19de787",
   "metadata": {},
   "outputs": [
    {
     "name": "stdout",
     "output_type": "stream",
     "text": [
      "LogisticRegression: 0.9561\n",
      "KNeighborsClassifier: 0.9474\n"
     ]
    },
    {
     "name": "stderr",
     "output_type": "stream",
     "text": [
      "C:\\Users\\aicyb\\anaconda3\\lib\\site-packages\\sklearn\\linear_model\\_logistic.py:814: ConvergenceWarning: lbfgs failed to converge (status=1):\n",
      "STOP: TOTAL NO. of ITERATIONS REACHED LIMIT.\n",
      "\n",
      "Increase the number of iterations (max_iter) or scale the data as shown in:\n",
      "    https://scikit-learn.org/stable/modules/preprocessing.html\n",
      "Please also refer to the documentation for alternative solver options:\n",
      "    https://scikit-learn.org/stable/modules/linear_model.html#logistic-regression\n",
      "  n_iter_i = _check_optimize_result(\n",
      "C:\\Users\\aicyb\\anaconda3\\lib\\site-packages\\sklearn\\neighbors\\_classification.py:228: FutureWarning: Unlike other reduction functions (e.g. `skew`, `kurtosis`), the default behavior of `mode` typically preserves the axis it acts along. In SciPy 1.11.0, this behavior will change: the default value of `keepdims` will become False, the `axis` over which the statistic is taken will be eliminated, and the value None will no longer be accepted. Set `keepdims` to True or False to avoid this warning.\n",
      "  mode, _ = stats.mode(_y[neigh_ind, k], axis=1)\n"
     ]
    }
   ],
   "source": [
    "models = [logistic, knearest]\n",
    "for model in models:\n",
    "    model.fit(X_train, y_train)\n",
    "    predicted = model.predict(X_test)\n",
    "    accuracy = accuracy_score(predicted, y_test)\n",
    "    model_name = model.__class__.__name__\n",
    "    print(f'{model_name}: {accuracy:.4f}')"
   ]
  },
  {
   "cell_type": "markdown",
   "id": "1cf8237e",
   "metadata": {},
   "source": [
    "#### Bagging wih Python using Scikit-Learn"
   ]
  },
  {
   "cell_type": "code",
   "execution_count": 40,
   "id": "d8ac83e4",
   "metadata": {},
   "outputs": [
    {
     "name": "stdout",
     "output_type": "stream",
     "text": [
      "Random Forest accuracy:0.956140\n"
     ]
    }
   ],
   "source": [
    "from sklearn.ensemble import RandomForestClassifier\n",
    "rf_model = RandomForestClassifier(random_state = 100)\n",
    "rf_model.fit(X_train, y_train)\n",
    "predicted = rf_model.predict(X_test)\n",
    "accuracy = accuracy_score(predicted, y_test)\n",
    "print(f'Random Forest accuracy:{accuracy:4f}')"
   ]
  },
  {
   "cell_type": "markdown",
   "id": "29a9c703",
   "metadata": {},
   "source": [
    "The accuracy score for the random forest classifier model we created above is 0.956140. This model, however, was set default in terms of the parameters. Detailed descriptions of the parameters can be found here. Let’s try another random Forest classifier model with different parameters."
   ]
  },
  {
   "cell_type": "code",
   "execution_count": 41,
   "id": "f821e4dd",
   "metadata": {},
   "outputs": [
    {
     "name": "stdout",
     "output_type": "stream",
     "text": [
      "Random Forest accuracy:0.938596\n"
     ]
    }
   ],
   "source": [
    "rf_model_2 = RandomForestClassifier(n_estimators = 5, max_depth = 10, random_state = 100)\n",
    "rf_model_2.fit(X_train, y_train)\n",
    "predicted = rf_model_2.predict(X_test)\n",
    "accuracy = accuracy_score(predicted, y_test)\n",
    "print(f'Random Forest accuracy:{accuracy:4f}')"
   ]
  },
  {
   "cell_type": "markdown",
   "id": "3cedc89e",
   "metadata": {},
   "source": [
    "In the model above, ‘n_estimators’ was set to be 5, and ‘max_depth’ was set to be 10. This means we combined only five decision tree classifiers and te maximum depth of the tree was set to be only ten. With these newly set parameter values, the accuracy decreased dramatically to 0.938596. This tells us that setting optimal parameters is very important to maximize the performance of a model."
   ]
  },
  {
   "cell_type": "code",
   "execution_count": 47,
   "id": "bf1bfaee",
   "metadata": {},
   "outputs": [
    {
     "name": "stderr",
     "output_type": "stream",
     "text": [
      "C:\\Users\\aicyb\\anaconda3\\lib\\site-packages\\seaborn\\_decorators.py:36: FutureWarning: Pass the following variables as keyword args: x, y. From version 0.12, the only valid positional argument will be `data`, and passing other arguments without an explicit keyword will result in an error or misinterpretation.\n",
      "  warnings.warn(\n"
     ]
    },
    {
     "data": {
      "text/plain": [
       "<AxesSubplot:xlabel='Importance'>"
      ]
     },
     "execution_count": 47,
     "metadata": {},
     "output_type": "execute_result"
    },
    {
     "data": {
      "image/png": "[encoded data removed]",
      "text/plain": [
       "<Figure size 1000x800 with 1 Axes>"
      ]
     },
     "metadata": {},
     "output_type": "display_data"
    }
   ],
   "source": [
    "import seaborn as sns\n",
    "#import matplotlib as plt\n",
    "import matplotlib.pyplot as plt\n",
    "\n",
    "feature_importances = pd.DataFrame(rf_model.feature_importances_, columns = ['Importance'])\n",
    "feature_importances.index = cancer.feature_names\n",
    "feature_importances = feature_importances.sort_values(by = 'Importance', ascending = False)\n",
    "plt.figure(figsize = (10, 8))\n",
    "sns.barplot(feature_importances['Importance'],feature_importances.index)"
   ]
  },
  {
   "cell_type": "markdown",
   "id": "67df90b0",
   "metadata": {},
   "source": [
    "Visualizing the feature importances can be seen above. ‘Worst concave points’ has the highest feature importance followed by ‘worst perimeter’ and ‘worst area’. In other words, these variables have the largest effects on the classification process by our random forest model."
   ]
  },
  {
   "cell_type": "code",
   "execution_count": null,
   "id": "32877736",
   "metadata": {},
   "outputs": [],
   "source": []
  }
 ],
 "metadata": {
  "kernelspec": {
   "display_name": "Python 3 (ipykernel)",
   "language": "python",
   "name": "python3"
  },
  "language_info": {
   "codemirror_mode": {
    "name": "ipython",
    "version": 3
   },
   "file_extension": ".py",
   "mimetype": "text/x-python",
   "name": "python",
   "nbconvert_exporter": "python",
   "pygments_lexer": "ipython3",
   "version": "3.11.5"
  },
  "toc": {
   "base_numbering": 1,
   "nav_menu": {},
   "number_sections": false,
   "sideBar": true,
   "skip_h1_title": false,
   "title_cell": "Table of Contents",
   "title_sidebar": "Contents",
   "toc_cell": false,
   "toc_position": {},
   "toc_section_display": true,
   "toc_window_display": true
  }
 },
 "nbformat": 4,
 "nbformat_minor": 5
}
