{
 "cells": [
  {
   "cell_type": "markdown",
   "metadata": {},
   "source": [
    "<a id=\"learning-objectives\"></a>\n",
    "### Learning Objectives\n",
    "- Describe the basic `keras` workflow.\n",
    "- Train regression and classification neural networks using `keras`"
   ]
  },
  {
   "cell_type": "markdown",
   "metadata": {},
   "source": [
    "## Binary Classification"
   ]
  },
  {
   "cell_type": "code",
   "execution_count": 9,
   "metadata": {},
   "outputs": [
    {
     "name": "stdout",
     "output_type": "stream",
     "text": [
      "Requirement already satisfied: tensorflow in c:\\users\\aicyb\\anaconda3\\lib\\site-packages (2.11.0)\n",
      "Requirement already satisfied: tensorflow-intel==2.11.0 in c:\\users\\aicyb\\anaconda3\\lib\\site-packages (from tensorflow) (2.11.0)\n",
      "Requirement already satisfied: absl-py>=1.0.0 in c:\\users\\aicyb\\anaconda3\\lib\\site-packages (from tensorflow-intel==2.11.0->tensorflow) (1.3.0)\n",
      "Requirement already satisfied: astunparse>=1.6.0 in c:\\users\\aicyb\\anaconda3\\lib\\site-packages (from tensorflow-intel==2.11.0->tensorflow) (1.6.3)\n",
      "Requirement already satisfied: flatbuffers>=2.0 in c:\\users\\aicyb\\anaconda3\\lib\\site-packages (from tensorflow-intel==2.11.0->tensorflow) (23.5.26)\n",
      "Requirement already satisfied: gast<=0.4.0,>=0.2.1 in c:\\users\\aicyb\\anaconda3\\lib\\site-packages (from tensorflow-intel==2.11.0->tensorflow) (0.4.0)\n",
      "Requirement already satisfied: google-pasta>=0.1.1 in c:\\users\\aicyb\\anaconda3\\lib\\site-packages (from tensorflow-intel==2.11.0->tensorflow) (0.2.0)\n",
      "Requirement already satisfied: h5py>=2.9.0 in c:\\users\\aicyb\\anaconda3\\lib\\site-packages (from tensorflow-intel==2.11.0->tensorflow) (3.7.0)\n",
      "Requirement already satisfied: libclang>=13.0.0 in c:\\users\\aicyb\\anaconda3\\lib\\site-packages (from tensorflow-intel==2.11.0->tensorflow) (14.0.6)\n",
      "Requirement already satisfied: numpy>=1.20 in c:\\users\\aicyb\\anaconda3\\lib\\site-packages (from tensorflow-intel==2.11.0->tensorflow) (1.26.2)\n",
      "Requirement already satisfied: opt-einsum>=2.3.2 in c:\\users\\aicyb\\anaconda3\\lib\\site-packages (from tensorflow-intel==2.11.0->tensorflow) (3.3.0)\n",
      "Requirement already satisfied: packaging in c:\\users\\aicyb\\anaconda3\\lib\\site-packages (from tensorflow-intel==2.11.0->tensorflow) (21.3)\n",
      "Collecting protobuf<3.20,>=3.9.2 (from tensorflow-intel==2.11.0->tensorflow)\n",
      "  Downloading protobuf-3.19.6-cp39-cp39-win_amd64.whl (895 kB)\n",
      "     -------------------------------------- 895.9/895.9 kB 1.2 MB/s eta 0:00:00\n",
      "Requirement already satisfied: setuptools in c:\\users\\aicyb\\anaconda3\\lib\\site-packages (from tensorflow-intel==2.11.0->tensorflow) (60.10.0)\n",
      "Requirement already satisfied: six>=1.12.0 in c:\\users\\aicyb\\anaconda3\\lib\\site-packages (from tensorflow-intel==2.11.0->tensorflow) (1.16.0)\n",
      "Requirement already satisfied: termcolor>=1.1.0 in c:\\users\\aicyb\\anaconda3\\lib\\site-packages (from tensorflow-intel==2.11.0->tensorflow) (2.0.1)\n",
      "Requirement already satisfied: typing-extensions>=3.6.6 in c:\\users\\aicyb\\anaconda3\\lib\\site-packages (from tensorflow-intel==2.11.0->tensorflow) (4.8.0)\n",
      "Requirement already satisfied: wrapt>=1.11.0 in c:\\users\\aicyb\\anaconda3\\lib\\site-packages (from tensorflow-intel==2.11.0->tensorflow) (1.14.1)\n",
      "Requirement already satisfied: grpcio<2.0,>=1.24.3 in c:\\users\\aicyb\\anaconda3\\lib\\site-packages (from tensorflow-intel==2.11.0->tensorflow) (1.50.0)\n",
      "Requirement already satisfied: tensorboard<2.12,>=2.11 in c:\\users\\aicyb\\anaconda3\\lib\\site-packages (from tensorflow-intel==2.11.0->tensorflow) (2.11.0)\n",
      "Collecting tensorflow-estimator<2.12,>=2.11.0 (from tensorflow-intel==2.11.0->tensorflow)\n",
      "  Downloading tensorflow_estimator-2.11.0-py2.py3-none-any.whl (439 kB)\n",
      "     -------------------------------------- 439.2/439.2 kB 9.1 MB/s eta 0:00:00\n",
      "Collecting keras<2.12,>=2.11.0 (from tensorflow-intel==2.11.0->tensorflow)\n",
      "  Downloading keras-2.11.0-py2.py3-none-any.whl (1.7 MB)\n",
      "     ---------------------------------------- 1.7/1.7 MB 7.1 MB/s eta 0:00:00\n",
      "Requirement already satisfied: tensorflow-io-gcs-filesystem>=0.23.1 in c:\\users\\aicyb\\anaconda3\\lib\\site-packages (from tensorflow-intel==2.11.0->tensorflow) (0.27.0)\n",
      "Requirement already satisfied: wheel<1.0,>=0.23.0 in c:\\users\\aicyb\\anaconda3\\lib\\site-packages (from astunparse>=1.6.0->tensorflow-intel==2.11.0->tensorflow) (0.37.1)\n",
      "Requirement already satisfied: google-auth<3,>=1.6.3 in c:\\users\\aicyb\\anaconda3\\lib\\site-packages (from tensorboard<2.12,>=2.11->tensorflow-intel==2.11.0->tensorflow) (2.14.1)\n",
      "Requirement already satisfied: google-auth-oauthlib<0.5,>=0.4.1 in c:\\users\\aicyb\\anaconda3\\lib\\site-packages (from tensorboard<2.12,>=2.11->tensorflow-intel==2.11.0->tensorflow) (0.4.6)\n",
      "Requirement already satisfied: markdown>=2.6.8 in c:\\users\\aicyb\\anaconda3\\lib\\site-packages (from tensorboard<2.12,>=2.11->tensorflow-intel==2.11.0->tensorflow) (3.3.4)\n",
      "Requirement already satisfied: requests<3,>=2.21.0 in c:\\users\\aicyb\\anaconda3\\lib\\site-packages (from tensorboard<2.12,>=2.11->tensorflow-intel==2.11.0->tensorflow) (2.28.1)\n",
      "Collecting tensorboard-data-server<0.7.0,>=0.6.0 (from tensorboard<2.12,>=2.11->tensorflow-intel==2.11.0->tensorflow)\n",
      "  Downloading tensorboard_data_server-0.6.1-py3-none-any.whl (2.4 kB)\n",
      "Requirement already satisfied: tensorboard-plugin-wit>=1.6.0 in c:\\users\\aicyb\\anaconda3\\lib\\site-packages (from tensorboard<2.12,>=2.11->tensorflow-intel==2.11.0->tensorflow) (1.8.1)\n",
      "Requirement already satisfied: werkzeug>=1.0.1 in c:\\users\\aicyb\\anaconda3\\lib\\site-packages (from tensorboard<2.12,>=2.11->tensorflow-intel==2.11.0->tensorflow) (2.0.3)\n",
      "Requirement already satisfied: pyparsing!=3.0.5,>=2.0.2 in c:\\users\\aicyb\\anaconda3\\lib\\site-packages (from packaging->tensorflow-intel==2.11.0->tensorflow) (3.0.9)\n",
      "Requirement already satisfied: cachetools<6.0,>=2.0.0 in c:\\users\\aicyb\\anaconda3\\lib\\site-packages (from google-auth<3,>=1.6.3->tensorboard<2.12,>=2.11->tensorflow-intel==2.11.0->tensorflow) (5.2.0)\n",
      "Requirement already satisfied: pyasn1-modules>=0.2.1 in c:\\users\\aicyb\\anaconda3\\lib\\site-packages (from google-auth<3,>=1.6.3->tensorboard<2.12,>=2.11->tensorflow-intel==2.11.0->tensorflow) (0.2.8)\n",
      "Requirement already satisfied: rsa<5,>=3.1.4 in c:\\users\\aicyb\\anaconda3\\lib\\site-packages (from google-auth<3,>=1.6.3->tensorboard<2.12,>=2.11->tensorflow-intel==2.11.0->tensorflow) (4.9)\n",
      "Requirement already satisfied: requests-oauthlib>=0.7.0 in c:\\users\\aicyb\\anaconda3\\lib\\site-packages (from google-auth-oauthlib<0.5,>=0.4.1->tensorboard<2.12,>=2.11->tensorflow-intel==2.11.0->tensorflow) (1.3.1)\n",
      "Requirement already satisfied: charset-normalizer<3,>=2 in c:\\users\\aicyb\\anaconda3\\lib\\site-packages (from requests<3,>=2.21.0->tensorboard<2.12,>=2.11->tensorflow-intel==2.11.0->tensorflow) (2.0.4)\n",
      "Requirement already satisfied: idna<4,>=2.5 in c:\\users\\aicyb\\anaconda3\\lib\\site-packages (from requests<3,>=2.21.0->tensorboard<2.12,>=2.11->tensorflow-intel==2.11.0->tensorflow) (3.3)\n",
      "Requirement already satisfied: urllib3<1.27,>=1.21.1 in c:\\users\\aicyb\\anaconda3\\lib\\site-packages (from requests<3,>=2.21.0->tensorboard<2.12,>=2.11->tensorflow-intel==2.11.0->tensorflow) (1.26.11)\n",
      "Requirement already satisfied: certifi>=2017.4.17 in c:\\users\\aicyb\\anaconda3\\lib\\site-packages (from requests<3,>=2.21.0->tensorboard<2.12,>=2.11->tensorflow-intel==2.11.0->tensorflow) (2022.12.7)\n",
      "Requirement already satisfied: pyasn1<0.5.0,>=0.4.6 in c:\\users\\aicyb\\anaconda3\\lib\\site-packages (from pyasn1-modules>=0.2.1->google-auth<3,>=1.6.3->tensorboard<2.12,>=2.11->tensorflow-intel==2.11.0->tensorflow) (0.4.8)\n",
      "Requirement already satisfied: oauthlib>=3.0.0 in c:\\users\\aicyb\\anaconda3\\lib\\site-packages (from requests-oauthlib>=0.7.0->google-auth-oauthlib<0.5,>=0.4.1->tensorboard<2.12,>=2.11->tensorflow-intel==2.11.0->tensorflow) (3.2.2)\n",
      "Installing collected packages: tensorflow-estimator, tensorboard-data-server, protobuf, keras\n",
      "  Attempting uninstall: tensorflow-estimator\n",
      "    Found existing installation: tensorflow-estimator 2.14.0\n",
      "    Uninstalling tensorflow-estimator-2.14.0:\n",
      "      Successfully uninstalled tensorflow-estimator-2.14.0\n",
      "  Attempting uninstall: tensorboard-data-server\n",
      "    Found existing installation: tensorboard-data-server 0.7.1\n",
      "    Uninstalling tensorboard-data-server-0.7.1:\n",
      "      Successfully uninstalled tensorboard-data-server-0.7.1\n",
      "  Attempting uninstall: protobuf\n",
      "    Found existing installation: protobuf 3.20.0\n",
      "    Uninstalling protobuf-3.20.0:\n",
      "      Successfully uninstalled protobuf-3.20.0\n",
      "  Attempting uninstall: keras\n",
      "    Found existing installation: keras 2.14.0\n",
      "    Uninstalling keras-2.14.0:\n",
      "      Successfully uninstalled keras-2.14.0\n",
      "Successfully installed keras-2.11.0 protobuf-3.19.6 tensorboard-data-server-0.6.1 tensorflow-estimator-2.11.0\n",
      "Note: you may need to restart the kernel to use updated packages.\n"
     ]
    },
    {
     "name": "stderr",
     "output_type": "stream",
     "text": [
      "WARNING: Ignoring invalid distribution -atplotlib (c:\\users\\aicyb\\anaconda3\\lib\\site-packages)\n",
      "WARNING: Ignoring invalid distribution -weetviz (c:\\users\\aicyb\\anaconda3\\lib\\site-packages)\n",
      "WARNING: Ignoring invalid distribution -atplotlib (c:\\users\\aicyb\\anaconda3\\lib\\site-packages)\n",
      "WARNING: Ignoring invalid distribution -weetviz (c:\\users\\aicyb\\anaconda3\\lib\\site-packages)\n",
      "  WARNING: Failed to remove contents in a temporary directory 'C:\\Users\\aicyb\\anaconda3\\Lib\\site-packages\\google\\~rotobuf'.\n",
      "  You can safely remove it manually.\n"
     ]
    }
   ],
   "source": [
    "pip install tensorflow"
   ]
  },
  {
   "cell_type": "code",
   "execution_count": 3,
   "metadata": {},
   "outputs": [
    {
     "name": "stdout",
     "output_type": "stream",
     "text": [
      "WARNING:tensorflow:From c:\\Users\\Louis\\AppData\\Local\\Programs\\Python\\Python311\\Lib\\site-packages\\keras\\src\\losses.py:2976: The name tf.losses.sparse_softmax_cross_entropy is deprecated. Please use tf.compat.v1.losses.sparse_softmax_cross_entropy instead.\n",
      "\n"
     ]
    }
   ],
   "source": [
    "from sklearn.datasets import load_breast_cancer\n",
    "from sklearn.model_selection import train_test_split\n",
    "from sklearn.preprocessing import StandardScaler\n",
    "import matplotlib.pyplot as plt\n",
    "import numpy as np\n",
    "\n",
    "import tensorflow as tf\n",
    "from tensorflow import keras\n",
    "from tensorflow.keras import layers"
   ]
  },
  {
   "cell_type": "code",
   "execution_count": 4,
   "metadata": {},
   "outputs": [],
   "source": [
    "## Load Dataset\n",
    "data = load_breast_cancer()"
   ]
  },
  {
   "cell_type": "code",
   "execution_count": 5,
   "metadata": {},
   "outputs": [
    {
     "data": {
      "text/plain": [
       "{'data': array([[1.799e+01, 1.038e+01, 1.228e+02, ..., 2.654e-01, 4.601e-01,\n",
       "         1.189e-01],\n",
       "        [2.057e+01, 1.777e+01, 1.329e+02, ..., 1.860e-01, 2.750e-01,\n",
       "         8.902e-02],\n",
       "        [1.969e+01, 2.125e+01, 1.300e+02, ..., 2.430e-01, 3.613e-01,\n",
       "         8.758e-02],\n",
       "        ...,\n",
       "        [1.660e+01, 2.808e+01, 1.083e+02, ..., 1.418e-01, 2.218e-01,\n",
       "         7.820e-02],\n",
       "        [2.060e+01, 2.933e+01, 1.401e+02, ..., 2.650e-01, 4.087e-01,\n",
       "         1.240e-01],\n",
       "        [7.760e+00, 2.454e+01, 4.792e+01, ..., 0.000e+00, 2.871e-01,\n",
       "         7.039e-02]]),\n",
       " 'target': array([0, 0, 0, 0, 0, 0, 0, 0, 0, 0, 0, 0, 0, 0, 0, 0, 0, 0, 0, 1, 1, 1,\n",
       "        0, 0, 0, 0, 0, 0, 0, 0, 0, 0, 0, 0, 0, 0, 0, 1, 0, 0, 0, 0, 0, 0,\n",
       "        0, 0, 1, 0, 1, 1, 1, 1, 1, 0, 0, 1, 0, 0, 1, 1, 1, 1, 0, 1, 0, 0,\n",
       "        1, 1, 1, 1, 0, 1, 0, 0, 1, 0, 1, 0, 0, 1, 1, 1, 0, 0, 1, 0, 0, 0,\n",
       "        1, 1, 1, 0, 1, 1, 0, 0, 1, 1, 1, 0, 0, 1, 1, 1, 1, 0, 1, 1, 0, 1,\n",
       "        1, 1, 1, 1, 1, 1, 1, 0, 0, 0, 1, 0, 0, 1, 1, 1, 0, 0, 1, 0, 1, 0,\n",
       "        0, 1, 0, 0, 1, 1, 0, 1, 1, 0, 1, 1, 1, 1, 0, 1, 1, 1, 1, 1, 1, 1,\n",
       "        1, 1, 0, 1, 1, 1, 1, 0, 0, 1, 0, 1, 1, 0, 0, 1, 1, 0, 0, 1, 1, 1,\n",
       "        1, 0, 1, 1, 0, 0, 0, 1, 0, 1, 0, 1, 1, 1, 0, 1, 1, 0, 0, 1, 0, 0,\n",
       "        0, 0, 1, 0, 0, 0, 1, 0, 1, 0, 1, 1, 0, 1, 0, 0, 0, 0, 1, 1, 0, 0,\n",
       "        1, 1, 1, 0, 1, 1, 1, 1, 1, 0, 0, 1, 1, 0, 1, 1, 0, 0, 1, 0, 1, 1,\n",
       "        1, 1, 0, 1, 1, 1, 1, 1, 0, 1, 0, 0, 0, 0, 0, 0, 0, 0, 0, 0, 0, 0,\n",
       "        0, 0, 1, 1, 1, 1, 1, 1, 0, 1, 0, 1, 1, 0, 1, 1, 0, 1, 0, 0, 1, 1,\n",
       "        1, 1, 1, 1, 1, 1, 1, 1, 1, 1, 1, 0, 1, 1, 0, 1, 0, 1, 1, 1, 1, 1,\n",
       "        1, 1, 1, 1, 1, 1, 1, 1, 1, 0, 1, 1, 1, 0, 1, 0, 1, 1, 1, 1, 0, 0,\n",
       "        0, 1, 1, 1, 1, 0, 1, 0, 1, 0, 1, 1, 1, 0, 1, 1, 1, 1, 1, 1, 1, 0,\n",
       "        0, 0, 1, 1, 1, 1, 1, 1, 1, 1, 1, 1, 1, 0, 0, 1, 0, 0, 0, 1, 0, 0,\n",
       "        1, 1, 1, 1, 1, 0, 1, 1, 1, 1, 1, 0, 1, 1, 1, 0, 1, 1, 0, 0, 1, 1,\n",
       "        1, 1, 1, 1, 0, 1, 1, 1, 1, 1, 1, 1, 0, 1, 1, 1, 1, 1, 0, 1, 1, 0,\n",
       "        1, 1, 1, 1, 1, 1, 1, 1, 1, 1, 1, 1, 0, 1, 0, 0, 1, 0, 1, 1, 1, 1,\n",
       "        1, 0, 1, 1, 0, 1, 0, 1, 1, 0, 1, 0, 1, 1, 1, 1, 1, 1, 1, 1, 0, 0,\n",
       "        1, 1, 1, 1, 1, 1, 0, 1, 1, 1, 1, 1, 1, 1, 1, 1, 1, 0, 1, 1, 1, 1,\n",
       "        1, 1, 1, 0, 1, 0, 1, 1, 0, 1, 1, 1, 1, 1, 0, 0, 1, 0, 1, 0, 1, 1,\n",
       "        1, 1, 1, 0, 1, 1, 0, 1, 0, 1, 0, 0, 1, 1, 1, 0, 1, 1, 1, 1, 1, 1,\n",
       "        1, 1, 1, 1, 1, 0, 1, 0, 0, 1, 1, 1, 1, 1, 1, 1, 1, 1, 1, 1, 1, 1,\n",
       "        1, 1, 1, 1, 1, 1, 1, 1, 1, 1, 1, 1, 0, 0, 0, 0, 0, 0, 1]),\n",
       " 'frame': None,\n",
       " 'target_names': array(['malignant', 'benign'], dtype='<U9'),\n",
       " 'DESCR': '.. _breast_cancer_dataset:\\n\\nBreast cancer wisconsin (diagnostic) dataset\\n--------------------------------------------\\n\\n**Data Set Characteristics:**\\n\\n    :Number of Instances: 569\\n\\n    :Number of Attributes: 30 numeric, predictive attributes and the class\\n\\n    :Attribute Information:\\n        - radius (mean of distances from center to points on the perimeter)\\n        - texture (standard deviation of gray-scale values)\\n        - perimeter\\n        - area\\n        - smoothness (local variation in radius lengths)\\n        - compactness (perimeter^2 / area - 1.0)\\n        - concavity (severity of concave portions of the contour)\\n        - concave points (number of concave portions of the contour)\\n        - symmetry\\n        - fractal dimension (\"coastline approximation\" - 1)\\n\\n        The mean, standard error, and \"worst\" or largest (mean of the three\\n        worst/largest values) of these features were computed for each image,\\n        resulting in 30 features.  For instance, field 0 is Mean Radius, field\\n        10 is Radius SE, field 20 is Worst Radius.\\n\\n        - class:\\n                - WDBC-Malignant\\n                - WDBC-Benign\\n\\n    :Summary Statistics:\\n\\n    ===================================== ====== ======\\n                                           Min    Max\\n    ===================================== ====== ======\\n    radius (mean):                        6.981  28.11\\n    texture (mean):                       9.71   39.28\\n    perimeter (mean):                     43.79  188.5\\n    area (mean):                          143.5  2501.0\\n    smoothness (mean):                    0.053  0.163\\n    compactness (mean):                   0.019  0.345\\n    concavity (mean):                     0.0    0.427\\n    concave points (mean):                0.0    0.201\\n    symmetry (mean):                      0.106  0.304\\n    fractal dimension (mean):             0.05   0.097\\n    radius (standard error):              0.112  2.873\\n    texture (standard error):             0.36   4.885\\n    perimeter (standard error):           0.757  21.98\\n    area (standard error):                6.802  542.2\\n    smoothness (standard error):          0.002  0.031\\n    compactness (standard error):         0.002  0.135\\n    concavity (standard error):           0.0    0.396\\n    concave points (standard error):      0.0    0.053\\n    symmetry (standard error):            0.008  0.079\\n    fractal dimension (standard error):   0.001  0.03\\n    radius (worst):                       7.93   36.04\\n    texture (worst):                      12.02  49.54\\n    perimeter (worst):                    50.41  251.2\\n    area (worst):                         185.2  4254.0\\n    smoothness (worst):                   0.071  0.223\\n    compactness (worst):                  0.027  1.058\\n    concavity (worst):                    0.0    1.252\\n    concave points (worst):               0.0    0.291\\n    symmetry (worst):                     0.156  0.664\\n    fractal dimension (worst):            0.055  0.208\\n    ===================================== ====== ======\\n\\n    :Missing Attribute Values: None\\n\\n    :Class Distribution: 212 - Malignant, 357 - Benign\\n\\n    :Creator:  Dr. William H. Wolberg, W. Nick Street, Olvi L. Mangasarian\\n\\n    :Donor: Nick Street\\n\\n    :Date: November, 1995\\n\\nThis is a copy of UCI ML Breast Cancer Wisconsin (Diagnostic) datasets.\\nhttps://goo.gl/U2Uwz2\\n\\nFeatures are computed from a digitized image of a fine needle\\naspirate (FNA) of a breast mass.  They describe\\ncharacteristics of the cell nuclei present in the image.\\n\\nSeparating plane described above was obtained using\\nMultisurface Method-Tree (MSM-T) [K. P. Bennett, \"Decision Tree\\nConstruction Via Linear Programming.\" Proceedings of the 4th\\nMidwest Artificial Intelligence and Cognitive Science Society,\\npp. 97-101, 1992], a classification method which uses linear\\nprogramming to construct a decision tree.  Relevant features\\nwere selected using an exhaustive search in the space of 1-4\\nfeatures and 1-3 separating planes.\\n\\nThe actual linear program used to obtain the separating plane\\nin the 3-dimensional space is that described in:\\n[K. P. Bennett and O. L. Mangasarian: \"Robust Linear\\nProgramming Discrimination of Two Linearly Inseparable Sets\",\\nOptimization Methods and Software 1, 1992, 23-34].\\n\\nThis database is also available through the UW CS ftp server:\\n\\nftp ftp.cs.wisc.edu\\ncd math-prog/cpo-dataset/machine-learn/WDBC/\\n\\n.. topic:: References\\n\\n   - W.N. Street, W.H. Wolberg and O.L. Mangasarian. Nuclear feature extraction \\n     for breast tumor diagnosis. IS&T/SPIE 1993 International Symposium on \\n     Electronic Imaging: Science and Technology, volume 1905, pages 861-870,\\n     San Jose, CA, 1993.\\n   - O.L. Mangasarian, W.N. Street and W.H. Wolberg. Breast cancer diagnosis and \\n     prognosis via linear programming. Operations Research, 43(4), pages 570-577, \\n     July-August 1995.\\n   - W.H. Wolberg, W.N. Street, and O.L. Mangasarian. Machine learning techniques\\n     to diagnose breast cancer from fine-needle aspirates. Cancer Letters 77 (1994) \\n     163-171.',\n",
       " 'feature_names': array(['mean radius', 'mean texture', 'mean perimeter', 'mean area',\n",
       "        'mean smoothness', 'mean compactness', 'mean concavity',\n",
       "        'mean concave points', 'mean symmetry', 'mean fractal dimension',\n",
       "        'radius error', 'texture error', 'perimeter error', 'area error',\n",
       "        'smoothness error', 'compactness error', 'concavity error',\n",
       "        'concave points error', 'symmetry error',\n",
       "        'fractal dimension error', 'worst radius', 'worst texture',\n",
       "        'worst perimeter', 'worst area', 'worst smoothness',\n",
       "        'worst compactness', 'worst concavity', 'worst concave points',\n",
       "        'worst symmetry', 'worst fractal dimension'], dtype='<U23'),\n",
       " 'filename': 'breast_cancer.csv',\n",
       " 'data_module': 'sklearn.datasets.data'}"
      ]
     },
     "execution_count": 5,
     "metadata": {},
     "output_type": "execute_result"
    }
   ],
   "source": [
    "data"
   ]
  },
  {
   "cell_type": "code",
   "execution_count": 6,
   "metadata": {},
   "outputs": [],
   "source": [
    "## Setting up X and y\n",
    "X = data.data\n",
    "y = data.target"
   ]
  },
  {
   "cell_type": "code",
   "execution_count": 7,
   "metadata": {},
   "outputs": [
    {
     "data": {
      "text/plain": [
       "30"
      ]
     },
     "execution_count": 7,
     "metadata": {},
     "output_type": "execute_result"
    }
   ],
   "source": [
    "len(data.feature_names)"
   ]
  },
  {
   "cell_type": "code",
   "execution_count": 8,
   "metadata": {},
   "outputs": [
    {
     "data": {
      "text/plain": [
       "array([0, 0, 0, 0, 0, 0, 0, 0, 0, 0, 0, 0, 0, 0, 0, 0, 0, 0, 0, 1, 1, 1,\n",
       "       0, 0, 0, 0, 0, 0, 0, 0, 0, 0, 0, 0, 0, 0, 0, 1, 0, 0, 0, 0, 0, 0,\n",
       "       0, 0, 1, 0, 1, 1, 1, 1, 1, 0, 0, 1, 0, 0, 1, 1, 1, 1, 0, 1, 0, 0,\n",
       "       1, 1, 1, 1, 0, 1, 0, 0, 1, 0, 1, 0, 0, 1, 1, 1, 0, 0, 1, 0, 0, 0,\n",
       "       1, 1, 1, 0, 1, 1, 0, 0, 1, 1, 1, 0, 0, 1, 1, 1, 1, 0, 1, 1, 0, 1,\n",
       "       1, 1, 1, 1, 1, 1, 1, 0, 0, 0, 1, 0, 0, 1, 1, 1, 0, 0, 1, 0, 1, 0,\n",
       "       0, 1, 0, 0, 1, 1, 0, 1, 1, 0, 1, 1, 1, 1, 0, 1, 1, 1, 1, 1, 1, 1,\n",
       "       1, 1, 0, 1, 1, 1, 1, 0, 0, 1, 0, 1, 1, 0, 0, 1, 1, 0, 0, 1, 1, 1,\n",
       "       1, 0, 1, 1, 0, 0, 0, 1, 0, 1, 0, 1, 1, 1, 0, 1, 1, 0, 0, 1, 0, 0,\n",
       "       0, 0, 1, 0, 0, 0, 1, 0, 1, 0, 1, 1, 0, 1, 0, 0, 0, 0, 1, 1, 0, 0,\n",
       "       1, 1, 1, 0, 1, 1, 1, 1, 1, 0, 0, 1, 1, 0, 1, 1, 0, 0, 1, 0, 1, 1,\n",
       "       1, 1, 0, 1, 1, 1, 1, 1, 0, 1, 0, 0, 0, 0, 0, 0, 0, 0, 0, 0, 0, 0,\n",
       "       0, 0, 1, 1, 1, 1, 1, 1, 0, 1, 0, 1, 1, 0, 1, 1, 0, 1, 0, 0, 1, 1,\n",
       "       1, 1, 1, 1, 1, 1, 1, 1, 1, 1, 1, 0, 1, 1, 0, 1, 0, 1, 1, 1, 1, 1,\n",
       "       1, 1, 1, 1, 1, 1, 1, 1, 1, 0, 1, 1, 1, 0, 1, 0, 1, 1, 1, 1, 0, 0,\n",
       "       0, 1, 1, 1, 1, 0, 1, 0, 1, 0, 1, 1, 1, 0, 1, 1, 1, 1, 1, 1, 1, 0,\n",
       "       0, 0, 1, 1, 1, 1, 1, 1, 1, 1, 1, 1, 1, 0, 0, 1, 0, 0, 0, 1, 0, 0,\n",
       "       1, 1, 1, 1, 1, 0, 1, 1, 1, 1, 1, 0, 1, 1, 1, 0, 1, 1, 0, 0, 1, 1,\n",
       "       1, 1, 1, 1, 0, 1, 1, 1, 1, 1, 1, 1, 0, 1, 1, 1, 1, 1, 0, 1, 1, 0,\n",
       "       1, 1, 1, 1, 1, 1, 1, 1, 1, 1, 1, 1, 0, 1, 0, 0, 1, 0, 1, 1, 1, 1,\n",
       "       1, 0, 1, 1, 0, 1, 0, 1, 1, 0, 1, 0, 1, 1, 1, 1, 1, 1, 1, 1, 0, 0,\n",
       "       1, 1, 1, 1, 1, 1, 0, 1, 1, 1, 1, 1, 1, 1, 1, 1, 1, 0, 1, 1, 1, 1,\n",
       "       1, 1, 1, 0, 1, 0, 1, 1, 0, 1, 1, 1, 1, 1, 0, 0, 1, 0, 1, 0, 1, 1,\n",
       "       1, 1, 1, 0, 1, 1, 0, 1, 0, 1, 0, 0, 1, 1, 1, 0, 1, 1, 1, 1, 1, 1,\n",
       "       1, 1, 1, 1, 1, 0, 1, 0, 0, 1, 1, 1, 1, 1, 1, 1, 1, 1, 1, 1, 1, 1,\n",
       "       1, 1, 1, 1, 1, 1, 1, 1, 1, 1, 1, 1, 0, 0, 0, 0, 0, 0, 1])"
      ]
     },
     "execution_count": 8,
     "metadata": {},
     "output_type": "execute_result"
    }
   ],
   "source": [
    "y"
   ]
  },
  {
   "cell_type": "code",
   "execution_count": 9,
   "metadata": {},
   "outputs": [],
   "source": [
    "## Train/Test Split\n",
    "\n",
    "X_train, X_test, y_train, y_test = train_test_split(X, y, test_size=0.1, stratify= y)"
   ]
  },
  {
   "cell_type": "code",
   "execution_count": 10,
   "metadata": {},
   "outputs": [],
   "source": [
    "## Do standardization \n",
    "\n",
    "ss = StandardScaler()\n",
    "X_train = ss.fit_transform(X_train)\n",
    "X_test = ss.transform(X_test)"
   ]
  },
  {
   "cell_type": "code",
   "execution_count": 11,
   "metadata": {},
   "outputs": [],
   "source": [
    "## Keras Model, we will use two classes from the Keras library to define our model.\n",
    "\n",
    "\n",
    "# creates models layer-by-layer for most problems.\n",
    "# It is limited in that it does not allow you to create models that share layers or have multiple inputs or outputs\n",
    "\n",
    "from keras.models import Sequential # 2 models from keras 'Sequential Model and Model class'\n",
    "\n",
    "# A Dense layer feeds all outputs from the previous layer to all its neurons, each neuron providing one output \n",
    "# to the next layer.\n",
    "\n",
    "from keras.layers import Dense"
   ]
  },
  {
   "cell_type": "code",
   "execution_count": null,
   "metadata": {},
   "outputs": [],
   "source": [
    "# Build NN\n",
    "#     - number of layers \n",
    "#     - number of neurals\n",
    "#     - activation function "
   ]
  },
  {
   "attachments": {
    "image.png": {
     "image/png": "[encoded data removed]"
    }
   },
   "cell_type": "markdown",
   "metadata": {},
   "source": [
    "![image.png](attachment:image.png)"
   ]
  },
  {
   "attachments": {
    "image.png": {
     "image/png": "[encoded data removed]"
    }
   },
   "cell_type": "markdown",
   "metadata": {},
   "source": [
    "![image.png](attachment:image.png)"
   ]
  },
  {
   "attachments": {
    "image.png": {
     "image/png": "[encoded data removed]"
    }
   },
   "cell_type": "markdown",
   "metadata": {},
   "source": [
    "![image.png](attachment:image.png)"
   ]
  },
  {
   "cell_type": "code",
   "execution_count": 12,
   "metadata": {},
   "outputs": [
    {
     "name": "stdout",
     "output_type": "stream",
     "text": [
      "WARNING:tensorflow:From c:\\Users\\Louis\\AppData\\Local\\Programs\\Python\\Python311\\Lib\\site-packages\\keras\\src\\backend.py:873: The name tf.get_default_graph is deprecated. Please use tf.compat.v1.get_default_graph instead.\n",
      "\n"
     ]
    }
   ],
   "source": [
    "model = Sequential()\n",
    "model.add(Dense(X_train.shape[1], activation='relu', input_dim=X_train.shape[1] ))\n",
    "model.add(Dense(1, activation='sigmoid'))"
   ]
  },
  {
   "cell_type": "markdown",
   "metadata": {},
   "source": [
    "model.add(...) adds a layer to the neural network model.\n",
    "\n",
    "Dense(...) creates a fully connected layer, where each neuron is connected to all the neurons in the previous layer.\n",
    "\n",
    "X_train.shape[1] is used as the first argument to specify the number of neurons in the layer. X_train refers to the training data, and X_train.shape[1] retrieves the number of features in the input data. **This ensures that the layer will have the same number of neurons as the number of features in the input data.**\n",
    "\n",
    "activation='relu' sets the activation function for the layer to the Rectified Linear Unit (ReLU) activation function. **ReLU is commonly used in hidden layers to introduce non-linearity into the network.**\n",
    "\n",
    "input_dim=X_train.shape[1] specifies the input dimension of the layer. It is set to the same value as the number of features in the input data. **This defines the shape of the input for the first layer in the network.**\n",
    "\n",
    "Overall, this code adds a dense layer to the neural network model with the number of neurons equal to the number of features in the input data. It uses the ReLU activation function and specifies the input shape for the first layer."
   ]
  },
  {
   "cell_type": "code",
   "execution_count": 13,
   "metadata": {},
   "outputs": [
    {
     "name": "stdout",
     "output_type": "stream",
     "text": [
      "Model: \"sequential\"\n",
      "_________________________________________________________________\n",
      " Layer (type)                Output Shape              Param #   \n",
      "=================================================================\n",
      " dense (Dense)               (None, 30)                930       \n",
      "                                                                 \n",
      " dense_1 (Dense)             (None, 1)                 31        \n",
      "                                                                 \n",
      "=================================================================\n",
      "Total params: 961 (3.75 KB)\n",
      "Trainable params: 961 (3.75 KB)\n",
      "Non-trainable params: 0 (0.00 Byte)\n",
      "_________________________________________________________________\n"
     ]
    }
   ],
   "source": [
    "model.summary()\n",
    "\n",
    "# num_params = (input_size * num_neurons) + num_neurons"
   ]
  },
  {
   "cell_type": "markdown",
   "metadata": {},
   "source": [
    "Here, input_size refers to the number of inputs to the layer (e.g., the number of features in the input data), and num_neurons refers to the number of neurons in the layer. The first term (input_size * num_neurons) accounts for the weights connecting each input to each neuron, and the second term num_neurons accounts for the biases associated with each neuron.\n",
    "\n",
    "The total number of parameters in the entire model is the sum of the parameters in each layer.\n",
    "\n",
    "Knowing the number of parameters is useful because it indicates the model's capacity to learn and the complexity of the model. More parameters generally imply a higher capacity to learn complex patterns but may also increase the risk of overfitting if not properly regularized."
   ]
  },
  {
   "cell_type": "code",
   "execution_count": 22,
   "metadata": {},
   "outputs": [],
   "source": [
    "# Compile NN\n",
    "#     - loss function\n",
    "#     - optimizer"
   ]
  },
  {
   "cell_type": "code",
   "execution_count": 14,
   "metadata": {},
   "outputs": [
    {
     "name": "stdout",
     "output_type": "stream",
     "text": [
      "WARNING:tensorflow:From c:\\Users\\Louis\\AppData\\Local\\Programs\\Python\\Python311\\Lib\\site-packages\\keras\\src\\optimizers\\__init__.py:309: The name tf.train.Optimizer is deprecated. Please use tf.compat.v1.train.Optimizer instead.\n",
      "\n"
     ]
    }
   ],
   "source": [
    "model.compile(loss='binary_crossentropy', optimizer='adam', metrics=['accuracy'])"
   ]
  },
  {
   "cell_type": "code",
   "execution_count": 24,
   "metadata": {},
   "outputs": [],
   "source": [
    "#3# Fit NN\n",
    "#     - epoch\n",
    "#     - batch size "
   ]
  },
  {
   "cell_type": "code",
   "execution_count": 15,
   "metadata": {},
   "outputs": [
    {
     "name": "stdout",
     "output_type": "stream",
     "text": [
      "Epoch 1/100\n",
      "WARNING:tensorflow:From c:\\Users\\Louis\\AppData\\Local\\Programs\\Python\\Python311\\Lib\\site-packages\\keras\\src\\utils\\tf_utils.py:492: The name tf.ragged.RaggedTensorValue is deprecated. Please use tf.compat.v1.ragged.RaggedTensorValue instead.\n",
      "\n",
      "WARNING:tensorflow:From c:\\Users\\Louis\\AppData\\Local\\Programs\\Python\\Python311\\Lib\\site-packages\\keras\\src\\engine\\base_layer_utils.py:384: The name tf.executing_eagerly_outside_functions is deprecated. Please use tf.compat.v1.executing_eagerly_outside_functions instead.\n",
      "\n",
      "16/16 [==============================] - 2s 18ms/step - loss: 0.5507 - accuracy: 0.7480 - val_loss: 0.4239 - val_accuracy: 0.8596\n",
      "Epoch 2/100\n",
      "16/16 [==============================] - 0s 4ms/step - loss: 0.3615 - accuracy: 0.8965 - val_loss: 0.3070 - val_accuracy: 0.9298\n",
      "Epoch 3/100\n",
      "16/16 [==============================] - 0s 5ms/step - loss: 0.2621 - accuracy: 0.9395 - val_loss: 0.2487 - val_accuracy: 0.9298\n",
      "Epoch 4/100\n",
      "16/16 [==============================] - 0s 5ms/step - loss: 0.2096 - accuracy: 0.9512 - val_loss: 0.2171 - val_accuracy: 0.9474\n",
      "Epoch 5/100\n",
      "16/16 [==============================] - 0s 4ms/step - loss: 0.1743 - accuracy: 0.9590 - val_loss: 0.1971 - val_accuracy: 0.9474\n",
      "Epoch 6/100\n",
      "16/16 [==============================] - 0s 6ms/step - loss: 0.1515 - accuracy: 0.9648 - val_loss: 0.1847 - val_accuracy: 0.9649\n",
      "Epoch 7/100\n",
      "16/16 [==============================] - 0s 4ms/step - loss: 0.1346 - accuracy: 0.9688 - val_loss: 0.1767 - val_accuracy: 0.9649\n",
      "Epoch 8/100\n",
      "16/16 [==============================] - 0s 5ms/step - loss: 0.1217 - accuracy: 0.9707 - val_loss: 0.1699 - val_accuracy: 0.9649\n",
      "Epoch 9/100\n",
      "16/16 [==============================] - 0s 3ms/step - loss: 0.1114 - accuracy: 0.9746 - val_loss: 0.1662 - val_accuracy: 0.9649\n",
      "Epoch 10/100\n",
      "16/16 [==============================] - 0s 4ms/step - loss: 0.1032 - accuracy: 0.9746 - val_loss: 0.1636 - val_accuracy: 0.9649\n",
      "Epoch 11/100\n",
      "16/16 [==============================] - 0s 4ms/step - loss: 0.0960 - accuracy: 0.9746 - val_loss: 0.1609 - val_accuracy: 0.9649\n",
      "Epoch 12/100\n",
      "16/16 [==============================] - 0s 4ms/step - loss: 0.0900 - accuracy: 0.9785 - val_loss: 0.1600 - val_accuracy: 0.9649\n",
      "Epoch 13/100\n",
      "16/16 [==============================] - 0s 5ms/step - loss: 0.0848 - accuracy: 0.9805 - val_loss: 0.1589 - val_accuracy: 0.9649\n",
      "Epoch 14/100\n",
      "16/16 [==============================] - 0s 6ms/step - loss: 0.0803 - accuracy: 0.9863 - val_loss: 0.1582 - val_accuracy: 0.9649\n",
      "Epoch 15/100\n",
      "16/16 [==============================] - 0s 9ms/step - loss: 0.0764 - accuracy: 0.9863 - val_loss: 0.1579 - val_accuracy: 0.9649\n",
      "Epoch 16/100\n",
      "16/16 [==============================] - 0s 4ms/step - loss: 0.0728 - accuracy: 0.9883 - val_loss: 0.1576 - val_accuracy: 0.9649\n",
      "Epoch 17/100\n",
      "16/16 [==============================] - 0s 5ms/step - loss: 0.0695 - accuracy: 0.9883 - val_loss: 0.1581 - val_accuracy: 0.9474\n",
      "Epoch 18/100\n",
      "16/16 [==============================] - 0s 4ms/step - loss: 0.0666 - accuracy: 0.9883 - val_loss: 0.1577 - val_accuracy: 0.9474\n",
      "Epoch 19/100\n",
      "16/16 [==============================] - 0s 5ms/step - loss: 0.0640 - accuracy: 0.9883 - val_loss: 0.1589 - val_accuracy: 0.9474\n",
      "Epoch 20/100\n",
      "16/16 [==============================] - 0s 4ms/step - loss: 0.0615 - accuracy: 0.9883 - val_loss: 0.1591 - val_accuracy: 0.9474\n",
      "Epoch 21/100\n",
      "16/16 [==============================] - 0s 4ms/step - loss: 0.0594 - accuracy: 0.9883 - val_loss: 0.1597 - val_accuracy: 0.9474\n",
      "Epoch 22/100\n",
      "16/16 [==============================] - 0s 4ms/step - loss: 0.0574 - accuracy: 0.9883 - val_loss: 0.1612 - val_accuracy: 0.9474\n",
      "Epoch 23/100\n",
      "16/16 [==============================] - 0s 3ms/step - loss: 0.0553 - accuracy: 0.9883 - val_loss: 0.1612 - val_accuracy: 0.9474\n",
      "Epoch 24/100\n",
      "16/16 [==============================] - 0s 5ms/step - loss: 0.0536 - accuracy: 0.9883 - val_loss: 0.1620 - val_accuracy: 0.9474\n",
      "Epoch 25/100\n",
      "16/16 [==============================] - 0s 5ms/step - loss: 0.0519 - accuracy: 0.9883 - val_loss: 0.1629 - val_accuracy: 0.9474\n",
      "Epoch 26/100\n",
      "16/16 [==============================] - 0s 3ms/step - loss: 0.0505 - accuracy: 0.9883 - val_loss: 0.1643 - val_accuracy: 0.9474\n",
      "Epoch 27/100\n",
      "16/16 [==============================] - 0s 5ms/step - loss: 0.0490 - accuracy: 0.9902 - val_loss: 0.1649 - val_accuracy: 0.9474\n",
      "Epoch 28/100\n",
      "16/16 [==============================] - 0s 5ms/step - loss: 0.0477 - accuracy: 0.9902 - val_loss: 0.1656 - val_accuracy: 0.9474\n",
      "Epoch 29/100\n",
      "16/16 [==============================] - 0s 4ms/step - loss: 0.0464 - accuracy: 0.9922 - val_loss: 0.1666 - val_accuracy: 0.9474\n",
      "Epoch 30/100\n",
      "16/16 [==============================] - 0s 4ms/step - loss: 0.0452 - accuracy: 0.9922 - val_loss: 0.1675 - val_accuracy: 0.9474\n",
      "Epoch 31/100\n",
      "16/16 [==============================] - 0s 5ms/step - loss: 0.0443 - accuracy: 0.9922 - val_loss: 0.1691 - val_accuracy: 0.9474\n",
      "Epoch 32/100\n",
      "16/16 [==============================] - 0s 4ms/step - loss: 0.0433 - accuracy: 0.9922 - val_loss: 0.1694 - val_accuracy: 0.9474\n",
      "Epoch 33/100\n",
      "16/16 [==============================] - 0s 4ms/step - loss: 0.0423 - accuracy: 0.9922 - val_loss: 0.1704 - val_accuracy: 0.9474\n",
      "Epoch 34/100\n",
      "16/16 [==============================] - 0s 4ms/step - loss: 0.0412 - accuracy: 0.9922 - val_loss: 0.1709 - val_accuracy: 0.9474\n",
      "Epoch 35/100\n",
      "16/16 [==============================] - 0s 5ms/step - loss: 0.0403 - accuracy: 0.9922 - val_loss: 0.1713 - val_accuracy: 0.9474\n",
      "Epoch 36/100\n",
      "16/16 [==============================] - 0s 4ms/step - loss: 0.0397 - accuracy: 0.9922 - val_loss: 0.1720 - val_accuracy: 0.9474\n",
      "Epoch 37/100\n",
      "16/16 [==============================] - 0s 4ms/step - loss: 0.0387 - accuracy: 0.9922 - val_loss: 0.1734 - val_accuracy: 0.9474\n",
      "Epoch 38/100\n",
      "16/16 [==============================] - 0s 7ms/step - loss: 0.0379 - accuracy: 0.9922 - val_loss: 0.1747 - val_accuracy: 0.9474\n",
      "Epoch 39/100\n",
      "16/16 [==============================] - 0s 5ms/step - loss: 0.0371 - accuracy: 0.9922 - val_loss: 0.1749 - val_accuracy: 0.9474\n",
      "Epoch 40/100\n",
      "16/16 [==============================] - 0s 5ms/step - loss: 0.0365 - accuracy: 0.9922 - val_loss: 0.1758 - val_accuracy: 0.9474\n",
      "Epoch 41/100\n",
      "16/16 [==============================] - 0s 4ms/step - loss: 0.0356 - accuracy: 0.9922 - val_loss: 0.1760 - val_accuracy: 0.9474\n",
      "Epoch 42/100\n",
      "16/16 [==============================] - 0s 5ms/step - loss: 0.0352 - accuracy: 0.9941 - val_loss: 0.1776 - val_accuracy: 0.9474\n",
      "Epoch 43/100\n",
      "16/16 [==============================] - 0s 4ms/step - loss: 0.0347 - accuracy: 0.9941 - val_loss: 0.1767 - val_accuracy: 0.9474\n",
      "Epoch 44/100\n",
      "16/16 [==============================] - 0s 5ms/step - loss: 0.0339 - accuracy: 0.9941 - val_loss: 0.1784 - val_accuracy: 0.9474\n",
      "Epoch 45/100\n",
      "16/16 [==============================] - 0s 5ms/step - loss: 0.0331 - accuracy: 0.9941 - val_loss: 0.1795 - val_accuracy: 0.9474\n",
      "Epoch 46/100\n",
      "16/16 [==============================] - 0s 5ms/step - loss: 0.0326 - accuracy: 0.9941 - val_loss: 0.1802 - val_accuracy: 0.9474\n",
      "Epoch 47/100\n",
      "16/16 [==============================] - 0s 5ms/step - loss: 0.0321 - accuracy: 0.9941 - val_loss: 0.1801 - val_accuracy: 0.9474\n",
      "Epoch 48/100\n",
      "16/16 [==============================] - 0s 5ms/step - loss: 0.0317 - accuracy: 0.9941 - val_loss: 0.1810 - val_accuracy: 0.9474\n",
      "Epoch 49/100\n",
      "16/16 [==============================] - 0s 4ms/step - loss: 0.0311 - accuracy: 0.9941 - val_loss: 0.1816 - val_accuracy: 0.9474\n",
      "Epoch 50/100\n",
      "16/16 [==============================] - 0s 4ms/step - loss: 0.0306 - accuracy: 0.9941 - val_loss: 0.1818 - val_accuracy: 0.9474\n",
      "Epoch 51/100\n",
      "16/16 [==============================] - 0s 7ms/step - loss: 0.0302 - accuracy: 0.9922 - val_loss: 0.1826 - val_accuracy: 0.9474\n",
      "Epoch 52/100\n",
      "16/16 [==============================] - 0s 7ms/step - loss: 0.0298 - accuracy: 0.9941 - val_loss: 0.1828 - val_accuracy: 0.9474\n",
      "Epoch 53/100\n",
      "16/16 [==============================] - 0s 6ms/step - loss: 0.0292 - accuracy: 0.9941 - val_loss: 0.1836 - val_accuracy: 0.9474\n",
      "Epoch 54/100\n",
      "16/16 [==============================] - 0s 9ms/step - loss: 0.0289 - accuracy: 0.9922 - val_loss: 0.1846 - val_accuracy: 0.9474\n",
      "Epoch 55/100\n",
      "16/16 [==============================] - 0s 6ms/step - loss: 0.0285 - accuracy: 0.9922 - val_loss: 0.1849 - val_accuracy: 0.9474\n",
      "Epoch 56/100\n",
      "16/16 [==============================] - 0s 4ms/step - loss: 0.0281 - accuracy: 0.9941 - val_loss: 0.1855 - val_accuracy: 0.9474\n",
      "Epoch 57/100\n",
      "16/16 [==============================] - 0s 4ms/step - loss: 0.0276 - accuracy: 0.9941 - val_loss: 0.1863 - val_accuracy: 0.9474\n",
      "Epoch 58/100\n",
      "16/16 [==============================] - 0s 3ms/step - loss: 0.0271 - accuracy: 0.9941 - val_loss: 0.1865 - val_accuracy: 0.9474\n",
      "Epoch 59/100\n",
      "16/16 [==============================] - 0s 3ms/step - loss: 0.0269 - accuracy: 0.9941 - val_loss: 0.1874 - val_accuracy: 0.9474\n",
      "Epoch 60/100\n",
      "16/16 [==============================] - 0s 3ms/step - loss: 0.0266 - accuracy: 0.9941 - val_loss: 0.1873 - val_accuracy: 0.9474\n",
      "Epoch 61/100\n",
      "16/16 [==============================] - 0s 5ms/step - loss: 0.0264 - accuracy: 0.9922 - val_loss: 0.1887 - val_accuracy: 0.9474\n",
      "Epoch 62/100\n",
      "16/16 [==============================] - 0s 5ms/step - loss: 0.0259 - accuracy: 0.9922 - val_loss: 0.1882 - val_accuracy: 0.9474\n",
      "Epoch 63/100\n",
      "16/16 [==============================] - 0s 8ms/step - loss: 0.0255 - accuracy: 0.9941 - val_loss: 0.1891 - val_accuracy: 0.9474\n",
      "Epoch 64/100\n",
      "16/16 [==============================] - 0s 5ms/step - loss: 0.0251 - accuracy: 0.9922 - val_loss: 0.1898 - val_accuracy: 0.9474\n",
      "Epoch 65/100\n",
      "16/16 [==============================] - 0s 4ms/step - loss: 0.0250 - accuracy: 0.9922 - val_loss: 0.1894 - val_accuracy: 0.9474\n",
      "Epoch 66/100\n",
      "16/16 [==============================] - 0s 5ms/step - loss: 0.0245 - accuracy: 0.9922 - val_loss: 0.1902 - val_accuracy: 0.9474\n",
      "Epoch 67/100\n",
      "16/16 [==============================] - 0s 4ms/step - loss: 0.0242 - accuracy: 0.9941 - val_loss: 0.1910 - val_accuracy: 0.9474\n",
      "Epoch 68/100\n",
      "16/16 [==============================] - 0s 4ms/step - loss: 0.0237 - accuracy: 0.9922 - val_loss: 0.1915 - val_accuracy: 0.9474\n",
      "Epoch 69/100\n",
      "16/16 [==============================] - 0s 4ms/step - loss: 0.0236 - accuracy: 0.9922 - val_loss: 0.1921 - val_accuracy: 0.9474\n",
      "Epoch 70/100\n",
      "16/16 [==============================] - 0s 4ms/step - loss: 0.0233 - accuracy: 0.9941 - val_loss: 0.1920 - val_accuracy: 0.9474\n",
      "Epoch 71/100\n",
      "16/16 [==============================] - 0s 4ms/step - loss: 0.0230 - accuracy: 0.9941 - val_loss: 0.1923 - val_accuracy: 0.9474\n",
      "Epoch 72/100\n",
      "16/16 [==============================] - 0s 4ms/step - loss: 0.0226 - accuracy: 0.9922 - val_loss: 0.1938 - val_accuracy: 0.9474\n",
      "Epoch 73/100\n",
      "16/16 [==============================] - 0s 5ms/step - loss: 0.0222 - accuracy: 0.9922 - val_loss: 0.1946 - val_accuracy: 0.9474\n",
      "Epoch 74/100\n",
      "16/16 [==============================] - 0s 4ms/step - loss: 0.0219 - accuracy: 0.9941 - val_loss: 0.1953 - val_accuracy: 0.9474\n",
      "Epoch 75/100\n",
      "16/16 [==============================] - 0s 4ms/step - loss: 0.0217 - accuracy: 0.9922 - val_loss: 0.1952 - val_accuracy: 0.9474\n",
      "Epoch 76/100\n",
      "16/16 [==============================] - 0s 5ms/step - loss: 0.0213 - accuracy: 0.9941 - val_loss: 0.1953 - val_accuracy: 0.9474\n",
      "Epoch 77/100\n",
      "16/16 [==============================] - 0s 4ms/step - loss: 0.0211 - accuracy: 0.9941 - val_loss: 0.1954 - val_accuracy: 0.9474\n",
      "Epoch 78/100\n",
      "16/16 [==============================] - 0s 5ms/step - loss: 0.0211 - accuracy: 0.9922 - val_loss: 0.1964 - val_accuracy: 0.9474\n",
      "Epoch 79/100\n",
      "16/16 [==============================] - 0s 6ms/step - loss: 0.0206 - accuracy: 0.9941 - val_loss: 0.1959 - val_accuracy: 0.9474\n",
      "Epoch 80/100\n",
      "16/16 [==============================] - 0s 5ms/step - loss: 0.0203 - accuracy: 0.9941 - val_loss: 0.1977 - val_accuracy: 0.9474\n",
      "Epoch 81/100\n",
      "16/16 [==============================] - 0s 4ms/step - loss: 0.0200 - accuracy: 0.9941 - val_loss: 0.1970 - val_accuracy: 0.9474\n",
      "Epoch 82/100\n",
      "16/16 [==============================] - 0s 6ms/step - loss: 0.0197 - accuracy: 0.9941 - val_loss: 0.1985 - val_accuracy: 0.9474\n",
      "Epoch 83/100\n",
      "16/16 [==============================] - 0s 5ms/step - loss: 0.0194 - accuracy: 0.9941 - val_loss: 0.1986 - val_accuracy: 0.9474\n",
      "Epoch 84/100\n",
      "16/16 [==============================] - 0s 4ms/step - loss: 0.0191 - accuracy: 0.9941 - val_loss: 0.1995 - val_accuracy: 0.9474\n",
      "Epoch 85/100\n",
      "16/16 [==============================] - 0s 5ms/step - loss: 0.0191 - accuracy: 0.9941 - val_loss: 0.1998 - val_accuracy: 0.9474\n",
      "Epoch 86/100\n",
      "16/16 [==============================] - 0s 9ms/step - loss: 0.0186 - accuracy: 0.9941 - val_loss: 0.1998 - val_accuracy: 0.9474\n",
      "Epoch 87/100\n",
      "16/16 [==============================] - 0s 5ms/step - loss: 0.0184 - accuracy: 0.9941 - val_loss: 0.2008 - val_accuracy: 0.9474\n",
      "Epoch 88/100\n",
      "16/16 [==============================] - 0s 6ms/step - loss: 0.0181 - accuracy: 0.9941 - val_loss: 0.2008 - val_accuracy: 0.9474\n",
      "Epoch 89/100\n",
      "16/16 [==============================] - 0s 7ms/step - loss: 0.0180 - accuracy: 0.9941 - val_loss: 0.2016 - val_accuracy: 0.9474\n",
      "Epoch 90/100\n",
      "16/16 [==============================] - 0s 6ms/step - loss: 0.0180 - accuracy: 0.9941 - val_loss: 0.2009 - val_accuracy: 0.9474\n",
      "Epoch 91/100\n",
      "16/16 [==============================] - 0s 8ms/step - loss: 0.0174 - accuracy: 0.9941 - val_loss: 0.2022 - val_accuracy: 0.9474\n",
      "Epoch 92/100\n",
      "16/16 [==============================] - 0s 6ms/step - loss: 0.0171 - accuracy: 0.9941 - val_loss: 0.2027 - val_accuracy: 0.9474\n",
      "Epoch 93/100\n",
      "16/16 [==============================] - 0s 5ms/step - loss: 0.0169 - accuracy: 0.9941 - val_loss: 0.2035 - val_accuracy: 0.9474\n",
      "Epoch 94/100\n",
      "16/16 [==============================] - 0s 6ms/step - loss: 0.0166 - accuracy: 0.9941 - val_loss: 0.2036 - val_accuracy: 0.9474\n",
      "Epoch 95/100\n",
      "16/16 [==============================] - 0s 6ms/step - loss: 0.0164 - accuracy: 0.9941 - val_loss: 0.2041 - val_accuracy: 0.9474\n",
      "Epoch 96/100\n",
      "16/16 [==============================] - 0s 5ms/step - loss: 0.0163 - accuracy: 0.9941 - val_loss: 0.2040 - val_accuracy: 0.9649\n",
      "Epoch 97/100\n",
      "16/16 [==============================] - 0s 5ms/step - loss: 0.0159 - accuracy: 0.9941 - val_loss: 0.2050 - val_accuracy: 0.9474\n",
      "Epoch 98/100\n",
      "16/16 [==============================] - 0s 5ms/step - loss: 0.0158 - accuracy: 0.9941 - val_loss: 0.2054 - val_accuracy: 0.9474\n",
      "Epoch 99/100\n",
      "16/16 [==============================] - 0s 5ms/step - loss: 0.0155 - accuracy: 0.9941 - val_loss: 0.2067 - val_accuracy: 0.9474\n",
      "Epoch 100/100\n",
      "16/16 [==============================] - 0s 6ms/step - loss: 0.0152 - accuracy: 0.9941 - val_loss: 0.2063 - val_accuracy: 0.9649\n"
     ]
    }
   ],
   "source": [
    "hist = model.fit(X_train,\n",
    "          y_train,\n",
    "         validation_data = (X_test, y_test),\n",
    "         batch_size=None,\n",
    "         epochs = 100)"
   ]
  },
  {
   "cell_type": "code",
   "execution_count": 16,
   "metadata": {},
   "outputs": [
    {
     "data": {
      "text/plain": [
       "dict"
      ]
     },
     "execution_count": 16,
     "metadata": {},
     "output_type": "execute_result"
    }
   ],
   "source": [
    "type(hist.history)"
   ]
  },
  {
   "cell_type": "code",
   "execution_count": 17,
   "metadata": {},
   "outputs": [
    {
     "data": {
      "text/plain": [
       "dict_keys(['loss', 'accuracy', 'val_loss', 'val_accuracy'])"
      ]
     },
     "execution_count": 17,
     "metadata": {},
     "output_type": "execute_result"
    }
   ],
   "source": [
    "hist.history.keys()"
   ]
  },
  {
   "cell_type": "code",
   "execution_count": 19,
   "metadata": {},
   "outputs": [
    {
     "data": {
      "text/plain": [
       "[0.748046875,\n",
       " 0.896484375,\n",
       " 0.939453125,\n",
       " 0.951171875,\n",
       " 0.958984375,\n",
       " 0.96484375,\n",
       " 0.96875,\n",
       " 0.970703125,\n",
       " 0.974609375,\n",
       " 0.974609375,\n",
       " 0.974609375,\n",
       " 0.978515625,\n",
       " 0.98046875,\n",
       " 0.986328125,\n",
       " 0.986328125,\n",
       " 0.98828125,\n",
       " 0.98828125,\n",
       " 0.98828125,\n",
       " 0.98828125,\n",
       " 0.98828125,\n",
       " 0.98828125,\n",
       " 0.98828125,\n",
       " 0.98828125,\n",
       " 0.98828125,\n",
       " 0.98828125,\n",
       " 0.98828125,\n",
       " 0.990234375,\n",
       " 0.990234375,\n",
       " 0.9921875,\n",
       " 0.9921875,\n",
       " 0.9921875,\n",
       " 0.9921875,\n",
       " 0.9921875,\n",
       " 0.9921875,\n",
       " 0.9921875,\n",
       " 0.9921875,\n",
       " 0.9921875,\n",
       " 0.9921875,\n",
       " 0.9921875,\n",
       " 0.9921875,\n",
       " 0.9921875,\n",
       " 0.994140625,\n",
       " 0.994140625,\n",
       " 0.994140625,\n",
       " 0.994140625,\n",
       " 0.994140625,\n",
       " 0.994140625,\n",
       " 0.994140625,\n",
       " 0.994140625,\n",
       " 0.994140625,\n",
       " 0.9921875,\n",
       " 0.994140625,\n",
       " 0.994140625,\n",
       " 0.9921875,\n",
       " 0.9921875,\n",
       " 0.994140625,\n",
       " 0.994140625,\n",
       " 0.994140625,\n",
       " 0.994140625,\n",
       " 0.994140625,\n",
       " 0.9921875,\n",
       " 0.9921875,\n",
       " 0.994140625,\n",
       " 0.9921875,\n",
       " 0.9921875,\n",
       " 0.9921875,\n",
       " 0.994140625,\n",
       " 0.9921875,\n",
       " 0.9921875,\n",
       " 0.994140625,\n",
       " 0.994140625,\n",
       " 0.9921875,\n",
       " 0.9921875,\n",
       " 0.994140625,\n",
       " 0.9921875,\n",
       " 0.994140625,\n",
       " 0.994140625,\n",
       " 0.9921875,\n",
       " 0.994140625,\n",
       " 0.994140625,\n",
       " 0.994140625,\n",
       " 0.994140625,\n",
       " 0.994140625,\n",
       " 0.994140625,\n",
       " 0.994140625,\n",
       " 0.994140625,\n",
       " 0.994140625,\n",
       " 0.994140625,\n",
       " 0.994140625,\n",
       " 0.994140625,\n",
       " 0.994140625,\n",
       " 0.994140625,\n",
       " 0.994140625,\n",
       " 0.994140625,\n",
       " 0.994140625,\n",
       " 0.994140625,\n",
       " 0.994140625,\n",
       " 0.994140625,\n",
       " 0.994140625,\n",
       " 0.994140625]"
      ]
     },
     "execution_count": 19,
     "metadata": {},
     "output_type": "execute_result"
    }
   ],
   "source": [
    "hist.history['accuracy']"
   ]
  },
  {
   "cell_type": "code",
   "execution_count": 20,
   "metadata": {},
   "outputs": [
    {
     "data": {
      "text/plain": [
       "<matplotlib.legend.Legend at 0x26938821c90>"
      ]
     },
     "execution_count": 20,
     "metadata": {},
     "output_type": "execute_result"
    },
    {
     "data": {
      "image/png": "[encoded data removed]",
      "text/plain": [
       "<Figure size 640x480 with 1 Axes>"
      ]
     },
     "metadata": {},
     "output_type": "display_data"
    }
   ],
   "source": [
    "## plot loss function\n",
    "plt.plot(hist.history['loss'], label='train')\n",
    "plt.plot(hist.history['val_loss'], label='test')\n",
    "plt.legend()"
   ]
  },
  {
   "cell_type": "code",
   "execution_count": 30,
   "metadata": {},
   "outputs": [
    {
     "data": {
      "text/plain": [
       "array([[-0.16542273, -0.33766446, -0.24926838, -0.24630776, -1.21793516,\n",
       "        -1.22837315, -0.87340793, -0.95141095, -0.8881799 , -1.08819703,\n",
       "        -0.52974412, -0.09517526, -0.58189478, -0.40008403, -1.10638011,\n",
       "        -1.16846017, -0.71022945, -1.10454921, -0.86655065, -1.05902951,\n",
       "        -0.16978307,  0.07346613, -0.25943378, -0.25823174, -1.22694065,\n",
       "        -1.15456542, -0.81246356, -0.97631196, -0.92973429, -1.18789211],\n",
       "       [-0.72048033, -0.25749339, -0.65151058, -0.70559183,  1.45936509,\n",
       "         0.80470758,  0.13898373,  0.14695546,  0.50033082,  1.39076096,\n",
       "         0.00565754,  0.93283282,  0.06605526, -0.28027344,  2.47499687,\n",
       "         0.37072602,  0.57396567,  1.05868297, -0.30456749,  0.57055043,\n",
       "        -0.61003998, -0.04096849, -0.57777412, -0.62510827,  1.97714125,\n",
       "         0.19743736,  0.19950238,  0.39543477, -0.40452488,  0.47512487]])"
      ]
     },
     "execution_count": 30,
     "metadata": {},
     "output_type": "execute_result"
    }
   ],
   "source": [
    "X_test[:2]"
   ]
  },
  {
   "cell_type": "code",
   "execution_count": 31,
   "metadata": {},
   "outputs": [
    {
     "name": "stdout",
     "output_type": "stream",
     "text": [
      "1/1 [==============================] - 0s 67ms/step\n"
     ]
    },
    {
     "data": {
      "text/plain": [
       "array([[0.9988758],\n",
       "       [0.949304 ]], dtype=float32)"
      ]
     },
     "execution_count": 31,
     "metadata": {},
     "output_type": "execute_result"
    }
   ],
   "source": [
    "## Make prediction\n",
    "#model.predict_classes(X_test[:2])\n",
    "model.predict(X_test[:2])"
   ]
  },
  {
   "cell_type": "markdown",
   "metadata": {},
   "source": [
    "## Multi-Class Classification"
   ]
  },
  {
   "cell_type": "code",
   "execution_count": 32,
   "metadata": {},
   "outputs": [],
   "source": [
    "from sklearn.datasets import load_iris\n",
    "from keras.utils import to_categorical"
   ]
  },
  {
   "cell_type": "code",
   "execution_count": 33,
   "metadata": {},
   "outputs": [],
   "source": [
    "## Load Dataset\n",
    "data = load_iris()"
   ]
  },
  {
   "cell_type": "code",
   "execution_count": 34,
   "metadata": {},
   "outputs": [
    {
     "data": {
      "text/plain": [
       "{'data': array([[5.1, 3.5, 1.4, 0.2],\n",
       "        [4.9, 3. , 1.4, 0.2],\n",
       "        [4.7, 3.2, 1.3, 0.2],\n",
       "        [4.6, 3.1, 1.5, 0.2],\n",
       "        [5. , 3.6, 1.4, 0.2],\n",
       "        [5.4, 3.9, 1.7, 0.4],\n",
       "        [4.6, 3.4, 1.4, 0.3],\n",
       "        [5. , 3.4, 1.5, 0.2],\n",
       "        [4.4, 2.9, 1.4, 0.2],\n",
       "        [4.9, 3.1, 1.5, 0.1],\n",
       "        [5.4, 3.7, 1.5, 0.2],\n",
       "        [4.8, 3.4, 1.6, 0.2],\n",
       "        [4.8, 3. , 1.4, 0.1],\n",
       "        [4.3, 3. , 1.1, 0.1],\n",
       "        [5.8, 4. , 1.2, 0.2],\n",
       "        [5.7, 4.4, 1.5, 0.4],\n",
       "        [5.4, 3.9, 1.3, 0.4],\n",
       "        [5.1, 3.5, 1.4, 0.3],\n",
       "        [5.7, 3.8, 1.7, 0.3],\n",
       "        [5.1, 3.8, 1.5, 0.3],\n",
       "        [5.4, 3.4, 1.7, 0.2],\n",
       "        [5.1, 3.7, 1.5, 0.4],\n",
       "        [4.6, 3.6, 1. , 0.2],\n",
       "        [5.1, 3.3, 1.7, 0.5],\n",
       "        [4.8, 3.4, 1.9, 0.2],\n",
       "        [5. , 3. , 1.6, 0.2],\n",
       "        [5. , 3.4, 1.6, 0.4],\n",
       "        [5.2, 3.5, 1.5, 0.2],\n",
       "        [5.2, 3.4, 1.4, 0.2],\n",
       "        [4.7, 3.2, 1.6, 0.2],\n",
       "        [4.8, 3.1, 1.6, 0.2],\n",
       "        [5.4, 3.4, 1.5, 0.4],\n",
       "        [5.2, 4.1, 1.5, 0.1],\n",
       "        [5.5, 4.2, 1.4, 0.2],\n",
       "        [4.9, 3.1, 1.5, 0.2],\n",
       "        [5. , 3.2, 1.2, 0.2],\n",
       "        [5.5, 3.5, 1.3, 0.2],\n",
       "        [4.9, 3.6, 1.4, 0.1],\n",
       "        [4.4, 3. , 1.3, 0.2],\n",
       "        [5.1, 3.4, 1.5, 0.2],\n",
       "        [5. , 3.5, 1.3, 0.3],\n",
       "        [4.5, 2.3, 1.3, 0.3],\n",
       "        [4.4, 3.2, 1.3, 0.2],\n",
       "        [5. , 3.5, 1.6, 0.6],\n",
       "        [5.1, 3.8, 1.9, 0.4],\n",
       "        [4.8, 3. , 1.4, 0.3],\n",
       "        [5.1, 3.8, 1.6, 0.2],\n",
       "        [4.6, 3.2, 1.4, 0.2],\n",
       "        [5.3, 3.7, 1.5, 0.2],\n",
       "        [5. , 3.3, 1.4, 0.2],\n",
       "        [7. , 3.2, 4.7, 1.4],\n",
       "        [6.4, 3.2, 4.5, 1.5],\n",
       "        [6.9, 3.1, 4.9, 1.5],\n",
       "        [5.5, 2.3, 4. , 1.3],\n",
       "        [6.5, 2.8, 4.6, 1.5],\n",
       "        [5.7, 2.8, 4.5, 1.3],\n",
       "        [6.3, 3.3, 4.7, 1.6],\n",
       "        [4.9, 2.4, 3.3, 1. ],\n",
       "        [6.6, 2.9, 4.6, 1.3],\n",
       "        [5.2, 2.7, 3.9, 1.4],\n",
       "        [5. , 2. , 3.5, 1. ],\n",
       "        [5.9, 3. , 4.2, 1.5],\n",
       "        [6. , 2.2, 4. , 1. ],\n",
       "        [6.1, 2.9, 4.7, 1.4],\n",
       "        [5.6, 2.9, 3.6, 1.3],\n",
       "        [6.7, 3.1, 4.4, 1.4],\n",
       "        [5.6, 3. , 4.5, 1.5],\n",
       "        [5.8, 2.7, 4.1, 1. ],\n",
       "        [6.2, 2.2, 4.5, 1.5],\n",
       "        [5.6, 2.5, 3.9, 1.1],\n",
       "        [5.9, 3.2, 4.8, 1.8],\n",
       "        [6.1, 2.8, 4. , 1.3],\n",
       "        [6.3, 2.5, 4.9, 1.5],\n",
       "        [6.1, 2.8, 4.7, 1.2],\n",
       "        [6.4, 2.9, 4.3, 1.3],\n",
       "        [6.6, 3. , 4.4, 1.4],\n",
       "        [6.8, 2.8, 4.8, 1.4],\n",
       "        [6.7, 3. , 5. , 1.7],\n",
       "        [6. , 2.9, 4.5, 1.5],\n",
       "        [5.7, 2.6, 3.5, 1. ],\n",
       "        [5.5, 2.4, 3.8, 1.1],\n",
       "        [5.5, 2.4, 3.7, 1. ],\n",
       "        [5.8, 2.7, 3.9, 1.2],\n",
       "        [6. , 2.7, 5.1, 1.6],\n",
       "        [5.4, 3. , 4.5, 1.5],\n",
       "        [6. , 3.4, 4.5, 1.6],\n",
       "        [6.7, 3.1, 4.7, 1.5],\n",
       "        [6.3, 2.3, 4.4, 1.3],\n",
       "        [5.6, 3. , 4.1, 1.3],\n",
       "        [5.5, 2.5, 4. , 1.3],\n",
       "        [5.5, 2.6, 4.4, 1.2],\n",
       "        [6.1, 3. , 4.6, 1.4],\n",
       "        [5.8, 2.6, 4. , 1.2],\n",
       "        [5. , 2.3, 3.3, 1. ],\n",
       "        [5.6, 2.7, 4.2, 1.3],\n",
       "        [5.7, 3. , 4.2, 1.2],\n",
       "        [5.7, 2.9, 4.2, 1.3],\n",
       "        [6.2, 2.9, 4.3, 1.3],\n",
       "        [5.1, 2.5, 3. , 1.1],\n",
       "        [5.7, 2.8, 4.1, 1.3],\n",
       "        [6.3, 3.3, 6. , 2.5],\n",
       "        [5.8, 2.7, 5.1, 1.9],\n",
       "        [7.1, 3. , 5.9, 2.1],\n",
       "        [6.3, 2.9, 5.6, 1.8],\n",
       "        [6.5, 3. , 5.8, 2.2],\n",
       "        [7.6, 3. , 6.6, 2.1],\n",
       "        [4.9, 2.5, 4.5, 1.7],\n",
       "        [7.3, 2.9, 6.3, 1.8],\n",
       "        [6.7, 2.5, 5.8, 1.8],\n",
       "        [7.2, 3.6, 6.1, 2.5],\n",
       "        [6.5, 3.2, 5.1, 2. ],\n",
       "        [6.4, 2.7, 5.3, 1.9],\n",
       "        [6.8, 3. , 5.5, 2.1],\n",
       "        [5.7, 2.5, 5. , 2. ],\n",
       "        [5.8, 2.8, 5.1, 2.4],\n",
       "        [6.4, 3.2, 5.3, 2.3],\n",
       "        [6.5, 3. , 5.5, 1.8],\n",
       "        [7.7, 3.8, 6.7, 2.2],\n",
       "        [7.7, 2.6, 6.9, 2.3],\n",
       "        [6. , 2.2, 5. , 1.5],\n",
       "        [6.9, 3.2, 5.7, 2.3],\n",
       "        [5.6, 2.8, 4.9, 2. ],\n",
       "        [7.7, 2.8, 6.7, 2. ],\n",
       "        [6.3, 2.7, 4.9, 1.8],\n",
       "        [6.7, 3.3, 5.7, 2.1],\n",
       "        [7.2, 3.2, 6. , 1.8],\n",
       "        [6.2, 2.8, 4.8, 1.8],\n",
       "        [6.1, 3. , 4.9, 1.8],\n",
       "        [6.4, 2.8, 5.6, 2.1],\n",
       "        [7.2, 3. , 5.8, 1.6],\n",
       "        [7.4, 2.8, 6.1, 1.9],\n",
       "        [7.9, 3.8, 6.4, 2. ],\n",
       "        [6.4, 2.8, 5.6, 2.2],\n",
       "        [6.3, 2.8, 5.1, 1.5],\n",
       "        [6.1, 2.6, 5.6, 1.4],\n",
       "        [7.7, 3. , 6.1, 2.3],\n",
       "        [6.3, 3.4, 5.6, 2.4],\n",
       "        [6.4, 3.1, 5.5, 1.8],\n",
       "        [6. , 3. , 4.8, 1.8],\n",
       "        [6.9, 3.1, 5.4, 2.1],\n",
       "        [6.7, 3.1, 5.6, 2.4],\n",
       "        [6.9, 3.1, 5.1, 2.3],\n",
       "        [5.8, 2.7, 5.1, 1.9],\n",
       "        [6.8, 3.2, 5.9, 2.3],\n",
       "        [6.7, 3.3, 5.7, 2.5],\n",
       "        [6.7, 3. , 5.2, 2.3],\n",
       "        [6.3, 2.5, 5. , 1.9],\n",
       "        [6.5, 3. , 5.2, 2. ],\n",
       "        [6.2, 3.4, 5.4, 2.3],\n",
       "        [5.9, 3. , 5.1, 1.8]]),\n",
       " 'target': array([0, 0, 0, 0, 0, 0, 0, 0, 0, 0, 0, 0, 0, 0, 0, 0, 0, 0, 0, 0, 0, 0,\n",
       "        0, 0, 0, 0, 0, 0, 0, 0, 0, 0, 0, 0, 0, 0, 0, 0, 0, 0, 0, 0, 0, 0,\n",
       "        0, 0, 0, 0, 0, 0, 1, 1, 1, 1, 1, 1, 1, 1, 1, 1, 1, 1, 1, 1, 1, 1,\n",
       "        1, 1, 1, 1, 1, 1, 1, 1, 1, 1, 1, 1, 1, 1, 1, 1, 1, 1, 1, 1, 1, 1,\n",
       "        1, 1, 1, 1, 1, 1, 1, 1, 1, 1, 1, 1, 2, 2, 2, 2, 2, 2, 2, 2, 2, 2,\n",
       "        2, 2, 2, 2, 2, 2, 2, 2, 2, 2, 2, 2, 2, 2, 2, 2, 2, 2, 2, 2, 2, 2,\n",
       "        2, 2, 2, 2, 2, 2, 2, 2, 2, 2, 2, 2, 2, 2, 2, 2, 2, 2]),\n",
       " 'frame': None,\n",
       " 'target_names': array(['setosa', 'versicolor', 'virginica'], dtype='<U10'),\n",
       " 'DESCR': '.. _iris_dataset:\\n\\nIris plants dataset\\n--------------------\\n\\n**Data Set Characteristics:**\\n\\n    :Number of Instances: 150 (50 in each of three classes)\\n    :Number of Attributes: 4 numeric, predictive attributes and the class\\n    :Attribute Information:\\n        - sepal length in cm\\n        - sepal width in cm\\n        - petal length in cm\\n        - petal width in cm\\n        - class:\\n                - Iris-Setosa\\n                - Iris-Versicolour\\n                - Iris-Virginica\\n                \\n    :Summary Statistics:\\n\\n    ============== ==== ==== ======= ===== ====================\\n                    Min  Max   Mean    SD   Class Correlation\\n    ============== ==== ==== ======= ===== ====================\\n    sepal length:   4.3  7.9   5.84   0.83    0.7826\\n    sepal width:    2.0  4.4   3.05   0.43   -0.4194\\n    petal length:   1.0  6.9   3.76   1.76    0.9490  (high!)\\n    petal width:    0.1  2.5   1.20   0.76    0.9565  (high!)\\n    ============== ==== ==== ======= ===== ====================\\n\\n    :Missing Attribute Values: None\\n    :Class Distribution: 33.3% for each of 3 classes.\\n    :Creator: R.A. Fisher\\n    :Donor: Michael Marshall (MARSHALL%PLU@io.arc.nasa.gov)\\n    :Date: July, 1988\\n\\nThe famous Iris database, first used by Sir R.A. Fisher. The dataset is taken\\nfrom Fisher\\'s paper. Note that it\\'s the same as in R, but not as in the UCI\\nMachine Learning Repository, which has two wrong data points.\\n\\nThis is perhaps the best known database to be found in the\\npattern recognition literature.  Fisher\\'s paper is a classic in the field and\\nis referenced frequently to this day.  (See Duda & Hart, for example.)  The\\ndata set contains 3 classes of 50 instances each, where each class refers to a\\ntype of iris plant.  One class is linearly separable from the other 2; the\\nlatter are NOT linearly separable from each other.\\n\\n.. topic:: References\\n\\n   - Fisher, R.A. \"The use of multiple measurements in taxonomic problems\"\\n     Annual Eugenics, 7, Part II, 179-188 (1936); also in \"Contributions to\\n     Mathematical Statistics\" (John Wiley, NY, 1950).\\n   - Duda, R.O., & Hart, P.E. (1973) Pattern Classification and Scene Analysis.\\n     (Q327.D83) John Wiley & Sons.  ISBN 0-471-22361-1.  See page 218.\\n   - Dasarathy, B.V. (1980) \"Nosing Around the Neighborhood: A New System\\n     Structure and Classification Rule for Recognition in Partially Exposed\\n     Environments\".  IEEE Transactions on Pattern Analysis and Machine\\n     Intelligence, Vol. PAMI-2, No. 1, 67-71.\\n   - Gates, G.W. (1972) \"The Reduced Nearest Neighbor Rule\".  IEEE Transactions\\n     on Information Theory, May 1972, 431-433.\\n   - See also: 1988 MLC Proceedings, 54-64.  Cheeseman et al\"s AUTOCLASS II\\n     conceptual clustering system finds 3 classes in the data.\\n   - Many, many more ...',\n",
       " 'feature_names': ['sepal length (cm)',\n",
       "  'sepal width (cm)',\n",
       "  'petal length (cm)',\n",
       "  'petal width (cm)'],\n",
       " 'filename': 'iris.csv',\n",
       " 'data_module': 'sklearn.datasets.data'}"
      ]
     },
     "execution_count": 34,
     "metadata": {},
     "output_type": "execute_result"
    }
   ],
   "source": [
    "data"
   ]
  },
  {
   "cell_type": "code",
   "execution_count": 35,
   "metadata": {},
   "outputs": [],
   "source": [
    "## Setting up X and y\n",
    "X = data.data\n",
    "y = data.target"
   ]
  },
  {
   "cell_type": "code",
   "execution_count": 36,
   "metadata": {},
   "outputs": [],
   "source": [
    "## Train/Test Split\n",
    "X_train, X_test, y_train, y_test = train_test_split(X, y, test_size=0.1, stratify= y)"
   ]
  },
  {
   "cell_type": "code",
   "execution_count": 37,
   "metadata": {},
   "outputs": [],
   "source": [
    "## Do standardization \n",
    "ss = StandardScaler()\n",
    "X_train = ss.fit_transform(X_train)\n",
    "X_test = ss.transform(X_test)"
   ]
  },
  {
   "cell_type": "code",
   "execution_count": 38,
   "metadata": {},
   "outputs": [],
   "source": [
    "# process target - dummies\n",
    "y_train = to_categorical(y_train)\n",
    "y_test = to_categorical(y_test)"
   ]
  },
  {
   "cell_type": "code",
   "execution_count": 39,
   "metadata": {},
   "outputs": [],
   "source": [
    "#y_train"
   ]
  },
  {
   "cell_type": "code",
   "execution_count": 40,
   "metadata": {},
   "outputs": [],
   "source": [
    "#1# Build NN\n",
    "#     - number of layers \n",
    "#     - number of neurals\n",
    "#     - activation function "
   ]
  },
  {
   "cell_type": "code",
   "execution_count": 41,
   "metadata": {},
   "outputs": [
    {
     "data": {
      "text/plain": [
       "4"
      ]
     },
     "execution_count": 41,
     "metadata": {},
     "output_type": "execute_result"
    }
   ],
   "source": [
    "X_train.shape[1]"
   ]
  },
  {
   "cell_type": "code",
   "execution_count": 42,
   "metadata": {},
   "outputs": [
    {
     "data": {
      "text/plain": [
       "3"
      ]
     },
     "execution_count": 42,
     "metadata": {},
     "output_type": "execute_result"
    }
   ],
   "source": [
    "len(set(y))"
   ]
  },
  {
   "cell_type": "code",
   "execution_count": 43,
   "metadata": {},
   "outputs": [],
   "source": [
    "model = Sequential()\n",
    "model.add(Dense(X_train.shape[1], activation='relu', input_dim=X_train.shape[1] ))\n",
    "model.add(Dense(len(set(y)), activation='softmax'))"
   ]
  },
  {
   "cell_type": "code",
   "execution_count": 44,
   "metadata": {},
   "outputs": [
    {
     "name": "stdout",
     "output_type": "stream",
     "text": [
      "Model: \"sequential_1\"\n",
      "_________________________________________________________________\n",
      " Layer (type)                Output Shape              Param #   \n",
      "=================================================================\n",
      " dense_2 (Dense)             (None, 4)                 20        \n",
      "                                                                 \n",
      " dense_3 (Dense)             (None, 3)                 15        \n",
      "                                                                 \n",
      "=================================================================\n",
      "Total params: 35\n",
      "Trainable params: 35\n",
      "Non-trainable params: 0\n",
      "_________________________________________________________________\n"
     ]
    }
   ],
   "source": [
    "model.summary()"
   ]
  },
  {
   "cell_type": "code",
   "execution_count": 45,
   "metadata": {},
   "outputs": [],
   "source": [
    "#2# Compile NN\n",
    "#     - loss function\n",
    "#     - optimizer"
   ]
  },
  {
   "cell_type": "code",
   "execution_count": 46,
   "metadata": {},
   "outputs": [],
   "source": [
    "model.compile(loss='categorical_crossentropy', optimizer='adam', metrics=['accuracy'])"
   ]
  },
  {
   "cell_type": "code",
   "execution_count": 47,
   "metadata": {},
   "outputs": [],
   "source": [
    "#3# Fit NN\n",
    "#     - epoch\n",
    "#     - batch size "
   ]
  },
  {
   "cell_type": "code",
   "execution_count": 48,
   "metadata": {},
   "outputs": [
    {
     "name": "stdout",
     "output_type": "stream",
     "text": [
      "Epoch 1/100\n",
      "5/5 [==============================] - 0s 28ms/step - loss: 1.3268 - accuracy: 0.4444 - val_loss: 1.3173 - val_accuracy: 0.4667\n",
      "Epoch 2/100\n",
      "5/5 [==============================] - 0s 7ms/step - loss: 1.3090 - accuracy: 0.4444 - val_loss: 1.3003 - val_accuracy: 0.4667\n",
      "Epoch 3/100\n",
      "5/5 [==============================] - 0s 7ms/step - loss: 1.2919 - accuracy: 0.4667 - val_loss: 1.2838 - val_accuracy: 0.4667\n",
      "Epoch 4/100\n",
      "5/5 [==============================] - 0s 7ms/step - loss: 1.2753 - accuracy: 0.4519 - val_loss: 1.2667 - val_accuracy: 0.4667\n",
      "Epoch 5/100\n",
      "5/5 [==============================] - 0s 7ms/step - loss: 1.2577 - accuracy: 0.4667 - val_loss: 1.2502 - val_accuracy: 0.4667\n",
      "Epoch 6/100\n",
      "5/5 [==============================] - 0s 7ms/step - loss: 1.2417 - accuracy: 0.4667 - val_loss: 1.2335 - val_accuracy: 0.4667\n",
      "Epoch 7/100\n",
      "5/5 [==============================] - 0s 8ms/step - loss: 1.2255 - accuracy: 0.4741 - val_loss: 1.2176 - val_accuracy: 0.4667\n",
      "Epoch 8/100\n",
      "5/5 [==============================] - 0s 7ms/step - loss: 1.2098 - accuracy: 0.4741 - val_loss: 1.2025 - val_accuracy: 0.4667\n",
      "Epoch 9/100\n",
      "5/5 [==============================] - 0s 7ms/step - loss: 1.1952 - accuracy: 0.4741 - val_loss: 1.1872 - val_accuracy: 0.4667\n",
      "Epoch 10/100\n",
      "5/5 [==============================] - 0s 7ms/step - loss: 1.1791 - accuracy: 0.4741 - val_loss: 1.1728 - val_accuracy: 0.4667\n",
      "Epoch 11/100\n",
      "5/5 [==============================] - 0s 7ms/step - loss: 1.1650 - accuracy: 0.4667 - val_loss: 1.1578 - val_accuracy: 0.4667\n",
      "Epoch 12/100\n",
      "5/5 [==============================] - 0s 7ms/step - loss: 1.1499 - accuracy: 0.4667 - val_loss: 1.1429 - val_accuracy: 0.4667\n",
      "Epoch 13/100\n",
      "5/5 [==============================] - 0s 7ms/step - loss: 1.1347 - accuracy: 0.4667 - val_loss: 1.1285 - val_accuracy: 0.4667\n",
      "Epoch 14/100\n",
      "5/5 [==============================] - 0s 7ms/step - loss: 1.1208 - accuracy: 0.4815 - val_loss: 1.1145 - val_accuracy: 0.4667\n",
      "Epoch 15/100\n",
      "5/5 [==============================] - 0s 7ms/step - loss: 1.1074 - accuracy: 0.4963 - val_loss: 1.1008 - val_accuracy: 0.4667\n",
      "Epoch 16/100\n",
      "5/5 [==============================] - 0s 6ms/step - loss: 1.0934 - accuracy: 0.4815 - val_loss: 1.0884 - val_accuracy: 0.5333\n",
      "Epoch 17/100\n",
      "5/5 [==============================] - 0s 7ms/step - loss: 1.0808 - accuracy: 0.4815 - val_loss: 1.0762 - val_accuracy: 0.5333\n",
      "Epoch 18/100\n",
      "5/5 [==============================] - 0s 7ms/step - loss: 1.0695 - accuracy: 0.4889 - val_loss: 1.0636 - val_accuracy: 0.5333\n",
      "Epoch 19/100\n",
      "5/5 [==============================] - 0s 7ms/step - loss: 1.0566 - accuracy: 0.4963 - val_loss: 1.0515 - val_accuracy: 0.5333\n",
      "Epoch 20/100\n",
      "5/5 [==============================] - 0s 7ms/step - loss: 1.0450 - accuracy: 0.5111 - val_loss: 1.0398 - val_accuracy: 0.5333\n",
      "Epoch 21/100\n",
      "5/5 [==============================] - 0s 9ms/step - loss: 1.0332 - accuracy: 0.5185 - val_loss: 1.0294 - val_accuracy: 0.5333\n",
      "Epoch 22/100\n",
      "5/5 [==============================] - 0s 7ms/step - loss: 1.0224 - accuracy: 0.5259 - val_loss: 1.0192 - val_accuracy: 0.5333\n",
      "Epoch 23/100\n",
      "5/5 [==============================] - 0s 7ms/step - loss: 1.0120 - accuracy: 0.5556 - val_loss: 1.0093 - val_accuracy: 0.5333\n",
      "Epoch 24/100\n",
      "5/5 [==============================] - 0s 7ms/step - loss: 1.0015 - accuracy: 0.5556 - val_loss: 0.9989 - val_accuracy: 0.5333\n",
      "Epoch 25/100\n",
      "5/5 [==============================] - 0s 8ms/step - loss: 0.9907 - accuracy: 0.5704 - val_loss: 0.9879 - val_accuracy: 0.5333\n",
      "Epoch 26/100\n",
      "5/5 [==============================] - 0s 7ms/step - loss: 0.9801 - accuracy: 0.5704 - val_loss: 0.9766 - val_accuracy: 0.5333\n",
      "Epoch 27/100\n",
      "5/5 [==============================] - 0s 7ms/step - loss: 0.9690 - accuracy: 0.6000 - val_loss: 0.9655 - val_accuracy: 0.5333\n",
      "Epoch 28/100\n",
      "5/5 [==============================] - 0s 8ms/step - loss: 0.9578 - accuracy: 0.6074 - val_loss: 0.9553 - val_accuracy: 0.5333\n",
      "Epoch 29/100\n",
      "5/5 [==============================] - 0s 8ms/step - loss: 0.9472 - accuracy: 0.6296 - val_loss: 0.9452 - val_accuracy: 0.6000\n",
      "Epoch 30/100\n",
      "5/5 [==============================] - 0s 8ms/step - loss: 0.9373 - accuracy: 0.6296 - val_loss: 0.9344 - val_accuracy: 0.6000\n",
      "Epoch 31/100\n",
      "5/5 [==============================] - 0s 8ms/step - loss: 0.9270 - accuracy: 0.6444 - val_loss: 0.9242 - val_accuracy: 0.6000\n",
      "Epoch 32/100\n",
      "5/5 [==============================] - 0s 8ms/step - loss: 0.9165 - accuracy: 0.6444 - val_loss: 0.9143 - val_accuracy: 0.6000\n",
      "Epoch 33/100\n",
      "5/5 [==============================] - 0s 7ms/step - loss: 0.9071 - accuracy: 0.6667 - val_loss: 0.9041 - val_accuracy: 0.6000\n",
      "Epoch 34/100\n",
      "5/5 [==============================] - 0s 9ms/step - loss: 0.8973 - accuracy: 0.6815 - val_loss: 0.8938 - val_accuracy: 0.6000\n",
      "Epoch 35/100\n",
      "5/5 [==============================] - 0s 7ms/step - loss: 0.8877 - accuracy: 0.6815 - val_loss: 0.8833 - val_accuracy: 0.6000\n",
      "Epoch 36/100\n",
      "5/5 [==============================] - 0s 8ms/step - loss: 0.8784 - accuracy: 0.6815 - val_loss: 0.8724 - val_accuracy: 0.6000\n",
      "Epoch 37/100\n",
      "5/5 [==============================] - 0s 7ms/step - loss: 0.8690 - accuracy: 0.6815 - val_loss: 0.8617 - val_accuracy: 0.6000\n",
      "Epoch 38/100\n",
      "5/5 [==============================] - 0s 7ms/step - loss: 0.8595 - accuracy: 0.7111 - val_loss: 0.8511 - val_accuracy: 0.6000\n",
      "Epoch 39/100\n",
      "5/5 [==============================] - 0s 7ms/step - loss: 0.8505 - accuracy: 0.7185 - val_loss: 0.8400 - val_accuracy: 0.6000\n",
      "Epoch 40/100\n",
      "5/5 [==============================] - 0s 8ms/step - loss: 0.8414 - accuracy: 0.7185 - val_loss: 0.8291 - val_accuracy: 0.6667\n",
      "Epoch 41/100\n",
      "5/5 [==============================] - 0s 7ms/step - loss: 0.8318 - accuracy: 0.7259 - val_loss: 0.8184 - val_accuracy: 0.6667\n",
      "Epoch 42/100\n",
      "5/5 [==============================] - 0s 7ms/step - loss: 0.8229 - accuracy: 0.7333 - val_loss: 0.8074 - val_accuracy: 0.6667\n",
      "Epoch 43/100\n",
      "5/5 [==============================] - 0s 7ms/step - loss: 0.8145 - accuracy: 0.7407 - val_loss: 0.7967 - val_accuracy: 0.6667\n",
      "Epoch 44/100\n",
      "5/5 [==============================] - 0s 7ms/step - loss: 0.8055 - accuracy: 0.7407 - val_loss: 0.7862 - val_accuracy: 0.6667\n",
      "Epoch 45/100\n",
      "5/5 [==============================] - 0s 7ms/step - loss: 0.7969 - accuracy: 0.7481 - val_loss: 0.7756 - val_accuracy: 0.6667\n",
      "Epoch 46/100\n",
      "5/5 [==============================] - 0s 7ms/step - loss: 0.7884 - accuracy: 0.7407 - val_loss: 0.7654 - val_accuracy: 0.6667\n",
      "Epoch 47/100\n",
      "5/5 [==============================] - 0s 7ms/step - loss: 0.7801 - accuracy: 0.7407 - val_loss: 0.7553 - val_accuracy: 0.6667\n",
      "Epoch 48/100\n",
      "5/5 [==============================] - 0s 7ms/step - loss: 0.7717 - accuracy: 0.7407 - val_loss: 0.7458 - val_accuracy: 0.6667\n",
      "Epoch 49/100\n",
      "5/5 [==============================] - 0s 7ms/step - loss: 0.7644 - accuracy: 0.7407 - val_loss: 0.7361 - val_accuracy: 0.6667\n",
      "Epoch 50/100\n",
      "5/5 [==============================] - 0s 7ms/step - loss: 0.7564 - accuracy: 0.7407 - val_loss: 0.7268 - val_accuracy: 0.6667\n",
      "Epoch 51/100\n",
      "5/5 [==============================] - 0s 7ms/step - loss: 0.7485 - accuracy: 0.7407 - val_loss: 0.7176 - val_accuracy: 0.6667\n",
      "Epoch 52/100\n",
      "5/5 [==============================] - 0s 7ms/step - loss: 0.7412 - accuracy: 0.7407 - val_loss: 0.7086 - val_accuracy: 0.7333\n",
      "Epoch 53/100\n",
      "5/5 [==============================] - 0s 7ms/step - loss: 0.7341 - accuracy: 0.7481 - val_loss: 0.7003 - val_accuracy: 0.7333\n",
      "Epoch 54/100\n",
      "5/5 [==============================] - 0s 7ms/step - loss: 0.7272 - accuracy: 0.7481 - val_loss: 0.6925 - val_accuracy: 0.7333\n",
      "Epoch 55/100\n",
      "5/5 [==============================] - 0s 7ms/step - loss: 0.7206 - accuracy: 0.7481 - val_loss: 0.6849 - val_accuracy: 0.7333\n",
      "Epoch 56/100\n",
      "5/5 [==============================] - 0s 7ms/step - loss: 0.7141 - accuracy: 0.7481 - val_loss: 0.6773 - val_accuracy: 0.7333\n",
      "Epoch 57/100\n",
      "5/5 [==============================] - 0s 6ms/step - loss: 0.7077 - accuracy: 0.7407 - val_loss: 0.6699 - val_accuracy: 0.7333\n",
      "Epoch 58/100\n",
      "5/5 [==============================] - 0s 7ms/step - loss: 0.7012 - accuracy: 0.7481 - val_loss: 0.6622 - val_accuracy: 0.8000\n",
      "Epoch 59/100\n"
     ]
    },
    {
     "name": "stdout",
     "output_type": "stream",
     "text": [
      "5/5 [==============================] - 0s 7ms/step - loss: 0.6948 - accuracy: 0.7481 - val_loss: 0.6542 - val_accuracy: 0.8000\n",
      "Epoch 60/100\n",
      "5/5 [==============================] - 0s 7ms/step - loss: 0.6883 - accuracy: 0.7556 - val_loss: 0.6461 - val_accuracy: 0.8000\n",
      "Epoch 61/100\n",
      "5/5 [==============================] - 0s 6ms/step - loss: 0.6819 - accuracy: 0.7481 - val_loss: 0.6382 - val_accuracy: 0.8000\n",
      "Epoch 62/100\n",
      "5/5 [==============================] - 0s 6ms/step - loss: 0.6755 - accuracy: 0.7481 - val_loss: 0.6305 - val_accuracy: 0.8000\n",
      "Epoch 63/100\n",
      "5/5 [==============================] - 0s 6ms/step - loss: 0.6695 - accuracy: 0.7481 - val_loss: 0.6231 - val_accuracy: 0.8000\n",
      "Epoch 64/100\n",
      "5/5 [==============================] - 0s 7ms/step - loss: 0.6636 - accuracy: 0.7481 - val_loss: 0.6167 - val_accuracy: 0.8000\n",
      "Epoch 65/100\n",
      "5/5 [==============================] - 0s 6ms/step - loss: 0.6585 - accuracy: 0.7481 - val_loss: 0.6104 - val_accuracy: 0.8000\n",
      "Epoch 66/100\n",
      "5/5 [==============================] - 0s 7ms/step - loss: 0.6531 - accuracy: 0.7481 - val_loss: 0.6046 - val_accuracy: 0.8000\n",
      "Epoch 67/100\n",
      "5/5 [==============================] - 0s 7ms/step - loss: 0.6481 - accuracy: 0.7481 - val_loss: 0.5983 - val_accuracy: 0.8000\n",
      "Epoch 68/100\n",
      "5/5 [==============================] - 0s 7ms/step - loss: 0.6430 - accuracy: 0.7481 - val_loss: 0.5926 - val_accuracy: 0.8000\n",
      "Epoch 69/100\n",
      "5/5 [==============================] - 0s 6ms/step - loss: 0.6381 - accuracy: 0.7556 - val_loss: 0.5869 - val_accuracy: 0.8000\n",
      "Epoch 70/100\n",
      "5/5 [==============================] - 0s 7ms/step - loss: 0.6332 - accuracy: 0.7556 - val_loss: 0.5809 - val_accuracy: 0.8000\n",
      "Epoch 71/100\n",
      "5/5 [==============================] - 0s 7ms/step - loss: 0.6286 - accuracy: 0.7556 - val_loss: 0.5748 - val_accuracy: 0.8000\n",
      "Epoch 72/100\n",
      "5/5 [==============================] - 0s 7ms/step - loss: 0.6237 - accuracy: 0.7556 - val_loss: 0.5690 - val_accuracy: 0.8000\n",
      "Epoch 73/100\n",
      "5/5 [==============================] - 0s 6ms/step - loss: 0.6191 - accuracy: 0.7630 - val_loss: 0.5632 - val_accuracy: 0.8000\n",
      "Epoch 74/100\n",
      "5/5 [==============================] - 0s 7ms/step - loss: 0.6146 - accuracy: 0.7630 - val_loss: 0.5576 - val_accuracy: 0.8000\n",
      "Epoch 75/100\n",
      "5/5 [==============================] - 0s 7ms/step - loss: 0.6103 - accuracy: 0.7704 - val_loss: 0.5524 - val_accuracy: 0.8000\n",
      "Epoch 76/100\n",
      "5/5 [==============================] - 0s 6ms/step - loss: 0.6060 - accuracy: 0.7704 - val_loss: 0.5473 - val_accuracy: 0.8000\n",
      "Epoch 77/100\n",
      "5/5 [==============================] - 0s 7ms/step - loss: 0.6019 - accuracy: 0.7704 - val_loss: 0.5424 - val_accuracy: 0.8000\n",
      "Epoch 78/100\n",
      "5/5 [==============================] - 0s 7ms/step - loss: 0.5979 - accuracy: 0.7778 - val_loss: 0.5377 - val_accuracy: 0.8000\n",
      "Epoch 79/100\n",
      "5/5 [==============================] - 0s 7ms/step - loss: 0.5940 - accuracy: 0.7778 - val_loss: 0.5332 - val_accuracy: 0.8000\n",
      "Epoch 80/100\n",
      "5/5 [==============================] - 0s 7ms/step - loss: 0.5903 - accuracy: 0.7852 - val_loss: 0.5286 - val_accuracy: 0.8000\n",
      "Epoch 81/100\n",
      "5/5 [==============================] - 0s 7ms/step - loss: 0.5865 - accuracy: 0.7852 - val_loss: 0.5244 - val_accuracy: 0.8000\n",
      "Epoch 82/100\n",
      "5/5 [==============================] - 0s 7ms/step - loss: 0.5829 - accuracy: 0.7852 - val_loss: 0.5206 - val_accuracy: 0.8000\n",
      "Epoch 83/100\n",
      "5/5 [==============================] - 0s 6ms/step - loss: 0.5795 - accuracy: 0.7852 - val_loss: 0.5168 - val_accuracy: 0.8000\n",
      "Epoch 84/100\n",
      "5/5 [==============================] - 0s 7ms/step - loss: 0.5759 - accuracy: 0.7852 - val_loss: 0.5132 - val_accuracy: 0.8000\n",
      "Epoch 85/100\n",
      "5/5 [==============================] - 0s 6ms/step - loss: 0.5726 - accuracy: 0.7852 - val_loss: 0.5097 - val_accuracy: 0.8000\n",
      "Epoch 86/100\n",
      "5/5 [==============================] - 0s 7ms/step - loss: 0.5694 - accuracy: 0.7852 - val_loss: 0.5064 - val_accuracy: 0.8000\n",
      "Epoch 87/100\n",
      "5/5 [==============================] - 0s 7ms/step - loss: 0.5661 - accuracy: 0.7852 - val_loss: 0.5033 - val_accuracy: 0.8000\n",
      "Epoch 88/100\n",
      "5/5 [==============================] - 0s 6ms/step - loss: 0.5630 - accuracy: 0.7852 - val_loss: 0.4998 - val_accuracy: 0.8000\n",
      "Epoch 89/100\n",
      "5/5 [==============================] - 0s 6ms/step - loss: 0.5597 - accuracy: 0.7926 - val_loss: 0.4964 - val_accuracy: 0.8000\n",
      "Epoch 90/100\n",
      "5/5 [==============================] - 0s 7ms/step - loss: 0.5565 - accuracy: 0.7926 - val_loss: 0.4929 - val_accuracy: 0.8000\n",
      "Epoch 91/100\n",
      "5/5 [==============================] - 0s 7ms/step - loss: 0.5532 - accuracy: 0.7926 - val_loss: 0.4898 - val_accuracy: 0.8000\n",
      "Epoch 92/100\n",
      "5/5 [==============================] - 0s 8ms/step - loss: 0.5500 - accuracy: 0.7926 - val_loss: 0.4865 - val_accuracy: 0.8000\n",
      "Epoch 93/100\n",
      "5/5 [==============================] - 0s 7ms/step - loss: 0.5468 - accuracy: 0.7926 - val_loss: 0.4829 - val_accuracy: 0.8000\n",
      "Epoch 94/100\n",
      "5/5 [==============================] - 0s 7ms/step - loss: 0.5435 - accuracy: 0.7926 - val_loss: 0.4799 - val_accuracy: 0.8000\n",
      "Epoch 95/100\n",
      "5/5 [==============================] - 0s 7ms/step - loss: 0.5402 - accuracy: 0.7926 - val_loss: 0.4768 - val_accuracy: 0.8000\n",
      "Epoch 96/100\n",
      "5/5 [==============================] - 0s 7ms/step - loss: 0.5372 - accuracy: 0.7926 - val_loss: 0.4735 - val_accuracy: 0.8000\n",
      "Epoch 97/100\n",
      "5/5 [==============================] - 0s 7ms/step - loss: 0.5341 - accuracy: 0.7926 - val_loss: 0.4705 - val_accuracy: 0.8000\n",
      "Epoch 98/100\n",
      "5/5 [==============================] - 0s 8ms/step - loss: 0.5311 - accuracy: 0.7926 - val_loss: 0.4673 - val_accuracy: 0.8000\n",
      "Epoch 99/100\n",
      "5/5 [==============================] - 0s 8ms/step - loss: 0.5281 - accuracy: 0.7926 - val_loss: 0.4645 - val_accuracy: 0.8000\n",
      "Epoch 100/100\n",
      "5/5 [==============================] - 0s 7ms/step - loss: 0.5252 - accuracy: 0.7926 - val_loss: 0.4617 - val_accuracy: 0.8000\n"
     ]
    }
   ],
   "source": [
    "hist = model.fit(X_train,\n",
    "          y_train,\n",
    "         validation_data = (X_test, y_test),\n",
    "         batch_size=None,\n",
    "         epochs = 100)"
   ]
  },
  {
   "cell_type": "code",
   "execution_count": 49,
   "metadata": {},
   "outputs": [
    {
     "data": {
      "text/plain": [
       "dict"
      ]
     },
     "execution_count": 49,
     "metadata": {},
     "output_type": "execute_result"
    }
   ],
   "source": [
    "type(hist.history)"
   ]
  },
  {
   "cell_type": "code",
   "execution_count": 50,
   "metadata": {},
   "outputs": [
    {
     "data": {
      "text/plain": [
       "dict_keys(['loss', 'accuracy', 'val_loss', 'val_accuracy'])"
      ]
     },
     "execution_count": 50,
     "metadata": {},
     "output_type": "execute_result"
    }
   ],
   "source": [
    "hist.history.keys()"
   ]
  },
  {
   "cell_type": "code",
   "execution_count": 51,
   "metadata": {},
   "outputs": [],
   "source": [
    "#hist.history['acc']"
   ]
  },
  {
   "cell_type": "code",
   "execution_count": 52,
   "metadata": {},
   "outputs": [
    {
     "data": {
      "text/plain": [
       "<matplotlib.legend.Legend at 0x218af59bc10>"
      ]
     },
     "execution_count": 52,
     "metadata": {},
     "output_type": "execute_result"
    },
    {
     "data": {
      "image/png": "[encoded data removed]",
      "text/plain": [
       "<Figure size 640x480 with 1 Axes>"
      ]
     },
     "metadata": {},
     "output_type": "display_data"
    }
   ],
   "source": [
    "## plot loss function\n",
    "plt.plot(hist.history['loss'], label='train')\n",
    "plt.plot(hist.history['val_loss'], label='test')\n",
    "plt.legend()"
   ]
  },
  {
   "cell_type": "code",
   "execution_count": 53,
   "metadata": {},
   "outputs": [
    {
     "data": {
      "text/plain": [
       "array([[-0.42207409, -1.34078434,  0.1381817 ,  0.12427091],\n",
       "       [ 0.67839806, -0.62534605,  1.05374141,  1.17280669]])"
      ]
     },
     "execution_count": 53,
     "metadata": {},
     "output_type": "execute_result"
    }
   ],
   "source": [
    "X_test[:2]"
   ]
  },
  {
   "cell_type": "code",
   "execution_count": 54,
   "metadata": {},
   "outputs": [
    {
     "name": "stdout",
     "output_type": "stream",
     "text": [
      "1/1 [==============================] - 0s 32ms/step\n"
     ]
    },
    {
     "data": {
      "text/plain": [
       "array([[0.07539634, 0.720947  , 0.20365664],\n",
       "       [0.05550127, 0.32873347, 0.6157652 ]], dtype=float32)"
      ]
     },
     "execution_count": 54,
     "metadata": {},
     "output_type": "execute_result"
    }
   ],
   "source": [
    "## Make prediction\n",
    "model.predict(X_test[:2])"
   ]
  },
  {
   "cell_type": "code",
   "execution_count": 55,
   "metadata": {},
   "outputs": [
    {
     "name": "stdout",
     "output_type": "stream",
     "text": [
      "1/1 [==============================] - 0s 15ms/step\n"
     ]
    },
    {
     "data": {
      "text/plain": [
       "array([[0.07539634, 0.720947  , 0.20365664],\n",
       "       [0.05550127, 0.32873347, 0.6157652 ],\n",
       "       [0.9068038 , 0.08850377, 0.0046924 ]], dtype=float32)"
      ]
     },
     "execution_count": 55,
     "metadata": {},
     "output_type": "execute_result"
    }
   ],
   "source": [
    "model.predict(X_test[:3])"
   ]
  },
  {
   "cell_type": "markdown",
   "metadata": {},
   "source": [
    "## Regression"
   ]
  },
  {
   "cell_type": "code",
   "execution_count": 56,
   "metadata": {},
   "outputs": [],
   "source": [
    "from sklearn.datasets import load_diabetes\n",
    "from keras.optimizers import Adam\n",
    "from sklearn.model_selection import train_test_split"
   ]
  },
  {
   "cell_type": "code",
   "execution_count": 57,
   "metadata": {},
   "outputs": [],
   "source": [
    "## Load Dataset\n",
    "data = load_diabetes()"
   ]
  },
  {
   "cell_type": "code",
   "execution_count": 58,
   "metadata": {},
   "outputs": [],
   "source": [
    "## Setting up X and y\n",
    "X = data.data\n",
    "y = data.target"
   ]
  },
  {
   "cell_type": "code",
   "execution_count": 59,
   "metadata": {
    "scrolled": true
   },
   "outputs": [
    {
     "data": {
      "text/plain": [
       "['age', 'sex', 'bmi', 'bp', 's1', 's2', 's3', 's4', 's5', 's6']"
      ]
     },
     "execution_count": 59,
     "metadata": {},
     "output_type": "execute_result"
    }
   ],
   "source": [
    "data.feature_names"
   ]
  },
  {
   "cell_type": "code",
   "execution_count": 60,
   "metadata": {},
   "outputs": [],
   "source": [
    "#y"
   ]
  },
  {
   "cell_type": "code",
   "execution_count": 61,
   "metadata": {},
   "outputs": [],
   "source": [
    "## Train/Test Split\n",
    "X_train, X_test, y_train, y_test = train_test_split(X, y, test_size=0.2)"
   ]
  },
  {
   "cell_type": "code",
   "execution_count": 62,
   "metadata": {},
   "outputs": [],
   "source": [
    "## Do standardization \n",
    "ss = StandardScaler()\n",
    "X_train = ss.fit_transform(X_train)\n",
    "X_test = ss.transform(X_test)"
   ]
  },
  {
   "cell_type": "code",
   "execution_count": 63,
   "metadata": {
    "scrolled": true
   },
   "outputs": [],
   "source": [
    "# process target\n"
   ]
  },
  {
   "cell_type": "code",
   "execution_count": 64,
   "metadata": {
    "scrolled": true
   },
   "outputs": [
    {
     "data": {
      "image/png": "[encoded data removed]",
      "text/plain": [
       "<Figure size 640x480 with 1 Axes>"
      ]
     },
     "metadata": {},
     "output_type": "display_data"
    }
   ],
   "source": [
    "#hist for target\n",
    "plt.hist(y);"
   ]
  },
  {
   "cell_type": "code",
   "execution_count": 65,
   "metadata": {},
   "outputs": [],
   "source": [
    "#1# Build NN\n",
    "#     - number of layers \n",
    "#     - number of neurals\n",
    "#     - activation function "
   ]
  },
  {
   "cell_type": "code",
   "execution_count": 66,
   "metadata": {},
   "outputs": [],
   "source": [
    "model = Sequential()\n",
    "model.add(Dense(X_train.shape[1], activation='relu', input_dim=X_train.shape[1] ))\n",
    "model.add(Dense(1))"
   ]
  },
  {
   "cell_type": "code",
   "execution_count": 67,
   "metadata": {},
   "outputs": [
    {
     "name": "stdout",
     "output_type": "stream",
     "text": [
      "Model: \"sequential_2\"\n",
      "_________________________________________________________________\n",
      " Layer (type)                Output Shape              Param #   \n",
      "=================================================================\n",
      " dense_4 (Dense)             (None, 10)                110       \n",
      "                                                                 \n",
      " dense_5 (Dense)             (None, 1)                 11        \n",
      "                                                                 \n",
      "=================================================================\n",
      "Total params: 121\n",
      "Trainable params: 121\n",
      "Non-trainable params: 0\n",
      "_________________________________________________________________\n"
     ]
    }
   ],
   "source": [
    "model.summary()"
   ]
  },
  {
   "cell_type": "code",
   "execution_count": 68,
   "metadata": {},
   "outputs": [],
   "source": [
    "#2# Compile NN\n",
    "#     - loss function\n",
    "#     - optimizer"
   ]
  },
  {
   "cell_type": "code",
   "execution_count": 69,
   "metadata": {},
   "outputs": [
    {
     "name": "stderr",
     "output_type": "stream",
     "text": [
      "C:\\Users\\aicyb\\anaconda3\\lib\\site-packages\\keras\\optimizers\\optimizer_v2\\adam.py:117: UserWarning: The `lr` argument is deprecated, use `learning_rate` instead.\n",
      "  super().__init__(name, **kwargs)\n"
     ]
    }
   ],
   "source": [
    "opt = Adam(lr=.1)"
   ]
  },
  {
   "cell_type": "code",
   "execution_count": 70,
   "metadata": {},
   "outputs": [],
   "source": [
    "model.compile(loss='mean_squared_error', optimizer=opt, metrics=['accuracy'])"
   ]
  },
  {
   "cell_type": "code",
   "execution_count": 71,
   "metadata": {},
   "outputs": [],
   "source": [
    "#3# Fit NN\n",
    "#     - epoch\n",
    "#     - batch size "
   ]
  },
  {
   "cell_type": "code",
   "execution_count": 72,
   "metadata": {},
   "outputs": [
    {
     "name": "stdout",
     "output_type": "stream",
     "text": [
      "Epoch 1/100\n",
      "12/12 [==============================] - 0s 10ms/step - loss: 26601.9199 - accuracy: 0.0000e+00 - val_loss: 23650.5117 - val_accuracy: 0.0000e+00\n",
      "Epoch 2/100\n",
      "12/12 [==============================] - 0s 3ms/step - loss: 16409.9922 - accuracy: 0.0000e+00 - val_loss: 10488.4385 - val_accuracy: 0.0000e+00\n",
      "Epoch 3/100\n",
      "12/12 [==============================] - 0s 3ms/step - loss: 6473.6367 - accuracy: 0.0000e+00 - val_loss: 5786.8921 - val_accuracy: 0.0000e+00\n",
      "Epoch 4/100\n",
      "12/12 [==============================] - 0s 3ms/step - loss: 5072.4229 - accuracy: 0.0000e+00 - val_loss: 5112.4604 - val_accuracy: 0.0000e+00\n",
      "Epoch 5/100\n",
      "12/12 [==============================] - 0s 3ms/step - loss: 3847.2600 - accuracy: 0.0000e+00 - val_loss: 5380.1821 - val_accuracy: 0.0000e+00\n",
      "Epoch 6/100\n",
      "12/12 [==============================] - 0s 3ms/step - loss: 3630.1721 - accuracy: 0.0000e+00 - val_loss: 4919.2632 - val_accuracy: 0.0000e+00\n",
      "Epoch 7/100\n",
      "12/12 [==============================] - 0s 3ms/step - loss: 3342.1130 - accuracy: 0.0000e+00 - val_loss: 4300.9014 - val_accuracy: 0.0000e+00\n",
      "Epoch 8/100\n",
      "12/12 [==============================] - 0s 3ms/step - loss: 3176.5701 - accuracy: 0.0000e+00 - val_loss: 4037.3125 - val_accuracy: 0.0000e+00\n",
      "Epoch 9/100\n",
      "12/12 [==============================] - 0s 3ms/step - loss: 3043.5002 - accuracy: 0.0000e+00 - val_loss: 3935.7722 - val_accuracy: 0.0000e+00\n",
      "Epoch 10/100\n",
      "12/12 [==============================] - 0s 3ms/step - loss: 2961.6582 - accuracy: 0.0000e+00 - val_loss: 3875.2317 - val_accuracy: 0.0000e+00\n",
      "Epoch 11/100\n",
      "12/12 [==============================] - 0s 3ms/step - loss: 2793.8926 - accuracy: 0.0000e+00 - val_loss: 3653.8423 - val_accuracy: 0.0000e+00\n",
      "Epoch 12/100\n",
      "12/12 [==============================] - 0s 3ms/step - loss: 2945.7793 - accuracy: 0.0000e+00 - val_loss: 3557.3718 - val_accuracy: 0.0000e+00\n",
      "Epoch 13/100\n",
      "12/12 [==============================] - 0s 3ms/step - loss: 2726.7429 - accuracy: 0.0000e+00 - val_loss: 3733.7061 - val_accuracy: 0.0000e+00\n",
      "Epoch 14/100\n",
      "12/12 [==============================] - 0s 3ms/step - loss: 2729.5515 - accuracy: 0.0000e+00 - val_loss: 3728.2893 - val_accuracy: 0.0000e+00\n",
      "Epoch 15/100\n",
      "12/12 [==============================] - 0s 3ms/step - loss: 2670.8655 - accuracy: 0.0000e+00 - val_loss: 3523.2034 - val_accuracy: 0.0000e+00\n",
      "Epoch 16/100\n",
      "12/12 [==============================] - 0s 3ms/step - loss: 2688.0195 - accuracy: 0.0000e+00 - val_loss: 3453.0090 - val_accuracy: 0.0000e+00\n",
      "Epoch 17/100\n",
      "12/12 [==============================] - 0s 3ms/step - loss: 2584.0234 - accuracy: 0.0000e+00 - val_loss: 3490.6731 - val_accuracy: 0.0000e+00\n",
      "Epoch 18/100\n",
      "12/12 [==============================] - 0s 3ms/step - loss: 2572.6934 - accuracy: 0.0000e+00 - val_loss: 3530.7178 - val_accuracy: 0.0000e+00\n",
      "Epoch 19/100\n",
      "12/12 [==============================] - 0s 3ms/step - loss: 2597.9458 - accuracy: 0.0000e+00 - val_loss: 3564.4333 - val_accuracy: 0.0000e+00\n",
      "Epoch 20/100\n",
      "12/12 [==============================] - 0s 3ms/step - loss: 2566.9106 - accuracy: 0.0000e+00 - val_loss: 3561.9856 - val_accuracy: 0.0000e+00\n",
      "Epoch 21/100\n",
      "12/12 [==============================] - 0s 3ms/step - loss: 2600.2996 - accuracy: 0.0000e+00 - val_loss: 3636.4585 - val_accuracy: 0.0000e+00\n",
      "Epoch 22/100\n",
      "12/12 [==============================] - 0s 3ms/step - loss: 2594.1184 - accuracy: 0.0000e+00 - val_loss: 3535.7766 - val_accuracy: 0.0000e+00\n",
      "Epoch 23/100\n",
      "12/12 [==============================] - 0s 3ms/step - loss: 2507.6035 - accuracy: 0.0000e+00 - val_loss: 3616.1489 - val_accuracy: 0.0000e+00\n",
      "Epoch 24/100\n",
      "12/12 [==============================] - 0s 3ms/step - loss: 2520.8154 - accuracy: 0.0000e+00 - val_loss: 3552.0735 - val_accuracy: 0.0000e+00\n",
      "Epoch 25/100\n",
      "12/12 [==============================] - 0s 3ms/step - loss: 2630.5408 - accuracy: 0.0000e+00 - val_loss: 3452.4832 - val_accuracy: 0.0000e+00\n",
      "Epoch 26/100\n",
      "12/12 [==============================] - 0s 3ms/step - loss: 2844.7510 - accuracy: 0.0000e+00 - val_loss: 3587.7534 - val_accuracy: 0.0000e+00\n",
      "Epoch 27/100\n",
      "12/12 [==============================] - 0s 3ms/step - loss: 3088.8701 - accuracy: 0.0000e+00 - val_loss: 4274.2466 - val_accuracy: 0.0000e+00\n",
      "Epoch 28/100\n",
      "12/12 [==============================] - 0s 3ms/step - loss: 2704.9285 - accuracy: 0.0000e+00 - val_loss: 3660.2917 - val_accuracy: 0.0000e+00\n",
      "Epoch 29/100\n",
      "12/12 [==============================] - 0s 3ms/step - loss: 2619.8318 - accuracy: 0.0000e+00 - val_loss: 3578.7029 - val_accuracy: 0.0000e+00\n",
      "Epoch 30/100\n",
      "12/12 [==============================] - 0s 3ms/step - loss: 2609.1599 - accuracy: 0.0000e+00 - val_loss: 3547.3916 - val_accuracy: 0.0000e+00\n",
      "Epoch 31/100\n",
      "12/12 [==============================] - 0s 3ms/step - loss: 3151.2437 - accuracy: 0.0000e+00 - val_loss: 3647.5203 - val_accuracy: 0.0000e+00\n",
      "Epoch 32/100\n",
      "12/12 [==============================] - 0s 3ms/step - loss: 2671.6077 - accuracy: 0.0000e+00 - val_loss: 3472.5203 - val_accuracy: 0.0000e+00\n",
      "Epoch 33/100\n",
      "12/12 [==============================] - 0s 3ms/step - loss: 2790.3643 - accuracy: 0.0000e+00 - val_loss: 3515.7515 - val_accuracy: 0.0000e+00\n",
      "Epoch 34/100\n",
      "12/12 [==============================] - 0s 3ms/step - loss: 2549.4324 - accuracy: 0.0000e+00 - val_loss: 3575.3936 - val_accuracy: 0.0000e+00\n",
      "Epoch 35/100\n",
      "12/12 [==============================] - 0s 4ms/step - loss: 2665.7056 - accuracy: 0.0000e+00 - val_loss: 3496.9407 - val_accuracy: 0.0000e+00\n",
      "Epoch 36/100\n",
      "12/12 [==============================] - 0s 4ms/step - loss: 2528.9485 - accuracy: 0.0000e+00 - val_loss: 3466.9045 - val_accuracy: 0.0000e+00\n",
      "Epoch 37/100\n",
      "12/12 [==============================] - 0s 3ms/step - loss: 2431.2542 - accuracy: 0.0000e+00 - val_loss: 3315.4053 - val_accuracy: 0.0000e+00\n",
      "Epoch 38/100\n",
      "12/12 [==============================] - 0s 3ms/step - loss: 2459.4102 - accuracy: 0.0000e+00 - val_loss: 3383.1409 - val_accuracy: 0.0000e+00\n",
      "Epoch 39/100\n",
      "12/12 [==============================] - 0s 3ms/step - loss: 2410.5625 - accuracy: 0.0000e+00 - val_loss: 3522.3989 - val_accuracy: 0.0000e+00\n",
      "Epoch 40/100\n",
      "12/12 [==============================] - 0s 3ms/step - loss: 2437.8926 - accuracy: 0.0000e+00 - val_loss: 3599.8638 - val_accuracy: 0.0000e+00\n",
      "Epoch 41/100\n",
      "12/12 [==============================] - 0s 3ms/step - loss: 2555.7703 - accuracy: 0.0000e+00 - val_loss: 3726.2615 - val_accuracy: 0.0000e+00\n",
      "Epoch 42/100\n",
      "12/12 [==============================] - 0s 3ms/step - loss: 2630.6892 - accuracy: 0.0000e+00 - val_loss: 3451.6677 - val_accuracy: 0.0000e+00\n",
      "Epoch 43/100\n",
      "12/12 [==============================] - 0s 4ms/step - loss: 2470.2715 - accuracy: 0.0000e+00 - val_loss: 3450.8892 - val_accuracy: 0.0000e+00\n",
      "Epoch 44/100\n",
      "12/12 [==============================] - 0s 3ms/step - loss: 2561.1650 - accuracy: 0.0000e+00 - val_loss: 3645.0042 - val_accuracy: 0.0000e+00\n",
      "Epoch 45/100\n",
      "12/12 [==============================] - 0s 3ms/step - loss: 2434.7295 - accuracy: 0.0000e+00 - val_loss: 3554.1108 - val_accuracy: 0.0000e+00\n",
      "Epoch 46/100\n",
      "12/12 [==============================] - 0s 3ms/step - loss: 2642.4668 - accuracy: 0.0000e+00 - val_loss: 3514.8140 - val_accuracy: 0.0000e+00\n",
      "Epoch 47/100\n",
      "12/12 [==============================] - 0s 3ms/step - loss: 2550.6724 - accuracy: 0.0000e+00 - val_loss: 3843.2703 - val_accuracy: 0.0000e+00\n",
      "Epoch 48/100\n",
      "12/12 [==============================] - 0s 4ms/step - loss: 2505.8538 - accuracy: 0.0000e+00 - val_loss: 3593.1128 - val_accuracy: 0.0000e+00\n",
      "Epoch 49/100\n",
      "12/12 [==============================] - 0s 3ms/step - loss: 2474.8643 - accuracy: 0.0000e+00 - val_loss: 3489.3701 - val_accuracy: 0.0000e+00\n",
      "Epoch 50/100\n",
      "12/12 [==============================] - 0s 3ms/step - loss: 2620.8958 - accuracy: 0.0000e+00 - val_loss: 3350.2549 - val_accuracy: 0.0000e+00\n",
      "Epoch 51/100\n",
      "12/12 [==============================] - 0s 3ms/step - loss: 2476.7659 - accuracy: 0.0000e+00 - val_loss: 3679.2507 - val_accuracy: 0.0000e+00\n",
      "Epoch 52/100\n",
      "12/12 [==============================] - 0s 3ms/step - loss: 2393.3528 - accuracy: 0.0000e+00 - val_loss: 3660.8540 - val_accuracy: 0.0000e+00\n",
      "Epoch 53/100\n"
     ]
    },
    {
     "name": "stdout",
     "output_type": "stream",
     "text": [
      "12/12 [==============================] - 0s 3ms/step - loss: 2410.1331 - accuracy: 0.0000e+00 - val_loss: 3603.6965 - val_accuracy: 0.0000e+00\n",
      "Epoch 54/100\n",
      "12/12 [==============================] - 0s 3ms/step - loss: 2551.6460 - accuracy: 0.0000e+00 - val_loss: 3533.6299 - val_accuracy: 0.0000e+00\n",
      "Epoch 55/100\n",
      "12/12 [==============================] - 0s 3ms/step - loss: 2436.9858 - accuracy: 0.0000e+00 - val_loss: 3515.8235 - val_accuracy: 0.0000e+00\n",
      "Epoch 56/100\n",
      "12/12 [==============================] - 0s 3ms/step - loss: 2560.3608 - accuracy: 0.0000e+00 - val_loss: 3512.1709 - val_accuracy: 0.0000e+00\n",
      "Epoch 57/100\n",
      "12/12 [==============================] - 0s 3ms/step - loss: 2517.4612 - accuracy: 0.0000e+00 - val_loss: 3523.1699 - val_accuracy: 0.0000e+00\n",
      "Epoch 58/100\n",
      "12/12 [==============================] - 0s 3ms/step - loss: 2549.8977 - accuracy: 0.0000e+00 - val_loss: 3612.5710 - val_accuracy: 0.0000e+00\n",
      "Epoch 59/100\n",
      "12/12 [==============================] - 0s 3ms/step - loss: 2384.1611 - accuracy: 0.0000e+00 - val_loss: 3650.1392 - val_accuracy: 0.0000e+00\n",
      "Epoch 60/100\n",
      "12/12 [==============================] - 0s 3ms/step - loss: 2352.1956 - accuracy: 0.0000e+00 - val_loss: 3447.3813 - val_accuracy: 0.0000e+00\n",
      "Epoch 61/100\n",
      "12/12 [==============================] - 0s 3ms/step - loss: 2930.0623 - accuracy: 0.0000e+00 - val_loss: 3477.3694 - val_accuracy: 0.0000e+00\n",
      "Epoch 62/100\n",
      "12/12 [==============================] - 0s 3ms/step - loss: 2989.8335 - accuracy: 0.0000e+00 - val_loss: 3537.3357 - val_accuracy: 0.0000e+00\n",
      "Epoch 63/100\n",
      "12/12 [==============================] - 0s 3ms/step - loss: 2505.4456 - accuracy: 0.0000e+00 - val_loss: 3296.0176 - val_accuracy: 0.0000e+00\n",
      "Epoch 64/100\n",
      "12/12 [==============================] - 0s 3ms/step - loss: 2656.5095 - accuracy: 0.0000e+00 - val_loss: 3738.2476 - val_accuracy: 0.0000e+00\n",
      "Epoch 65/100\n",
      "12/12 [==============================] - 0s 3ms/step - loss: 2551.9033 - accuracy: 0.0000e+00 - val_loss: 3766.3352 - val_accuracy: 0.0000e+00\n",
      "Epoch 66/100\n",
      "12/12 [==============================] - 0s 3ms/step - loss: 2640.1274 - accuracy: 0.0000e+00 - val_loss: 3391.4966 - val_accuracy: 0.0000e+00\n",
      "Epoch 67/100\n",
      "12/12 [==============================] - 0s 3ms/step - loss: 2521.1772 - accuracy: 0.0000e+00 - val_loss: 3195.6116 - val_accuracy: 0.0000e+00\n",
      "Epoch 68/100\n",
      "12/12 [==============================] - 0s 3ms/step - loss: 2443.9465 - accuracy: 0.0000e+00 - val_loss: 3431.5857 - val_accuracy: 0.0000e+00\n",
      "Epoch 69/100\n",
      "12/12 [==============================] - 0s 3ms/step - loss: 2335.3560 - accuracy: 0.0000e+00 - val_loss: 3448.6216 - val_accuracy: 0.0000e+00\n",
      "Epoch 70/100\n",
      "12/12 [==============================] - 0s 3ms/step - loss: 2355.8748 - accuracy: 0.0000e+00 - val_loss: 3516.2957 - val_accuracy: 0.0000e+00\n",
      "Epoch 71/100\n",
      "12/12 [==============================] - 0s 3ms/step - loss: 2391.4998 - accuracy: 0.0000e+00 - val_loss: 3492.6924 - val_accuracy: 0.0000e+00\n",
      "Epoch 72/100\n",
      "12/12 [==============================] - 0s 3ms/step - loss: 2430.3164 - accuracy: 0.0000e+00 - val_loss: 4006.7454 - val_accuracy: 0.0000e+00\n",
      "Epoch 73/100\n",
      "12/12 [==============================] - 0s 3ms/step - loss: 2404.1025 - accuracy: 0.0000e+00 - val_loss: 3697.0327 - val_accuracy: 0.0000e+00\n",
      "Epoch 74/100\n",
      "12/12 [==============================] - 0s 3ms/step - loss: 2348.9558 - accuracy: 0.0000e+00 - val_loss: 3590.7815 - val_accuracy: 0.0000e+00\n",
      "Epoch 75/100\n",
      "12/12 [==============================] - 0s 3ms/step - loss: 2297.8489 - accuracy: 0.0000e+00 - val_loss: 3456.4438 - val_accuracy: 0.0000e+00\n",
      "Epoch 76/100\n",
      "12/12 [==============================] - 0s 3ms/step - loss: 2286.1575 - accuracy: 0.0000e+00 - val_loss: 3394.1704 - val_accuracy: 0.0000e+00\n",
      "Epoch 77/100\n",
      "12/12 [==============================] - 0s 3ms/step - loss: 2400.4026 - accuracy: 0.0000e+00 - val_loss: 3207.1184 - val_accuracy: 0.0000e+00\n",
      "Epoch 78/100\n",
      "12/12 [==============================] - 0s 3ms/step - loss: 2315.1646 - accuracy: 0.0000e+00 - val_loss: 3358.7578 - val_accuracy: 0.0000e+00\n",
      "Epoch 79/100\n",
      "12/12 [==============================] - 0s 3ms/step - loss: 2309.2656 - accuracy: 0.0000e+00 - val_loss: 3503.7620 - val_accuracy: 0.0000e+00\n",
      "Epoch 80/100\n",
      "12/12 [==============================] - 0s 3ms/step - loss: 2288.9592 - accuracy: 0.0000e+00 - val_loss: 3455.8230 - val_accuracy: 0.0000e+00\n",
      "Epoch 81/100\n",
      "12/12 [==============================] - 0s 3ms/step - loss: 2297.9790 - accuracy: 0.0000e+00 - val_loss: 3348.7202 - val_accuracy: 0.0000e+00\n",
      "Epoch 82/100\n",
      "12/12 [==============================] - 0s 3ms/step - loss: 2436.8943 - accuracy: 0.0000e+00 - val_loss: 3264.5215 - val_accuracy: 0.0000e+00\n",
      "Epoch 83/100\n",
      "12/12 [==============================] - 0s 3ms/step - loss: 2387.8269 - accuracy: 0.0000e+00 - val_loss: 3566.2566 - val_accuracy: 0.0000e+00\n",
      "Epoch 84/100\n",
      "12/12 [==============================] - 0s 3ms/step - loss: 2369.0237 - accuracy: 0.0000e+00 - val_loss: 3661.5342 - val_accuracy: 0.0000e+00\n",
      "Epoch 85/100\n",
      "12/12 [==============================] - 0s 3ms/step - loss: 2357.3127 - accuracy: 0.0000e+00 - val_loss: 3393.8743 - val_accuracy: 0.0000e+00\n",
      "Epoch 86/100\n",
      "12/12 [==============================] - 0s 3ms/step - loss: 2366.8328 - accuracy: 0.0000e+00 - val_loss: 3156.2261 - val_accuracy: 0.0000e+00\n",
      "Epoch 87/100\n",
      "12/12 [==============================] - 0s 3ms/step - loss: 2385.0664 - accuracy: 0.0000e+00 - val_loss: 3341.3647 - val_accuracy: 0.0000e+00\n",
      "Epoch 88/100\n",
      "12/12 [==============================] - 0s 3ms/step - loss: 2450.9436 - accuracy: 0.0000e+00 - val_loss: 3731.6560 - val_accuracy: 0.0000e+00\n",
      "Epoch 89/100\n",
      "12/12 [==============================] - 0s 3ms/step - loss: 2546.3359 - accuracy: 0.0000e+00 - val_loss: 3711.1050 - val_accuracy: 0.0000e+00\n",
      "Epoch 90/100\n",
      "12/12 [==============================] - 0s 3ms/step - loss: 2423.6882 - accuracy: 0.0000e+00 - val_loss: 3852.0239 - val_accuracy: 0.0000e+00\n",
      "Epoch 91/100\n",
      "12/12 [==============================] - 0s 3ms/step - loss: 2301.9861 - accuracy: 0.0000e+00 - val_loss: 3559.6960 - val_accuracy: 0.0000e+00\n",
      "Epoch 92/100\n",
      "12/12 [==============================] - 0s 3ms/step - loss: 2682.5420 - accuracy: 0.0000e+00 - val_loss: 3485.7661 - val_accuracy: 0.0000e+00\n",
      "Epoch 93/100\n",
      "12/12 [==============================] - 0s 3ms/step - loss: 2724.7983 - accuracy: 0.0000e+00 - val_loss: 3271.1416 - val_accuracy: 0.0000e+00\n",
      "Epoch 94/100\n",
      "12/12 [==============================] - 0s 3ms/step - loss: 2392.7891 - accuracy: 0.0000e+00 - val_loss: 3579.2922 - val_accuracy: 0.0000e+00\n",
      "Epoch 95/100\n",
      "12/12 [==============================] - 0s 3ms/step - loss: 2366.5815 - accuracy: 0.0000e+00 - val_loss: 3636.2004 - val_accuracy: 0.0000e+00\n",
      "Epoch 96/100\n",
      "12/12 [==============================] - 0s 3ms/step - loss: 2431.0972 - accuracy: 0.0000e+00 - val_loss: 3342.3687 - val_accuracy: 0.0000e+00\n",
      "Epoch 97/100\n",
      "12/12 [==============================] - 0s 3ms/step - loss: 2410.8506 - accuracy: 0.0000e+00 - val_loss: 3437.9839 - val_accuracy: 0.0000e+00\n",
      "Epoch 98/100\n",
      "12/12 [==============================] - 0s 3ms/step - loss: 2373.1267 - accuracy: 0.0000e+00 - val_loss: 3492.1267 - val_accuracy: 0.0000e+00\n",
      "Epoch 99/100\n",
      "12/12 [==============================] - 0s 3ms/step - loss: 2464.2334 - accuracy: 0.0000e+00 - val_loss: 3658.2217 - val_accuracy: 0.0000e+00\n",
      "Epoch 100/100\n",
      "12/12 [==============================] - 0s 3ms/step - loss: 2692.7000 - accuracy: 0.0000e+00 - val_loss: 3796.4622 - val_accuracy: 0.0000e+00\n"
     ]
    }
   ],
   "source": [
    "hist = model.fit(X_train,\n",
    "          y_train,\n",
    "         validation_data = (X_test, y_test),\n",
    "         batch_size=None,\n",
    "         epochs = 100)"
   ]
  },
  {
   "cell_type": "code",
   "execution_count": 73,
   "metadata": {},
   "outputs": [
    {
     "data": {
      "text/plain": [
       "dict"
      ]
     },
     "execution_count": 73,
     "metadata": {},
     "output_type": "execute_result"
    }
   ],
   "source": [
    "type(hist.history)"
   ]
  },
  {
   "cell_type": "code",
   "execution_count": 74,
   "metadata": {},
   "outputs": [
    {
     "data": {
      "text/plain": [
       "dict_keys(['loss', 'accuracy', 'val_loss', 'val_accuracy'])"
      ]
     },
     "execution_count": 74,
     "metadata": {},
     "output_type": "execute_result"
    }
   ],
   "source": [
    "hist.history.keys()"
   ]
  },
  {
   "cell_type": "code",
   "execution_count": 75,
   "metadata": {},
   "outputs": [],
   "source": [
    "#hist.history['acc']"
   ]
  },
  {
   "cell_type": "code",
   "execution_count": 76,
   "metadata": {},
   "outputs": [
    {
     "data": {
      "text/plain": [
       "<matplotlib.legend.Legend at 0x218ab170160>"
      ]
     },
     "execution_count": 76,
     "metadata": {},
     "output_type": "execute_result"
    },
    {
     "data": {
      "image/png": "[encoded data removed]",
      "text/plain": [
       "<Figure size 640x480 with 1 Axes>"
      ]
     },
     "metadata": {},
     "output_type": "display_data"
    }
   ],
   "source": [
    "plt.plot(hist.history['loss'], label='train')\n",
    "plt.plot(hist.history['val_loss'], label='test')\n",
    "plt.legend()"
   ]
  },
  {
   "cell_type": "code",
   "execution_count": 77,
   "metadata": {},
   "outputs": [
    {
     "data": {
      "text/plain": [
       "array([[-0.87794839,  1.08582335,  0.28360251, -0.11767561, -0.26293933,\n",
       "         0.11859803, -1.5214917 ,  1.49521868,  0.73285465, -0.2743704 ],\n",
       "       [ 0.01862571, -0.92096012, -0.96975191, -0.68964793, -1.48935785,\n",
       "        -1.69500589,  0.94911425, -1.4654345 , -1.27806725, -1.70789861]])"
      ]
     },
     "execution_count": 77,
     "metadata": {},
     "output_type": "execute_result"
    }
   ],
   "source": [
    "X_test[:2]"
   ]
  },
  {
   "cell_type": "code",
   "execution_count": 78,
   "metadata": {},
   "outputs": [
    {
     "name": "stdout",
     "output_type": "stream",
     "text": [
      "1/1 [==============================] - 0s 36ms/step\n"
     ]
    },
    {
     "data": {
      "text/plain": [
       "array([[167.6091 ],\n",
       "       [ 85.72689]], dtype=float32)"
      ]
     },
     "execution_count": 78,
     "metadata": {},
     "output_type": "execute_result"
    }
   ],
   "source": [
    "## Make prediction\n",
    "model.predict(X_test[:2])\n",
    "# model.predict_proba(X_test[:2])"
   ]
  }
 ],
 "metadata": {
  "kernelspec": {
   "display_name": "Python 3 (ipykernel)",
   "language": "python",
   "name": "python3"
  },
  "language_info": {
   "codemirror_mode": {
    "name": "ipython",
    "version": 3
   },
   "file_extension": ".py",
   "mimetype": "text/x-python",
   "name": "python",
   "nbconvert_exporter": "python",
   "pygments_lexer": "ipython3",
   "version": "3.11.5"
  },
  "toc": {
   "base_numbering": 1,
   "nav_menu": {},
   "number_sections": false,
   "sideBar": true,
   "skip_h1_title": false,
   "title_cell": "Table of Contents",
   "title_sidebar": "Contents",
   "toc_cell": false,
   "toc_position": {},
   "toc_section_display": true,
   "toc_window_display": true
  }
 },
 "nbformat": 4,
 "nbformat_minor": 2
}
