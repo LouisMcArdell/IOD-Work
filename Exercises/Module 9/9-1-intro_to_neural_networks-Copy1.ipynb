{
 "cells": [
  {
   "cell_type": "markdown",
   "metadata": {},
   "source": [
    "# Introduction to Neural Networks"
   ]
  },
  {
   "cell_type": "markdown",
   "metadata": {},
   "source": [
    "<a id=\"learning-objectives\"></a>\n",
    "### Learning Objectives\n",
    "- Get a quick overview of neural networks\n",
    "- Build a Multilayer Perceptron Feed-Forward network with sklearn\n",
    "- Compare to other algorithms"
   ]
  },
  {
   "cell_type": "markdown",
   "metadata": {},
   "source": [
    "### Lesson Guide\n",
    "\n",
    "- [Introduction](#introduction)\n",
    "- [What are Neural Networks?](#what-are-neural-networks)\n",
    "- [Pros vs. Cons](#pros-vs-cons)\n",
    "- [Features](#features)\n",
    "- [Outputs](#outputs)\n",
    "- [Hidden Layers](#hidden-layers)\n",
    "- [Activation Function](#activation-function)\n",
    "\t- [ReLU](#relu)\n",
    "\t- [Softmax](#softmax)\n",
    "- [Backpropagation](#backpropagation)\n",
    "- [Epochs and Batch Sizes](#epochs-and-batch-sizes)\n",
    "- [Train a Multilayer Perceptron](#multilayer)\n",
    "- [Additional Resources](#additionl-resources)\n"
   ]
  },
  {
   "cell_type": "code",
   "execution_count": 5,
   "metadata": {},
   "outputs": [],
   "source": [
    "import pandas as pd\n",
    "import numpy as np\n",
    "import matplotlib.pyplot as plt\n",
    "import seaborn as sns\n",
    "np.set_printoptions(precision=4) \n",
    "    \n",
    "plt.style.use('ggplot')\n",
    "%config InlineBackend.figure_format = 'retina'\n",
    "%matplotlib inline"
   ]
  },
  {
   "cell_type": "code",
   "execution_count": 9,
   "metadata": {},
   "outputs": [],
   "source": [
    "from sklearn.impute import SimpleImputer\n",
    "from sklearn.base import TransformerMixin\n",
    "from sklearn.preprocessing import LabelBinarizer, StandardScaler, OneHotEncoder\n",
    "from sklearn.pipeline import make_pipeline, make_union\n",
    "from sklearn.model_selection import train_test_split"
   ]
  },
  {
   "cell_type": "code",
   "execution_count": 8,
   "metadata": {},
   "outputs": [
    {
     "ename": "ImportError",
     "evalue": "cannot import name 'Imputer' from 'sklearn.preprocessing' (C:\\Users\\aicyb\\anaconda3\\lib\\site-packages\\sklearn\\preprocessing\\__init__.py)",
     "output_type": "error",
     "traceback": [
      "\u001b[1;31m---------------------------------------------------------------------------\u001b[0m",
      "\u001b[1;31mImportError\u001b[0m                               Traceback (most recent call last)",
      "\u001b[1;32m~\\AppData\\Local\\Temp\\ipykernel_37544\\1667663571.py\u001b[0m in \u001b[0;36m<module>\u001b[1;34m\u001b[0m\n\u001b[0;32m      1\u001b[0m \u001b[1;32mimport\u001b[0m \u001b[0mtensorflow\u001b[0m \u001b[1;32mas\u001b[0m \u001b[0mtf\u001b[0m\u001b[1;33m\u001b[0m\u001b[1;33m\u001b[0m\u001b[0m\n\u001b[0;32m      2\u001b[0m \u001b[1;32mfrom\u001b[0m \u001b[0msklearn\u001b[0m\u001b[1;33m.\u001b[0m\u001b[0mbase\u001b[0m \u001b[1;32mimport\u001b[0m \u001b[0mTransformerMixin\u001b[0m\u001b[1;33m\u001b[0m\u001b[1;33m\u001b[0m\u001b[0m\n\u001b[1;32m----> 3\u001b[1;33m \u001b[1;32mfrom\u001b[0m \u001b[0msklearn\u001b[0m\u001b[1;33m.\u001b[0m\u001b[0mpreprocessing\u001b[0m \u001b[1;32mimport\u001b[0m \u001b[0mImputer\u001b[0m\u001b[1;33m,\u001b[0m \u001b[0mLabelBinarizer\u001b[0m\u001b[1;33m,\u001b[0m \u001b[0mStandardScaler\u001b[0m\u001b[1;33m,\u001b[0m \u001b[0mOneHotEncoder\u001b[0m\u001b[1;33m\u001b[0m\u001b[1;33m\u001b[0m\u001b[0m\n\u001b[0m\u001b[0;32m      4\u001b[0m \u001b[1;32mfrom\u001b[0m \u001b[0msklearn\u001b[0m\u001b[1;33m.\u001b[0m\u001b[0mpipeline\u001b[0m \u001b[1;32mimport\u001b[0m \u001b[0mmake_pipeline\u001b[0m\u001b[1;33m,\u001b[0m \u001b[0mmake_union\u001b[0m\u001b[1;33m\u001b[0m\u001b[1;33m\u001b[0m\u001b[0m\n\u001b[0;32m      5\u001b[0m \u001b[1;32mfrom\u001b[0m \u001b[0msklearn\u001b[0m\u001b[1;33m.\u001b[0m\u001b[0mmodel_selection\u001b[0m \u001b[1;32mimport\u001b[0m \u001b[0mtrain_test_split\u001b[0m\u001b[1;33m\u001b[0m\u001b[1;33m\u001b[0m\u001b[0m\n",
      "\u001b[1;31mImportError\u001b[0m: cannot import name 'Imputer' from 'sklearn.preprocessing' (C:\\Users\\aicyb\\anaconda3\\lib\\site-packages\\sklearn\\preprocessing\\__init__.py)"
     ]
    }
   ],
   "source": [
    "import tensorflow as tf\n",
    "from sklearn.base import TransformerMixin\n",
    "from sklearn.preprocessing import Imputer, LabelBinarizer, StandardScaler, OneHotEncoder\n",
    "from sklearn.pipeline import make_pipeline, make_union\n",
    "from sklearn.model_selection import train_test_split"
   ]
  },
  {
   "cell_type": "markdown",
   "metadata": {},
   "source": [
    "<a id=\"introduction\"></a>\n",
    "## Introduction\n",
    "---\n",
    "\n",
    "Neural networks are incredibly powerful and constantly talked about these days -- they've handled tasks such as image classification, [playing Go](http://www.nature.com/news/google-ai-algorithm-masters-ancient-game-of-go-1.19234), and [creating tweets in the style of President Trump](https://twitter.com/deepdrumpf?lang=en) with relatively little effort.\n",
    "\n",
    "\n",
    "Neural networks were first studied in the 1940s (!) as a model of biological neural networks and had various ups and downs in the research mainstream.\n",
    "\n",
    "Currently, this is a rapidly evolving field and represents some of the newest parts of Data Science, thanks to the increase in processing power and scale of data."
   ]
  },
  {
   "cell_type": "markdown",
   "metadata": {},
   "source": [
    "<a id=\"what-are-neural-networks\"></a>\n",
    "## What are Neural Networks?\n",
    "---\n",
    "\n",
    "Neural networks, in a single line, attempt to iteratively train a set (or sets) of weights that, when used together, return the most accurate predictions for a set of inputs. Just like many of our past models, the model is trained using a loss function, which our model will attempt to minimize over iterations. Remember that a loss function is some function that takes in our predictions and the actual values and returns some sort of aggregate value that shows how accurate (or not) we were.\n",
    "\n",
    "Neural networks do this by establishing sets of neurons (known as hidden layers) that take in some sort of input(s), apply a weight, and pass that output onward. As we feed more data into the network, it adjusts those weights based on the output of the loss function, until we have highly trained and specific weights.\n",
    "\n",
    "Why does one neuron turn out one way and a second neuron another? That's not generally something we can understand (though attempts have been made, such as Google's Deep Dream). You can understand this as a kind of (very advanced) mathematical optimization."
   ]
  },
  {
   "cell_type": "markdown",
   "metadata": {},
   "source": [
    "![](./assets/images/neuralnet.png)"
   ]
  },
  {
   "cell_type": "markdown",
   "metadata": {},
   "source": [
    "<a id=\"pros-vs-cons\"></a>\n",
    "## Pros vs. Cons\n",
    "---\n",
    "\n",
    "**Advantages**\n",
    "\n",
    "- Exceptionally accurate because we can learn complicated decision boundaries\n",
    "- Appropriate for a vast range of techniques\n",
    "\n",
    "**Disadvantages**\n",
    "\n",
    "- Long training time\n",
    "- Requires more data than most algorithms\n",
    "- Can become very complex and hard to interpret\n",
    "- Less user-friendly coding"
   ]
  },
  {
   "cell_type": "markdown",
   "metadata": {},
   "source": [
    "<a id=\"features\"></a>\n",
    "## Features\n",
    "---\n",
    "\n",
    "Much like our other machine learning techniques, we do need to feed data into the network. While neural networks are pretty good at taking data in any form, it can help the network a lot to reduce the number of inputs when necessary - particularly with image data. A smaller quantity of inputs can often already give as good results as a larger number without much change in accuracy."
   ]
  },
  {
   "cell_type": "markdown",
   "metadata": {},
   "source": [
    "<a id=\"outputs\"></a>\n",
    "## Outputs\n",
    "---\n",
    "\n",
    "Much like other techniques, we do want some sort of output at the end as well. In most cases:\n",
    "\n",
    "- for a regression style technique, one output is usually fine\n",
    "- for a classification technique, one output per class is a good idea (in other words, we model a one-versus-all approach)\n"
   ]
  },
  {
   "cell_type": "markdown",
   "metadata": {},
   "source": [
    "<a id=\"hidden-layers\"></a>\n",
    "## Hidden Layers\n",
    "---\n",
    "\n",
    "What makes neural networks tick is the idea of hidden layers. Hidden does not mean anything particularly devious here, just that it is not the input or the output layer.\n",
    "\n",
    "Hidden layers can have any number of neurons per layer and you can include any number of layers in a neural network. Inputs into a neuron have different weights that are modified across iterations of the model and have a bias term as well -- you can almost imagine them as mini-linear models (though, that linearity does not need to hold at all)."
   ]
  },
  {
   "cell_type": "markdown",
   "metadata": {},
   "source": [
    "<a id=\"activation-function\"></a>\n",
    "## Activation Function\n",
    "---\n",
    "\n",
    "\n",
    "Neurons process the input they receive in a standard way. Each of them first processes the input data in the following way:\n",
    "\n",
    "$$\n",
    "z = b+\\sum_i w_i X_i\n",
    "$$\n",
    "\n",
    "Weights and intercepts are specific to each neuron and have to be determined through an iterative procedure.\n",
    "\n",
    "\n",
    "Once the neuron has formed $z$ it applies a user-defined activation function to it. Some examples are:"
   ]
  },
  {
   "cell_type": "markdown",
   "metadata": {},
   "source": [
    "<a id=\"relu\"></a>\n",
    "### ReLU\n",
    "\n",
    "Also known as a [Rectified Linear Unit](https://en.wikipedia.org/wiki/Rectifier_(neural_networks), this returns 0 if the output is less than 0, otherwise it simply returns the input, i.e., \n",
    "\n",
    "- take the input and feed it through $f(z) = {\\rm max}(0, z)$. \n",
    "\n",
    "This means that the neuron is activated when its output is positive and not activated otherwise.\n",
    "\n",
    "**The ReLu function**\n",
    "![](./assets/images/relu.png)"
   ]
  },
  {
   "cell_type": "markdown",
   "metadata": {},
   "source": [
    "<a id=\"softmax\"></a>\n",
    "### Softmax\n",
    "\n",
    "The softmax function you know from logistic regression - for two classes it reduces to the sigmoid. It returns values between 0 and 1 as desired for assigning probabilities of falling into any of the given classes ([more information here](https://en.wikipedia.org/wiki/Softmax_function)).\n",
    "\n",
    "There's a wealth of information on different types of activation functions within [this article](https://en.wikipedia.org/wiki/Activation_function) - different activation functions, hidden layers, and neurons per layer can change how effective your neural network will be!\n",
    "\n",
    "\n",
    "Of course there are a whole lot of other activation functions, for example the identity (just returning the input again) or the hyperbolic tangent.\n",
    "\n",
    "One of the advantages of the ReLU is that its slope is constant but non-vanishing on the positive side, whereas functions like the sigmoid become very flat as they asymptote towards 1 or 0 which challenges optimization algorithms like gradient descent (see the [vanishing gradient](https://en.wikipedia.org/wiki/Vanishing_gradient_problem) problem)."
   ]
  },
  {
   "cell_type": "markdown",
   "metadata": {},
   "source": [
    "<a id=\"backpropagation\"></a>\n",
    "## Backpropagation\n",
    "---\n",
    "\n",
    "While there are many ways that a neural network learns, we'll focus  on the easiest to understand method. Backpropagation is the method to adjust the weights in each hidden layer according to how well the network performed compared to the actual outputs in each iteration step.\n",
    "\n",
    "How do we make good or bad choices within the network? We compare the outputs of the predictions (using the loss function), and make tiny changes to compare the outputs. Most frequently we use a learning rate and a gradient descent method to estimate the changes that our successive models have used."
   ]
  },
  {
   "cell_type": "markdown",
   "metadata": {},
   "source": [
    "<a id=\"epochs-and-batch-sizes\"></a>\n",
    "## Epochs and Batch Sizes\n",
    "---\n",
    "\n",
    "- **Epochs:** The number of iterations of full model fitting (i.e., how many times one runs through the fitting process). There's no upper limit, but generally there will be a point where additional epochs do not generate new insights.\n",
    "- **Batch Size:** Neural networks tend to work best when you feed portions of your data in at a time (versus the full set) and adjust weights in between. Smaller batches allow for more frequent updates but may be less consistent in what changes are needed."
   ]
  },
  {
   "cell_type": "markdown",
   "metadata": {},
   "source": [
    "<a id=\"the-perceptron\"></a>\n",
    "### The Perceptron\n",
    "\n",
    "This is the original model oriented on how the neurons in the brain might work.\n",
    "\n",
    "- Each neuron is connected to many other neurons in a network.\n",
    "- These neurons both send and receive signals from connected neurons.\n",
    "- When a neuron receives a signal it can either fire or not, depending on whether the incoming signal is above some threshold.\n",
    "\n",
    "A single perceptron, like a neuron, can be thought of as a decision-making unit. If the weight of the incoming signals is above a threshold, the perceptron fires, and if not it doesn't. In this case firing equals outputting a value of 1 and not firing equals outputting a value of 0.\n",
    "\n",
    "<img src=\"images/ann-perceptron.png\" width=500>\n",
    "\n",
    "The graph shows how inputs are fed with some weights into a neuron. \n",
    "The neuron processes these inputs. It multiplies each input by its weight, sums them up together with a bias and checks if that sum is larger than zero. If it is, it produces a signal, otherwise not.\n",
    "\n",
    "$$\n",
    "\\begin{eqnarray*}\n",
    "b + \\sum_i w_i X_i &>& 0 \\Rightarrow 1 \\\\\n",
    "b + \\sum_i w_i X_i &<& 0 \\Rightarrow 0\n",
    "\\end{eqnarray*}\n",
    "$$\n",
    "\n",
    "The activation function used in the case of the perceptron is the Heaviside step function $\\theta(z)$, giving 1 if $z>0$ and 0 otherwise."
   ]
  },
  {
   "cell_type": "markdown",
   "metadata": {},
   "source": [
    "Logistic regression would work in the same way, only choosing a different activation function, the sigmoid (or the softmax function in the case of more than two classes).\n",
    "\n",
    "$$\n",
    "\\begin{eqnarray*}\n",
    "z &=& b+\\sum_i w_i X_i\\\\\n",
    "\\sigma(z) &=& \\frac{1}{1+e^{-z}}\n",
    "\\end{eqnarray*}\n",
    "$$\n",
    "\n",
    "**How would the activation function look like for linear regression?**"
   ]
  },
  {
   "cell_type": "markdown",
   "metadata": {},
   "source": [
    "<a id=\"multilayer\"></a>\n",
    "## Train a Multilayer Perceptron\n",
    "---\n",
    "\n",
    "- A feedforward multilayer perceptron is one of the most well known neural network architectures\n",
    "- They are structured just like the picture in the intro\n",
    "    - We have an input layer of features\n",
    "    - These input features are passed into neurons in the hidden layers\n",
    "    - Each neuron is a perceptron, kind of like a bunch of small linear regressions\n",
    "    - We pass information from one layer of neurons to the next layer of neurons until we hit the output layer\n",
    "    - The output layer does one calculation to output a prediction for the outcome."
   ]
  },
  {
   "cell_type": "markdown",
   "metadata": {},
   "source": [
    "![](./assets/images/neuralnet.png)"
   ]
  },
  {
   "cell_type": "markdown",
   "metadata": {},
   "source": [
    "Let'start with a simple linear regression problem."
   ]
  },
  {
   "cell_type": "code",
   "execution_count": 10,
   "metadata": {},
   "outputs": [
    {
     "name": "stderr",
     "output_type": "stream",
     "text": [
      "C:\\Users\\aicyb\\anaconda3\\lib\\site-packages\\sklearn\\utils\\deprecation.py:87: FutureWarning: Function load_boston is deprecated; `load_boston` is deprecated in 1.0 and will be removed in 1.2.\n",
      "\n",
      "    The Boston housing prices dataset has an ethical problem. You can refer to\n",
      "    the documentation of this function for further details.\n",
      "\n",
      "    The scikit-learn maintainers therefore strongly discourage the use of this\n",
      "    dataset unless the purpose of the code is to study and educate about\n",
      "    ethical issues in data science and machine learning.\n",
      "\n",
      "    In this special case, you can fetch the dataset from the original\n",
      "    source::\n",
      "\n",
      "        import pandas as pd\n",
      "        import numpy as np\n",
      "\n",
      "\n",
      "        data_url = \"http://lib.stat.cmu.edu/datasets/boston\"\n",
      "        raw_df = pd.read_csv(data_url, sep=\"\\s+\", skiprows=22, header=None)\n",
      "        data = np.hstack([raw_df.values[::2, :], raw_df.values[1::2, :2]])\n",
      "        target = raw_df.values[1::2, 2]\n",
      "\n",
      "    Alternative datasets include the California housing dataset (i.e.\n",
      "    :func:`~sklearn.datasets.fetch_california_housing`) and the Ames housing\n",
      "    dataset. You can load the datasets as follows::\n",
      "\n",
      "        from sklearn.datasets import fetch_california_housing\n",
      "        housing = fetch_california_housing()\n",
      "\n",
      "    for the California housing dataset and::\n",
      "\n",
      "        from sklearn.datasets import fetch_openml\n",
      "        housing = fetch_openml(name=\"house_prices\", as_frame=True)\n",
      "\n",
      "    for the Ames housing dataset.\n",
      "    \n",
      "  warnings.warn(msg, category=FutureWarning)\n"
     ]
    },
    {
     "data": {
      "text/html": [
       "<div>\n",
       "<style scoped>\n",
       "    .dataframe tbody tr th:only-of-type {\n",
       "        vertical-align: middle;\n",
       "    }\n",
       "\n",
       "    .dataframe tbody tr th {\n",
       "        vertical-align: top;\n",
       "    }\n",
       "\n",
       "    .dataframe thead th {\n",
       "        text-align: right;\n",
       "    }\n",
       "</style>\n",
       "<table border=\"1\" class=\"dataframe\">\n",
       "  <thead>\n",
       "    <tr style=\"text-align: right;\">\n",
       "      <th></th>\n",
       "      <th>CRIM</th>\n",
       "      <th>ZN</th>\n",
       "      <th>INDUS</th>\n",
       "      <th>CHAS</th>\n",
       "      <th>NOX</th>\n",
       "      <th>RM</th>\n",
       "      <th>AGE</th>\n",
       "      <th>DIS</th>\n",
       "      <th>RAD</th>\n",
       "      <th>TAX</th>\n",
       "      <th>PTRATIO</th>\n",
       "      <th>B</th>\n",
       "      <th>LSTAT</th>\n",
       "    </tr>\n",
       "  </thead>\n",
       "  <tbody>\n",
       "    <tr>\n",
       "      <th>0</th>\n",
       "      <td>0.00632</td>\n",
       "      <td>18.0</td>\n",
       "      <td>2.31</td>\n",
       "      <td>0.0</td>\n",
       "      <td>0.538</td>\n",
       "      <td>6.575</td>\n",
       "      <td>65.2</td>\n",
       "      <td>4.0900</td>\n",
       "      <td>1.0</td>\n",
       "      <td>296.0</td>\n",
       "      <td>15.3</td>\n",
       "      <td>396.90</td>\n",
       "      <td>4.98</td>\n",
       "    </tr>\n",
       "    <tr>\n",
       "      <th>1</th>\n",
       "      <td>0.02731</td>\n",
       "      <td>0.0</td>\n",
       "      <td>7.07</td>\n",
       "      <td>0.0</td>\n",
       "      <td>0.469</td>\n",
       "      <td>6.421</td>\n",
       "      <td>78.9</td>\n",
       "      <td>4.9671</td>\n",
       "      <td>2.0</td>\n",
       "      <td>242.0</td>\n",
       "      <td>17.8</td>\n",
       "      <td>396.90</td>\n",
       "      <td>9.14</td>\n",
       "    </tr>\n",
       "    <tr>\n",
       "      <th>2</th>\n",
       "      <td>0.02729</td>\n",
       "      <td>0.0</td>\n",
       "      <td>7.07</td>\n",
       "      <td>0.0</td>\n",
       "      <td>0.469</td>\n",
       "      <td>7.185</td>\n",
       "      <td>61.1</td>\n",
       "      <td>4.9671</td>\n",
       "      <td>2.0</td>\n",
       "      <td>242.0</td>\n",
       "      <td>17.8</td>\n",
       "      <td>392.83</td>\n",
       "      <td>4.03</td>\n",
       "    </tr>\n",
       "    <tr>\n",
       "      <th>3</th>\n",
       "      <td>0.03237</td>\n",
       "      <td>0.0</td>\n",
       "      <td>2.18</td>\n",
       "      <td>0.0</td>\n",
       "      <td>0.458</td>\n",
       "      <td>6.998</td>\n",
       "      <td>45.8</td>\n",
       "      <td>6.0622</td>\n",
       "      <td>3.0</td>\n",
       "      <td>222.0</td>\n",
       "      <td>18.7</td>\n",
       "      <td>394.63</td>\n",
       "      <td>2.94</td>\n",
       "    </tr>\n",
       "    <tr>\n",
       "      <th>4</th>\n",
       "      <td>0.06905</td>\n",
       "      <td>0.0</td>\n",
       "      <td>2.18</td>\n",
       "      <td>0.0</td>\n",
       "      <td>0.458</td>\n",
       "      <td>7.147</td>\n",
       "      <td>54.2</td>\n",
       "      <td>6.0622</td>\n",
       "      <td>3.0</td>\n",
       "      <td>222.0</td>\n",
       "      <td>18.7</td>\n",
       "      <td>396.90</td>\n",
       "      <td>5.33</td>\n",
       "    </tr>\n",
       "  </tbody>\n",
       "</table>\n",
       "</div>"
      ],
      "text/plain": [
       "      CRIM    ZN  INDUS  CHAS    NOX     RM   AGE     DIS  RAD    TAX  \\\n",
       "0  0.00632  18.0   2.31   0.0  0.538  6.575  65.2  4.0900  1.0  296.0   \n",
       "1  0.02731   0.0   7.07   0.0  0.469  6.421  78.9  4.9671  2.0  242.0   \n",
       "2  0.02729   0.0   7.07   0.0  0.469  7.185  61.1  4.9671  2.0  242.0   \n",
       "3  0.03237   0.0   2.18   0.0  0.458  6.998  45.8  6.0622  3.0  222.0   \n",
       "4  0.06905   0.0   2.18   0.0  0.458  7.147  54.2  6.0622  3.0  222.0   \n",
       "\n",
       "   PTRATIO       B  LSTAT  \n",
       "0     15.3  396.90   4.98  \n",
       "1     17.8  396.90   9.14  \n",
       "2     17.8  392.83   4.03  \n",
       "3     18.7  394.63   2.94  \n",
       "4     18.7  396.90   5.33  "
      ]
     },
     "execution_count": 10,
     "metadata": {},
     "output_type": "execute_result"
    }
   ],
   "source": [
    "from sklearn.datasets import load_boston\n",
    "from sklearn.linear_model import LinearRegression\n",
    "from sklearn.model_selection import train_test_split\n",
    "from sklearn import metrics\n",
    "\n",
    "boston = load_boston()\n",
    "df = pd.DataFrame(boston.data, columns=boston.feature_names)\n",
    "df.head()"
   ]
  },
  {
   "cell_type": "code",
   "execution_count": 11,
   "metadata": {},
   "outputs": [],
   "source": [
    "y = boston.target\n",
    "X_train, X_test, y_train, y_test = train_test_split(df,y,test_size = 0.3,random_state=1)\n",
    "\n",
    "scaler = StandardScaler()\n",
    "X_train = scaler.fit_transform(X_train)\n",
    "X_test = scaler.transform(X_test)"
   ]
  },
  {
   "cell_type": "code",
   "execution_count": 12,
   "metadata": {},
   "outputs": [
    {
     "data": {
      "text/plain": [
       "19.83132367206314"
      ]
     },
     "execution_count": 12,
     "metadata": {},
     "output_type": "execute_result"
    }
   ],
   "source": [
    "model = LinearRegression(fit_intercept=True)\n",
    "model.fit(X_train,y_train)\n",
    "metrics.mean_squared_error(y_test,model.predict(X_test))"
   ]
  },
  {
   "cell_type": "code",
   "execution_count": 13,
   "metadata": {},
   "outputs": [
    {
     "data": {
      "text/plain": [
       "0.7836295385076291"
      ]
     },
     "execution_count": 13,
     "metadata": {},
     "output_type": "execute_result"
    }
   ],
   "source": [
    "metrics.r2_score(y_test,model.predict(X_test))"
   ]
  },
  {
   "cell_type": "code",
   "execution_count": 14,
   "metadata": {},
   "outputs": [
    {
     "name": "stdout",
     "output_type": "stream",
     "text": [
      "[-0.8388  1.4284  0.4053  0.6794 -2.5304  1.9338  0.1009 -3.2362  2.7032\n",
      " -1.9173 -2.1558  0.5823 -4.1343]\n",
      "22.339830508474606\n"
     ]
    }
   ],
   "source": [
    "print(model.coef_)\n",
    "print(model.intercept_)"
   ]
  },
  {
   "cell_type": "markdown",
   "metadata": {},
   "source": [
    "We can use sklearn's multi-layer perceptron for this regression problem. Let's first reproduce the linear regression result. To do so, we use the identity activation function. The default solver is `adam`, for small datasets `lbfgs` might work better however. "
   ]
  },
  {
   "cell_type": "code",
   "execution_count": 15,
   "metadata": {},
   "outputs": [],
   "source": [
    "from sklearn.neural_network import MLPRegressor"
   ]
  },
  {
   "cell_type": "code",
   "execution_count": 16,
   "metadata": {},
   "outputs": [
    {
     "data": {
      "text/plain": [
       "19.831456079421418"
      ]
     },
     "execution_count": 16,
     "metadata": {},
     "output_type": "execute_result"
    }
   ],
   "source": [
    "nnet = MLPRegressor(hidden_layer_sizes=1,solver='lbfgs',activation='identity',max_iter=1000,random_state=1)\n",
    "nnet.fit(X_train,y_train)\n",
    "metrics.mean_squared_error(y_test,nnet.predict(X_test))"
   ]
  },
  {
   "cell_type": "markdown",
   "metadata": {},
   "source": [
    "We can extract the neural network coefficients (the weights for each edge)."
   ]
  },
  {
   "cell_type": "code",
   "execution_count": 17,
   "metadata": {},
   "outputs": [
    {
     "name": "stdout",
     "output_type": "stream",
     "text": [
      "[array([[ 0.5127],\n",
      "       [-0.8731],\n",
      "       [-0.2478],\n",
      "       [-0.4153],\n",
      "       [ 1.5467],\n",
      "       [-1.1821],\n",
      "       [-0.0616],\n",
      "       [ 1.9783],\n",
      "       [-1.6525],\n",
      "       [ 1.1721],\n",
      "       [ 1.3179],\n",
      "       [-0.3559],\n",
      "       [ 2.5273]]), array([[-1.6359]])]\n"
     ]
    }
   ],
   "source": [
    "print(nnet.coefs_)"
   ]
  },
  {
   "cell_type": "code",
   "execution_count": 18,
   "metadata": {},
   "outputs": [
    {
     "data": {
      "text/plain": [
       "[array([-9.0325]), array([7.5635])]"
      ]
     },
     "execution_count": 18,
     "metadata": {},
     "output_type": "execute_result"
    }
   ],
   "source": [
    "nnet.intercepts_"
   ]
  },
  {
   "cell_type": "markdown",
   "metadata": {},
   "source": [
    "We multiply the first entries by the second to obtain the linear regression coefficients:"
   ]
  },
  {
   "cell_type": "code",
   "execution_count": 19,
   "metadata": {},
   "outputs": [
    {
     "name": "stdout",
     "output_type": "stream",
     "text": [
      "[-0.8388  1.4283  0.4053  0.6793 -2.5303  1.9338  0.1007 -3.2363  2.7033\n",
      " -1.9174 -2.1559  0.5823 -4.1344]\n"
     ]
    }
   ],
   "source": [
    "print((nnet.coefs_[0]*nnet.coefs_[1]).flatten())"
   ]
  },
  {
   "cell_type": "markdown",
   "metadata": {},
   "source": [
    "We get very good agreement:"
   ]
  },
  {
   "cell_type": "code",
   "execution_count": 20,
   "metadata": {},
   "outputs": [
    {
     "name": "stdout",
     "output_type": "stream",
     "text": [
      "[-5.7636e-05  5.2393e-05 -1.2655e-05  9.0265e-05 -8.5366e-05  6.1953e-05\n",
      "  2.0033e-04  1.6900e-04 -1.2091e-04  1.3566e-04  7.7246e-05  7.8270e-06\n",
      "  2.4097e-05]\n"
     ]
    }
   ],
   "source": [
    "print(model.coef_-(nnet.coefs_[0]*nnet.coefs_[1]).flatten())"
   ]
  },
  {
   "cell_type": "markdown",
   "metadata": {},
   "source": [
    "The same for the intercept:"
   ]
  },
  {
   "cell_type": "code",
   "execution_count": 21,
   "metadata": {},
   "outputs": [
    {
     "name": "stdout",
     "output_type": "stream",
     "text": [
      "[[22.3397]]\n"
     ]
    }
   ],
   "source": [
    "print(nnet.intercepts_[0]*nnet.coefs_[1]+nnet.intercepts_[1])"
   ]
  },
  {
   "cell_type": "code",
   "execution_count": 22,
   "metadata": {},
   "outputs": [
    {
     "name": "stdout",
     "output_type": "stream",
     "text": [
      "[[0.0001]]\n"
     ]
    }
   ],
   "source": [
    "print(model.intercept_ - (nnet.intercepts_[0]*nnet.coefs_[1]+nnet.intercepts_[1]))"
   ]
  },
  {
   "cell_type": "markdown",
   "metadata": {},
   "source": [
    "Now let's add a few hidden layers and a non-trivial activation function to see if we can do better."
   ]
  },
  {
   "cell_type": "code",
   "execution_count": 23,
   "metadata": {},
   "outputs": [
    {
     "name": "stderr",
     "output_type": "stream",
     "text": [
      "C:\\Users\\aicyb\\anaconda3\\lib\\site-packages\\sklearn\\neural_network\\_multilayer_perceptron.py:549: ConvergenceWarning: lbfgs failed to converge (status=1):\n",
      "STOP: TOTAL NO. of ITERATIONS REACHED LIMIT.\n",
      "\n",
      "Increase the number of iterations (max_iter) or scale the data as shown in:\n",
      "    https://scikit-learn.org/stable/modules/preprocessing.html\n",
      "  self.n_iter_ = _check_optimize_result(\"lbfgs\", opt_res, self.max_iter)\n"
     ]
    },
    {
     "data": {
      "text/plain": [
       "12.1730020768693"
      ]
     },
     "execution_count": 23,
     "metadata": {},
     "output_type": "execute_result"
    }
   ],
   "source": [
    "nnet = MLPRegressor(hidden_layer_sizes=(10,10,10),solver='lbfgs',activation='relu',random_state=1)\n",
    "nnet.fit(X_train,y_train)\n",
    "metrics.mean_squared_error(y_test,nnet.predict(X_test))"
   ]
  },
  {
   "cell_type": "markdown",
   "metadata": {},
   "source": [
    "There are many more model coefficients now."
   ]
  },
  {
   "cell_type": "code",
   "execution_count": 24,
   "metadata": {},
   "outputs": [
    {
     "name": "stdout",
     "output_type": "stream",
     "text": [
      "[(13, 10), (10, 10), (10, 10), (10, 1)]\n",
      "340\n"
     ]
    }
   ],
   "source": [
    "print([coef.shape for coef in nnet.coefs_])\n",
    "print(sum([np.prod(coef.shape) for coef in nnet.coefs_]))"
   ]
  },
  {
   "cell_type": "markdown",
   "metadata": {},
   "source": [
    "This gives the full list of the first set of coefficients:"
   ]
  },
  {
   "cell_type": "code",
   "execution_count": 25,
   "metadata": {
    "scrolled": false
   },
   "outputs": [
    {
     "name": "stdout",
     "output_type": "stream",
     "text": [
      "[[-1.3501e-01  1.8892e-01 -1.7448e-02  6.2869e-02 -9.3634e-01 -7.3111e-01\n",
      "  -1.1192e+00 -8.8028e-01 -1.4081e-01  3.0936e-01]\n",
      " [ 2.2721e-02  8.2162e-01 -3.2669e-01  8.6818e-01 -4.7454e-01 -7.4026e-01\n",
      "   1.7749e-01  8.3349e-01 -3.8158e-01  7.9707e-01]\n",
      " [ 1.6577e-01  2.9439e-01 -2.0889e-01 -2.2020e-01  4.8117e-01  4.2613e-01\n",
      "  -8.5555e-01 -2.3904e-01  1.6931e-01  6.4456e-01]\n",
      " [-7.8899e-01 -2.3106e-01  8.8758e-01 -2.9974e-01  1.2332e-01 -4.0143e-01\n",
      "  -8.4782e-01 -3.5369e-01 -1.3146e+00  4.3904e-01]\n",
      " [ 7.4132e-01 -3.2816e-01 -1.2440e+00 -5.5151e-01  3.4954e-01  6.6733e-01\n",
      "   5.6538e-01 -7.6458e-01 -3.5615e-01 -6.0188e-01]\n",
      " [-8.1371e-01 -3.0567e-01  1.6828e-01 -5.9699e-01 -5.4383e-02 -8.2802e-01\n",
      "   8.0427e-01 -1.0490e+00  7.3252e-01 -3.0316e-01]\n",
      " [-4.9710e-01 -1.5290e-01  9.0812e-02  1.7136e-01 -6.5082e-01 -1.0200e+00\n",
      "  -2.5964e-01  4.1763e-01  4.5452e-01  1.8840e-01]\n",
      " [ 5.0594e-01 -1.6867e+00 -2.3020e+00 -2.6761e-01 -1.3438e-02 -7.9774e-01\n",
      "   8.4861e-01 -1.0140e+00 -1.5321e-01  3.6364e-01]\n",
      " [ 4.4091e-01  7.7595e-01  3.1902e-01 -7.6992e-01 -8.8594e-01  4.0104e-01\n",
      "  -7.2263e-01  7.8931e-01  4.0597e-01  3.3355e-01]\n",
      " [-8.4507e-01 -6.8069e-01 -2.1992e-01  6.4683e-01 -1.1264e+00 -4.0603e-01\n",
      "  -1.0628e-03  3.2238e-01  1.3590e-01  7.7446e-01]\n",
      " [-6.1114e-01 -4.5984e-01  2.7009e-01 -6.6612e-01 -2.1118e-01  5.6231e-01\n",
      "  -1.3155e+00  7.5665e-01  3.7654e-01 -3.4998e-01]\n",
      " [-1.5506e+00 -1.1913e+00  1.1917e-01  9.1965e-01 -4.3379e-01 -3.2781e-01\n",
      "  -2.7373e-01 -1.5648e-01  2.3675e-01  1.1329e+00]\n",
      " [-5.3575e-01 -1.4851e+00  1.4262e-01 -1.2177e+00 -3.6503e-01 -7.3489e-01\n",
      "   4.1655e-01 -5.2009e-01 -2.9478e-01 -1.5598e+00]]\n"
     ]
    }
   ],
   "source": [
    "print(nnet.coefs_[0])"
   ]
  },
  {
   "cell_type": "markdown",
   "metadata": {},
   "source": [
    "There are also many intercepts now:"
   ]
  },
  {
   "cell_type": "code",
   "execution_count": 26,
   "metadata": {},
   "outputs": [
    {
     "data": {
      "text/plain": [
       "[(10,), (10,), (10,), (1,)]"
      ]
     },
     "execution_count": 26,
     "metadata": {},
     "output_type": "execute_result"
    }
   ],
   "source": [
    "[intercept.shape  for intercept in nnet.intercepts_]"
   ]
  },
  {
   "cell_type": "markdown",
   "metadata": {},
   "source": [
    "That is the total amount of layers (including input and output):"
   ]
  },
  {
   "cell_type": "code",
   "execution_count": 27,
   "metadata": {},
   "outputs": [
    {
     "data": {
      "text/plain": [
       "5"
      ]
     },
     "execution_count": 27,
     "metadata": {},
     "output_type": "execute_result"
    }
   ],
   "source": [
    "nnet.n_layers_"
   ]
  },
  {
   "cell_type": "markdown",
   "metadata": {},
   "source": [
    "For the regression model we have a single output:"
   ]
  },
  {
   "cell_type": "code",
   "execution_count": 28,
   "metadata": {},
   "outputs": [
    {
     "data": {
      "text/plain": [
       "1"
      ]
     },
     "execution_count": 28,
     "metadata": {},
     "output_type": "execute_result"
    }
   ],
   "source": [
    "nnet.n_outputs_"
   ]
  },
  {
   "cell_type": "markdown",
   "metadata": {},
   "source": [
    "We used the following activation function:"
   ]
  },
  {
   "cell_type": "code",
   "execution_count": 29,
   "metadata": {},
   "outputs": [
    {
     "data": {
      "text/plain": [
       "'identity'"
      ]
     },
     "execution_count": 29,
     "metadata": {},
     "output_type": "execute_result"
    }
   ],
   "source": [
    "nnet.out_activation_"
   ]
  },
  {
   "cell_type": "markdown",
   "metadata": {},
   "source": [
    "We get predictions and scores (R2) in the usual way:"
   ]
  },
  {
   "cell_type": "code",
   "execution_count": 30,
   "metadata": {},
   "outputs": [
    {
     "data": {
      "text/plain": [
       "array([31.9661, 24.706 , 20.2971, 21.0214, 23.1073, 19.6475, 33.1616,\n",
       "       15.4072, 21.5863, 24.5721])"
      ]
     },
     "execution_count": 30,
     "metadata": {},
     "output_type": "execute_result"
    }
   ],
   "source": [
    "nnet.predict(X_test)[:10]"
   ]
  },
  {
   "cell_type": "code",
   "execution_count": 31,
   "metadata": {},
   "outputs": [
    {
     "data": {
      "text/plain": [
       "0.8671859669745491"
      ]
     },
     "execution_count": 31,
     "metadata": {},
     "output_type": "execute_result"
    }
   ],
   "source": [
    "nnet.score(X_test,y_test)"
   ]
  },
  {
   "cell_type": "markdown",
   "metadata": {},
   "source": [
    "<a id=\"load-in-the-titanic-data\"></a>\n",
    "### Load in the titanic data"
   ]
  },
  {
   "cell_type": "markdown",
   "metadata": {},
   "source": [
    "### Exercise:\n",
    "\n",
    "- Tune the models above for the boston housing data set and the  titanic data set. Explore the all the different tuning options.\n",
    "\n",
    "- Practice with further datasets."
   ]
  },
  {
   "cell_type": "code",
   "execution_count": null,
   "metadata": {},
   "outputs": [],
   "source": []
  },
  {
   "cell_type": "markdown",
   "metadata": {},
   "source": [
    "<a id=\"additionl-resources\"></a>\n",
    "## Additional Resources\n",
    "---\n",
    "\n",
    "- [Neural Networks and Deep Learning](http://neuralnetworksanddeeplearning.com/chap1.html)\n",
    "- [Deep Learning](http://www.deeplearningbook.org/)\n",
    "- [Tensorflow Tutorials](https://github.com/pkmital/tensorflow_tutorials)\n",
    "- [Awesome Tensorflow](https://github.com/jtoy/awesome-tensorflow)\n",
    "- [Tensorflow Examples](https://github.com/aymericdamien/TensorFlow-Examples)\n",
    "- [Mind: How to Build a Neural Network](https://stevenmiller888.github.io/mind-how-to-build-a-neural-network/)"
   ]
  }
 ],
 "metadata": {
  "kernelspec": {
   "display_name": "Python 3 (ipykernel)",
   "language": "python",
   "name": "python3"
  },
  "language_info": {
   "codemirror_mode": {
    "name": "ipython",
    "version": 3
   },
   "file_extension": ".py",
   "mimetype": "text/x-python",
   "name": "python",
   "nbconvert_exporter": "python",
   "pygments_lexer": "ipython3",
   "version": "3.9.13"
  },
  "toc": {
   "base_numbering": 1,
   "nav_menu": {},
   "number_sections": false,
   "sideBar": true,
   "skip_h1_title": true,
   "title_cell": "Table of Contents",
   "title_sidebar": "Contents",
   "toc_cell": false,
   "toc_position": {
    "height": "337px",
    "left": "0px",
    "right": "604.295px",
    "top": "62px",
    "width": "126px"
   },
   "toc_section_display": "block",
   "toc_window_display": false
  }
 },
 "nbformat": 4,
 "nbformat_minor": 2
}
