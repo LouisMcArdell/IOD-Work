{
 "cells": [
  {
   "cell_type": "code",
   "execution_count": 44,
   "metadata": {},
   "outputs": [
    {
     "name": "stderr",
     "output_type": "stream",
     "text": [
      "C:\\Users\\aicyb\\anaconda3\\lib\\site-packages\\sklearn\\utils\\deprecation.py:87: FutureWarning:\n",
      "\n",
      "Function load_boston is deprecated; `load_boston` is deprecated in 1.0 and will be removed in 1.2.\n",
      "\n",
      "    The Boston housing prices dataset has an ethical problem. You can refer to\n",
      "    the documentation of this function for further details.\n",
      "\n",
      "    The scikit-learn maintainers therefore strongly discourage the use of this\n",
      "    dataset unless the purpose of the code is to study and educate about\n",
      "    ethical issues in data science and machine learning.\n",
      "\n",
      "    In this special case, you can fetch the dataset from the original\n",
      "    source::\n",
      "\n",
      "        import pandas as pd\n",
      "        import numpy as np\n",
      "\n",
      "\n",
      "        data_url = \"http://lib.stat.cmu.edu/datasets/boston\"\n",
      "        raw_df = pd.read_csv(data_url, sep=\"\\s+\", skiprows=22, header=None)\n",
      "        data = np.hstack([raw_df.values[::2, :], raw_df.values[1::2, :2]])\n",
      "        target = raw_df.values[1::2, 2]\n",
      "\n",
      "    Alternative datasets include the California housing dataset (i.e.\n",
      "    :func:`~sklearn.datasets.fetch_california_housing`) and the Ames housing\n",
      "    dataset. You can load the datasets as follows::\n",
      "\n",
      "        from sklearn.datasets import fetch_california_housing\n",
      "        housing = fetch_california_housing()\n",
      "\n",
      "    for the California housing dataset and::\n",
      "\n",
      "        from sklearn.datasets import fetch_openml\n",
      "        housing = fetch_openml(name=\"house_prices\", as_frame=True)\n",
      "\n",
      "    for the Ames housing dataset.\n",
      "    \n",
      "\n"
     ]
    },
    {
     "data": {
      "text/html": [
       "<div>\n",
       "<style scoped>\n",
       "    .dataframe tbody tr th:only-of-type {\n",
       "        vertical-align: middle;\n",
       "    }\n",
       "\n",
       "    .dataframe tbody tr th {\n",
       "        vertical-align: top;\n",
       "    }\n",
       "\n",
       "    .dataframe thead th {\n",
       "        text-align: right;\n",
       "    }\n",
       "</style>\n",
       "<table border=\"1\" class=\"dataframe\">\n",
       "  <thead>\n",
       "    <tr style=\"text-align: right;\">\n",
       "      <th></th>\n",
       "      <th>CRIM</th>\n",
       "      <th>ZN</th>\n",
       "      <th>INDUS</th>\n",
       "      <th>CHAS</th>\n",
       "      <th>NOX</th>\n",
       "      <th>RM</th>\n",
       "      <th>AGE</th>\n",
       "      <th>DIS</th>\n",
       "      <th>RAD</th>\n",
       "      <th>TAX</th>\n",
       "      <th>PTRATIO</th>\n",
       "      <th>B</th>\n",
       "      <th>LSTAT</th>\n",
       "      <th>MEDV</th>\n",
       "    </tr>\n",
       "  </thead>\n",
       "  <tbody>\n",
       "    <tr>\n",
       "      <th>0</th>\n",
       "      <td>0.00632</td>\n",
       "      <td>18.0</td>\n",
       "      <td>2.31</td>\n",
       "      <td>0.0</td>\n",
       "      <td>0.538</td>\n",
       "      <td>6.575</td>\n",
       "      <td>65.2</td>\n",
       "      <td>4.0900</td>\n",
       "      <td>1.0</td>\n",
       "      <td>296.0</td>\n",
       "      <td>15.3</td>\n",
       "      <td>396.90</td>\n",
       "      <td>4.98</td>\n",
       "      <td>24.0</td>\n",
       "    </tr>\n",
       "    <tr>\n",
       "      <th>1</th>\n",
       "      <td>0.02731</td>\n",
       "      <td>0.0</td>\n",
       "      <td>7.07</td>\n",
       "      <td>0.0</td>\n",
       "      <td>0.469</td>\n",
       "      <td>6.421</td>\n",
       "      <td>78.9</td>\n",
       "      <td>4.9671</td>\n",
       "      <td>2.0</td>\n",
       "      <td>242.0</td>\n",
       "      <td>17.8</td>\n",
       "      <td>396.90</td>\n",
       "      <td>9.14</td>\n",
       "      <td>21.6</td>\n",
       "    </tr>\n",
       "    <tr>\n",
       "      <th>2</th>\n",
       "      <td>0.02729</td>\n",
       "      <td>0.0</td>\n",
       "      <td>7.07</td>\n",
       "      <td>0.0</td>\n",
       "      <td>0.469</td>\n",
       "      <td>7.185</td>\n",
       "      <td>61.1</td>\n",
       "      <td>4.9671</td>\n",
       "      <td>2.0</td>\n",
       "      <td>242.0</td>\n",
       "      <td>17.8</td>\n",
       "      <td>392.83</td>\n",
       "      <td>4.03</td>\n",
       "      <td>34.7</td>\n",
       "    </tr>\n",
       "    <tr>\n",
       "      <th>3</th>\n",
       "      <td>0.03237</td>\n",
       "      <td>0.0</td>\n",
       "      <td>2.18</td>\n",
       "      <td>0.0</td>\n",
       "      <td>0.458</td>\n",
       "      <td>6.998</td>\n",
       "      <td>45.8</td>\n",
       "      <td>6.0622</td>\n",
       "      <td>3.0</td>\n",
       "      <td>222.0</td>\n",
       "      <td>18.7</td>\n",
       "      <td>394.63</td>\n",
       "      <td>2.94</td>\n",
       "      <td>33.4</td>\n",
       "    </tr>\n",
       "    <tr>\n",
       "      <th>4</th>\n",
       "      <td>0.06905</td>\n",
       "      <td>0.0</td>\n",
       "      <td>2.18</td>\n",
       "      <td>0.0</td>\n",
       "      <td>0.458</td>\n",
       "      <td>7.147</td>\n",
       "      <td>54.2</td>\n",
       "      <td>6.0622</td>\n",
       "      <td>3.0</td>\n",
       "      <td>222.0</td>\n",
       "      <td>18.7</td>\n",
       "      <td>396.90</td>\n",
       "      <td>5.33</td>\n",
       "      <td>36.2</td>\n",
       "    </tr>\n",
       "    <tr>\n",
       "      <th>5</th>\n",
       "      <td>0.02985</td>\n",
       "      <td>0.0</td>\n",
       "      <td>2.18</td>\n",
       "      <td>0.0</td>\n",
       "      <td>0.458</td>\n",
       "      <td>6.430</td>\n",
       "      <td>58.7</td>\n",
       "      <td>6.0622</td>\n",
       "      <td>3.0</td>\n",
       "      <td>222.0</td>\n",
       "      <td>18.7</td>\n",
       "      <td>394.12</td>\n",
       "      <td>5.21</td>\n",
       "      <td>28.7</td>\n",
       "    </tr>\n",
       "    <tr>\n",
       "      <th>6</th>\n",
       "      <td>0.08829</td>\n",
       "      <td>12.5</td>\n",
       "      <td>7.87</td>\n",
       "      <td>0.0</td>\n",
       "      <td>0.524</td>\n",
       "      <td>6.012</td>\n",
       "      <td>66.6</td>\n",
       "      <td>5.5605</td>\n",
       "      <td>5.0</td>\n",
       "      <td>311.0</td>\n",
       "      <td>15.2</td>\n",
       "      <td>395.60</td>\n",
       "      <td>12.43</td>\n",
       "      <td>22.9</td>\n",
       "    </tr>\n",
       "    <tr>\n",
       "      <th>7</th>\n",
       "      <td>0.14455</td>\n",
       "      <td>12.5</td>\n",
       "      <td>7.87</td>\n",
       "      <td>0.0</td>\n",
       "      <td>0.524</td>\n",
       "      <td>6.172</td>\n",
       "      <td>96.1</td>\n",
       "      <td>5.9505</td>\n",
       "      <td>5.0</td>\n",
       "      <td>311.0</td>\n",
       "      <td>15.2</td>\n",
       "      <td>396.90</td>\n",
       "      <td>19.15</td>\n",
       "      <td>27.1</td>\n",
       "    </tr>\n",
       "    <tr>\n",
       "      <th>8</th>\n",
       "      <td>0.21124</td>\n",
       "      <td>12.5</td>\n",
       "      <td>7.87</td>\n",
       "      <td>0.0</td>\n",
       "      <td>0.524</td>\n",
       "      <td>5.631</td>\n",
       "      <td>100.0</td>\n",
       "      <td>6.0821</td>\n",
       "      <td>5.0</td>\n",
       "      <td>311.0</td>\n",
       "      <td>15.2</td>\n",
       "      <td>386.63</td>\n",
       "      <td>29.93</td>\n",
       "      <td>16.5</td>\n",
       "    </tr>\n",
       "    <tr>\n",
       "      <th>9</th>\n",
       "      <td>0.17004</td>\n",
       "      <td>12.5</td>\n",
       "      <td>7.87</td>\n",
       "      <td>0.0</td>\n",
       "      <td>0.524</td>\n",
       "      <td>6.004</td>\n",
       "      <td>85.9</td>\n",
       "      <td>6.5921</td>\n",
       "      <td>5.0</td>\n",
       "      <td>311.0</td>\n",
       "      <td>15.2</td>\n",
       "      <td>386.71</td>\n",
       "      <td>17.10</td>\n",
       "      <td>18.9</td>\n",
       "    </tr>\n",
       "  </tbody>\n",
       "</table>\n",
       "</div>"
      ],
      "text/plain": [
       "      CRIM    ZN  INDUS  CHAS    NOX     RM    AGE     DIS  RAD    TAX  \\\n",
       "0  0.00632  18.0   2.31   0.0  0.538  6.575   65.2  4.0900  1.0  296.0   \n",
       "1  0.02731   0.0   7.07   0.0  0.469  6.421   78.9  4.9671  2.0  242.0   \n",
       "2  0.02729   0.0   7.07   0.0  0.469  7.185   61.1  4.9671  2.0  242.0   \n",
       "3  0.03237   0.0   2.18   0.0  0.458  6.998   45.8  6.0622  3.0  222.0   \n",
       "4  0.06905   0.0   2.18   0.0  0.458  7.147   54.2  6.0622  3.0  222.0   \n",
       "5  0.02985   0.0   2.18   0.0  0.458  6.430   58.7  6.0622  3.0  222.0   \n",
       "6  0.08829  12.5   7.87   0.0  0.524  6.012   66.6  5.5605  5.0  311.0   \n",
       "7  0.14455  12.5   7.87   0.0  0.524  6.172   96.1  5.9505  5.0  311.0   \n",
       "8  0.21124  12.5   7.87   0.0  0.524  5.631  100.0  6.0821  5.0  311.0   \n",
       "9  0.17004  12.5   7.87   0.0  0.524  6.004   85.9  6.5921  5.0  311.0   \n",
       "\n",
       "   PTRATIO       B  LSTAT  MEDV  \n",
       "0     15.3  396.90   4.98  24.0  \n",
       "1     17.8  396.90   9.14  21.6  \n",
       "2     17.8  392.83   4.03  34.7  \n",
       "3     18.7  394.63   2.94  33.4  \n",
       "4     18.7  396.90   5.33  36.2  \n",
       "5     18.7  394.12   5.21  28.7  \n",
       "6     15.2  395.60  12.43  22.9  \n",
       "7     15.2  396.90  19.15  27.1  \n",
       "8     15.2  386.63  29.93  16.5  \n",
       "9     15.2  386.71  17.10  18.9  "
      ]
     },
     "execution_count": 44,
     "metadata": {},
     "output_type": "execute_result"
    }
   ],
   "source": [
    "from sklearn.datasets import load_boston\n",
    "import pandas as pd\n",
    "boston_dataset = load_boston()\n",
    "df = pd.DataFrame(boston_dataset.data, columns=boston_dataset.feature_names)\n",
    "df['MEDV'] = boston_dataset.target\n",
    "df.head(n=10)"
   ]
  },
  {
   "cell_type": "code",
   "execution_count": 45,
   "metadata": {},
   "outputs": [
    {
     "name": "stdout",
     "output_type": "stream",
     "text": [
      "Model: \"sequential_9\"\n",
      "_________________________________________________________________\n",
      " Layer (type)                Output Shape              Param #   \n",
      "=================================================================\n",
      " dense_1 (Dense)             (None, 64)                896       \n",
      "                                                                 \n",
      " dense_2 (Dense)             (None, 32)                2080      \n",
      "                                                                 \n",
      " dense_3 (Dense)             (None, 16)                528       \n",
      "                                                                 \n",
      " dense_output (Dense)        (None, 1)                 17        \n",
      "                                                                 \n",
      "=================================================================\n",
      "Total params: 3,521\n",
      "Trainable params: 3,521\n",
      "Non-trainable params: 0\n",
      "_________________________________________________________________\n"
     ]
    }
   ],
   "source": [
    "from keras.models import Sequential\n",
    "from keras.layers import Dense\n",
    "\n",
    "model = Sequential()\n",
    "model.add(Dense(64, input_shape=(13, ), activation='relu',name='dense_1'))\n",
    "model.add(Dense(32, activation='relu', name='dense_2'))\n",
    "model.add(Dense(16, activation='relu', name='dense_3'))\n",
    "model.add(Dense(1, name='dense_output')) # model.add(Dense(1, activation='???', name='dense_output'))\n",
    "\n",
    "model.compile(optimizer='adam', loss='mse', metrics=['mae'])\n",
    "model.summary()"
   ]
  },
  {
   "attachments": {
    "image.png": {
     "image/png": "[encoded data removed]"
    }
   },
   "cell_type": "markdown",
   "metadata": {},
   "source": [
    "![image.png](attachment:image.png)"
   ]
  },
  {
   "attachments": {
    "image.png": {
     "image/png": "[encoded data removed]"
    }
   },
   "cell_type": "markdown",
   "metadata": {},
   "source": [
    "![image.png](attachment:image.png)"
   ]
  },
  {
   "attachments": {
    "image.png": {
     "image/png": "[encoded data removed]"
    }
   },
   "cell_type": "markdown",
   "metadata": {},
   "source": [
    "![image.png](attachment:image.png)"
   ]
  },
  {
   "attachments": {
    "image.png": {
     "image/png": "[encoded data removed]"
    }
   },
   "cell_type": "markdown",
   "metadata": {},
   "source": [
    "![image.png](attachment:image.png)"
   ]
  },
  {
   "attachments": {
    "image.png": {
     "image/png": "[encoded data removed]"
    }
   },
   "cell_type": "markdown",
   "metadata": {},
   "source": [
    "![image.png](attachment:image.png)"
   ]
  },
  {
   "attachments": {
    "image.png": {
     "image/png": "[encoded data removed]"
    }
   },
   "cell_type": "markdown",
   "metadata": {},
   "source": [
    "![image.png](attachment:image.png)"
   ]
  },
  {
   "cell_type": "code",
   "execution_count": 46,
   "metadata": {},
   "outputs": [],
   "source": [
    "from sklearn.model_selection import train_test_split\n",
    "X = df.loc[:, df.columns != 'MEDV']\n",
    "y = df.loc[:, df.columns == 'MEDV']\n",
    "X_train, X_test, y_train, y_test = train_test_split(X, y, test_size=0.3, random_state=123)"
   ]
  },
  {
   "cell_type": "code",
   "execution_count": 47,
   "metadata": {},
   "outputs": [],
   "source": [
    "# Standarzation of X_train and y_train\n",
    "???????"
   ]
  },
  {
   "cell_type": "code",
   "execution_count": 48,
   "metadata": {},
   "outputs": [
    {
     "name": "stdout",
     "output_type": "stream",
     "text": [
      "Epoch 1/100\n",
      "10/10 [==============================] - 0s 10ms/step - loss: 984.9438 - mae: 23.6893 - val_loss: 424.3617 - val_mae: 17.3784\n",
      "Epoch 2/100\n",
      "10/10 [==============================] - 0s 4ms/step - loss: 208.4348 - mae: 11.0708 - val_loss: 116.9112 - val_mae: 8.7504\n",
      "Epoch 3/100\n",
      "10/10 [==============================] - 0s 3ms/step - loss: 104.6604 - mae: 7.7117 - val_loss: 112.1529 - val_mae: 7.0485\n",
      "Epoch 4/100\n",
      "10/10 [==============================] - 0s 2ms/step - loss: 79.1141 - mae: 6.5144 - val_loss: 85.1946 - val_mae: 7.7844\n",
      "Epoch 5/100\n",
      "10/10 [==============================] - 0s 3ms/step - loss: 66.2189 - mae: 6.3677 - val_loss: 92.4870 - val_mae: 6.6276\n",
      "Epoch 6/100\n",
      "10/10 [==============================] - 0s 2ms/step - loss: 62.9151 - mae: 5.7847 - val_loss: 77.3952 - val_mae: 6.7274\n",
      "Epoch 7/100\n",
      "10/10 [==============================] - 0s 3ms/step - loss: 59.8104 - mae: 5.6863 - val_loss: 82.3684 - val_mae: 6.3137\n",
      "Epoch 8/100\n",
      "10/10 [==============================] - 0s 3ms/step - loss: 57.2400 - mae: 5.4749 - val_loss: 77.1425 - val_mae: 6.5729\n",
      "Epoch 9/100\n",
      "10/10 [==============================] - 0s 3ms/step - loss: 56.0906 - mae: 5.4177 - val_loss: 77.3755 - val_mae: 6.6100\n",
      "Epoch 10/100\n",
      "10/10 [==============================] - 0s 3ms/step - loss: 56.7148 - mae: 5.4577 - val_loss: 78.2858 - val_mae: 6.4753\n",
      "Epoch 11/100\n",
      "10/10 [==============================] - 0s 2ms/step - loss: 56.3830 - mae: 5.5243 - val_loss: 83.8643 - val_mae: 6.5244\n",
      "Epoch 12/100\n",
      "10/10 [==============================] - 0s 3ms/step - loss: 54.7735 - mae: 5.3014 - val_loss: 75.2091 - val_mae: 6.6287\n",
      "Epoch 13/100\n",
      "10/10 [==============================] - 0s 2ms/step - loss: 53.6917 - mae: 5.1581 - val_loss: 75.5943 - val_mae: 6.7497\n",
      "Epoch 14/100\n",
      "10/10 [==============================] - 0s 3ms/step - loss: 53.0075 - mae: 5.2795 - val_loss: 74.8662 - val_mae: 6.5630\n",
      "Epoch 15/100\n",
      "10/10 [==============================] - 0s 3ms/step - loss: 51.6585 - mae: 5.1794 - val_loss: 81.1670 - val_mae: 6.4175\n",
      "Epoch 16/100\n",
      "10/10 [==============================] - 0s 3ms/step - loss: 52.2614 - mae: 5.1642 - val_loss: 77.0296 - val_mae: 6.4427\n",
      "Epoch 17/100\n",
      "10/10 [==============================] - 0s 3ms/step - loss: 52.1753 - mae: 5.1676 - val_loss: 73.2631 - val_mae: 6.6002\n",
      "Epoch 18/100\n",
      "10/10 [==============================] - 0s 3ms/step - loss: 51.9784 - mae: 5.0975 - val_loss: 76.3170 - val_mae: 7.3777\n",
      "Epoch 19/100\n",
      "10/10 [==============================] - 0s 3ms/step - loss: 57.3265 - mae: 5.5196 - val_loss: 85.5942 - val_mae: 6.3957\n",
      "Epoch 20/100\n",
      "10/10 [==============================] - 0s 3ms/step - loss: 56.2573 - mae: 5.5786 - val_loss: 88.0297 - val_mae: 6.4912\n",
      "Epoch 21/100\n",
      "10/10 [==============================] - 0s 3ms/step - loss: 51.2370 - mae: 5.1029 - val_loss: 71.7050 - val_mae: 6.3712\n",
      "Epoch 22/100\n",
      "10/10 [==============================] - 0s 3ms/step - loss: 50.5302 - mae: 5.0023 - val_loss: 72.3850 - val_mae: 6.9934\n",
      "Epoch 23/100\n",
      "10/10 [==============================] - 0s 3ms/step - loss: 48.5208 - mae: 4.9381 - val_loss: 70.7794 - val_mae: 6.4516\n",
      "Epoch 24/100\n",
      "10/10 [==============================] - 0s 3ms/step - loss: 45.8565 - mae: 4.8763 - val_loss: 75.2914 - val_mae: 6.2819\n",
      "Epoch 25/100\n",
      "10/10 [==============================] - 0s 2ms/step - loss: 45.1485 - mae: 4.7720 - val_loss: 69.5166 - val_mae: 6.3230\n",
      "Epoch 26/100\n",
      "10/10 [==============================] - 0s 3ms/step - loss: 47.7454 - mae: 4.8776 - val_loss: 69.6775 - val_mae: 6.6156\n",
      "Epoch 27/100\n",
      "10/10 [==============================] - 0s 2ms/step - loss: 46.7929 - mae: 4.8372 - val_loss: 70.2282 - val_mae: 6.7660\n",
      "Epoch 28/100\n",
      "10/10 [==============================] - 0s 3ms/step - loss: 44.2123 - mae: 4.7883 - val_loss: 74.1783 - val_mae: 6.2444\n",
      "Epoch 29/100\n",
      "10/10 [==============================] - 0s 2ms/step - loss: 43.8322 - mae: 4.6511 - val_loss: 69.9650 - val_mae: 6.0515\n",
      "Epoch 30/100\n",
      "10/10 [==============================] - 0s 3ms/step - loss: 42.5035 - mae: 4.5732 - val_loss: 69.4112 - val_mae: 6.1290\n",
      "Epoch 31/100\n",
      "10/10 [==============================] - 0s 3ms/step - loss: 41.4366 - mae: 4.5278 - val_loss: 66.5504 - val_mae: 6.3911\n",
      "Epoch 32/100\n",
      "10/10 [==============================] - 0s 3ms/step - loss: 43.2013 - mae: 4.6658 - val_loss: 67.8302 - val_mae: 6.7496\n",
      "Epoch 33/100\n",
      "10/10 [==============================] - 0s 3ms/step - loss: 42.4972 - mae: 4.5893 - val_loss: 67.9340 - val_mae: 6.8153\n",
      "Epoch 34/100\n",
      "10/10 [==============================] - 0s 2ms/step - loss: 43.1324 - mae: 4.5921 - val_loss: 67.0163 - val_mae: 6.6893\n",
      "Epoch 35/100\n",
      "10/10 [==============================] - 0s 3ms/step - loss: 40.0883 - mae: 4.5532 - val_loss: 66.4861 - val_mae: 5.9443\n",
      "Epoch 36/100\n",
      "10/10 [==============================] - 0s 2ms/step - loss: 38.4082 - mae: 4.3106 - val_loss: 65.4904 - val_mae: 6.1879\n",
      "Epoch 37/100\n",
      "10/10 [==============================] - 0s 3ms/step - loss: 38.7903 - mae: 4.3646 - val_loss: 65.2374 - val_mae: 6.3672\n",
      "Epoch 38/100\n",
      "10/10 [==============================] - 0s 3ms/step - loss: 38.0840 - mae: 4.3569 - val_loss: 64.4359 - val_mae: 6.2096\n",
      "Epoch 39/100\n",
      "10/10 [==============================] - 0s 3ms/step - loss: 37.4049 - mae: 4.2775 - val_loss: 67.4473 - val_mae: 5.8537\n",
      "Epoch 40/100\n",
      "10/10 [==============================] - 0s 2ms/step - loss: 37.5024 - mae: 4.4060 - val_loss: 68.7793 - val_mae: 5.7094\n",
      "Epoch 41/100\n",
      "10/10 [==============================] - 0s 3ms/step - loss: 40.9048 - mae: 4.5655 - val_loss: 77.2255 - val_mae: 6.0273\n",
      "Epoch 42/100\n",
      "10/10 [==============================] - 0s 2ms/step - loss: 37.9793 - mae: 4.4168 - val_loss: 67.2605 - val_mae: 5.7535\n",
      "Epoch 43/100\n",
      "10/10 [==============================] - 0s 3ms/step - loss: 35.9896 - mae: 4.2419 - val_loss: 64.7661 - val_mae: 6.5685\n",
      "Epoch 44/100\n",
      "10/10 [==============================] - 0s 3ms/step - loss: 37.0873 - mae: 4.2624 - val_loss: 64.1046 - val_mae: 6.3608\n",
      "Epoch 45/100\n",
      "10/10 [==============================] - 0s 2ms/step - loss: 36.2318 - mae: 4.2579 - val_loss: 63.5565 - val_mae: 6.0739\n",
      "Epoch 46/100\n",
      "10/10 [==============================] - 0s 3ms/step - loss: 34.5260 - mae: 4.0862 - val_loss: 62.6039 - val_mae: 6.0105\n",
      "Epoch 47/100\n",
      "10/10 [==============================] - 0s 3ms/step - loss: 34.0083 - mae: 4.1907 - val_loss: 64.7018 - val_mae: 5.7086\n",
      "Epoch 48/100\n",
      "10/10 [==============================] - 0s 3ms/step - loss: 33.8625 - mae: 4.1630 - val_loss: 69.0748 - val_mae: 5.5356\n",
      "Epoch 49/100\n",
      "10/10 [==============================] - 0s 2ms/step - loss: 35.2408 - mae: 4.2478 - val_loss: 65.4028 - val_mae: 5.7293\n",
      "Epoch 50/100\n",
      "10/10 [==============================] - 0s 3ms/step - loss: 33.2843 - mae: 4.0322 - val_loss: 66.1387 - val_mae: 5.5638\n",
      "Epoch 51/100\n",
      "10/10 [==============================] - 0s 3ms/step - loss: 32.9568 - mae: 4.0749 - val_loss: 67.4515 - val_mae: 5.6590\n",
      "Epoch 52/100\n",
      "10/10 [==============================] - 0s 2ms/step - loss: 34.0806 - mae: 4.2221 - val_loss: 68.2887 - val_mae: 5.6031\n",
      "Epoch 53/100\n",
      "10/10 [==============================] - 0s 3ms/step - loss: 34.1754 - mae: 4.2385 - val_loss: 62.5345 - val_mae: 5.8042\n",
      "Epoch 54/100\n",
      "10/10 [==============================] - 0s 2ms/step - loss: 32.9952 - mae: 4.1723 - val_loss: 62.5855 - val_mae: 5.8609\n",
      "Epoch 55/100\n",
      "10/10 [==============================] - 0s 2ms/step - loss: 31.6178 - mae: 3.9569 - val_loss: 61.9075 - val_mae: 5.9242\n",
      "Epoch 56/100\n",
      "10/10 [==============================] - 0s 2ms/step - loss: 31.3384 - mae: 4.0148 - val_loss: 62.9230 - val_mae: 6.3197\n",
      "Epoch 57/100\n",
      "10/10 [==============================] - 0s 2ms/step - loss: 31.5723 - mae: 4.0385 - val_loss: 66.0638 - val_mae: 5.6232\n",
      "Epoch 58/100\n",
      "10/10 [==============================] - 0s 2ms/step - loss: 31.9171 - mae: 4.0037 - val_loss: 62.7916 - val_mae: 6.3437\n",
      "Epoch 59/100\n",
      "10/10 [==============================] - 0s 2ms/step - loss: 30.7434 - mae: 4.0204 - val_loss: 61.8247 - val_mae: 5.8561\n",
      "Epoch 60/100\n",
      "10/10 [==============================] - 0s 2ms/step - loss: 30.7766 - mae: 3.9545 - val_loss: 61.5781 - val_mae: 6.0022\n",
      "Epoch 61/100\n",
      "10/10 [==============================] - 0s 3ms/step - loss: 31.0293 - mae: 4.0585 - val_loss: 62.0572 - val_mae: 6.2473\n",
      "Epoch 62/100\n",
      "10/10 [==============================] - 0s 2ms/step - loss: 33.6694 - mae: 4.3047 - val_loss: 61.4571 - val_mae: 5.8907\n",
      "Epoch 63/100\n",
      "10/10 [==============================] - 0s 2ms/step - loss: 29.5191 - mae: 3.8759 - val_loss: 61.3505 - val_mae: 6.0126\n",
      "Epoch 64/100\n",
      "10/10 [==============================] - 0s 2ms/step - loss: 30.6505 - mae: 4.0417 - val_loss: 60.5158 - val_mae: 5.9302\n",
      "Epoch 65/100\n",
      "10/10 [==============================] - 0s 3ms/step - loss: 29.0867 - mae: 3.8711 - val_loss: 62.6465 - val_mae: 5.6431\n",
      "Epoch 66/100\n",
      "10/10 [==============================] - 0s 2ms/step - loss: 28.7732 - mae: 3.8492 - val_loss: 61.8692 - val_mae: 5.8032\n",
      "Epoch 67/100\n",
      "10/10 [==============================] - 0s 3ms/step - loss: 29.0238 - mae: 3.8944 - val_loss: 61.0420 - val_mae: 5.7922\n",
      "Epoch 68/100\n",
      "10/10 [==============================] - 0s 2ms/step - loss: 28.4673 - mae: 3.8717 - val_loss: 60.7313 - val_mae: 5.9281\n",
      "Epoch 69/100\n",
      "10/10 [==============================] - 0s 2ms/step - loss: 28.2695 - mae: 3.8152 - val_loss: 61.2312 - val_mae: 6.0727\n",
      "Epoch 70/100\n",
      "10/10 [==============================] - 0s 2ms/step - loss: 28.3983 - mae: 3.8774 - val_loss: 61.2719 - val_mae: 6.0391\n",
      "Epoch 71/100\n",
      "10/10 [==============================] - 0s 2ms/step - loss: 29.1791 - mae: 3.9898 - val_loss: 61.4471 - val_mae: 5.7595\n",
      "Epoch 72/100\n",
      "10/10 [==============================] - 0s 2ms/step - loss: 30.2080 - mae: 4.0239 - val_loss: 71.5988 - val_mae: 5.5354\n",
      "Epoch 73/100\n",
      "10/10 [==============================] - 0s 2ms/step - loss: 30.7466 - mae: 4.0366 - val_loss: 61.9090 - val_mae: 6.2911\n",
      "Epoch 74/100\n",
      "10/10 [==============================] - 0s 3ms/step - loss: 28.3037 - mae: 3.9526 - val_loss: 63.2736 - val_mae: 6.4899\n",
      "Epoch 75/100\n",
      "10/10 [==============================] - 0s 2ms/step - loss: 30.7301 - mae: 4.0166 - val_loss: 66.3990 - val_mae: 5.6430\n",
      "Epoch 76/100\n",
      "10/10 [==============================] - 0s 2ms/step - loss: 27.8095 - mae: 3.8807 - val_loss: 67.2388 - val_mae: 5.5992\n",
      "Epoch 77/100\n",
      "10/10 [==============================] - 0s 2ms/step - loss: 28.2422 - mae: 3.8696 - val_loss: 62.4469 - val_mae: 5.8016\n",
      "Epoch 78/100\n",
      "10/10 [==============================] - 0s 3ms/step - loss: 28.7397 - mae: 3.9636 - val_loss: 62.5747 - val_mae: 6.3792\n",
      "Epoch 79/100\n",
      "10/10 [==============================] - 0s 2ms/step - loss: 29.6851 - mae: 4.1286 - val_loss: 61.2229 - val_mae: 5.7910\n",
      "Epoch 80/100\n",
      "10/10 [==============================] - 0s 2ms/step - loss: 28.6143 - mae: 3.9680 - val_loss: 69.8012 - val_mae: 5.5884\n",
      "Epoch 81/100\n",
      "10/10 [==============================] - 0s 2ms/step - loss: 29.7124 - mae: 3.9697 - val_loss: 61.3229 - val_mae: 5.7808\n",
      "Epoch 82/100\n",
      "10/10 [==============================] - 0s 2ms/step - loss: 27.2708 - mae: 3.8642 - val_loss: 60.6893 - val_mae: 5.9218\n",
      "Epoch 83/100\n",
      "10/10 [==============================] - 0s 3ms/step - loss: 27.3170 - mae: 3.8492 - val_loss: 61.5117 - val_mae: 5.8292\n",
      "Epoch 84/100\n",
      "10/10 [==============================] - 0s 2ms/step - loss: 29.0973 - mae: 3.9804 - val_loss: 75.0443 - val_mae: 5.7658\n",
      "Epoch 85/100\n",
      "10/10 [==============================] - 0s 3ms/step - loss: 28.4372 - mae: 3.8530 - val_loss: 65.8181 - val_mae: 5.7005\n",
      "Epoch 86/100\n",
      "10/10 [==============================] - 0s 2ms/step - loss: 27.3562 - mae: 3.9241 - val_loss: 65.4822 - val_mae: 5.6349\n",
      "Epoch 87/100\n",
      "10/10 [==============================] - 0s 2ms/step - loss: 26.0139 - mae: 3.7483 - val_loss: 59.9559 - val_mae: 5.9751\n",
      "Epoch 88/100\n",
      "10/10 [==============================] - 0s 2ms/step - loss: 28.9309 - mae: 4.0680 - val_loss: 60.8987 - val_mae: 6.2390\n",
      "Epoch 89/100\n",
      "10/10 [==============================] - 0s 2ms/step - loss: 26.9301 - mae: 3.8156 - val_loss: 68.7482 - val_mae: 5.6327\n",
      "Epoch 90/100\n",
      "10/10 [==============================] - 0s 3ms/step - loss: 27.6902 - mae: 3.8296 - val_loss: 67.7283 - val_mae: 5.6269\n",
      "Epoch 91/100\n",
      "10/10 [==============================] - 0s 2ms/step - loss: 25.9574 - mae: 3.7518 - val_loss: 63.2892 - val_mae: 5.6866\n",
      "Epoch 92/100\n",
      "10/10 [==============================] - 0s 2ms/step - loss: 25.9416 - mae: 3.7303 - val_loss: 60.6047 - val_mae: 6.0756\n",
      "Epoch 93/100\n",
      "10/10 [==============================] - 0s 3ms/step - loss: 26.5745 - mae: 3.8705 - val_loss: 60.1101 - val_mae: 6.1292\n",
      "Epoch 94/100\n",
      "10/10 [==============================] - 0s 2ms/step - loss: 29.3362 - mae: 4.1637 - val_loss: 62.5290 - val_mae: 5.6405\n",
      "Epoch 95/100\n",
      "10/10 [==============================] - 0s 3ms/step - loss: 25.9655 - mae: 3.7733 - val_loss: 61.7258 - val_mae: 5.6932\n",
      "Epoch 96/100\n",
      "10/10 [==============================] - 0s 2ms/step - loss: 25.1146 - mae: 3.6628 - val_loss: 60.3932 - val_mae: 5.8045\n",
      "Epoch 97/100\n",
      "10/10 [==============================] - 0s 3ms/step - loss: 25.0455 - mae: 3.7010 - val_loss: 61.0661 - val_mae: 6.2505\n",
      "Epoch 98/100\n",
      "10/10 [==============================] - 0s 3ms/step - loss: 28.3543 - mae: 4.0042 - val_loss: 75.6998 - val_mae: 5.9581\n",
      "Epoch 99/100\n",
      "10/10 [==============================] - 0s 3ms/step - loss: 29.7026 - mae: 3.9922 - val_loss: 60.6676 - val_mae: 5.6938\n",
      "Epoch 100/100\n",
      "10/10 [==============================] - 0s 3ms/step - loss: 29.4263 - mae: 4.0470 - val_loss: 59.3916 - val_mae: 6.1031\n"
     ]
    }
   ],
   "source": [
    "history = model.fit(??????)"
   ]
  },
  {
   "cell_type": "code",
   "execution_count": 34,
   "metadata": {},
   "outputs": [
    {
     "data": {
      "application/vnd.plotly.v1+json": {
       "config": {
        "plotlyServerURL": "https://plot.ly"
       },
       "data": [
        {
         "name": "Train",
         "type": "scattergl",
         "y": [
          593.2705688476562,
          555.6777954101562,
          511.97052001953125,
          452.240478515625,
          379.1575927734375,
          282.2767639160156,
          183.8805694580078,
          103.97442626953125,
          67.73991394042969,
          54.190921783447266,
          42.826210021972656,
          35.26665496826172,
          30.88597869873047,
          28.00330352783203,
          25.686767578125,
          24.02730941772461,
          22.73473358154297,
          21.481645584106445,
          20.663711547851562,
          19.63979148864746,
          18.971324920654297,
          18.213754653930664,
          17.641061782836914,
          17.015979766845703,
          16.496986389160156,
          15.968500137329102,
          15.576217651367188,
          15.150031089782715,
          14.879945755004883,
          14.43922233581543,
          14.221733093261719,
          13.816650390625,
          13.557483673095703,
          13.294501304626465,
          13.017651557922363,
          12.762802124023438,
          12.545463562011719,
          12.35604190826416,
          12.133861541748047,
          11.987342834472656,
          11.754878997802734,
          11.613901138305664,
          11.417202949523926,
          11.337808609008789,
          11.092415809631348,
          11.012704849243164,
          10.854290962219238,
          10.757572174072266,
          10.661009788513184,
          10.479281425476074,
          10.356732368469238,
          10.234230041503906,
          10.260112762451172,
          10.216251373291016,
          9.931794166564941,
          10.104360580444336,
          9.779407501220703,
          9.690897941589355,
          9.651556968688965,
          9.626117706298828,
          9.447793006896973,
          9.430590629577637,
          9.30169677734375,
          9.24205493927002,
          9.134520530700684,
          9.0943021774292,
          9.167346000671387,
          9.054187774658203,
          8.95931339263916,
          8.956640243530273,
          8.903313636779785,
          8.758129119873047,
          8.662967681884766,
          8.681526184082031,
          8.616118431091309,
          8.529067993164062,
          8.520132064819336,
          8.404189109802246,
          8.404425621032715,
          8.316882133483887,
          8.37671184539795,
          8.20239543914795,
          8.328399658203125,
          8.192673683166504,
          8.14854907989502,
          8.197278022766113,
          8.052425384521484,
          7.957518100738525,
          7.97362756729126,
          7.888804912567139,
          7.874118804931641,
          7.7936296463012695,
          7.820533752441406,
          7.738081455230713,
          7.682333946228027,
          7.637922763824463,
          7.579459190368652,
          7.519893646240234,
          7.5916972160339355,
          7.487576484680176
         ]
        },
        {
         "name": "Valid",
         "type": "scattergl",
         "y": [
          627.7230224609375,
          586.6270141601562,
          535.0238647460938,
          464.3558349609375,
          370.3481750488281,
          261.39208984375,
          150.53431701660156,
          70.92509460449219,
          39.328189849853516,
          28.43798828125,
          24.304155349731445,
          21.058727264404297,
          18.205055236816406,
          16.43720817565918,
          15.85251522064209,
          15.530497550964355,
          14.876529693603516,
          14.62001895904541,
          14.200876235961914,
          13.948009490966797,
          13.639080047607422,
          13.470067024230957,
          13.144574165344238,
          12.8160982131958,
          12.545464515686035,
          12.42897891998291,
          12.214653015136719,
          11.95529556274414,
          11.850903511047363,
          11.563165664672852,
          11.271369934082031,
          11.284193992614746,
          11.125371932983398,
          10.999998092651367,
          10.872621536254883,
          10.792598724365234,
          10.622559547424316,
          10.496820449829102,
          10.404001235961914,
          10.518900871276855,
          10.281482696533203,
          10.206751823425293,
          10.128602981567383,
          10.110546112060547,
          10.14656925201416,
          10.040451049804688,
          10.070515632629395,
          10.05599594116211,
          10.08902359008789,
          10.122910499572754,
          10.07178020477295,
          10.047271728515625,
          10.241541862487793,
          10.110379219055176,
          10.110834121704102,
          10.148824691772461,
          10.045303344726562,
          10.202458381652832,
          10.299731254577637,
          10.133861541748047,
          10.258851051330566,
          10.185131072998047,
          10.325528144836426,
          10.417778015136719,
          10.419751167297363,
          10.374741554260254,
          10.439393997192383,
          10.379679679870605,
          10.395959854125977,
          10.545040130615234,
          10.493436813354492,
          10.597497940063477,
          10.695911407470703,
          10.67460823059082,
          10.719585418701172,
          10.763145446777344,
          10.779520988464355,
          10.831296920776367,
          10.78487491607666,
          10.758026123046875,
          11.152215003967285,
          10.890026092529297,
          10.939311981201172,
          10.855937957763672,
          10.750811576843262,
          10.9677152633667,
          10.755603790283203,
          10.886131286621094,
          11.098600387573242,
          11.050951957702637,
          10.880928039550781,
          10.871416091918945,
          11.044456481933594,
          10.876667976379395,
          10.990711212158203,
          11.111371040344238,
          10.836881637573242,
          10.959442138671875,
          11.114502906799316,
          11.094974517822266
         ]
        }
       ],
       "layout": {
        "height": 500,
        "template": {
         "data": {
          "bar": [
           {
            "error_x": {
             "color": "#2a3f5f"
            },
            "error_y": {
             "color": "#2a3f5f"
            },
            "marker": {
             "line": {
              "color": "#E5ECF6",
              "width": 0.5
             },
             "pattern": {
              "fillmode": "overlay",
              "size": 10,
              "solidity": 0.2
             }
            },
            "type": "bar"
           }
          ],
          "barpolar": [
           {
            "marker": {
             "line": {
              "color": "#E5ECF6",
              "width": 0.5
             },
             "pattern": {
              "fillmode": "overlay",
              "size": 10,
              "solidity": 0.2
             }
            },
            "type": "barpolar"
           }
          ],
          "carpet": [
           {
            "aaxis": {
             "endlinecolor": "#2a3f5f",
             "gridcolor": "white",
             "linecolor": "white",
             "minorgridcolor": "white",
             "startlinecolor": "#2a3f5f"
            },
            "baxis": {
             "endlinecolor": "#2a3f5f",
             "gridcolor": "white",
             "linecolor": "white",
             "minorgridcolor": "white",
             "startlinecolor": "#2a3f5f"
            },
            "type": "carpet"
           }
          ],
          "choropleth": [
           {
            "colorbar": {
             "outlinewidth": 0,
             "ticks": ""
            },
            "type": "choropleth"
           }
          ],
          "contour": [
           {
            "colorbar": {
             "outlinewidth": 0,
             "ticks": ""
            },
            "colorscale": [
             [
              0,
              "#0d0887"
             ],
             [
              0.1111111111111111,
              "#46039f"
             ],
             [
              0.2222222222222222,
              "#7201a8"
             ],
             [
              0.3333333333333333,
              "#9c179e"
             ],
             [
              0.4444444444444444,
              "#bd3786"
             ],
             [
              0.5555555555555556,
              "#d8576b"
             ],
             [
              0.6666666666666666,
              "#ed7953"
             ],
             [
              0.7777777777777778,
              "#fb9f3a"
             ],
             [
              0.8888888888888888,
              "#fdca26"
             ],
             [
              1,
              "#f0f921"
             ]
            ],
            "type": "contour"
           }
          ],
          "contourcarpet": [
           {
            "colorbar": {
             "outlinewidth": 0,
             "ticks": ""
            },
            "type": "contourcarpet"
           }
          ],
          "heatmap": [
           {
            "colorbar": {
             "outlinewidth": 0,
             "ticks": ""
            },
            "colorscale": [
             [
              0,
              "#0d0887"
             ],
             [
              0.1111111111111111,
              "#46039f"
             ],
             [
              0.2222222222222222,
              "#7201a8"
             ],
             [
              0.3333333333333333,
              "#9c179e"
             ],
             [
              0.4444444444444444,
              "#bd3786"
             ],
             [
              0.5555555555555556,
              "#d8576b"
             ],
             [
              0.6666666666666666,
              "#ed7953"
             ],
             [
              0.7777777777777778,
              "#fb9f3a"
             ],
             [
              0.8888888888888888,
              "#fdca26"
             ],
             [
              1,
              "#f0f921"
             ]
            ],
            "type": "heatmap"
           }
          ],
          "heatmapgl": [
           {
            "colorbar": {
             "outlinewidth": 0,
             "ticks": ""
            },
            "colorscale": [
             [
              0,
              "#0d0887"
             ],
             [
              0.1111111111111111,
              "#46039f"
             ],
             [
              0.2222222222222222,
              "#7201a8"
             ],
             [
              0.3333333333333333,
              "#9c179e"
             ],
             [
              0.4444444444444444,
              "#bd3786"
             ],
             [
              0.5555555555555556,
              "#d8576b"
             ],
             [
              0.6666666666666666,
              "#ed7953"
             ],
             [
              0.7777777777777778,
              "#fb9f3a"
             ],
             [
              0.8888888888888888,
              "#fdca26"
             ],
             [
              1,
              "#f0f921"
             ]
            ],
            "type": "heatmapgl"
           }
          ],
          "histogram": [
           {
            "marker": {
             "pattern": {
              "fillmode": "overlay",
              "size": 10,
              "solidity": 0.2
             }
            },
            "type": "histogram"
           }
          ],
          "histogram2d": [
           {
            "colorbar": {
             "outlinewidth": 0,
             "ticks": ""
            },
            "colorscale": [
             [
              0,
              "#0d0887"
             ],
             [
              0.1111111111111111,
              "#46039f"
             ],
             [
              0.2222222222222222,
              "#7201a8"
             ],
             [
              0.3333333333333333,
              "#9c179e"
             ],
             [
              0.4444444444444444,
              "#bd3786"
             ],
             [
              0.5555555555555556,
              "#d8576b"
             ],
             [
              0.6666666666666666,
              "#ed7953"
             ],
             [
              0.7777777777777778,
              "#fb9f3a"
             ],
             [
              0.8888888888888888,
              "#fdca26"
             ],
             [
              1,
              "#f0f921"
             ]
            ],
            "type": "histogram2d"
           }
          ],
          "histogram2dcontour": [
           {
            "colorbar": {
             "outlinewidth": 0,
             "ticks": ""
            },
            "colorscale": [
             [
              0,
              "#0d0887"
             ],
             [
              0.1111111111111111,
              "#46039f"
             ],
             [
              0.2222222222222222,
              "#7201a8"
             ],
             [
              0.3333333333333333,
              "#9c179e"
             ],
             [
              0.4444444444444444,
              "#bd3786"
             ],
             [
              0.5555555555555556,
              "#d8576b"
             ],
             [
              0.6666666666666666,
              "#ed7953"
             ],
             [
              0.7777777777777778,
              "#fb9f3a"
             ],
             [
              0.8888888888888888,
              "#fdca26"
             ],
             [
              1,
              "#f0f921"
             ]
            ],
            "type": "histogram2dcontour"
           }
          ],
          "mesh3d": [
           {
            "colorbar": {
             "outlinewidth": 0,
             "ticks": ""
            },
            "type": "mesh3d"
           }
          ],
          "parcoords": [
           {
            "line": {
             "colorbar": {
              "outlinewidth": 0,
              "ticks": ""
             }
            },
            "type": "parcoords"
           }
          ],
          "pie": [
           {
            "automargin": true,
            "type": "pie"
           }
          ],
          "scatter": [
           {
            "marker": {
             "colorbar": {
              "outlinewidth": 0,
              "ticks": ""
             }
            },
            "type": "scatter"
           }
          ],
          "scatter3d": [
           {
            "line": {
             "colorbar": {
              "outlinewidth": 0,
              "ticks": ""
             }
            },
            "marker": {
             "colorbar": {
              "outlinewidth": 0,
              "ticks": ""
             }
            },
            "type": "scatter3d"
           }
          ],
          "scattercarpet": [
           {
            "marker": {
             "colorbar": {
              "outlinewidth": 0,
              "ticks": ""
             }
            },
            "type": "scattercarpet"
           }
          ],
          "scattergeo": [
           {
            "marker": {
             "colorbar": {
              "outlinewidth": 0,
              "ticks": ""
             }
            },
            "type": "scattergeo"
           }
          ],
          "scattergl": [
           {
            "marker": {
             "colorbar": {
              "outlinewidth": 0,
              "ticks": ""
             }
            },
            "type": "scattergl"
           }
          ],
          "scattermapbox": [
           {
            "marker": {
             "colorbar": {
              "outlinewidth": 0,
              "ticks": ""
             }
            },
            "type": "scattermapbox"
           }
          ],
          "scatterpolar": [
           {
            "marker": {
             "colorbar": {
              "outlinewidth": 0,
              "ticks": ""
             }
            },
            "type": "scatterpolar"
           }
          ],
          "scatterpolargl": [
           {
            "marker": {
             "colorbar": {
              "outlinewidth": 0,
              "ticks": ""
             }
            },
            "type": "scatterpolargl"
           }
          ],
          "scatterternary": [
           {
            "marker": {
             "colorbar": {
              "outlinewidth": 0,
              "ticks": ""
             }
            },
            "type": "scatterternary"
           }
          ],
          "surface": [
           {
            "colorbar": {
             "outlinewidth": 0,
             "ticks": ""
            },
            "colorscale": [
             [
              0,
              "#0d0887"
             ],
             [
              0.1111111111111111,
              "#46039f"
             ],
             [
              0.2222222222222222,
              "#7201a8"
             ],
             [
              0.3333333333333333,
              "#9c179e"
             ],
             [
              0.4444444444444444,
              "#bd3786"
             ],
             [
              0.5555555555555556,
              "#d8576b"
             ],
             [
              0.6666666666666666,
              "#ed7953"
             ],
             [
              0.7777777777777778,
              "#fb9f3a"
             ],
             [
              0.8888888888888888,
              "#fdca26"
             ],
             [
              1,
              "#f0f921"
             ]
            ],
            "type": "surface"
           }
          ],
          "table": [
           {
            "cells": {
             "fill": {
              "color": "#EBF0F8"
             },
             "line": {
              "color": "white"
             }
            },
            "header": {
             "fill": {
              "color": "#C8D4E3"
             },
             "line": {
              "color": "white"
             }
            },
            "type": "table"
           }
          ]
         },
         "layout": {
          "annotationdefaults": {
           "arrowcolor": "#2a3f5f",
           "arrowhead": 0,
           "arrowwidth": 1
          },
          "autotypenumbers": "strict",
          "coloraxis": {
           "colorbar": {
            "outlinewidth": 0,
            "ticks": ""
           }
          },
          "colorscale": {
           "diverging": [
            [
             0,
             "#8e0152"
            ],
            [
             0.1,
             "#c51b7d"
            ],
            [
             0.2,
             "#de77ae"
            ],
            [
             0.3,
             "#f1b6da"
            ],
            [
             0.4,
             "#fde0ef"
            ],
            [
             0.5,
             "#f7f7f7"
            ],
            [
             0.6,
             "#e6f5d0"
            ],
            [
             0.7,
             "#b8e186"
            ],
            [
             0.8,
             "#7fbc41"
            ],
            [
             0.9,
             "#4d9221"
            ],
            [
             1,
             "#276419"
            ]
           ],
           "sequential": [
            [
             0,
             "#0d0887"
            ],
            [
             0.1111111111111111,
             "#46039f"
            ],
            [
             0.2222222222222222,
             "#7201a8"
            ],
            [
             0.3333333333333333,
             "#9c179e"
            ],
            [
             0.4444444444444444,
             "#bd3786"
            ],
            [
             0.5555555555555556,
             "#d8576b"
            ],
            [
             0.6666666666666666,
             "#ed7953"
            ],
            [
             0.7777777777777778,
             "#fb9f3a"
            ],
            [
             0.8888888888888888,
             "#fdca26"
            ],
            [
             1,
             "#f0f921"
            ]
           ],
           "sequentialminus": [
            [
             0,
             "#0d0887"
            ],
            [
             0.1111111111111111,
             "#46039f"
            ],
            [
             0.2222222222222222,
             "#7201a8"
            ],
            [
             0.3333333333333333,
             "#9c179e"
            ],
            [
             0.4444444444444444,
             "#bd3786"
            ],
            [
             0.5555555555555556,
             "#d8576b"
            ],
            [
             0.6666666666666666,
             "#ed7953"
            ],
            [
             0.7777777777777778,
             "#fb9f3a"
            ],
            [
             0.8888888888888888,
             "#fdca26"
            ],
            [
             1,
             "#f0f921"
            ]
           ]
          },
          "colorway": [
           "#636efa",
           "#EF553B",
           "#00cc96",
           "#ab63fa",
           "#FFA15A",
           "#19d3f3",
           "#FF6692",
           "#B6E880",
           "#FF97FF",
           "#FECB52"
          ],
          "font": {
           "color": "#2a3f5f"
          },
          "geo": {
           "bgcolor": "white",
           "lakecolor": "white",
           "landcolor": "#E5ECF6",
           "showlakes": true,
           "showland": true,
           "subunitcolor": "white"
          },
          "hoverlabel": {
           "align": "left"
          },
          "hovermode": "closest",
          "mapbox": {
           "style": "light"
          },
          "paper_bgcolor": "white",
          "plot_bgcolor": "#E5ECF6",
          "polar": {
           "angularaxis": {
            "gridcolor": "white",
            "linecolor": "white",
            "ticks": ""
           },
           "bgcolor": "#E5ECF6",
           "radialaxis": {
            "gridcolor": "white",
            "linecolor": "white",
            "ticks": ""
           }
          },
          "scene": {
           "xaxis": {
            "backgroundcolor": "#E5ECF6",
            "gridcolor": "white",
            "gridwidth": 2,
            "linecolor": "white",
            "showbackground": true,
            "ticks": "",
            "zerolinecolor": "white"
           },
           "yaxis": {
            "backgroundcolor": "#E5ECF6",
            "gridcolor": "white",
            "gridwidth": 2,
            "linecolor": "white",
            "showbackground": true,
            "ticks": "",
            "zerolinecolor": "white"
           },
           "zaxis": {
            "backgroundcolor": "#E5ECF6",
            "gridcolor": "white",
            "gridwidth": 2,
            "linecolor": "white",
            "showbackground": true,
            "ticks": "",
            "zerolinecolor": "white"
           }
          },
          "shapedefaults": {
           "line": {
            "color": "#2a3f5f"
           }
          },
          "ternary": {
           "aaxis": {
            "gridcolor": "white",
            "linecolor": "white",
            "ticks": ""
           },
           "baxis": {
            "gridcolor": "white",
            "linecolor": "white",
            "ticks": ""
           },
           "bgcolor": "#E5ECF6",
           "caxis": {
            "gridcolor": "white",
            "linecolor": "white",
            "ticks": ""
           }
          },
          "title": {
           "x": 0.05
          },
          "xaxis": {
           "automargin": true,
           "gridcolor": "white",
           "linecolor": "white",
           "ticks": "",
           "title": {
            "standoff": 15
           },
           "zerolinecolor": "white",
           "zerolinewidth": 2
          },
          "yaxis": {
           "automargin": true,
           "gridcolor": "white",
           "linecolor": "white",
           "ticks": "",
           "title": {
            "standoff": 15
           },
           "zerolinecolor": "white",
           "zerolinewidth": 2
          }
         }
        },
        "width": 700,
        "xaxis": {
         "title": {
          "text": "Epoch"
         }
        },
        "yaxis": {
         "title": {
          "text": "Loss"
         }
        }
       }
      },
      "text/html": [
       "<div>                            <div id=\"c3eb3509-4c44-422a-b07e-406db7a507b6\" class=\"plotly-graph-div\" style=\"height:500px; width:700px;\"></div>            <script type=\"text/javascript\">                require([\"plotly\"], function(Plotly) {                    window.PLOTLYENV=window.PLOTLYENV || {};                                    if (document.getElementById(\"c3eb3509-4c44-422a-b07e-406db7a507b6\")) {                    Plotly.newPlot(                        \"c3eb3509-4c44-422a-b07e-406db7a507b6\",                        [{\"name\":\"Train\",\"y\":[593.2705688476562,555.6777954101562,511.97052001953125,452.240478515625,379.1575927734375,282.2767639160156,183.8805694580078,103.97442626953125,67.73991394042969,54.190921783447266,42.826210021972656,35.26665496826172,30.88597869873047,28.00330352783203,25.686767578125,24.02730941772461,22.73473358154297,21.481645584106445,20.663711547851562,19.63979148864746,18.971324920654297,18.213754653930664,17.641061782836914,17.015979766845703,16.496986389160156,15.968500137329102,15.576217651367188,15.150031089782715,14.879945755004883,14.43922233581543,14.221733093261719,13.816650390625,13.557483673095703,13.294501304626465,13.017651557922363,12.762802124023438,12.545463562011719,12.35604190826416,12.133861541748047,11.987342834472656,11.754878997802734,11.613901138305664,11.417202949523926,11.337808609008789,11.092415809631348,11.012704849243164,10.854290962219238,10.757572174072266,10.661009788513184,10.479281425476074,10.356732368469238,10.234230041503906,10.260112762451172,10.216251373291016,9.931794166564941,10.104360580444336,9.779407501220703,9.690897941589355,9.651556968688965,9.626117706298828,9.447793006896973,9.430590629577637,9.30169677734375,9.24205493927002,9.134520530700684,9.0943021774292,9.167346000671387,9.054187774658203,8.95931339263916,8.956640243530273,8.903313636779785,8.758129119873047,8.662967681884766,8.681526184082031,8.616118431091309,8.529067993164062,8.520132064819336,8.404189109802246,8.404425621032715,8.316882133483887,8.37671184539795,8.20239543914795,8.328399658203125,8.192673683166504,8.14854907989502,8.197278022766113,8.052425384521484,7.957518100738525,7.97362756729126,7.888804912567139,7.874118804931641,7.7936296463012695,7.820533752441406,7.738081455230713,7.682333946228027,7.637922763824463,7.579459190368652,7.519893646240234,7.5916972160339355,7.487576484680176],\"type\":\"scattergl\"},{\"name\":\"Valid\",\"y\":[627.7230224609375,586.6270141601562,535.0238647460938,464.3558349609375,370.3481750488281,261.39208984375,150.53431701660156,70.92509460449219,39.328189849853516,28.43798828125,24.304155349731445,21.058727264404297,18.205055236816406,16.43720817565918,15.85251522064209,15.530497550964355,14.876529693603516,14.62001895904541,14.200876235961914,13.948009490966797,13.639080047607422,13.470067024230957,13.144574165344238,12.8160982131958,12.545464515686035,12.42897891998291,12.214653015136719,11.95529556274414,11.850903511047363,11.563165664672852,11.271369934082031,11.284193992614746,11.125371932983398,10.999998092651367,10.872621536254883,10.792598724365234,10.622559547424316,10.496820449829102,10.404001235961914,10.518900871276855,10.281482696533203,10.206751823425293,10.128602981567383,10.110546112060547,10.14656925201416,10.040451049804688,10.070515632629395,10.05599594116211,10.08902359008789,10.122910499572754,10.07178020477295,10.047271728515625,10.241541862487793,10.110379219055176,10.110834121704102,10.148824691772461,10.045303344726562,10.202458381652832,10.299731254577637,10.133861541748047,10.258851051330566,10.185131072998047,10.325528144836426,10.417778015136719,10.419751167297363,10.374741554260254,10.439393997192383,10.379679679870605,10.395959854125977,10.545040130615234,10.493436813354492,10.597497940063477,10.695911407470703,10.67460823059082,10.719585418701172,10.763145446777344,10.779520988464355,10.831296920776367,10.78487491607666,10.758026123046875,11.152215003967285,10.890026092529297,10.939311981201172,10.855937957763672,10.750811576843262,10.9677152633667,10.755603790283203,10.886131286621094,11.098600387573242,11.050951957702637,10.880928039550781,10.871416091918945,11.044456481933594,10.876667976379395,10.990711212158203,11.111371040344238,10.836881637573242,10.959442138671875,11.114502906799316,11.094974517822266],\"type\":\"scattergl\"}],                        {\"template\":{\"data\":{\"bar\":[{\"error_x\":{\"color\":\"#2a3f5f\"},\"error_y\":{\"color\":\"#2a3f5f\"},\"marker\":{\"line\":{\"color\":\"#E5ECF6\",\"width\":0.5},\"pattern\":{\"fillmode\":\"overlay\",\"size\":10,\"solidity\":0.2}},\"type\":\"bar\"}],\"barpolar\":[{\"marker\":{\"line\":{\"color\":\"#E5ECF6\",\"width\":0.5},\"pattern\":{\"fillmode\":\"overlay\",\"size\":10,\"solidity\":0.2}},\"type\":\"barpolar\"}],\"carpet\":[{\"aaxis\":{\"endlinecolor\":\"#2a3f5f\",\"gridcolor\":\"white\",\"linecolor\":\"white\",\"minorgridcolor\":\"white\",\"startlinecolor\":\"#2a3f5f\"},\"baxis\":{\"endlinecolor\":\"#2a3f5f\",\"gridcolor\":\"white\",\"linecolor\":\"white\",\"minorgridcolor\":\"white\",\"startlinecolor\":\"#2a3f5f\"},\"type\":\"carpet\"}],\"choropleth\":[{\"colorbar\":{\"outlinewidth\":0,\"ticks\":\"\"},\"type\":\"choropleth\"}],\"contour\":[{\"colorbar\":{\"outlinewidth\":0,\"ticks\":\"\"},\"colorscale\":[[0.0,\"#0d0887\"],[0.1111111111111111,\"#46039f\"],[0.2222222222222222,\"#7201a8\"],[0.3333333333333333,\"#9c179e\"],[0.4444444444444444,\"#bd3786\"],[0.5555555555555556,\"#d8576b\"],[0.6666666666666666,\"#ed7953\"],[0.7777777777777778,\"#fb9f3a\"],[0.8888888888888888,\"#fdca26\"],[1.0,\"#f0f921\"]],\"type\":\"contour\"}],\"contourcarpet\":[{\"colorbar\":{\"outlinewidth\":0,\"ticks\":\"\"},\"type\":\"contourcarpet\"}],\"heatmap\":[{\"colorbar\":{\"outlinewidth\":0,\"ticks\":\"\"},\"colorscale\":[[0.0,\"#0d0887\"],[0.1111111111111111,\"#46039f\"],[0.2222222222222222,\"#7201a8\"],[0.3333333333333333,\"#9c179e\"],[0.4444444444444444,\"#bd3786\"],[0.5555555555555556,\"#d8576b\"],[0.6666666666666666,\"#ed7953\"],[0.7777777777777778,\"#fb9f3a\"],[0.8888888888888888,\"#fdca26\"],[1.0,\"#f0f921\"]],\"type\":\"heatmap\"}],\"heatmapgl\":[{\"colorbar\":{\"outlinewidth\":0,\"ticks\":\"\"},\"colorscale\":[[0.0,\"#0d0887\"],[0.1111111111111111,\"#46039f\"],[0.2222222222222222,\"#7201a8\"],[0.3333333333333333,\"#9c179e\"],[0.4444444444444444,\"#bd3786\"],[0.5555555555555556,\"#d8576b\"],[0.6666666666666666,\"#ed7953\"],[0.7777777777777778,\"#fb9f3a\"],[0.8888888888888888,\"#fdca26\"],[1.0,\"#f0f921\"]],\"type\":\"heatmapgl\"}],\"histogram\":[{\"marker\":{\"pattern\":{\"fillmode\":\"overlay\",\"size\":10,\"solidity\":0.2}},\"type\":\"histogram\"}],\"histogram2d\":[{\"colorbar\":{\"outlinewidth\":0,\"ticks\":\"\"},\"colorscale\":[[0.0,\"#0d0887\"],[0.1111111111111111,\"#46039f\"],[0.2222222222222222,\"#7201a8\"],[0.3333333333333333,\"#9c179e\"],[0.4444444444444444,\"#bd3786\"],[0.5555555555555556,\"#d8576b\"],[0.6666666666666666,\"#ed7953\"],[0.7777777777777778,\"#fb9f3a\"],[0.8888888888888888,\"#fdca26\"],[1.0,\"#f0f921\"]],\"type\":\"histogram2d\"}],\"histogram2dcontour\":[{\"colorbar\":{\"outlinewidth\":0,\"ticks\":\"\"},\"colorscale\":[[0.0,\"#0d0887\"],[0.1111111111111111,\"#46039f\"],[0.2222222222222222,\"#7201a8\"],[0.3333333333333333,\"#9c179e\"],[0.4444444444444444,\"#bd3786\"],[0.5555555555555556,\"#d8576b\"],[0.6666666666666666,\"#ed7953\"],[0.7777777777777778,\"#fb9f3a\"],[0.8888888888888888,\"#fdca26\"],[1.0,\"#f0f921\"]],\"type\":\"histogram2dcontour\"}],\"mesh3d\":[{\"colorbar\":{\"outlinewidth\":0,\"ticks\":\"\"},\"type\":\"mesh3d\"}],\"parcoords\":[{\"line\":{\"colorbar\":{\"outlinewidth\":0,\"ticks\":\"\"}},\"type\":\"parcoords\"}],\"pie\":[{\"automargin\":true,\"type\":\"pie\"}],\"scatter\":[{\"marker\":{\"colorbar\":{\"outlinewidth\":0,\"ticks\":\"\"}},\"type\":\"scatter\"}],\"scatter3d\":[{\"line\":{\"colorbar\":{\"outlinewidth\":0,\"ticks\":\"\"}},\"marker\":{\"colorbar\":{\"outlinewidth\":0,\"ticks\":\"\"}},\"type\":\"scatter3d\"}],\"scattercarpet\":[{\"marker\":{\"colorbar\":{\"outlinewidth\":0,\"ticks\":\"\"}},\"type\":\"scattercarpet\"}],\"scattergeo\":[{\"marker\":{\"colorbar\":{\"outlinewidth\":0,\"ticks\":\"\"}},\"type\":\"scattergeo\"}],\"scattergl\":[{\"marker\":{\"colorbar\":{\"outlinewidth\":0,\"ticks\":\"\"}},\"type\":\"scattergl\"}],\"scattermapbox\":[{\"marker\":{\"colorbar\":{\"outlinewidth\":0,\"ticks\":\"\"}},\"type\":\"scattermapbox\"}],\"scatterpolar\":[{\"marker\":{\"colorbar\":{\"outlinewidth\":0,\"ticks\":\"\"}},\"type\":\"scatterpolar\"}],\"scatterpolargl\":[{\"marker\":{\"colorbar\":{\"outlinewidth\":0,\"ticks\":\"\"}},\"type\":\"scatterpolargl\"}],\"scatterternary\":[{\"marker\":{\"colorbar\":{\"outlinewidth\":0,\"ticks\":\"\"}},\"type\":\"scatterternary\"}],\"surface\":[{\"colorbar\":{\"outlinewidth\":0,\"ticks\":\"\"},\"colorscale\":[[0.0,\"#0d0887\"],[0.1111111111111111,\"#46039f\"],[0.2222222222222222,\"#7201a8\"],[0.3333333333333333,\"#9c179e\"],[0.4444444444444444,\"#bd3786\"],[0.5555555555555556,\"#d8576b\"],[0.6666666666666666,\"#ed7953\"],[0.7777777777777778,\"#fb9f3a\"],[0.8888888888888888,\"#fdca26\"],[1.0,\"#f0f921\"]],\"type\":\"surface\"}],\"table\":[{\"cells\":{\"fill\":{\"color\":\"#EBF0F8\"},\"line\":{\"color\":\"white\"}},\"header\":{\"fill\":{\"color\":\"#C8D4E3\"},\"line\":{\"color\":\"white\"}},\"type\":\"table\"}]},\"layout\":{\"annotationdefaults\":{\"arrowcolor\":\"#2a3f5f\",\"arrowhead\":0,\"arrowwidth\":1},\"autotypenumbers\":\"strict\",\"coloraxis\":{\"colorbar\":{\"outlinewidth\":0,\"ticks\":\"\"}},\"colorscale\":{\"diverging\":[[0,\"#8e0152\"],[0.1,\"#c51b7d\"],[0.2,\"#de77ae\"],[0.3,\"#f1b6da\"],[0.4,\"#fde0ef\"],[0.5,\"#f7f7f7\"],[0.6,\"#e6f5d0\"],[0.7,\"#b8e186\"],[0.8,\"#7fbc41\"],[0.9,\"#4d9221\"],[1,\"#276419\"]],\"sequential\":[[0.0,\"#0d0887\"],[0.1111111111111111,\"#46039f\"],[0.2222222222222222,\"#7201a8\"],[0.3333333333333333,\"#9c179e\"],[0.4444444444444444,\"#bd3786\"],[0.5555555555555556,\"#d8576b\"],[0.6666666666666666,\"#ed7953\"],[0.7777777777777778,\"#fb9f3a\"],[0.8888888888888888,\"#fdca26\"],[1.0,\"#f0f921\"]],\"sequentialminus\":[[0.0,\"#0d0887\"],[0.1111111111111111,\"#46039f\"],[0.2222222222222222,\"#7201a8\"],[0.3333333333333333,\"#9c179e\"],[0.4444444444444444,\"#bd3786\"],[0.5555555555555556,\"#d8576b\"],[0.6666666666666666,\"#ed7953\"],[0.7777777777777778,\"#fb9f3a\"],[0.8888888888888888,\"#fdca26\"],[1.0,\"#f0f921\"]]},\"colorway\":[\"#636efa\",\"#EF553B\",\"#00cc96\",\"#ab63fa\",\"#FFA15A\",\"#19d3f3\",\"#FF6692\",\"#B6E880\",\"#FF97FF\",\"#FECB52\"],\"font\":{\"color\":\"#2a3f5f\"},\"geo\":{\"bgcolor\":\"white\",\"lakecolor\":\"white\",\"landcolor\":\"#E5ECF6\",\"showlakes\":true,\"showland\":true,\"subunitcolor\":\"white\"},\"hoverlabel\":{\"align\":\"left\"},\"hovermode\":\"closest\",\"mapbox\":{\"style\":\"light\"},\"paper_bgcolor\":\"white\",\"plot_bgcolor\":\"#E5ECF6\",\"polar\":{\"angularaxis\":{\"gridcolor\":\"white\",\"linecolor\":\"white\",\"ticks\":\"\"},\"bgcolor\":\"#E5ECF6\",\"radialaxis\":{\"gridcolor\":\"white\",\"linecolor\":\"white\",\"ticks\":\"\"}},\"scene\":{\"xaxis\":{\"backgroundcolor\":\"#E5ECF6\",\"gridcolor\":\"white\",\"gridwidth\":2,\"linecolor\":\"white\",\"showbackground\":true,\"ticks\":\"\",\"zerolinecolor\":\"white\"},\"yaxis\":{\"backgroundcolor\":\"#E5ECF6\",\"gridcolor\":\"white\",\"gridwidth\":2,\"linecolor\":\"white\",\"showbackground\":true,\"ticks\":\"\",\"zerolinecolor\":\"white\"},\"zaxis\":{\"backgroundcolor\":\"#E5ECF6\",\"gridcolor\":\"white\",\"gridwidth\":2,\"linecolor\":\"white\",\"showbackground\":true,\"ticks\":\"\",\"zerolinecolor\":\"white\"}},\"shapedefaults\":{\"line\":{\"color\":\"#2a3f5f\"}},\"ternary\":{\"aaxis\":{\"gridcolor\":\"white\",\"linecolor\":\"white\",\"ticks\":\"\"},\"baxis\":{\"gridcolor\":\"white\",\"linecolor\":\"white\",\"ticks\":\"\"},\"bgcolor\":\"#E5ECF6\",\"caxis\":{\"gridcolor\":\"white\",\"linecolor\":\"white\",\"ticks\":\"\"}},\"title\":{\"x\":0.05},\"xaxis\":{\"automargin\":true,\"gridcolor\":\"white\",\"linecolor\":\"white\",\"ticks\":\"\",\"title\":{\"standoff\":15},\"zerolinecolor\":\"white\",\"zerolinewidth\":2},\"yaxis\":{\"automargin\":true,\"gridcolor\":\"white\",\"linecolor\":\"white\",\"ticks\":\"\",\"title\":{\"standoff\":15},\"zerolinecolor\":\"white\",\"zerolinewidth\":2}}},\"height\":500,\"width\":700,\"xaxis\":{\"title\":{\"text\":\"Epoch\"}},\"yaxis\":{\"title\":{\"text\":\"Loss\"}}},                        {\"responsive\": true}                    ).then(function(){\n",
       "                            \n",
       "var gd = document.getElementById('c3eb3509-4c44-422a-b07e-406db7a507b6');\n",
       "var x = new MutationObserver(function (mutations, observer) {{\n",
       "        var display = window.getComputedStyle(gd).display;\n",
       "        if (!display || display === 'none') {{\n",
       "            console.log([gd, 'removed!']);\n",
       "            Plotly.purge(gd);\n",
       "            observer.disconnect();\n",
       "        }}\n",
       "}});\n",
       "\n",
       "// Listen for the removal of the full notebook cells\n",
       "var notebookContainer = gd.closest('#notebook-container');\n",
       "if (notebookContainer) {{\n",
       "    x.observe(notebookContainer, {childList: true});\n",
       "}}\n",
       "\n",
       "// Listen for the clearing of the current output cell\n",
       "var outputEl = gd.closest('.output');\n",
       "if (outputEl) {{\n",
       "    x.observe(outputEl, {childList: true});\n",
       "}}\n",
       "\n",
       "                        })                };                });            </script>        </div>"
      ]
     },
     "metadata": {},
     "output_type": "display_data"
    }
   ],
   "source": [
    "import plotly.graph_objects as go\n",
    "\n",
    "fig = go.Figure()\n",
    "fig.add_trace(go.Scattergl(y=history.history['loss'],name='Train'))\n",
    "fig.add_trace(go.Scattergl(y=history.history['val_loss'],name='Valid'))\n",
    "fig.update_layout(height=500, width=700,xaxis_title='Epoch',yaxis_title='Loss')\n",
    "fig.show()"
   ]
  },
  {
   "cell_type": "code",
   "execution_count": 35,
   "metadata": {},
   "outputs": [
    {
     "data": {
      "application/vnd.plotly.v1+json": {
       "config": {
        "plotlyServerURL": "https://plot.ly"
       },
       "data": [
        {
         "name": "Train",
         "type": "scattergl",
         "y": [
          22.52400779724121,
          21.665613174438477,
          20.653505325317383,
          19.259069442749023,
          17.347023010253906,
          14.687475204467773,
          11.366388320922852,
          8.229757308959961,
          6.3173604011535645,
          5.5223894119262695,
          4.8867106437683105,
          4.394484519958496,
          4.1271257400512695,
          3.9230568408966064,
          3.748056411743164,
          3.598475456237793,
          3.489682674407959,
          3.3848085403442383,
          3.295501947402954,
          3.2259488105773926,
          3.161529064178467,
          3.0853781700134277,
          3.021192789077759,
          2.9695193767547607,
          2.9204037189483643,
          2.883880376815796,
          2.8420069217681885,
          2.804370880126953,
          2.7653250694274902,
          2.7340762615203857,
          2.7182602882385254,
          2.676942825317383,
          2.660076856613159,
          2.6295723915100098,
          2.5994040966033936,
          2.5700669288635254,
          2.5495412349700928,
          2.5357089042663574,
          2.511509656906128,
          2.4892690181732178,
          2.4623806476593018,
          2.456244707107544,
          2.4373619556427,
          2.430056571960449,
          2.4003801345825195,
          2.393765449523926,
          2.377535343170166,
          2.3559224605560303,
          2.3520946502685547,
          2.3417630195617676,
          2.3214941024780273,
          2.305629014968872,
          2.3198049068450928,
          2.3126096725463867,
          2.2799088954925537,
          2.271409749984741,
          2.2608742713928223,
          2.2548043727874756,
          2.255990505218506,
          2.2388744354248047,
          2.2147154808044434,
          2.2269670963287354,
          2.2099545001983643,
          2.199570655822754,
          2.1806399822235107,
          2.1712543964385986,
          2.197558879852295,
          2.1683011054992676,
          2.148247241973877,
          2.171013116836548,
          2.144538640975952,
          2.115891933441162,
          2.128406286239624,
          2.129244565963745,
          2.1175920963287354,
          2.098527193069458,
          2.0985043048858643,
          2.0850257873535156,
          2.0879056453704834,
          2.0655128955841064,
          2.0940775871276855,
          2.061863660812378,
          2.0693554878234863,
          2.049853801727295,
          2.047335147857666,
          2.073131561279297,
          2.0251095294952393,
          2.0202128887176514,
          2.0382628440856934,
          2.016965866088867,
          2.0024912357330322,
          2.000398874282837,
          2.008328914642334,
          1.9823940992355347,
          1.9796950817108154,
          1.9891483783721924,
          1.9724950790405273,
          1.9607990980148315,
          1.9797006845474243,
          1.96515953540802
         ]
        },
        {
         "name": "Valid",
         "type": "scattergl",
         "y": [
          23.26323699951172,
          22.39430809020996,
          21.29578971862793,
          19.721778869628906,
          17.427080154418945,
          14.31279182434082,
          10.311088562011719,
          6.6066718101501465,
          4.779891014099121,
          4.074281692504883,
          3.763800621032715,
          3.4728879928588867,
          3.161700487136841,
          2.877342700958252,
          2.815868616104126,
          2.785985231399536,
          2.7250185012817383,
          2.6886308193206787,
          2.67124605178833,
          2.6535346508026123,
          2.6505491733551025,
          2.6207380294799805,
          2.616154670715332,
          2.595775604248047,
          2.587946653366089,
          2.57631516456604,
          2.570925712585449,
          2.5539450645446777,
          2.514869451522827,
          2.544858694076538,
          2.520848035812378,
          2.4984841346740723,
          2.4936888217926025,
          2.4541091918945312,
          2.416078567504883,
          2.4104502201080322,
          2.4217684268951416,
          2.3912317752838135,
          2.3650424480438232,
          2.3354814052581787,
          2.3287346363067627,
          2.325932025909424,
          2.307438611984253,
          2.301409959793091,
          2.2974462509155273,
          2.2755212783813477,
          2.2983713150024414,
          2.2825002670288086,
          2.338501214981079,
          2.3020637035369873,
          2.3020102977752686,
          2.298844337463379,
          2.2921860218048096,
          2.3517637252807617,
          2.3123552799224854,
          2.245537519454956,
          2.3270883560180664,
          2.3462302684783936,
          2.3530592918395996,
          2.267874002456665,
          2.340461254119873,
          2.3239529132843018,
          2.349813222885132,
          2.3471765518188477,
          2.32822322845459,
          2.3242807388305664,
          2.3754968643188477,
          2.29996395111084,
          2.3130857944488525,
          2.3871164321899414,
          2.2893781661987305,
          2.3138036727905273,
          2.364435911178589,
          2.3742215633392334,
          2.32216739654541,
          2.3295419216156006,
          2.335109233856201,
          2.3478994369506836,
          2.2912094593048096,
          2.319105625152588,
          2.3914239406585693,
          2.2958765029907227,
          2.2741034030914307,
          2.3510870933532715,
          2.2868707180023193,
          2.3175997734069824,
          2.2986087799072266,
          2.324007749557495,
          2.346724510192871,
          2.288642644882202,
          2.2685420513153076,
          2.3167810440063477,
          2.3102235794067383,
          2.2538869380950928,
          2.318065643310547,
          2.317317008972168,
          2.271023750305176,
          2.2897119522094727,
          2.302612781524658,
          2.330812692642212
         ]
        }
       ],
       "layout": {
        "height": 500,
        "template": {
         "data": {
          "bar": [
           {
            "error_x": {
             "color": "#2a3f5f"
            },
            "error_y": {
             "color": "#2a3f5f"
            },
            "marker": {
             "line": {
              "color": "#E5ECF6",
              "width": 0.5
             },
             "pattern": {
              "fillmode": "overlay",
              "size": 10,
              "solidity": 0.2
             }
            },
            "type": "bar"
           }
          ],
          "barpolar": [
           {
            "marker": {
             "line": {
              "color": "#E5ECF6",
              "width": 0.5
             },
             "pattern": {
              "fillmode": "overlay",
              "size": 10,
              "solidity": 0.2
             }
            },
            "type": "barpolar"
           }
          ],
          "carpet": [
           {
            "aaxis": {
             "endlinecolor": "#2a3f5f",
             "gridcolor": "white",
             "linecolor": "white",
             "minorgridcolor": "white",
             "startlinecolor": "#2a3f5f"
            },
            "baxis": {
             "endlinecolor": "#2a3f5f",
             "gridcolor": "white",
             "linecolor": "white",
             "minorgridcolor": "white",
             "startlinecolor": "#2a3f5f"
            },
            "type": "carpet"
           }
          ],
          "choropleth": [
           {
            "colorbar": {
             "outlinewidth": 0,
             "ticks": ""
            },
            "type": "choropleth"
           }
          ],
          "contour": [
           {
            "colorbar": {
             "outlinewidth": 0,
             "ticks": ""
            },
            "colorscale": [
             [
              0,
              "#0d0887"
             ],
             [
              0.1111111111111111,
              "#46039f"
             ],
             [
              0.2222222222222222,
              "#7201a8"
             ],
             [
              0.3333333333333333,
              "#9c179e"
             ],
             [
              0.4444444444444444,
              "#bd3786"
             ],
             [
              0.5555555555555556,
              "#d8576b"
             ],
             [
              0.6666666666666666,
              "#ed7953"
             ],
             [
              0.7777777777777778,
              "#fb9f3a"
             ],
             [
              0.8888888888888888,
              "#fdca26"
             ],
             [
              1,
              "#f0f921"
             ]
            ],
            "type": "contour"
           }
          ],
          "contourcarpet": [
           {
            "colorbar": {
             "outlinewidth": 0,
             "ticks": ""
            },
            "type": "contourcarpet"
           }
          ],
          "heatmap": [
           {
            "colorbar": {
             "outlinewidth": 0,
             "ticks": ""
            },
            "colorscale": [
             [
              0,
              "#0d0887"
             ],
             [
              0.1111111111111111,
              "#46039f"
             ],
             [
              0.2222222222222222,
              "#7201a8"
             ],
             [
              0.3333333333333333,
              "#9c179e"
             ],
             [
              0.4444444444444444,
              "#bd3786"
             ],
             [
              0.5555555555555556,
              "#d8576b"
             ],
             [
              0.6666666666666666,
              "#ed7953"
             ],
             [
              0.7777777777777778,
              "#fb9f3a"
             ],
             [
              0.8888888888888888,
              "#fdca26"
             ],
             [
              1,
              "#f0f921"
             ]
            ],
            "type": "heatmap"
           }
          ],
          "heatmapgl": [
           {
            "colorbar": {
             "outlinewidth": 0,
             "ticks": ""
            },
            "colorscale": [
             [
              0,
              "#0d0887"
             ],
             [
              0.1111111111111111,
              "#46039f"
             ],
             [
              0.2222222222222222,
              "#7201a8"
             ],
             [
              0.3333333333333333,
              "#9c179e"
             ],
             [
              0.4444444444444444,
              "#bd3786"
             ],
             [
              0.5555555555555556,
              "#d8576b"
             ],
             [
              0.6666666666666666,
              "#ed7953"
             ],
             [
              0.7777777777777778,
              "#fb9f3a"
             ],
             [
              0.8888888888888888,
              "#fdca26"
             ],
             [
              1,
              "#f0f921"
             ]
            ],
            "type": "heatmapgl"
           }
          ],
          "histogram": [
           {
            "marker": {
             "pattern": {
              "fillmode": "overlay",
              "size": 10,
              "solidity": 0.2
             }
            },
            "type": "histogram"
           }
          ],
          "histogram2d": [
           {
            "colorbar": {
             "outlinewidth": 0,
             "ticks": ""
            },
            "colorscale": [
             [
              0,
              "#0d0887"
             ],
             [
              0.1111111111111111,
              "#46039f"
             ],
             [
              0.2222222222222222,
              "#7201a8"
             ],
             [
              0.3333333333333333,
              "#9c179e"
             ],
             [
              0.4444444444444444,
              "#bd3786"
             ],
             [
              0.5555555555555556,
              "#d8576b"
             ],
             [
              0.6666666666666666,
              "#ed7953"
             ],
             [
              0.7777777777777778,
              "#fb9f3a"
             ],
             [
              0.8888888888888888,
              "#fdca26"
             ],
             [
              1,
              "#f0f921"
             ]
            ],
            "type": "histogram2d"
           }
          ],
          "histogram2dcontour": [
           {
            "colorbar": {
             "outlinewidth": 0,
             "ticks": ""
            },
            "colorscale": [
             [
              0,
              "#0d0887"
             ],
             [
              0.1111111111111111,
              "#46039f"
             ],
             [
              0.2222222222222222,
              "#7201a8"
             ],
             [
              0.3333333333333333,
              "#9c179e"
             ],
             [
              0.4444444444444444,
              "#bd3786"
             ],
             [
              0.5555555555555556,
              "#d8576b"
             ],
             [
              0.6666666666666666,
              "#ed7953"
             ],
             [
              0.7777777777777778,
              "#fb9f3a"
             ],
             [
              0.8888888888888888,
              "#fdca26"
             ],
             [
              1,
              "#f0f921"
             ]
            ],
            "type": "histogram2dcontour"
           }
          ],
          "mesh3d": [
           {
            "colorbar": {
             "outlinewidth": 0,
             "ticks": ""
            },
            "type": "mesh3d"
           }
          ],
          "parcoords": [
           {
            "line": {
             "colorbar": {
              "outlinewidth": 0,
              "ticks": ""
             }
            },
            "type": "parcoords"
           }
          ],
          "pie": [
           {
            "automargin": true,
            "type": "pie"
           }
          ],
          "scatter": [
           {
            "marker": {
             "colorbar": {
              "outlinewidth": 0,
              "ticks": ""
             }
            },
            "type": "scatter"
           }
          ],
          "scatter3d": [
           {
            "line": {
             "colorbar": {
              "outlinewidth": 0,
              "ticks": ""
             }
            },
            "marker": {
             "colorbar": {
              "outlinewidth": 0,
              "ticks": ""
             }
            },
            "type": "scatter3d"
           }
          ],
          "scattercarpet": [
           {
            "marker": {
             "colorbar": {
              "outlinewidth": 0,
              "ticks": ""
             }
            },
            "type": "scattercarpet"
           }
          ],
          "scattergeo": [
           {
            "marker": {
             "colorbar": {
              "outlinewidth": 0,
              "ticks": ""
             }
            },
            "type": "scattergeo"
           }
          ],
          "scattergl": [
           {
            "marker": {
             "colorbar": {
              "outlinewidth": 0,
              "ticks": ""
             }
            },
            "type": "scattergl"
           }
          ],
          "scattermapbox": [
           {
            "marker": {
             "colorbar": {
              "outlinewidth": 0,
              "ticks": ""
             }
            },
            "type": "scattermapbox"
           }
          ],
          "scatterpolar": [
           {
            "marker": {
             "colorbar": {
              "outlinewidth": 0,
              "ticks": ""
             }
            },
            "type": "scatterpolar"
           }
          ],
          "scatterpolargl": [
           {
            "marker": {
             "colorbar": {
              "outlinewidth": 0,
              "ticks": ""
             }
            },
            "type": "scatterpolargl"
           }
          ],
          "scatterternary": [
           {
            "marker": {
             "colorbar": {
              "outlinewidth": 0,
              "ticks": ""
             }
            },
            "type": "scatterternary"
           }
          ],
          "surface": [
           {
            "colorbar": {
             "outlinewidth": 0,
             "ticks": ""
            },
            "colorscale": [
             [
              0,
              "#0d0887"
             ],
             [
              0.1111111111111111,
              "#46039f"
             ],
             [
              0.2222222222222222,
              "#7201a8"
             ],
             [
              0.3333333333333333,
              "#9c179e"
             ],
             [
              0.4444444444444444,
              "#bd3786"
             ],
             [
              0.5555555555555556,
              "#d8576b"
             ],
             [
              0.6666666666666666,
              "#ed7953"
             ],
             [
              0.7777777777777778,
              "#fb9f3a"
             ],
             [
              0.8888888888888888,
              "#fdca26"
             ],
             [
              1,
              "#f0f921"
             ]
            ],
            "type": "surface"
           }
          ],
          "table": [
           {
            "cells": {
             "fill": {
              "color": "#EBF0F8"
             },
             "line": {
              "color": "white"
             }
            },
            "header": {
             "fill": {
              "color": "#C8D4E3"
             },
             "line": {
              "color": "white"
             }
            },
            "type": "table"
           }
          ]
         },
         "layout": {
          "annotationdefaults": {
           "arrowcolor": "#2a3f5f",
           "arrowhead": 0,
           "arrowwidth": 1
          },
          "autotypenumbers": "strict",
          "coloraxis": {
           "colorbar": {
            "outlinewidth": 0,
            "ticks": ""
           }
          },
          "colorscale": {
           "diverging": [
            [
             0,
             "#8e0152"
            ],
            [
             0.1,
             "#c51b7d"
            ],
            [
             0.2,
             "#de77ae"
            ],
            [
             0.3,
             "#f1b6da"
            ],
            [
             0.4,
             "#fde0ef"
            ],
            [
             0.5,
             "#f7f7f7"
            ],
            [
             0.6,
             "#e6f5d0"
            ],
            [
             0.7,
             "#b8e186"
            ],
            [
             0.8,
             "#7fbc41"
            ],
            [
             0.9,
             "#4d9221"
            ],
            [
             1,
             "#276419"
            ]
           ],
           "sequential": [
            [
             0,
             "#0d0887"
            ],
            [
             0.1111111111111111,
             "#46039f"
            ],
            [
             0.2222222222222222,
             "#7201a8"
            ],
            [
             0.3333333333333333,
             "#9c179e"
            ],
            [
             0.4444444444444444,
             "#bd3786"
            ],
            [
             0.5555555555555556,
             "#d8576b"
            ],
            [
             0.6666666666666666,
             "#ed7953"
            ],
            [
             0.7777777777777778,
             "#fb9f3a"
            ],
            [
             0.8888888888888888,
             "#fdca26"
            ],
            [
             1,
             "#f0f921"
            ]
           ],
           "sequentialminus": [
            [
             0,
             "#0d0887"
            ],
            [
             0.1111111111111111,
             "#46039f"
            ],
            [
             0.2222222222222222,
             "#7201a8"
            ],
            [
             0.3333333333333333,
             "#9c179e"
            ],
            [
             0.4444444444444444,
             "#bd3786"
            ],
            [
             0.5555555555555556,
             "#d8576b"
            ],
            [
             0.6666666666666666,
             "#ed7953"
            ],
            [
             0.7777777777777778,
             "#fb9f3a"
            ],
            [
             0.8888888888888888,
             "#fdca26"
            ],
            [
             1,
             "#f0f921"
            ]
           ]
          },
          "colorway": [
           "#636efa",
           "#EF553B",
           "#00cc96",
           "#ab63fa",
           "#FFA15A",
           "#19d3f3",
           "#FF6692",
           "#B6E880",
           "#FF97FF",
           "#FECB52"
          ],
          "font": {
           "color": "#2a3f5f"
          },
          "geo": {
           "bgcolor": "white",
           "lakecolor": "white",
           "landcolor": "#E5ECF6",
           "showlakes": true,
           "showland": true,
           "subunitcolor": "white"
          },
          "hoverlabel": {
           "align": "left"
          },
          "hovermode": "closest",
          "mapbox": {
           "style": "light"
          },
          "paper_bgcolor": "white",
          "plot_bgcolor": "#E5ECF6",
          "polar": {
           "angularaxis": {
            "gridcolor": "white",
            "linecolor": "white",
            "ticks": ""
           },
           "bgcolor": "#E5ECF6",
           "radialaxis": {
            "gridcolor": "white",
            "linecolor": "white",
            "ticks": ""
           }
          },
          "scene": {
           "xaxis": {
            "backgroundcolor": "#E5ECF6",
            "gridcolor": "white",
            "gridwidth": 2,
            "linecolor": "white",
            "showbackground": true,
            "ticks": "",
            "zerolinecolor": "white"
           },
           "yaxis": {
            "backgroundcolor": "#E5ECF6",
            "gridcolor": "white",
            "gridwidth": 2,
            "linecolor": "white",
            "showbackground": true,
            "ticks": "",
            "zerolinecolor": "white"
           },
           "zaxis": {
            "backgroundcolor": "#E5ECF6",
            "gridcolor": "white",
            "gridwidth": 2,
            "linecolor": "white",
            "showbackground": true,
            "ticks": "",
            "zerolinecolor": "white"
           }
          },
          "shapedefaults": {
           "line": {
            "color": "#2a3f5f"
           }
          },
          "ternary": {
           "aaxis": {
            "gridcolor": "white",
            "linecolor": "white",
            "ticks": ""
           },
           "baxis": {
            "gridcolor": "white",
            "linecolor": "white",
            "ticks": ""
           },
           "bgcolor": "#E5ECF6",
           "caxis": {
            "gridcolor": "white",
            "linecolor": "white",
            "ticks": ""
           }
          },
          "title": {
           "x": 0.05
          },
          "xaxis": {
           "automargin": true,
           "gridcolor": "white",
           "linecolor": "white",
           "ticks": "",
           "title": {
            "standoff": 15
           },
           "zerolinecolor": "white",
           "zerolinewidth": 2
          },
          "yaxis": {
           "automargin": true,
           "gridcolor": "white",
           "linecolor": "white",
           "ticks": "",
           "title": {
            "standoff": 15
           },
           "zerolinecolor": "white",
           "zerolinewidth": 2
          }
         }
        },
        "width": 700,
        "xaxis": {
         "title": {
          "text": "Epoch"
         }
        },
        "yaxis": {
         "title": {
          "text": "mae"
         }
        }
       }
      },
      "text/html": [
       "<div>                            <div id=\"b7a442f6-fab9-4907-8c06-4c8ab13a927e\" class=\"plotly-graph-div\" style=\"height:500px; width:700px;\"></div>            <script type=\"text/javascript\">                require([\"plotly\"], function(Plotly) {                    window.PLOTLYENV=window.PLOTLYENV || {};                                    if (document.getElementById(\"b7a442f6-fab9-4907-8c06-4c8ab13a927e\")) {                    Plotly.newPlot(                        \"b7a442f6-fab9-4907-8c06-4c8ab13a927e\",                        [{\"name\":\"Train\",\"y\":[22.52400779724121,21.665613174438477,20.653505325317383,19.259069442749023,17.347023010253906,14.687475204467773,11.366388320922852,8.229757308959961,6.3173604011535645,5.5223894119262695,4.8867106437683105,4.394484519958496,4.1271257400512695,3.9230568408966064,3.748056411743164,3.598475456237793,3.489682674407959,3.3848085403442383,3.295501947402954,3.2259488105773926,3.161529064178467,3.0853781700134277,3.021192789077759,2.9695193767547607,2.9204037189483643,2.883880376815796,2.8420069217681885,2.804370880126953,2.7653250694274902,2.7340762615203857,2.7182602882385254,2.676942825317383,2.660076856613159,2.6295723915100098,2.5994040966033936,2.5700669288635254,2.5495412349700928,2.5357089042663574,2.511509656906128,2.4892690181732178,2.4623806476593018,2.456244707107544,2.4373619556427,2.430056571960449,2.4003801345825195,2.393765449523926,2.377535343170166,2.3559224605560303,2.3520946502685547,2.3417630195617676,2.3214941024780273,2.305629014968872,2.3198049068450928,2.3126096725463867,2.2799088954925537,2.271409749984741,2.2608742713928223,2.2548043727874756,2.255990505218506,2.2388744354248047,2.2147154808044434,2.2269670963287354,2.2099545001983643,2.199570655822754,2.1806399822235107,2.1712543964385986,2.197558879852295,2.1683011054992676,2.148247241973877,2.171013116836548,2.144538640975952,2.115891933441162,2.128406286239624,2.129244565963745,2.1175920963287354,2.098527193069458,2.0985043048858643,2.0850257873535156,2.0879056453704834,2.0655128955841064,2.0940775871276855,2.061863660812378,2.0693554878234863,2.049853801727295,2.047335147857666,2.073131561279297,2.0251095294952393,2.0202128887176514,2.0382628440856934,2.016965866088867,2.0024912357330322,2.000398874282837,2.008328914642334,1.9823940992355347,1.9796950817108154,1.9891483783721924,1.9724950790405273,1.9607990980148315,1.9797006845474243,1.96515953540802],\"type\":\"scattergl\"},{\"name\":\"Valid\",\"y\":[23.26323699951172,22.39430809020996,21.29578971862793,19.721778869628906,17.427080154418945,14.31279182434082,10.311088562011719,6.6066718101501465,4.779891014099121,4.074281692504883,3.763800621032715,3.4728879928588867,3.161700487136841,2.877342700958252,2.815868616104126,2.785985231399536,2.7250185012817383,2.6886308193206787,2.67124605178833,2.6535346508026123,2.6505491733551025,2.6207380294799805,2.616154670715332,2.595775604248047,2.587946653366089,2.57631516456604,2.570925712585449,2.5539450645446777,2.514869451522827,2.544858694076538,2.520848035812378,2.4984841346740723,2.4936888217926025,2.4541091918945312,2.416078567504883,2.4104502201080322,2.4217684268951416,2.3912317752838135,2.3650424480438232,2.3354814052581787,2.3287346363067627,2.325932025909424,2.307438611984253,2.301409959793091,2.2974462509155273,2.2755212783813477,2.2983713150024414,2.2825002670288086,2.338501214981079,2.3020637035369873,2.3020102977752686,2.298844337463379,2.2921860218048096,2.3517637252807617,2.3123552799224854,2.245537519454956,2.3270883560180664,2.3462302684783936,2.3530592918395996,2.267874002456665,2.340461254119873,2.3239529132843018,2.349813222885132,2.3471765518188477,2.32822322845459,2.3242807388305664,2.3754968643188477,2.29996395111084,2.3130857944488525,2.3871164321899414,2.2893781661987305,2.3138036727905273,2.364435911178589,2.3742215633392334,2.32216739654541,2.3295419216156006,2.335109233856201,2.3478994369506836,2.2912094593048096,2.319105625152588,2.3914239406585693,2.2958765029907227,2.2741034030914307,2.3510870933532715,2.2868707180023193,2.3175997734069824,2.2986087799072266,2.324007749557495,2.346724510192871,2.288642644882202,2.2685420513153076,2.3167810440063477,2.3102235794067383,2.2538869380950928,2.318065643310547,2.317317008972168,2.271023750305176,2.2897119522094727,2.302612781524658,2.330812692642212],\"type\":\"scattergl\"}],                        {\"template\":{\"data\":{\"bar\":[{\"error_x\":{\"color\":\"#2a3f5f\"},\"error_y\":{\"color\":\"#2a3f5f\"},\"marker\":{\"line\":{\"color\":\"#E5ECF6\",\"width\":0.5},\"pattern\":{\"fillmode\":\"overlay\",\"size\":10,\"solidity\":0.2}},\"type\":\"bar\"}],\"barpolar\":[{\"marker\":{\"line\":{\"color\":\"#E5ECF6\",\"width\":0.5},\"pattern\":{\"fillmode\":\"overlay\",\"size\":10,\"solidity\":0.2}},\"type\":\"barpolar\"}],\"carpet\":[{\"aaxis\":{\"endlinecolor\":\"#2a3f5f\",\"gridcolor\":\"white\",\"linecolor\":\"white\",\"minorgridcolor\":\"white\",\"startlinecolor\":\"#2a3f5f\"},\"baxis\":{\"endlinecolor\":\"#2a3f5f\",\"gridcolor\":\"white\",\"linecolor\":\"white\",\"minorgridcolor\":\"white\",\"startlinecolor\":\"#2a3f5f\"},\"type\":\"carpet\"}],\"choropleth\":[{\"colorbar\":{\"outlinewidth\":0,\"ticks\":\"\"},\"type\":\"choropleth\"}],\"contour\":[{\"colorbar\":{\"outlinewidth\":0,\"ticks\":\"\"},\"colorscale\":[[0.0,\"#0d0887\"],[0.1111111111111111,\"#46039f\"],[0.2222222222222222,\"#7201a8\"],[0.3333333333333333,\"#9c179e\"],[0.4444444444444444,\"#bd3786\"],[0.5555555555555556,\"#d8576b\"],[0.6666666666666666,\"#ed7953\"],[0.7777777777777778,\"#fb9f3a\"],[0.8888888888888888,\"#fdca26\"],[1.0,\"#f0f921\"]],\"type\":\"contour\"}],\"contourcarpet\":[{\"colorbar\":{\"outlinewidth\":0,\"ticks\":\"\"},\"type\":\"contourcarpet\"}],\"heatmap\":[{\"colorbar\":{\"outlinewidth\":0,\"ticks\":\"\"},\"colorscale\":[[0.0,\"#0d0887\"],[0.1111111111111111,\"#46039f\"],[0.2222222222222222,\"#7201a8\"],[0.3333333333333333,\"#9c179e\"],[0.4444444444444444,\"#bd3786\"],[0.5555555555555556,\"#d8576b\"],[0.6666666666666666,\"#ed7953\"],[0.7777777777777778,\"#fb9f3a\"],[0.8888888888888888,\"#fdca26\"],[1.0,\"#f0f921\"]],\"type\":\"heatmap\"}],\"heatmapgl\":[{\"colorbar\":{\"outlinewidth\":0,\"ticks\":\"\"},\"colorscale\":[[0.0,\"#0d0887\"],[0.1111111111111111,\"#46039f\"],[0.2222222222222222,\"#7201a8\"],[0.3333333333333333,\"#9c179e\"],[0.4444444444444444,\"#bd3786\"],[0.5555555555555556,\"#d8576b\"],[0.6666666666666666,\"#ed7953\"],[0.7777777777777778,\"#fb9f3a\"],[0.8888888888888888,\"#fdca26\"],[1.0,\"#f0f921\"]],\"type\":\"heatmapgl\"}],\"histogram\":[{\"marker\":{\"pattern\":{\"fillmode\":\"overlay\",\"size\":10,\"solidity\":0.2}},\"type\":\"histogram\"}],\"histogram2d\":[{\"colorbar\":{\"outlinewidth\":0,\"ticks\":\"\"},\"colorscale\":[[0.0,\"#0d0887\"],[0.1111111111111111,\"#46039f\"],[0.2222222222222222,\"#7201a8\"],[0.3333333333333333,\"#9c179e\"],[0.4444444444444444,\"#bd3786\"],[0.5555555555555556,\"#d8576b\"],[0.6666666666666666,\"#ed7953\"],[0.7777777777777778,\"#fb9f3a\"],[0.8888888888888888,\"#fdca26\"],[1.0,\"#f0f921\"]],\"type\":\"histogram2d\"}],\"histogram2dcontour\":[{\"colorbar\":{\"outlinewidth\":0,\"ticks\":\"\"},\"colorscale\":[[0.0,\"#0d0887\"],[0.1111111111111111,\"#46039f\"],[0.2222222222222222,\"#7201a8\"],[0.3333333333333333,\"#9c179e\"],[0.4444444444444444,\"#bd3786\"],[0.5555555555555556,\"#d8576b\"],[0.6666666666666666,\"#ed7953\"],[0.7777777777777778,\"#fb9f3a\"],[0.8888888888888888,\"#fdca26\"],[1.0,\"#f0f921\"]],\"type\":\"histogram2dcontour\"}],\"mesh3d\":[{\"colorbar\":{\"outlinewidth\":0,\"ticks\":\"\"},\"type\":\"mesh3d\"}],\"parcoords\":[{\"line\":{\"colorbar\":{\"outlinewidth\":0,\"ticks\":\"\"}},\"type\":\"parcoords\"}],\"pie\":[{\"automargin\":true,\"type\":\"pie\"}],\"scatter\":[{\"marker\":{\"colorbar\":{\"outlinewidth\":0,\"ticks\":\"\"}},\"type\":\"scatter\"}],\"scatter3d\":[{\"line\":{\"colorbar\":{\"outlinewidth\":0,\"ticks\":\"\"}},\"marker\":{\"colorbar\":{\"outlinewidth\":0,\"ticks\":\"\"}},\"type\":\"scatter3d\"}],\"scattercarpet\":[{\"marker\":{\"colorbar\":{\"outlinewidth\":0,\"ticks\":\"\"}},\"type\":\"scattercarpet\"}],\"scattergeo\":[{\"marker\":{\"colorbar\":{\"outlinewidth\":0,\"ticks\":\"\"}},\"type\":\"scattergeo\"}],\"scattergl\":[{\"marker\":{\"colorbar\":{\"outlinewidth\":0,\"ticks\":\"\"}},\"type\":\"scattergl\"}],\"scattermapbox\":[{\"marker\":{\"colorbar\":{\"outlinewidth\":0,\"ticks\":\"\"}},\"type\":\"scattermapbox\"}],\"scatterpolar\":[{\"marker\":{\"colorbar\":{\"outlinewidth\":0,\"ticks\":\"\"}},\"type\":\"scatterpolar\"}],\"scatterpolargl\":[{\"marker\":{\"colorbar\":{\"outlinewidth\":0,\"ticks\":\"\"}},\"type\":\"scatterpolargl\"}],\"scatterternary\":[{\"marker\":{\"colorbar\":{\"outlinewidth\":0,\"ticks\":\"\"}},\"type\":\"scatterternary\"}],\"surface\":[{\"colorbar\":{\"outlinewidth\":0,\"ticks\":\"\"},\"colorscale\":[[0.0,\"#0d0887\"],[0.1111111111111111,\"#46039f\"],[0.2222222222222222,\"#7201a8\"],[0.3333333333333333,\"#9c179e\"],[0.4444444444444444,\"#bd3786\"],[0.5555555555555556,\"#d8576b\"],[0.6666666666666666,\"#ed7953\"],[0.7777777777777778,\"#fb9f3a\"],[0.8888888888888888,\"#fdca26\"],[1.0,\"#f0f921\"]],\"type\":\"surface\"}],\"table\":[{\"cells\":{\"fill\":{\"color\":\"#EBF0F8\"},\"line\":{\"color\":\"white\"}},\"header\":{\"fill\":{\"color\":\"#C8D4E3\"},\"line\":{\"color\":\"white\"}},\"type\":\"table\"}]},\"layout\":{\"annotationdefaults\":{\"arrowcolor\":\"#2a3f5f\",\"arrowhead\":0,\"arrowwidth\":1},\"autotypenumbers\":\"strict\",\"coloraxis\":{\"colorbar\":{\"outlinewidth\":0,\"ticks\":\"\"}},\"colorscale\":{\"diverging\":[[0,\"#8e0152\"],[0.1,\"#c51b7d\"],[0.2,\"#de77ae\"],[0.3,\"#f1b6da\"],[0.4,\"#fde0ef\"],[0.5,\"#f7f7f7\"],[0.6,\"#e6f5d0\"],[0.7,\"#b8e186\"],[0.8,\"#7fbc41\"],[0.9,\"#4d9221\"],[1,\"#276419\"]],\"sequential\":[[0.0,\"#0d0887\"],[0.1111111111111111,\"#46039f\"],[0.2222222222222222,\"#7201a8\"],[0.3333333333333333,\"#9c179e\"],[0.4444444444444444,\"#bd3786\"],[0.5555555555555556,\"#d8576b\"],[0.6666666666666666,\"#ed7953\"],[0.7777777777777778,\"#fb9f3a\"],[0.8888888888888888,\"#fdca26\"],[1.0,\"#f0f921\"]],\"sequentialminus\":[[0.0,\"#0d0887\"],[0.1111111111111111,\"#46039f\"],[0.2222222222222222,\"#7201a8\"],[0.3333333333333333,\"#9c179e\"],[0.4444444444444444,\"#bd3786\"],[0.5555555555555556,\"#d8576b\"],[0.6666666666666666,\"#ed7953\"],[0.7777777777777778,\"#fb9f3a\"],[0.8888888888888888,\"#fdca26\"],[1.0,\"#f0f921\"]]},\"colorway\":[\"#636efa\",\"#EF553B\",\"#00cc96\",\"#ab63fa\",\"#FFA15A\",\"#19d3f3\",\"#FF6692\",\"#B6E880\",\"#FF97FF\",\"#FECB52\"],\"font\":{\"color\":\"#2a3f5f\"},\"geo\":{\"bgcolor\":\"white\",\"lakecolor\":\"white\",\"landcolor\":\"#E5ECF6\",\"showlakes\":true,\"showland\":true,\"subunitcolor\":\"white\"},\"hoverlabel\":{\"align\":\"left\"},\"hovermode\":\"closest\",\"mapbox\":{\"style\":\"light\"},\"paper_bgcolor\":\"white\",\"plot_bgcolor\":\"#E5ECF6\",\"polar\":{\"angularaxis\":{\"gridcolor\":\"white\",\"linecolor\":\"white\",\"ticks\":\"\"},\"bgcolor\":\"#E5ECF6\",\"radialaxis\":{\"gridcolor\":\"white\",\"linecolor\":\"white\",\"ticks\":\"\"}},\"scene\":{\"xaxis\":{\"backgroundcolor\":\"#E5ECF6\",\"gridcolor\":\"white\",\"gridwidth\":2,\"linecolor\":\"white\",\"showbackground\":true,\"ticks\":\"\",\"zerolinecolor\":\"white\"},\"yaxis\":{\"backgroundcolor\":\"#E5ECF6\",\"gridcolor\":\"white\",\"gridwidth\":2,\"linecolor\":\"white\",\"showbackground\":true,\"ticks\":\"\",\"zerolinecolor\":\"white\"},\"zaxis\":{\"backgroundcolor\":\"#E5ECF6\",\"gridcolor\":\"white\",\"gridwidth\":2,\"linecolor\":\"white\",\"showbackground\":true,\"ticks\":\"\",\"zerolinecolor\":\"white\"}},\"shapedefaults\":{\"line\":{\"color\":\"#2a3f5f\"}},\"ternary\":{\"aaxis\":{\"gridcolor\":\"white\",\"linecolor\":\"white\",\"ticks\":\"\"},\"baxis\":{\"gridcolor\":\"white\",\"linecolor\":\"white\",\"ticks\":\"\"},\"bgcolor\":\"#E5ECF6\",\"caxis\":{\"gridcolor\":\"white\",\"linecolor\":\"white\",\"ticks\":\"\"}},\"title\":{\"x\":0.05},\"xaxis\":{\"automargin\":true,\"gridcolor\":\"white\",\"linecolor\":\"white\",\"ticks\":\"\",\"title\":{\"standoff\":15},\"zerolinecolor\":\"white\",\"zerolinewidth\":2},\"yaxis\":{\"automargin\":true,\"gridcolor\":\"white\",\"linecolor\":\"white\",\"ticks\":\"\",\"title\":{\"standoff\":15},\"zerolinecolor\":\"white\",\"zerolinewidth\":2}}},\"height\":500,\"width\":700,\"xaxis\":{\"title\":{\"text\":\"Epoch\"}},\"yaxis\":{\"title\":{\"text\":\"mae\"}}},                        {\"responsive\": true}                    ).then(function(){\n",
       "                            \n",
       "var gd = document.getElementById('b7a442f6-fab9-4907-8c06-4c8ab13a927e');\n",
       "var x = new MutationObserver(function (mutations, observer) {{\n",
       "        var display = window.getComputedStyle(gd).display;\n",
       "        if (!display || display === 'none') {{\n",
       "            console.log([gd, 'removed!']);\n",
       "            Plotly.purge(gd);\n",
       "            observer.disconnect();\n",
       "        }}\n",
       "}});\n",
       "\n",
       "// Listen for the removal of the full notebook cells\n",
       "var notebookContainer = gd.closest('#notebook-container');\n",
       "if (notebookContainer) {{\n",
       "    x.observe(notebookContainer, {childList: true});\n",
       "}}\n",
       "\n",
       "// Listen for the clearing of the current output cell\n",
       "var outputEl = gd.closest('.output');\n",
       "if (outputEl) {{\n",
       "    x.observe(outputEl, {childList: true});\n",
       "}}\n",
       "\n",
       "                        })                };                });            </script>        </div>"
      ]
     },
     "metadata": {},
     "output_type": "display_data"
    }
   ],
   "source": [
    "import plotly.graph_objects as go\n",
    "\n",
    "fig = go.Figure()\n",
    "fig.add_trace(go.Scattergl(y=history.history['mae'],name='Train'))\n",
    "fig.add_trace(go.Scattergl(y=history.history['val_mae'],name='Valid'))\n",
    "fig.update_layout(height=500, width=700,xaxis_title='Epoch',yaxis_title='mae')\n",
    "fig.show()"
   ]
  },
  {
   "cell_type": "code",
   "execution_count": null,
   "metadata": {},
   "outputs": [],
   "source": []
  }
 ],
 "metadata": {
  "kernelspec": {
   "display_name": "Python 3 (ipykernel)",
   "language": "python",
   "name": "python3"
  },
  "language_info": {
   "codemirror_mode": {
    "name": "ipython",
    "version": 3
   },
   "file_extension": ".py",
   "mimetype": "text/x-python",
   "name": "python",
   "nbconvert_exporter": "python",
   "pygments_lexer": "ipython3",
   "version": "3.9.13"
  },
  "toc": {
   "base_numbering": 1,
   "nav_menu": {},
   "number_sections": true,
   "sideBar": true,
   "skip_h1_title": false,
   "title_cell": "Table of Contents",
   "title_sidebar": "Contents",
   "toc_cell": false,
   "toc_position": {},
   "toc_section_display": true,
   "toc_window_display": false
  }
 },
 "nbformat": 4,
 "nbformat_minor": 4
}
