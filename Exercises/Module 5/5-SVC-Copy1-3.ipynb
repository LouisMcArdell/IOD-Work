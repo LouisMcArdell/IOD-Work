{
 "cells": [
  {
   "cell_type": "code",
   "execution_count": 1,
   "id": "4773d84d",
   "metadata": {},
   "outputs": [],
   "source": [
    "import numpy as np\n",
    "import matplotlib.pyplot as plt\n",
    "import pandas as pd"
   ]
  },
  {
   "cell_type": "code",
   "execution_count": 2,
   "id": "63f84adb",
   "metadata": {},
   "outputs": [],
   "source": [
    "dataset = pd.read_csv('https://raw.githubusercontent.com/mk-gurucharan/Regression/master/SampleData.csv')\n",
    "X = dataset.iloc[:, 0].values\n",
    "y = dataset.iloc[:, 1].values\n",
    "y = np.array(y).reshape(-1,1)"
   ]
  },
  {
   "cell_type": "code",
   "execution_count": 3,
   "id": "12cae2b5",
   "metadata": {},
   "outputs": [
    {
     "data": {
      "text/html": [
       "<div>\n",
       "<style scoped>\n",
       "    .dataframe tbody tr th:only-of-type {\n",
       "        vertical-align: middle;\n",
       "    }\n",
       "\n",
       "    .dataframe tbody tr th {\n",
       "        vertical-align: top;\n",
       "    }\n",
       "\n",
       "    .dataframe thead th {\n",
       "        text-align: right;\n",
       "    }\n",
       "</style>\n",
       "<table border=\"1\" class=\"dataframe\">\n",
       "  <thead>\n",
       "    <tr style=\"text-align: right;\">\n",
       "      <th></th>\n",
       "      <th>Hours of Study</th>\n",
       "      <th>Marks</th>\n",
       "    </tr>\n",
       "  </thead>\n",
       "  <tbody>\n",
       "    <tr>\n",
       "      <th>0</th>\n",
       "      <td>32.502345</td>\n",
       "      <td>31.707006</td>\n",
       "    </tr>\n",
       "    <tr>\n",
       "      <th>1</th>\n",
       "      <td>53.426804</td>\n",
       "      <td>68.777596</td>\n",
       "    </tr>\n",
       "    <tr>\n",
       "      <th>2</th>\n",
       "      <td>61.530358</td>\n",
       "      <td>62.562382</td>\n",
       "    </tr>\n",
       "    <tr>\n",
       "      <th>3</th>\n",
       "      <td>47.475640</td>\n",
       "      <td>71.546632</td>\n",
       "    </tr>\n",
       "    <tr>\n",
       "      <th>4</th>\n",
       "      <td>59.813208</td>\n",
       "      <td>87.230925</td>\n",
       "    </tr>\n",
       "  </tbody>\n",
       "</table>\n",
       "</div>"
      ],
      "text/plain": [
       "   Hours of Study      Marks\n",
       "0       32.502345  31.707006\n",
       "1       53.426804  68.777596\n",
       "2       61.530358  62.562382\n",
       "3       47.475640  71.546632\n",
       "4       59.813208  87.230925"
      ]
     },
     "execution_count": 3,
     "metadata": {},
     "output_type": "execute_result"
    }
   ],
   "source": [
    "dataset.head(5)"
   ]
  },
  {
   "cell_type": "markdown",
   "id": "bf7d0126",
   "metadata": {},
   "source": [
    "### Step 3: Feature Scaling\n",
    "Most of the data that are available usually are of varying ranges and magnitudes which makes building the model difficult. Thus, the range of the data needs to be normalized to a smaller range which enables the model to be more accurate when training. In this dataset, the data is normalized between to small values near zero. For example, the score of 87.23092513 is normalized to 1.00475931 and score of 53.45439421 is normalized to -1.22856288."
   ]
  },
  {
   "cell_type": "code",
   "execution_count": 4,
   "id": "305fb3a1",
   "metadata": {},
   "outputs": [],
   "source": [
    "from sklearn.preprocessing import StandardScaler\n",
    "sc_X = StandardScaler()\n",
    "sc_y = StandardScaler()\n",
    "X = sc_X.fit_transform(X.reshape(-1,1))\n",
    "y = sc_y.fit_transform(y.reshape(-1,1))"
   ]
  },
  {
   "cell_type": "markdown",
   "id": "67a14334",
   "metadata": {},
   "source": [
    "### Step 4: Training the Support Vector Regression model on the Training set\n",
    "In building any ML model, we always need to split the data into the training set and the test set. The SVR Model will be trained with the values of the training set and the predictions are tested on the test set. Out of 100 rows, 80 rows are used for training and the model is tested on the remaining 20 rows as given by the condition, test_size=0.2"
   ]
  },
  {
   "cell_type": "code",
   "execution_count": 5,
   "id": "c06d90db",
   "metadata": {},
   "outputs": [],
   "source": [
    "from sklearn.model_selection import train_test_split\n",
    "X_train, X_test, y_train, y_test = train_test_split(X, y, test_size = 0.2)"
   ]
  },
  {
   "cell_type": "markdown",
   "id": "2f1b9aca",
   "metadata": {},
   "source": [
    "### Step 5: Training the Support Vector Regression model on the Training set\n",
    "In this, the function SVM is imported and is assigned to the variable regressor. The kernel “rbf” (Radial Basis Function) is used. RBF kernel is used to introduce a non-linearity to the SVR model. This is done because our data is non-linear. The regressor.fit is used to fit the variables X_train and y_train by reshaping the data accordingly."
   ]
  },
  {
   "cell_type": "code",
   "execution_count": 6,
   "id": "76b065da",
   "metadata": {},
   "outputs": [
    {
     "name": "stderr",
     "output_type": "stream",
     "text": [
      "C:\\Users\\aicyb\\anaconda3\\lib\\site-packages\\sklearn\\utils\\validation.py:993: DataConversionWarning: A column-vector y was passed when a 1d array was expected. Please change the shape of y to (n_samples, ), for example using ravel().\n",
      "  y = column_or_1d(y, warn=True)\n"
     ]
    },
    {
     "data": {
      "text/plain": [
       "SVR()"
      ]
     },
     "execution_count": 6,
     "metadata": {},
     "output_type": "execute_result"
    }
   ],
   "source": [
    "from sklearn.svm import SVR\n",
    "regressor = SVR(kernel = 'rbf')\n",
    "regressor.fit(X_train.reshape(-1,1), y_train.reshape(-1,1))"
   ]
  },
  {
   "cell_type": "markdown",
   "id": "142cbcd1",
   "metadata": {},
   "source": [
    "### Step 6: Predicting the Test set Results\n",
    "In this step, we are going to predict the scores of the test set using the SVR model built. Theregressor.predict function is used to predict the values for the X_test. We assign the predicted values to y_pred. We now have two data, y_test (real values) and y_pred (predicted values)."
   ]
  },
  {
   "cell_type": "code",
   "execution_count": 8,
   "id": "a5a4bdee",
   "metadata": {},
   "outputs": [],
   "source": [
    "y_pred = y_pred.reshape(-1, 1)\n",
    "# y_pred = regressor.predict(X_test)\n",
    "y_pred = sc_y.inverse_transform(y_pred)"
   ]
  },
  {
   "cell_type": "markdown",
   "id": "2a0dcd3f",
   "metadata": {},
   "source": [
    "### Step 7: Comparing the Test Set with Predicted Values\n",
    "In this step, we shall display the values of y_test as Real Values and y_pred values as Predicted Values for each X_test against each other in a Pandas DataFrame."
   ]
  },
  {
   "cell_type": "code",
   "execution_count": 12,
   "id": "535080ef",
   "metadata": {},
   "outputs": [],
   "source": [
    "df = pd.DataFrame({'Real Values':sc_y.inverse_transform(y_test.reshape(-1, 1))[:, 0], 'Predicted Values':y_pred.reshape(-1)})"
   ]
  },
  {
   "cell_type": "code",
   "execution_count": 13,
   "id": "e874d707",
   "metadata": {},
   "outputs": [
    {
     "data": {
      "text/html": [
       "<div>\n",
       "<style scoped>\n",
       "    .dataframe tbody tr th:only-of-type {\n",
       "        vertical-align: middle;\n",
       "    }\n",
       "\n",
       "    .dataframe tbody tr th {\n",
       "        vertical-align: top;\n",
       "    }\n",
       "\n",
       "    .dataframe thead th {\n",
       "        text-align: right;\n",
       "    }\n",
       "</style>\n",
       "<table border=\"1\" class=\"dataframe\">\n",
       "  <thead>\n",
       "    <tr style=\"text-align: right;\">\n",
       "      <th></th>\n",
       "      <th>Real Values</th>\n",
       "      <th>Predicted Values</th>\n",
       "    </tr>\n",
       "  </thead>\n",
       "  <tbody>\n",
       "    <tr>\n",
       "      <th>0</th>\n",
       "      <td>97.379897</td>\n",
       "      <td>82.557466</td>\n",
       "    </tr>\n",
       "    <tr>\n",
       "      <th>1</th>\n",
       "      <td>83.878565</td>\n",
       "      <td>94.435121</td>\n",
       "    </tr>\n",
       "    <tr>\n",
       "      <th>2</th>\n",
       "      <td>94.257102</td>\n",
       "      <td>95.356007</td>\n",
       "    </tr>\n",
       "    <tr>\n",
       "      <th>3</th>\n",
       "      <td>44.847124</td>\n",
       "      <td>58.496983</td>\n",
       "    </tr>\n",
       "    <tr>\n",
       "      <th>4</th>\n",
       "      <td>79.102830</td>\n",
       "      <td>60.353966</td>\n",
       "    </tr>\n",
       "    <tr>\n",
       "      <th>5</th>\n",
       "      <td>57.812513</td>\n",
       "      <td>62.091079</td>\n",
       "    </tr>\n",
       "    <tr>\n",
       "      <th>6</th>\n",
       "      <td>76.617341</td>\n",
       "      <td>61.339321</td>\n",
       "    </tr>\n",
       "    <tr>\n",
       "      <th>7</th>\n",
       "      <td>83.142750</td>\n",
       "      <td>79.955600</td>\n",
       "    </tr>\n",
       "    <tr>\n",
       "      <th>8</th>\n",
       "      <td>71.139728</td>\n",
       "      <td>79.701464</td>\n",
       "    </tr>\n",
       "    <tr>\n",
       "      <th>9</th>\n",
       "      <td>95.536687</td>\n",
       "      <td>80.084453</td>\n",
       "    </tr>\n",
       "    <tr>\n",
       "      <th>10</th>\n",
       "      <td>99.051415</td>\n",
       "      <td>80.244327</td>\n",
       "    </tr>\n",
       "    <tr>\n",
       "      <th>11</th>\n",
       "      <td>68.777596</td>\n",
       "      <td>79.162682</td>\n",
       "    </tr>\n",
       "    <tr>\n",
       "      <th>12</th>\n",
       "      <td>93.576119</td>\n",
       "      <td>91.660977</td>\n",
       "    </tr>\n",
       "    <tr>\n",
       "      <th>13</th>\n",
       "      <td>71.300880</td>\n",
       "      <td>78.545113</td>\n",
       "    </tr>\n",
       "    <tr>\n",
       "      <th>14</th>\n",
       "      <td>86.642020</td>\n",
       "      <td>64.035340</td>\n",
       "    </tr>\n",
       "    <tr>\n",
       "      <th>15</th>\n",
       "      <td>53.454394</td>\n",
       "      <td>58.793568</td>\n",
       "    </tr>\n",
       "    <tr>\n",
       "      <th>16</th>\n",
       "      <td>67.170656</td>\n",
       "      <td>52.639142</td>\n",
       "    </tr>\n",
       "    <tr>\n",
       "      <th>17</th>\n",
       "      <td>69.588898</td>\n",
       "      <td>76.855075</td>\n",
       "    </tr>\n",
       "    <tr>\n",
       "      <th>18</th>\n",
       "      <td>85.668203</td>\n",
       "      <td>79.296866</td>\n",
       "    </tr>\n",
       "    <tr>\n",
       "      <th>19</th>\n",
       "      <td>96.769566</td>\n",
       "      <td>80.431833</td>\n",
       "    </tr>\n",
       "  </tbody>\n",
       "</table>\n",
       "</div>"
      ],
      "text/plain": [
       "    Real Values  Predicted Values\n",
       "0     97.379897         82.557466\n",
       "1     83.878565         94.435121\n",
       "2     94.257102         95.356007\n",
       "3     44.847124         58.496983\n",
       "4     79.102830         60.353966\n",
       "5     57.812513         62.091079\n",
       "6     76.617341         61.339321\n",
       "7     83.142750         79.955600\n",
       "8     71.139728         79.701464\n",
       "9     95.536687         80.084453\n",
       "10    99.051415         80.244327\n",
       "11    68.777596         79.162682\n",
       "12    93.576119         91.660977\n",
       "13    71.300880         78.545113\n",
       "14    86.642020         64.035340\n",
       "15    53.454394         58.793568\n",
       "16    67.170656         52.639142\n",
       "17    69.588898         76.855075\n",
       "18    85.668203         79.296866\n",
       "19    96.769566         80.431833"
      ]
     },
     "execution_count": 13,
     "metadata": {},
     "output_type": "execute_result"
    }
   ],
   "source": [
    "df"
   ]
  },
  {
   "cell_type": "markdown",
   "id": "d48c710c",
   "metadata": {},
   "source": [
    "We can see that there is a significant deviation of the predicted values with the real values of the test set and hence we can conclude that this model is not the perfect fit for the following data."
   ]
  },
  {
   "cell_type": "markdown",
   "id": "2decf316",
   "metadata": {},
   "source": [
    "### Step 8: Visualising the SVR results\n",
    "In this last step, we shall visualize the SVR model that was built using the given data and plot the values of “y” and “y_pred” on the graph to visualize the results"
   ]
  },
  {
   "cell_type": "code",
   "execution_count": 17,
   "id": "66b10d54",
   "metadata": {},
   "outputs": [
    {
     "data": {
      "image/png": "[encoded data removed]",
      "text/plain": [
       "<Figure size 640x480 with 1 Axes>"
      ]
     },
     "metadata": {},
     "output_type": "display_data"
    }
   ],
   "source": [
    "X_grid = np.arange(min(X), max(X), 0.1)\n",
    "X_grid = X_grid.reshape((len(X_grid), 1))\n",
    "plt.scatter(sc_X.inverse_transform(X_test.reshape(-1, 1)), sc_y.inverse_transform(y_test.reshape(-1, 1)), color = 'red')\n",
    "plt.scatter(sc_X.inverse_transform(X_test), y_pred, color = 'green')\n",
    "plt.title('SVR Regression')\n",
    "plt.xlabel('Position level')\n",
    "plt.ylabel('Salary')\n",
    "plt.show()"
   ]
  },
  {
   "cell_type": "markdown",
   "id": "64aeda7d",
   "metadata": {},
   "source": [
    "In this graph, the Real values are plotted in “Red” color and the Predicted values are plotted in “Green” color. The plot of the SVR model is also shown in “Black” color."
   ]
  },
  {
   "attachments": {
    "image.png": {
     "image/png": "[encoded data removed]"
    }
   },
   "cell_type": "markdown",
   "id": "a0a6132e",
   "metadata": {},
   "source": [
    "![image.png](attachment:image.png)"
   ]
  }
 ],
 "metadata": {
  "kernelspec": {
   "display_name": "Python 3 (ipykernel)",
   "language": "python",
   "name": "python3"
  },
  "language_info": {
   "codemirror_mode": {
    "name": "ipython",
    "version": 3
   },
   "file_extension": ".py",
   "mimetype": "text/x-python",
   "name": "python",
   "nbconvert_exporter": "python",
   "pygments_lexer": "ipython3",
   "version": "3.9.13"
  },
  "toc": {
   "base_numbering": 1,
   "nav_menu": {},
   "number_sections": false,
   "sideBar": true,
   "skip_h1_title": false,
   "title_cell": "Table of Contents",
   "title_sidebar": "Contents",
   "toc_cell": false,
   "toc_position": {},
   "toc_section_display": true,
   "toc_window_display": true
  }
 },
 "nbformat": 4,
 "nbformat_minor": 5
}
