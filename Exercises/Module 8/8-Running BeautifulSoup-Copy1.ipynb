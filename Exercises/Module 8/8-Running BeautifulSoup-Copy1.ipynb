{
 "cells": [
  {
   "cell_type": "markdown",
   "id": "51b775c6",
   "metadata": {},
   "source": [
    "### Running BeautifulSoup"
   ]
  },
  {
   "cell_type": "code",
   "execution_count": 1,
   "id": "75e7347d",
   "metadata": {},
   "outputs": [
    {
     "name": "stdout",
     "output_type": "stream",
     "text": [
      "<h1>An Interesting Title</h1>\n"
     ]
    }
   ],
   "source": [
    "from urllib.request import urlopen\n",
    "from bs4 import BeautifulSoup\n",
    "html = urlopen('http://www.pythonscraping.com/pages/page1.html')\n",
    "bs = BeautifulSoup(html.read(), 'html.parser')\n",
    "print(bs.h1)"
   ]
  },
  {
   "cell_type": "code",
   "execution_count": 2,
   "id": "2676e6a3",
   "metadata": {},
   "outputs": [],
   "source": [
    "bs = BeautifulSoup(html, 'html.parser')"
   ]
  },
  {
   "cell_type": "code",
   "execution_count": 3,
   "id": "95620d7e",
   "metadata": {},
   "outputs": [],
   "source": [
    "import requests\n",
    "\n",
    "import urllib.request\n",
    "\n",
    "import time\n",
    "\n",
    "from bs4 import BeautifulSoup"
   ]
  },
  {
   "cell_type": "code",
   "execution_count": 4,
   "id": "879f483a",
   "metadata": {},
   "outputs": [],
   "source": [
    "url = 'https://new.mta.info/transparency/leadership/past-board-chairs'\n",
    "response = requests.get(url)"
   ]
  },
  {
   "cell_type": "code",
   "execution_count": 5,
   "id": "9da3f83a",
   "metadata": {},
   "outputs": [
    {
     "data": {
      "text/plain": [
       "<Response [200]>"
      ]
     },
     "execution_count": 5,
     "metadata": {},
     "output_type": "execute_result"
    }
   ],
   "source": [
    "response"
   ]
  },
  {
   "cell_type": "code",
   "execution_count": 6,
   "id": "d5f5a324",
   "metadata": {},
   "outputs": [],
   "source": [
    "soup = BeautifulSoup(response.text, 'html.parser')"
   ]
  },
  {
   "cell_type": "code",
   "execution_count": 7,
   "id": "3500fd5e",
   "metadata": {},
   "outputs": [
    {
     "data": {
      "text/plain": [
       "[<a class=\"visually-hidden focusable skip-link\" href=\"#main-content\">\n",
       "       Skip to main content\n",
       "     </a>,\n",
       " <a class=\"mta-font-bold mta-flex mta-items-center mta-border-b mta-border-grey-300 mta-min-h-600 mta-text-primary-300\" href=\"/schedules\">Schedules</a>,\n",
       " <a class=\"mta-font-bold mta-flex mta-items-center mta-border-b mta-border-grey-300 mta-min-h-600 mta-text-primary-300\" href=\"/fares\">Fares and Tolls</a>,\n",
       " <a class=\"mta-font-bold mta-flex mta-items-center mta-border-b mta-border-grey-300 mta-min-h-600 mta-text-primary-300\" href=\"/maps\">Maps</a>,\n",
       " <a class=\"mta-font-bold mta-flex mta-items-center mta-border-b mta-border-grey-300 mta-min-h-600 mta-text-primary-300\" href=\"https://new.mta.info/accessibility/access-a-ride\">Access-A-Ride Paratransit</a>,\n",
       " <a class=\"mta-font-bold mta-flex mta-items-center mta-border-b mta-border-grey-300 mta-min-h-600 mta-text-primary-300\" href=\"/accessibility\">Accessibility</a>,\n",
       " <a class=\"mta-font-bold mta-flex mta-items-center mta-border-b mta-border-grey-300 mta-min-h-600 mta-text-primary-300\" href=\"https://new.mta.info/about\">About the MTA</a>,\n",
       " <a class=\"mta-font-bold mta-flex mta-items-center mta-border-b mta-border-grey-300 mta-min-h-600 mta-text-primary-300\" href=\"https://contact.mta.info/s/customer-feedback\">Give feedback</a>,\n",
       " <a class=\"mta-font-bold mta-flex mta-items-center mta-border-b mta-border-grey-300 mta-min-h-600 mta-text-primary-300\" href=\"/guides/service-alerts\">Sign up for service alerts</a>,\n",
       " <a class=\"mta-font-bold mta-flex mta-items-center mta-border-b mta-border-grey-300 mta-min-h-600 mta-text-primary-300\" href=\"/agency/new-york-city-transit\">New York City Transit</a>,\n",
       " <a class=\"mta-font-bold mta-flex mta-items-center mta-border-b mta-border-grey-300 mta-min-h-600 mta-text-primary-300\" href=\"/agency/bridges-and-tunnels\">Bridges &amp; Tunnels</a>,\n",
       " <a class=\"mta-font-bold mta-flex mta-items-center mta-border-b mta-border-grey-300 mta-min-h-600 mta-text-primary-300\" href=\"/agency/long-island-rail-road\">Long Island Rail Road</a>,\n",
       " <a class=\"mta-font-bold mta-flex mta-items-center mta-border-b mta-border-grey-300 mta-min-h-600 mta-text-primary-300\" href=\"/agency/metro-north-railroad\">Metro-North Railroad</a>,\n",
       " <a class=\"mta-font-bold mta-flex mta-items-center mta-border-b mta-border-grey-300 mta-min-h-600 mta-text-primary-300\" href=\"/agency\">Other agencies and departments</a>,\n",
       " <a class=\"mta-font-bold mta-flex mta-items-center mta-border-b mta-border-grey-300 mta-min-h-600 mta-text-primary-300\" href=\"/planned-service-changes\">Planned Service Changes</a>,\n",
       " <a class=\"mta-font-bold mta-flex mta-items-center mta-border-b mta-border-grey-300 mta-min-h-600 mta-text-primary-300\" href=\"/careers\">Careers</a>,\n",
       " <a class=\"mta-font-bold mta-flex mta-items-center mta-border-b mta-border-grey-300 mta-min-h-600 mta-text-primary-300\" href=\"/elevator-escalator-status\">Elevator &amp; Escalator Status</a>,\n",
       " <a class=\"mta-font-bold mta-flex mta-items-center mta-border-b mta-border-grey-300 mta-min-h-600 mta-text-primary-300\" href=\"https://new.mta.info/project\">Projects</a>,\n",
       " <a class=\"mta-font-bold mta-flex mta-items-center mta-border-b mta-border-grey-300 mta-min-h-600 mta-text-primary-300\" href=\"/safety-and-security\">Safety and Security</a>,\n",
       " <a class=\"mta-font-bold mta-flex mta-items-center mta-border-b mta-border-grey-300 mta-min-h-600 mta-text-primary-300\" href=\"/transparency\">Transparency</a>,\n",
       " <a class=\"mta-font-bold mta-flex mta-items-center mta-border-b mta-border-grey-300 mta-min-h-600 mta-text-primary-300\" href=\"/guides\">Guides</a>,\n",
       " <a class=\"mta-font-bold mta-flex mta-items-center mta-border-b mta-border-grey-300 mta-min-h-600 mta-text-primary-300\" href=\"/contact-us\">Contact the MTA</a>,\n",
       " <a class=\"mta-font-bold mta-flex mta-items-center mta-border-b mta-border-grey-300 mta-min-h-600 mta-text-primary-300\" href=\"/agency/media-relations\">Media Relations</a>,\n",
       " <a class=\"mta-font-bold mta-flex mta-items-center mta-border-b mta-border-grey-300 mta-min-h-600 mta-text-primary-300\" href=\"/doing-business-with-us/procurement\">Procurement and solicitations</a>,\n",
       " <a class=\"mta-block mta-p-150 hover:mta-bg-primary-300\" href=\"/\" title=\"MTA\">\n",
       " <svg height=\"51\" width=\"47\" xmlns=\"http://www.w3.org/2000/svg\"><path d=\"M29.909 21.372l-2.743-.234v14.56l-4.088.724-.01-15.644-3.474-.308v-5.734l10.315 1.803v4.833zm7.785 12.484l-2.426.421-.283-2.122-2.363.307-.296 2.335-3.125.553 3.094-18.36 2.937.51 2.462 16.356zm-3.141-5.288l-.65-5.606h-.142l-.658 5.691 1.45-.085zM21.038 50.931c13.986 0 25.32-11.402 25.32-25.465C46.359 11.4 35.025 0 21.039 0 12.27 0 4.545 4.483 0 11.296l7.017 1.237 1.931 14.78c.007-.024.14-.009.14-.009l2.118-14.036 7.022 1.229V37.28l-4.432.776v-9.79s.164-4.217.067-4.938c0 0-.193.005-.196-.011l-2.644 15.236-4.403.777-3.236-16.412-.195-.014c-.069.594.237 5.744.237 5.744v11.243L.532 40.4c4.603 6.38 12.072 10.53 20.506 10.53v.001z\" fill=\"#FFF\" fill-rule=\"nonzero\"></path></svg>\n",
       " </a>,\n",
       " <a class=\"mta-flex mta-items-center mta-block mta-px-150 mta-text-grey-000 hover:mta-text-grey-000 hover:mta-bg-primary-300\" data-drupal-link-system-path=\"node/16\" data-header=\"0\" href=\"/schedules\">Schedules</a>,\n",
       " <a class=\"mta-flex mta-items-center mta-block mta-px-150 mta-text-grey-000 hover:mta-text-grey-000 hover:mta-bg-primary-300\" data-drupal-link-system-path=\"node/66\" data-header=\"0\" href=\"/maps\">Maps</a>,\n",
       " <a class=\"mta-flex mta-items-center mta-block mta-px-150 mta-text-grey-000 hover:mta-text-grey-000 hover:mta-bg-primary-300\" data-drupal-link-system-path=\"node/8541\" data-header=\"0\" href=\"/fares\">Fares &amp; Tolls</a>,\n",
       " <a class=\"mta-flex mta-items-center mta-block mta-px-150 mta-text-grey-000 hover:mta-text-grey-000 hover:mta-bg-primary-300\" data-drupal-link-system-path=\"node/14236\" data-header=\"0\" href=\"/alerts\">Planned Work</a>,\n",
       " <a class=\"mta-breadcrumb-link mta-flex mta-items-center mta-mr-085\" href=\"/\">\n",
       " <span aria-label=\"Home\" class=\"icon-home mta-text-3xl\"></span>\n",
       " <span aria-label=\"Link for Home\" class=\"sr-only\">Home</span>\n",
       " </a>,\n",
       " <a class=\"mta-breadcrumb-link mta-flex mta-items-center mta-mr-085\" href=\"/transparency\">\n",
       " <span aria-label=\"Link for Transparency\" class=\"text\">Transparency</span>\n",
       " </a>,\n",
       " <a class=\"mta-breadcrumb-link mta-flex mta-items-center mta-mr-085\" href=\"/transparency/leadership\">\n",
       " <span aria-label=\"Link for Leadership\" class=\"text\">Leadership</span>\n",
       " </a>,\n",
       " <a id=\"main-content\"></a>,\n",
       " <a class=\"mta-card mta-flex mta-flex-grow mta-flex-col\" href=\"/transparency/leadership/past-board-chairs\">\n",
       " <span class=\"mta-flex mta-h-1800 mta-bg-card mta-bg-cover bg-no-repeat\" style=\"background-image: url('/sites/default/files/2021-08/Screen%20Shot%202021-08-03%20at%2011.46.06%20AM.png')\"></span>\n",
       " <span class=\"mta-flex mta-flex-grow mta-p-150 mta-pb-250 mta-text-3xl mta-min-h-1200\">\n",
       " <span class=\"mta-card-content mta-relative mta-block mta-w-full\">\n",
       " <span class=\"mta-card-title mta-font-bold\">Pat Foye</span>\n",
       " <span class=\"mta-card-subtitle mta-block mta-text-2xl mta-leading-400 mta-font-bold\">4/1/2019 through 7/30/2021</span>\n",
       " </span>\n",
       " </span>\n",
       " </a>,\n",
       " <a class=\"mta-card mta-flex mta-flex-grow mta-flex-col\" href=\"/transparency/leadership/past-board-chairs\">\n",
       " <span class=\"mta-flex mta-h-1800 mta-bg-card mta-bg-cover bg-no-repeat\" style=\"background-image: url('/sites/default/files/2018-05/lhota.png')\"></span>\n",
       " <span class=\"mta-flex mta-flex-grow mta-p-150 mta-pb-250 mta-text-3xl mta-min-h-1200\">\n",
       " <span class=\"mta-card-content mta-relative mta-block mta-w-full\">\n",
       " <span class=\"mta-card-title mta-font-bold\">Joseph J. Lhota</span>\n",
       " <span class=\"mta-card-subtitle mta-block mta-text-2xl mta-leading-400 mta-font-bold\">Terms: 01/09/2012 to 12/31/2012, and 06/21/2017 to 11/08/2018</span>\n",
       " </span>\n",
       " </span>\n",
       " </a>,\n",
       " <a class=\"mta-card mta-flex mta-flex-grow mta-flex-col\" href=\"/transparency/leadership/past-board-chairs\">\n",
       " <span class=\"mta-flex mta-h-1800 mta-bg-card mta-bg-cover bg-no-repeat\" style=\"background-image: url('/sites/default/files/2018-05/prendergast.png')\"></span>\n",
       " <span class=\"mta-flex mta-flex-grow mta-p-150 mta-pb-250 mta-text-3xl mta-min-h-1200\">\n",
       " <span class=\"mta-card-content mta-relative mta-block mta-w-full\">\n",
       " <span class=\"mta-card-title mta-font-bold\">Thomas F. Prendergast</span>\n",
       " <span class=\"mta-card-subtitle mta-block mta-text-2xl mta-leading-400 mta-font-bold\">Term: 06/20/2013 to 01/31/2017</span>\n",
       " </span>\n",
       " </span>\n",
       " </a>,\n",
       " <a class=\"mta-card mta-flex mta-flex-grow mta-flex-col\" href=\"/transparency/leadership/past-board-chairs\">\n",
       " <span class=\"mta-flex mta-h-1800 mta-bg-card mta-bg-cover bg-no-repeat\" style=\"background-image: url('/sites/default/files/2018-05/walder.png')\"></span>\n",
       " <span class=\"mta-flex mta-flex-grow mta-p-150 mta-pb-250 mta-text-3xl mta-min-h-1200\">\n",
       " <span class=\"mta-card-content mta-relative mta-block mta-w-full\">\n",
       " <span class=\"mta-card-title mta-font-bold\">Jay H. Walder</span>\n",
       " <span class=\"mta-card-subtitle mta-block mta-text-2xl mta-leading-400 mta-font-bold\">Term: 10/05/2009 to 10/21/2011</span>\n",
       " </span>\n",
       " </span>\n",
       " </a>,\n",
       " <a class=\"mta-card mta-flex mta-flex-grow mta-flex-col\" href=\"/transparency/leadership/past-board-chairs\">\n",
       " <span class=\"mta-flex mta-h-1800 mta-bg-card mta-bg-cover bg-no-repeat\" style=\"background-image: url('/sites/default/files/2018-05/hemmerdinger.png')\"></span>\n",
       " <span class=\"mta-flex mta-flex-grow mta-p-150 mta-pb-250 mta-text-3xl mta-min-h-1200\">\n",
       " <span class=\"mta-card-content mta-relative mta-block mta-w-full\">\n",
       " <span class=\"mta-card-title mta-font-bold\">H. Dale Hemmerdinger</span>\n",
       " <span class=\"mta-card-subtitle mta-block mta-text-2xl mta-leading-400 mta-font-bold\">Term: 10/22/2007 to 09/10/2009</span>\n",
       " </span>\n",
       " </span>\n",
       " </a>,\n",
       " <a class=\"mta-card mta-flex mta-flex-grow mta-flex-col\" href=\"/transparency/leadership/past-board-chairs\">\n",
       " <span class=\"mta-flex mta-h-1800 mta-bg-card mta-bg-cover bg-no-repeat\" style=\"background-image: url('/sites/default/files/2018-05/kalikow.png')\"></span>\n",
       " <span class=\"mta-flex mta-flex-grow mta-p-150 mta-pb-250 mta-text-3xl mta-min-h-1200\">\n",
       " <span class=\"mta-card-content mta-relative mta-block mta-w-full\">\n",
       " <span class=\"mta-card-title mta-font-bold\">Peter S. Kalikow</span>\n",
       " <span class=\"mta-card-subtitle mta-block mta-text-2xl mta-leading-400 mta-font-bold\">Term: 03/13/2001 to 10/22/2007</span>\n",
       " </span>\n",
       " </span>\n",
       " </a>,\n",
       " <a class=\"mta-card mta-flex mta-flex-grow mta-flex-col\" href=\"/transparency/leadership/past-board-chairs\">\n",
       " <span class=\"mta-flex mta-h-1800 mta-bg-card mta-bg-cover bg-no-repeat\" style=\"background-image: url('/sites/default/files/2018-05/conway.png')\"></span>\n",
       " <span class=\"mta-flex mta-flex-grow mta-p-150 mta-pb-250 mta-text-3xl mta-min-h-1200\">\n",
       " <span class=\"mta-card-content mta-relative mta-block mta-w-full\">\n",
       " <span class=\"mta-card-title mta-font-bold\">E. Virgil Conway</span>\n",
       " <span class=\"mta-card-subtitle mta-block mta-text-2xl mta-leading-400 mta-font-bold\">Term: 05/18/1995 to 03/09/2001</span>\n",
       " </span>\n",
       " </span>\n",
       " </a>,\n",
       " <a class=\"mta-card mta-flex mta-flex-grow mta-flex-col\" href=\"/transparency/leadership/past-board-chairs\">\n",
       " <span class=\"mta-flex mta-h-1800 mta-bg-card mta-bg-cover bg-no-repeat\" style=\"background-image: url('/sites/default/files/2018-05/stangl.png')\"></span>\n",
       " <span class=\"mta-flex mta-flex-grow mta-p-150 mta-pb-250 mta-text-3xl mta-min-h-1200\">\n",
       " <span class=\"mta-card-content mta-relative mta-block mta-w-full\">\n",
       " <span class=\"mta-card-title mta-font-bold\">Peter E. Stangl</span>\n",
       " <span class=\"mta-card-subtitle mta-block mta-text-2xl mta-leading-400 mta-font-bold\">Term: 04/21/1991 to 05/17/1995</span>\n",
       " </span>\n",
       " </span>\n",
       " </a>,\n",
       " <a class=\"mta-card mta-flex mta-flex-grow mta-flex-col\" href=\"/transparency/leadership/past-board-chairs\">\n",
       " <span class=\"mta-flex mta-h-1800 mta-bg-card mta-bg-cover bg-no-repeat\" style=\"background-image: url('/sites/default/files/2018-05/kiley.png')\"></span>\n",
       " <span class=\"mta-flex mta-flex-grow mta-p-150 mta-pb-250 mta-text-3xl mta-min-h-1200\">\n",
       " <span class=\"mta-card-content mta-relative mta-block mta-w-full\">\n",
       " <span class=\"mta-card-title mta-font-bold\">Robert R. Kiley</span>\n",
       " <span class=\"mta-card-subtitle mta-block mta-text-2xl mta-leading-400 mta-font-bold\">Term: 11/16/1983 to 01/02/1991</span>\n",
       " </span>\n",
       " </span>\n",
       " </a>,\n",
       " <a class=\"mta-card mta-flex mta-flex-grow mta-flex-col\" href=\"/transparency/leadership/past-board-chairs\">\n",
       " <span class=\"mta-flex mta-h-1800 mta-bg-card mta-bg-cover bg-no-repeat\" style=\"background-image: url('/sites/default/files/2018-05/ravitch.png')\"></span>\n",
       " <span class=\"mta-flex mta-flex-grow mta-p-150 mta-pb-250 mta-text-3xl mta-min-h-1200\">\n",
       " <span class=\"mta-card-content mta-relative mta-block mta-w-full\">\n",
       " <span class=\"mta-card-title mta-font-bold\">Richard Ravitch</span>\n",
       " <span class=\"mta-card-subtitle mta-block mta-text-2xl mta-leading-400 mta-font-bold\">Term: 11/16/1979 to 10/31/1983</span>\n",
       " </span>\n",
       " </span>\n",
       " </a>,\n",
       " <a class=\"mta-card mta-flex mta-flex-grow mta-flex-col\" href=\"/transparency/leadership/past-board-chairs\">\n",
       " <span class=\"mta-flex mta-h-1800 mta-bg-card mta-bg-cover bg-no-repeat\" style=\"background-image: url('/sites/default/files/2018-05/fisher.png')\"></span>\n",
       " <span class=\"mta-flex mta-flex-grow mta-p-150 mta-pb-250 mta-text-3xl mta-min-h-1200\">\n",
       " <span class=\"mta-card-content mta-relative mta-block mta-w-full\">\n",
       " <span class=\"mta-card-title mta-font-bold\">Harold L. Fisher</span>\n",
       " <span class=\"mta-card-subtitle mta-block mta-text-2xl mta-leading-400 mta-font-bold\">Term: 01/21/1977 to 11/16/1979</span>\n",
       " </span>\n",
       " </span>\n",
       " </a>,\n",
       " <a class=\"mta-card mta-flex mta-flex-grow mta-flex-col\" href=\"/transparency/leadership/past-board-chairs\">\n",
       " <span class=\"mta-flex mta-h-1800 mta-bg-card mta-bg-cover bg-no-repeat\" style=\"background-image: url('/sites/default/files/2018-05/yunich.png')\"></span>\n",
       " <span class=\"mta-flex mta-flex-grow mta-p-150 mta-pb-250 mta-text-3xl mta-min-h-1200\">\n",
       " <span class=\"mta-card-content mta-relative mta-block mta-w-full\">\n",
       " <span class=\"mta-card-title mta-font-bold\">David L. Yunich</span>\n",
       " <span class=\"mta-card-subtitle mta-block mta-text-2xl mta-leading-400 mta-font-bold\">Term: 05/02/1974 to 01/21/1977</span>\n",
       " </span>\n",
       " </span>\n",
       " </a>,\n",
       " <a class=\"mta-card mta-flex mta-flex-grow mta-flex-col\" href=\"/transparency/leadership/past-board-chairs\">\n",
       " <span class=\"mta-flex mta-h-1800 mta-bg-card mta-bg-cover bg-no-repeat\" style=\"background-image: url('/sites/default/files/2018-05/ronan.png')\"></span>\n",
       " <span class=\"mta-flex mta-flex-grow mta-p-150 mta-pb-250 mta-text-3xl mta-min-h-1200\">\n",
       " <span class=\"mta-card-content mta-relative mta-block mta-w-full\">\n",
       " <span class=\"mta-card-title mta-font-bold\">William J. Ronan</span>\n",
       " <span class=\"mta-card-subtitle mta-block mta-text-2xl mta-leading-400 mta-font-bold\">Term: 03/01/1968 to 04/26/1974</span>\n",
       " </span>\n",
       " </span>\n",
       " </a>,\n",
       " <a class=\"link-title link\" href=\"\">THE MTA</a>,\n",
       " <a class=\"\" href=\"/about\">\n",
       "                           About the MTA\n",
       "                         </a>,\n",
       " <a class=\"\" href=\"/contact-us\">\n",
       "                           Contact Us\n",
       "                         </a>,\n",
       " <a class=\"\" href=\"/careers\">\n",
       "                           Careers\n",
       "                         </a>,\n",
       " <a class=\"\" href=\"/transparency\">\n",
       "                           Transparency\n",
       "                         </a>,\n",
       " <a class=\"link-title link\" href=\"/\">INFORMATION</a>,\n",
       " <a class=\"\" href=\"/doing-business-with-us\">\n",
       "                           Doing Business With Us\n",
       "                         </a>,\n",
       " <a class=\"\" href=\"https://new.mta.info/press-release\">\n",
       "                           Press Releases\n",
       "                         </a>,\n",
       " <a class=\"\" href=\"/agency/arts-design\">\n",
       "                           Arts &amp; Design\n",
       "                         </a>,\n",
       " <a class=\"\" href=\"https://www.nytransitmuseum.org/\">\n",
       "                           NY Transit Museum &amp; Shop\n",
       "                         </a>,\n",
       " <a class=\"link-title link\" href=\"\">Other</a>,\n",
       " <a class=\"\" href=\"/terms-and-conditions\">\n",
       "                           Terms &amp; Conditions\n",
       "                         </a>,\n",
       " <a class=\"\" href=\"/privacy-policy\">\n",
       "                           Privacy Policy\n",
       "                         </a>,\n",
       " <a aria-label=\"Social Networks Link\" class=\"\" href=\"/social\">\n",
       " <p>MTA Social Media</p>\n",
       " <span class=\"icon-facebook\"></span>\n",
       " <span class=\"icon-twitter\"></span>\n",
       " <span class=\"icon-youtube\"></span>\n",
       " <span class=\"icon-flickr\"></span>\n",
       " </a>]"
      ]
     },
     "execution_count": 7,
     "metadata": {},
     "output_type": "execute_result"
    }
   ],
   "source": [
    "soup.findAll('a')"
   ]
  },
  {
   "cell_type": "code",
   "execution_count": null,
   "id": "aa1a06c5",
   "metadata": {},
   "outputs": [],
   "source": []
  },
  {
   "cell_type": "code",
   "execution_count": 8,
   "id": "e74eeac7",
   "metadata": {},
   "outputs": [],
   "source": [
    "# Import libraries\n",
    "\n",
    "import requests\n",
    "\n",
    "import urllib.request\n",
    "\n",
    "import time\n",
    "\n",
    "from bs4 import BeautifulSoup\n",
    "\n",
    "# Set the URL you want to webscrape from\n",
    "\n",
    "url = 'https://new.mta.info/transparency/leadership/past-board-chairs'\n",
    "\n",
    "# Connect to the URL\n",
    "\n",
    "response = requests.get(url)\n",
    "\n",
    "# Parse HTML and save to BeautifulSoup object¶\n",
    "\n",
    "soup = BeautifulSoup(response.text, 'html.parser')"
   ]
  },
  {
   "cell_type": "code",
   "execution_count": null,
   "id": "ab79619c",
   "metadata": {},
   "outputs": [],
   "source": []
  },
  {
   "cell_type": "code",
   "execution_count": 2,
   "id": "82d2fb69",
   "metadata": {},
   "outputs": [],
   "source": [
    "import requests\n",
    "from bs4 import BeautifulSoup\n",
    "url = 'https://en.wikipedia.org/w/index.php' + '?title=List_of_Game_of_Thrones_episodes&oldid=802553687'\n",
    "r = requests.get(url)\n",
    "html_contents = r.text\n",
    "html_soup = BeautifulSoup(html_contents)"
   ]
  },
  {
   "cell_type": "code",
   "execution_count": 34,
   "id": "14ad6d94",
   "metadata": {},
   "outputs": [
    {
     "name": "stdout",
     "output_type": "stream",
     "text": [
      "<h1 class=\"firstHeading mw-first-heading\" id=\"firstHeading\">List of <i>Game of Thrones</i> episodes</h1>\n"
     ]
    }
   ],
   "source": [
    "print(html_soup.find('h1'))"
   ]
  },
  {
   "cell_type": "code",
   "execution_count": 35,
   "id": "644efbc9",
   "metadata": {},
   "outputs": [
    {
     "name": "stdout",
     "output_type": "stream",
     "text": [
      "None\n"
     ]
    }
   ],
   "source": [
    "print(html_soup.find('', {'id': 'p-logo'}))"
   ]
  },
  {
   "cell_type": "code",
   "execution_count": 36,
   "id": "74b2cafa",
   "metadata": {},
   "outputs": [
    {
     "name": "stdout",
     "output_type": "stream",
     "text": [
      "<h1 class=\"firstHeading mw-first-heading\" id=\"firstHeading\">List of <i>Game of Thrones</i> episodes</h1>\n",
      "<h2 id=\"mw-toc-heading\">Contents</h2>\n",
      "<h2><span class=\"mw-headline\" id=\"Series_overview\">Series overview</span></h2>\n",
      "<h2><span class=\"mw-headline\" id=\"Episodes\">Episodes</span></h2>\n",
      "<h2><span class=\"mw-headline\" id=\"Home_media_releases\">Home media releases</span></h2>\n",
      "<h2><span class=\"mw-headline\" id=\"Ratings\">Ratings</span></h2>\n",
      "<h2><span class=\"mw-headline\" id=\"References\">References</span></h2>\n",
      "<h2><span class=\"mw-headline\" id=\"External_links\">External links</span></h2>\n",
      "<h2>Navigation menu</h2>\n"
     ]
    }
   ],
   "source": [
    "for found in html_soup.find_all(['h1', 'h2']):\n",
    "    print(found)"
   ]
  },
  {
   "cell_type": "code",
   "execution_count": null,
   "id": "514aa9af",
   "metadata": {},
   "outputs": [],
   "source": []
  },
  {
   "cell_type": "code",
   "execution_count": 4,
   "id": "2acd6b76",
   "metadata": {},
   "outputs": [],
   "source": [
    "import requests\n",
    "from bs4 import BeautifulSoup\n",
    "url = 'https://en.wikipedia.org/w/index.php' + '?title=List_of_Game_of_Thrones_episodes&oldid=802553687'\n",
    "r = requests.get(url)\n",
    "html_contents = r.text\n",
    "html_soup = BeautifulSoup(html_contents, 'html.parser')"
   ]
  },
  {
   "cell_type": "code",
   "execution_count": 5,
   "id": "4e4729ae",
   "metadata": {},
   "outputs": [],
   "source": [
    "# Find the first h1 tag\n",
    "first_h1 = html_soup.find('h1')"
   ]
  },
  {
   "cell_type": "code",
   "execution_count": 6,
   "id": "8fcb175f",
   "metadata": {},
   "outputs": [
    {
     "name": "stdout",
     "output_type": "stream",
     "text": [
      "h1\n",
      "['List of ', <i>Game of Thrones</i>, ' episodes']\n",
      "<h1 class=\"firstHeading mw-first-heading\" id=\"firstHeading\">List of <i>Game of Thrones</i> episodes</h1>\n"
     ]
    }
   ],
   "source": [
    "print(first_h1.name) # h1\n",
    "print(first_h1.contents) # ['List of ', [...], ' episodes']\n",
    "print(str(first_h1))"
   ]
  },
  {
   "cell_type": "code",
   "execution_count": 7,
   "id": "10148841",
   "metadata": {},
   "outputs": [
    {
     "name": "stdout",
     "output_type": "stream",
     "text": [
      "List of Game of Thrones episodes\n",
      "List of Game of Thrones episodes\n",
      "{'id': 'firstHeading', 'class': ['firstHeading', 'mw-first-heading']}\n"
     ]
    }
   ],
   "source": [
    "# Prints out: <h1 class=\"firstHeading\" id=\"firstHeading\" lang=\"en\">List of\n",
    "# <i>Game of Thrones</i> episodes</h1>\n",
    "print(first_h1.text) # List of Game of Thrones episodes\n",
    "print(first_h1.get_text()) # Does the same\n",
    "print(first_h1.attrs)"
   ]
  },
  {
   "cell_type": "code",
   "execution_count": 8,
   "id": "520a9c0d",
   "metadata": {},
   "outputs": [
    {
     "name": "stdout",
     "output_type": "stream",
     "text": [
      "firstHeading\n",
      "firstHeading\n",
      "firstHeading\n",
      "------------ CITATIONS ------------\n"
     ]
    }
   ],
   "source": [
    "print(first_h1.attrs['id']) # firstHeading\n",
    "print(first_h1['id']) # Does the same\n",
    "print(first_h1.get('id')) # Does the same\n",
    "print('------------ CITATIONS ------------')"
   ]
  },
  {
   "cell_type": "code",
   "execution_count": 9,
   "id": "39d02673",
   "metadata": {},
   "outputs": [],
   "source": [
    "# Find the first five cite elements with a citation class\n",
    "cites = html_soup.find_all('cite', class_='citation', limit=5)"
   ]
  },
  {
   "cell_type": "code",
   "execution_count": 43,
   "id": "d06b81c7",
   "metadata": {},
   "outputs": [
    {
     "name": "stdout",
     "output_type": "stream",
     "text": [
      "Fowler, Matt (April 8, 2011). \"Game of Thrones: \"Winter is Coming\" Review\". IGN. Archived from the original on August 17, 2012. Retrieved September 22, 2016.\n",
      "Fleming, Michael (January 16, 2007). \"HBO turns Fire into fantasy series\". Variety. Archived from the original on May 16, 2012. Retrieved September 3, 2016.\n",
      "\"Game of Thrones\". Emmys.com. Retrieved September 17, 2016.\n",
      "Roberts, Josh (April 1, 2012). \"Where HBO's hit 'Game of Thrones' was filmed\". USA Today. Archived from the original on April 1, 2012. Retrieved March 8, 2013.\n",
      "Schwartz, Terri (January 28, 2013). \"'Game of Thrones' casts a bear and shoots in Los Angeles for major Season 3 scene\". Zap2it. Archived from the original on October 16, 2013. Retrieved March 8, 2013.\n"
     ]
    }
   ],
   "source": [
    "for citation in cites:\n",
    "    print(citation.get_text())\n",
    "# Inside of this cite element, find the first a tag\n",
    "    link = citation.find('a')"
   ]
  },
  {
   "cell_type": "code",
   "execution_count": 44,
   "id": "27f5d9ba",
   "metadata": {},
   "outputs": [
    {
     "name": "stdout",
     "output_type": "stream",
     "text": [
      "https://web.archive.org/web/20131016062544/http://blog.zap2it.com/frominsidethebox/2013/01/game-of-thrones-casts-a-bear-and-shoots-in-los-angeles-for-major-season-3-scene.html\n",
      "\n"
     ]
    }
   ],
   "source": [
    "# ... and show its URL\n",
    "print(link.get('href'))\n",
    "print()"
   ]
  },
  {
   "cell_type": "code",
   "execution_count": 59,
   "id": "7ee770d0",
   "metadata": {},
   "outputs": [],
   "source": []
  },
  {
   "cell_type": "code",
   "execution_count": 9,
   "id": "6bc0c8fd",
   "metadata": {},
   "outputs": [],
   "source": [
    "import requests"
   ]
  },
  {
   "cell_type": "code",
   "execution_count": 10,
   "id": "11f0983b",
   "metadata": {},
   "outputs": [],
   "source": [
    "url = 'https://www.python.org/events/python-events/'\n",
    "req = requests.get(url)"
   ]
  },
  {
   "cell_type": "code",
   "execution_count": 11,
   "id": "4629f305",
   "metadata": {},
   "outputs": [
    {
     "data": {
      "text/plain": [
       "'<!doctype html>\\n<!--[if lt IE 7]>   <html class=\"no-js ie6 lt-ie7 lt-ie8 lt-ie9\">   <![endif]-->\\n<!--[if IE 7]>      <html class=\"no-js ie7 lt-ie8 lt-ie9\">          <![endif]-->\\n<!--[if IE 8]>      <html class=\"no-js ie8 lt-ie9\">                 <![endif]-->\\n<!--[if gt IE 8]><!--><html class=\"no-js\" lang=\"en\" dir=\"ltr\">  <!--<![endif]-->\\n\\n<head>\\n    <!-- Google tag (gtag.js) -->\\n    <script async src=\"https://www.googletagmanager.com/gtag/js?id=G-TF35YF9CVH\"></script>\\n    <script>\\n      window.d'"
      ]
     },
     "execution_count": 11,
     "metadata": {},
     "output_type": "execute_result"
    }
   ],
   "source": [
    "# This prints the first 200 characters\n",
    "req.text[:500]"
   ]
  },
  {
   "cell_type": "code",
   "execution_count": 12,
   "id": "452b6f3a",
   "metadata": {},
   "outputs": [],
   "source": [
    "from bs4 import BeautifulSoup"
   ]
  },
  {
   "cell_type": "code",
   "execution_count": 13,
   "id": "639de020",
   "metadata": {},
   "outputs": [],
   "source": [
    "# we create a BeautifulSoup object and pass it the HTML\n",
    "\n",
    "soup = BeautifulSoup(req.text, 'lxml')"
   ]
  },
  {
   "cell_type": "code",
   "execution_count": 14,
   "id": "5e87e8e8",
   "metadata": {},
   "outputs": [
    {
     "ename": "AttributeError",
     "evalue": "'NoneType' object has no attribute 'findAll'",
     "output_type": "error",
     "traceback": [
      "\u001b[1;31m---------------------------------------------------------------------------\u001b[0m",
      "\u001b[1;31mAttributeError\u001b[0m                            Traceback (most recent call last)",
      "\u001b[1;32m~\\AppData\\Local\\Temp\\ipykernel_32236\\1587117591.py\u001b[0m in \u001b[0;36m<module>\u001b[1;34m\u001b[0m\n\u001b[0;32m      1\u001b[0m \u001b[1;31m# Now we tell Beautiful Soup to find the main <ul> tag for the recent events, and then to get all the <li> tags below it.\u001b[0m\u001b[1;33m\u001b[0m\u001b[1;33m\u001b[0m\u001b[0m\n\u001b[1;32m----> 2\u001b[1;33m \u001b[0mevents\u001b[0m \u001b[1;33m=\u001b[0m \u001b[0msoup\u001b[0m\u001b[1;33m.\u001b[0m\u001b[0mfind\u001b[0m\u001b[1;33m(\u001b[0m\u001b[1;34m'ul'\u001b[0m\u001b[1;33m,\u001b[0m \u001b[1;33m{\u001b[0m\u001b[1;34m'class'\u001b[0m\u001b[1;33m:\u001b[0m \u001b[1;34m'list-recentevents'\u001b[0m\u001b[1;33m}\u001b[0m\u001b[1;33m)\u001b[0m\u001b[1;33m.\u001b[0m\u001b[0mfindAll\u001b[0m\u001b[1;33m(\u001b[0m\u001b[1;34m'li'\u001b[0m\u001b[1;33m)\u001b[0m\u001b[1;33m\u001b[0m\u001b[1;33m\u001b[0m\u001b[0m\n\u001b[0m",
      "\u001b[1;31mAttributeError\u001b[0m: 'NoneType' object has no attribute 'findAll'"
     ]
    }
   ],
   "source": [
    "# Now we tell Beautiful Soup to find the main <ul> tag for the recent events, and then to get all the <li> tags below it.\n",
    "events = soup.find('ul', {'class': 'list-recentevents'}).findAll('li')"
   ]
  }
 ],
 "metadata": {
  "kernelspec": {
   "display_name": "Python 3 (ipykernel)",
   "language": "python",
   "name": "python3"
  },
  "language_info": {
   "codemirror_mode": {
    "name": "ipython",
    "version": 3
   },
   "file_extension": ".py",
   "mimetype": "text/x-python",
   "name": "python",
   "nbconvert_exporter": "python",
   "pygments_lexer": "ipython3",
   "version": "3.9.13"
  },
  "toc": {
   "base_numbering": 1,
   "nav_menu": {},
   "number_sections": true,
   "sideBar": true,
   "skip_h1_title": false,
   "title_cell": "Table of Contents",
   "title_sidebar": "Contents",
   "toc_cell": false,
   "toc_position": {},
   "toc_section_display": true,
   "toc_window_display": false
  }
 },
 "nbformat": 4,
 "nbformat_minor": 5
}
