{
 "cells": [
  {
   "cell_type": "code",
   "execution_count": 2,
   "id": "9bb2de07",
   "metadata": {},
   "outputs": [
    {
     "ename": "SyntaxError",
     "evalue": "invalid syntax (3548907855.py, line 5)",
     "output_type": "error",
     "traceback": [
      "\u001b[1;36m  Cell \u001b[1;32mIn[2], line 5\u001b[1;36m\u001b[0m\n\u001b[1;33m    pip install nltk\u001b[0m\n\u001b[1;37m        ^\u001b[0m\n\u001b[1;31mSyntaxError\u001b[0m\u001b[1;31m:\u001b[0m invalid syntax\n"
     ]
    }
   ],
   "source": [
    "# NLTK (Natural Language Toolkit) is a popular open-source Python library used for natural language processing (NLP) tasks. \n",
    "# It provides a wide range of functionalities and tools for working with human language data. NLTK offers support for tasks \n",
    "# such as tokenization, stemming, lemmatization, part-of-speech tagging, parsing, semantic reasoning, and more\n",
    "\n",
    "pip install nltk"
   ]
  },
  {
   "cell_type": "code",
   "execution_count": null,
   "id": "8cc65eeb",
   "metadata": {},
   "outputs": [],
   "source": [
    "# WordNet is a lexical database and semantic network for the English language. It is a widely used resource in natural language \n",
    "# processing (NLP) and computational linguistics\n",
    "\n",
    "pip install wordnet"
   ]
  },
  {
   "cell_type": "code",
   "execution_count": null,
   "id": "836162af",
   "metadata": {},
   "outputs": [],
   "source": [
    "################################################################################################################################"
   ]
  },
  {
   "cell_type": "markdown",
   "id": "f09362d3",
   "metadata": {},
   "source": [
    "The Porter Stemmer reduces words to their base form, or stem, by removing suffixes and modifying the word accordingly. It may not always produce a dictionary word, as its main goal is to produce a common stem that captures the essential meaning of the original word. Stemming can be helpful for tasks such as information retrieval, text mining, and other NLP applications where understanding the core meaning of words is more important than their precise form."
   ]
  },
  {
   "cell_type": "code",
   "execution_count": 3,
   "id": "7a14a4ce",
   "metadata": {},
   "outputs": [
    {
     "name": "stdout",
     "output_type": "stream",
     "text": [
      "Original: running, Stemmed: run\n",
      "Original: ran, Stemmed: ran\n",
      "Original: jumps, Stemmed: jump\n",
      "Original: jumped, Stemmed: jump\n",
      "Original: happiness, Stemmed: happi\n",
      "Original: happy, Stemmed: happi\n"
     ]
    }
   ],
   "source": [
    "# Example PorterStemmer\n",
    "\n",
    "from nltk.stem import PorterStemmer\n",
    "\n",
    "# Create an instance of the PorterStemmer\n",
    "stemmer = PorterStemmer()\n",
    "\n",
    "# Stemming example words\n",
    "words = [\"running\", \"ran\", \"jumps\", \"jumped\", \"happiness\", \"happy\"]\n",
    "\n",
    "for word in words:\n",
    "    stemmed_word = stemmer.stem(word)\n",
    "    print(f\"Original: {word}, Stemmed: {stemmed_word}\")"
   ]
  },
  {
   "cell_type": "code",
   "execution_count": 6,
   "metadata": {},
   "outputs": [
    {
     "name": "stderr",
     "output_type": "stream",
     "text": [
      "[nltk_data] Downloading package wordnet to\n",
      "[nltk_data]     C:\\Users\\Louis\\AppData\\Roaming\\nltk_data...\n"
     ]
    },
    {
     "data": {
      "text/plain": [
       "True"
      ]
     },
     "execution_count": 6,
     "metadata": {},
     "output_type": "execute_result"
    }
   ],
   "source": [
    "import nltk\n",
    "nltk.download('wordnet')"
   ]
  },
  {
   "cell_type": "code",
   "execution_count": null,
   "id": "2d13e936",
   "metadata": {},
   "outputs": [],
   "source": [
    "################################################################################################################################"
   ]
  },
  {
   "cell_type": "markdown",
   "id": "4b365cb9",
   "metadata": {},
   "source": [
    "The Lancaster Stemmer produces more aggressive stemming results compared to the Porter Stemmer. For example, it stems \"running\" to \"run\" instead of \"runn\" produced by the Porter Stemmer. The Lancaster Stemmer may not always produce dictionary words, but it aims to reduce words to a common stem that captures the core meaning."
   ]
  },
  {
   "cell_type": "code",
   "execution_count": 7,
   "id": "4c34eb55",
   "metadata": {},
   "outputs": [
    {
     "name": "stdout",
     "output_type": "stream",
     "text": [
      "Original: running, Stemmed: run\n",
      "Original: ran, Stemmed: ran\n",
      "Original: jumps, Stemmed: jump\n",
      "Original: jumped, Stemmed: jump\n",
      "Original: happiness, Stemmed: happy\n",
      "Original: happy, Stemmed: happy\n"
     ]
    }
   ],
   "source": [
    "# Example of LancasterStemmer\n",
    "\n",
    "from nltk.stem import LancasterStemmer\n",
    "\n",
    "# Create an instance of the LancasterStemmer\n",
    "stemmer = LancasterStemmer()\n",
    "\n",
    "# Stemming example words\n",
    "words = [\"running\", \"ran\", \"jumps\", \"jumped\", \"happiness\", \"happy\"]\n",
    "\n",
    "for word in words:\n",
    "    stemmed_word = stemmer.stem(word)\n",
    "    print(f\"Original: {word}, Stemmed: {stemmed_word}\")"
   ]
  },
  {
   "cell_type": "code",
   "execution_count": null,
   "id": "741e2f5c",
   "metadata": {},
   "outputs": [],
   "source": [
    "################################################################################################################################"
   ]
  },
  {
   "cell_type": "markdown",
   "id": "fca9a91b",
   "metadata": {},
   "source": [
    "The WordNet Lemmatizer correctly identifies the lemmas of the words based on their POS. For example, \"running\" remains as \"running\" since it can function as a noun or a verb. \"Jumps\" is lemmatized to \"jump\" (noun form), and \"jumped\" is lemmatized to \"jumped\" (past tense verb form)."
   ]
  },
  {
   "cell_type": "code",
   "execution_count": 8,
   "id": "78fd1ce1",
   "metadata": {},
   "outputs": [
    {
     "name": "stdout",
     "output_type": "stream",
     "text": [
      "Original: running, Lemmatized: running\n",
      "Original: ran, Lemmatized: ran\n",
      "Original: jumps, Lemmatized: jump\n",
      "Original: jumped, Lemmatized: jumped\n",
      "Original: happiness, Lemmatized: happiness\n",
      "Original: happy, Lemmatized: happy\n"
     ]
    }
   ],
   "source": [
    "# Example of WordNetLemmatizer\n",
    "\n",
    "from nltk.stem import WordNetLemmatizer\n",
    "\n",
    "# Create an instance of the WordNetLemmatizer\n",
    "lemmatizer = WordNetLemmatizer()\n",
    "\n",
    "# Lemmatization example words\n",
    "words = [\"running\", \"ran\", \"jumps\", \"jumped\", \"happiness\", \"happy\"]\n",
    "\n",
    "for word in words:\n",
    "    lemma = lemmatizer.lemmatize(word)\n",
    "    print(f\"Original: {word}, Lemmatized: {lemma}\")"
   ]
  },
  {
   "cell_type": "code",
   "execution_count": null,
   "id": "a5f5c467",
   "metadata": {},
   "outputs": [],
   "source": [
    "################################################################################################################################"
   ]
  },
  {
   "cell_type": "markdown",
   "id": "b6531de6",
   "metadata": {},
   "source": [
    "The WordNet Lemmatizer is used to lemmatize the word \"running\" specifically as a verb by providing the POS (Part-of-Speech) tag 'v'. The output shows that the lemmatized form of \"running\" as a verb is \"run\" and the lemmarized form of \"bought\" as a verb is \"buy\"."
   ]
  },
  {
   "cell_type": "code",
   "execution_count": 9,
   "id": "5ea031b3",
   "metadata": {},
   "outputs": [
    {
     "name": "stdout",
     "output_type": "stream",
     "text": [
      "Original: running, Lemmatized as verb: run\n",
      "Original: running, Lemmatized as verb: buy\n"
     ]
    }
   ],
   "source": [
    "from nltk.stem import WordNetLemmatizer\n",
    "\n",
    "# Create an instance of the WordNetLemmatizer\n",
    "lemmatizer = WordNetLemmatizer()\n",
    "\n",
    "# Lemmatization of a word as a verb\n",
    "word = \"running\"\n",
    "word1 = \"bought\"\n",
    "pos = \"v\"  # 'v' represents verb\n",
    "\n",
    "lemma = lemmatizer.lemmatize(word, pos)\n",
    "lemma1 = lemmatizer.lemmatize(word1, pos)\n",
    "print(f\"Original: {word}, Lemmatized as verb: {lemma}\")\n",
    "print(f\"Original: {word}, Lemmatized as verb: {lemma1}\")"
   ]
  },
  {
   "cell_type": "code",
   "execution_count": null,
   "id": "a20e6ce1",
   "metadata": {},
   "outputs": [],
   "source": [
    "################################################################################################################################"
   ]
  },
  {
   "cell_type": "markdown",
   "id": "06e9c36c",
   "metadata": {},
   "source": [
    "The Porter Stemmer and the Lancaster Stemmer are both stemming algorithms used to reduce words to their base or root form. \n",
    "\n",
    "The Porter Stemmer tends to produce longer stems, which can be considered more linguistically informed and closer to the actual root form. The Lancaster Stemmer, on the other hand, produces shorter stems but can be more aggressive in reducing words to their base forms."
   ]
  },
  {
   "cell_type": "code",
   "execution_count": null,
   "id": "34620eb6",
   "metadata": {},
   "outputs": [],
   "source": [
    "# Import packages\n",
    "import pandas as pd\n",
    "import nltk\n",
    "from nltk.stem import PorterStemmer, LancasterStemmer, WordNetLemmatizer\n",
    "from nltk.stem import WordNetLemmatizer\n",
    "\n",
    "# Instantiate stemmers and lemmatiser\n",
    "\n",
    "porter = PorterStemmer() # Stemmer\n",
    "lancaster = LancasterStemmer() # Stemmmer\n",
    "\n",
    "lemmatiser = WordNetLemmatizer() # Lemmatizer\n",
    "\n",
    "# Create function that normalises text using all three techniques\n",
    "def normalise_text(words, pos='v'):\n",
    "    \"\"\"Stem and lemmatise each word in a list. Return output in a dataframe.\"\"\"\n",
    "    normalised_text = pd.DataFrame(index=words, columns=['Porter', 'Lancaster', 'Lemmatiser'])\n",
    "    for word in words:\n",
    "        normalised_text.loc[word,'Porter'] = porter.stem(word)\n",
    "        normalised_text.loc[word,'Lancaster'] = lancaster.stem(word)\n",
    "        normalised_text.loc[word,'Lemmatiser'] = lemmatiser.lemmatize(word)\n",
    "    return normalised_text"
   ]
  },
  {
   "cell_type": "code",
   "execution_count": null,
   "id": "028c375c",
   "metadata": {},
   "outputs": [
    {
     "name": "stderr",
     "output_type": "stream",
     "text": [
      "[nltk_data] Downloading package wordnet to\n",
      "[nltk_data]     C:\\Users\\aicyb\\AppData\\Roaming\\nltk_data...\n",
      "[nltk_data]   Package wordnet is already up-to-date!\n"
     ]
    },
    {
     "data": {
      "text/plain": [
       "True"
      ]
     },
     "execution_count": 34,
     "metadata": {},
     "output_type": "execute_result"
    }
   ],
   "source": [
    "nltk.download('wordnet')"
   ]
  },
  {
   "cell_type": "code",
   "execution_count": null,
   "id": "e8435623",
   "metadata": {},
   "outputs": [
    {
     "data": {
      "text/html": [
       "<div>\n",
       "<style scoped>\n",
       "    .dataframe tbody tr th:only-of-type {\n",
       "        vertical-align: middle;\n",
       "    }\n",
       "\n",
       "    .dataframe tbody tr th {\n",
       "        vertical-align: top;\n",
       "    }\n",
       "\n",
       "    .dataframe thead th {\n",
       "        text-align: right;\n",
       "    }\n",
       "</style>\n",
       "<table border=\"1\" class=\"dataframe\">\n",
       "  <thead>\n",
       "    <tr style=\"text-align: right;\">\n",
       "      <th></th>\n",
       "      <th>Porter</th>\n",
       "      <th>Lancaster</th>\n",
       "      <th>Lemmatiser</th>\n",
       "    </tr>\n",
       "  </thead>\n",
       "  <tbody>\n",
       "    <tr>\n",
       "      <th>apples</th>\n",
       "      <td>appl</td>\n",
       "      <td>appl</td>\n",
       "      <td>apple</td>\n",
       "    </tr>\n",
       "    <tr>\n",
       "      <th>pears</th>\n",
       "      <td>pear</td>\n",
       "      <td>pear</td>\n",
       "      <td>pear</td>\n",
       "    </tr>\n",
       "    <tr>\n",
       "      <th>tasks</th>\n",
       "      <td>task</td>\n",
       "      <td>task</td>\n",
       "      <td>task</td>\n",
       "    </tr>\n",
       "    <tr>\n",
       "      <th>children</th>\n",
       "      <td>children</td>\n",
       "      <td>childr</td>\n",
       "      <td>child</td>\n",
       "    </tr>\n",
       "    <tr>\n",
       "      <th>earrings</th>\n",
       "      <td>ear</td>\n",
       "      <td>ear</td>\n",
       "      <td>earring</td>\n",
       "    </tr>\n",
       "    <tr>\n",
       "      <th>dictionary</th>\n",
       "      <td>dictionari</td>\n",
       "      <td>dict</td>\n",
       "      <td>dictionary</td>\n",
       "    </tr>\n",
       "    <tr>\n",
       "      <th>marriage</th>\n",
       "      <td>marriag</td>\n",
       "      <td>marry</td>\n",
       "      <td>marriage</td>\n",
       "    </tr>\n",
       "    <tr>\n",
       "      <th>connections</th>\n",
       "      <td>connect</td>\n",
       "      <td>connect</td>\n",
       "      <td>connection</td>\n",
       "    </tr>\n",
       "    <tr>\n",
       "      <th>universe</th>\n",
       "      <td>univers</td>\n",
       "      <td>univers</td>\n",
       "      <td>universe</td>\n",
       "    </tr>\n",
       "    <tr>\n",
       "      <th>university</th>\n",
       "      <td>univers</td>\n",
       "      <td>univers</td>\n",
       "      <td>university</td>\n",
       "    </tr>\n",
       "  </tbody>\n",
       "</table>\n",
       "</div>"
      ],
      "text/plain": [
       "                 Porter Lancaster  Lemmatiser\n",
       "apples             appl      appl       apple\n",
       "pears              pear      pear        pear\n",
       "tasks              task      task        task\n",
       "children       children    childr       child\n",
       "earrings            ear       ear     earring\n",
       "dictionary   dictionari      dict  dictionary\n",
       "marriage        marriag     marry    marriage\n",
       "connections     connect   connect  connection\n",
       "universe        univers   univers    universe\n",
       "university      univers   univers  university"
      ]
     },
     "execution_count": 45,
     "metadata": {},
     "output_type": "execute_result"
    }
   ],
   "source": [
    "normalise_text(['apples', 'pears', 'tasks', 'children', 'earrings', 'dictionary', 'marriage', 'connections',\\\n",
    "                'universe', 'university'], pos='n')"
   ]
  },
  {
   "cell_type": "code",
   "execution_count": null,
   "id": "f853afa8",
   "metadata": {},
   "outputs": [],
   "source": [
    "# Import packages\n",
    "import pandas as pd\n",
    "from nltk.stem import PorterStemmer, LancasterStemmer, WordNetLemmatizer\n",
    "\n",
    "# Instantiate stemmers and lemmatiser\n",
    "\n",
    "porter = PorterStemmer() # Stemmer\n",
    "lancaster = LancasterStemmer() # Stemmmer\n",
    "\n",
    "lemmatiser = WordNetLemmatizer() # Lemmatizer\n",
    "\n",
    "# Create function that normalises text using all three techniques\n",
    "def normalise_text(words, pos='n'):\n",
    "    \"\"\"Stem and lemmatise each word in a list. Return output in a dataframe.\"\"\"\n",
    "    normalised_text = pd.DataFrame(index=words, columns=['Porter', 'Lancaster', 'Lemmatiser'])\n",
    "    for word in words:\n",
    "        normalised_text.loc[word,'Porter'] = porter.stem(word)\n",
    "        normalised_text.loc[word,'Lancaster'] = lancaster.stem(word)\n",
    "        normalised_text.loc[word,'Lemmatiser'] = lemmatiser.lemmatize(word, pos=pos)\n",
    "    return normalised_text"
   ]
  },
  {
   "cell_type": "code",
   "execution_count": null,
   "id": "2ec945c9",
   "metadata": {},
   "outputs": [
    {
     "data": {
      "text/html": [
       "<div>\n",
       "<style scoped>\n",
       "    .dataframe tbody tr th:only-of-type {\n",
       "        vertical-align: middle;\n",
       "    }\n",
       "\n",
       "    .dataframe tbody tr th {\n",
       "        vertical-align: top;\n",
       "    }\n",
       "\n",
       "    .dataframe thead th {\n",
       "        text-align: right;\n",
       "    }\n",
       "</style>\n",
       "<table border=\"1\" class=\"dataframe\">\n",
       "  <thead>\n",
       "    <tr style=\"text-align: right;\">\n",
       "      <th></th>\n",
       "      <th>Porter</th>\n",
       "      <th>Lancaster</th>\n",
       "      <th>Lemmatiser</th>\n",
       "    </tr>\n",
       "  </thead>\n",
       "  <tbody>\n",
       "    <tr>\n",
       "      <th>apples</th>\n",
       "      <td>appl</td>\n",
       "      <td>appl</td>\n",
       "      <td>apples</td>\n",
       "    </tr>\n",
       "    <tr>\n",
       "      <th>pears</th>\n",
       "      <td>pear</td>\n",
       "      <td>pear</td>\n",
       "      <td>pears</td>\n",
       "    </tr>\n",
       "    <tr>\n",
       "      <th>tasks</th>\n",
       "      <td>task</td>\n",
       "      <td>task</td>\n",
       "      <td>task</td>\n",
       "    </tr>\n",
       "    <tr>\n",
       "      <th>children</th>\n",
       "      <td>children</td>\n",
       "      <td>childr</td>\n",
       "      <td>children</td>\n",
       "    </tr>\n",
       "    <tr>\n",
       "      <th>earrings</th>\n",
       "      <td>ear</td>\n",
       "      <td>ear</td>\n",
       "      <td>earrings</td>\n",
       "    </tr>\n",
       "    <tr>\n",
       "      <th>dictionary</th>\n",
       "      <td>dictionari</td>\n",
       "      <td>dict</td>\n",
       "      <td>dictionary</td>\n",
       "    </tr>\n",
       "    <tr>\n",
       "      <th>marriage</th>\n",
       "      <td>marriag</td>\n",
       "      <td>marry</td>\n",
       "      <td>marriage</td>\n",
       "    </tr>\n",
       "    <tr>\n",
       "      <th>connections</th>\n",
       "      <td>connect</td>\n",
       "      <td>connect</td>\n",
       "      <td>connections</td>\n",
       "    </tr>\n",
       "    <tr>\n",
       "      <th>universe</th>\n",
       "      <td>univers</td>\n",
       "      <td>univers</td>\n",
       "      <td>universe</td>\n",
       "    </tr>\n",
       "    <tr>\n",
       "      <th>university</th>\n",
       "      <td>univers</td>\n",
       "      <td>univers</td>\n",
       "      <td>university</td>\n",
       "    </tr>\n",
       "  </tbody>\n",
       "</table>\n",
       "</div>"
      ],
      "text/plain": [
       "                 Porter Lancaster   Lemmatiser\n",
       "apples             appl      appl       apples\n",
       "pears              pear      pear        pears\n",
       "tasks              task      task         task\n",
       "children       children    childr     children\n",
       "earrings            ear       ear     earrings\n",
       "dictionary   dictionari      dict   dictionary\n",
       "marriage        marriag     marry     marriage\n",
       "connections     connect   connect  connections\n",
       "universe        univers   univers     universe\n",
       "university      univers   univers   university"
      ]
     },
     "execution_count": 152,
     "metadata": {},
     "output_type": "execute_result"
    }
   ],
   "source": [
    "normalise_text(['apples', 'pears', 'tasks', 'children', 'earrings', 'dictionary', 'marriage', 'connections',\\\n",
    "                'universe', 'university'], pos='v')"
   ]
  },
  {
   "cell_type": "code",
   "execution_count": null,
   "id": "ef7c1cdc",
   "metadata": {},
   "outputs": [
    {
     "data": {
      "text/html": [
       "<div>\n",
       "<style scoped>\n",
       "    .dataframe tbody tr th:only-of-type {\n",
       "        vertical-align: middle;\n",
       "    }\n",
       "\n",
       "    .dataframe tbody tr th {\n",
       "        vertical-align: top;\n",
       "    }\n",
       "\n",
       "    .dataframe thead th {\n",
       "        text-align: right;\n",
       "    }\n",
       "</style>\n",
       "<table border=\"1\" class=\"dataframe\">\n",
       "  <thead>\n",
       "    <tr style=\"text-align: right;\">\n",
       "      <th></th>\n",
       "      <th>Porter</th>\n",
       "      <th>Lancaster</th>\n",
       "      <th>Lemmatiser</th>\n",
       "    </tr>\n",
       "  </thead>\n",
       "  <tbody>\n",
       "    <tr>\n",
       "      <th>pie</th>\n",
       "      <td>pie</td>\n",
       "      <td>pie</td>\n",
       "      <td>pie</td>\n",
       "    </tr>\n",
       "    <tr>\n",
       "      <th>globe</th>\n",
       "      <td>globe</td>\n",
       "      <td>glob</td>\n",
       "      <td>globe</td>\n",
       "    </tr>\n",
       "    <tr>\n",
       "      <th>house</th>\n",
       "      <td>hous</td>\n",
       "      <td>hous</td>\n",
       "      <td>house</td>\n",
       "    </tr>\n",
       "    <tr>\n",
       "      <th>knee</th>\n",
       "      <td>knee</td>\n",
       "      <td>kne</td>\n",
       "      <td>knee</td>\n",
       "    </tr>\n",
       "    <tr>\n",
       "      <th>angle</th>\n",
       "      <td>angl</td>\n",
       "      <td>angl</td>\n",
       "      <td>angle</td>\n",
       "    </tr>\n",
       "    <tr>\n",
       "      <th>acetone</th>\n",
       "      <td>aceton</td>\n",
       "      <td>aceton</td>\n",
       "      <td>acetone</td>\n",
       "    </tr>\n",
       "    <tr>\n",
       "      <th>time</th>\n",
       "      <td>time</td>\n",
       "      <td>tim</td>\n",
       "      <td>time</td>\n",
       "    </tr>\n",
       "    <tr>\n",
       "      <th>brownie</th>\n",
       "      <td>browni</td>\n",
       "      <td>browny</td>\n",
       "      <td>brownie</td>\n",
       "    </tr>\n",
       "    <tr>\n",
       "      <th>climate</th>\n",
       "      <td>climat</td>\n",
       "      <td>clim</td>\n",
       "      <td>climate</td>\n",
       "    </tr>\n",
       "    <tr>\n",
       "      <th>independence</th>\n",
       "      <td>independ</td>\n",
       "      <td>independ</td>\n",
       "      <td>independence</td>\n",
       "    </tr>\n",
       "  </tbody>\n",
       "</table>\n",
       "</div>"
      ],
      "text/plain": [
       "                Porter Lancaster    Lemmatiser\n",
       "pie                pie       pie           pie\n",
       "globe            globe      glob         globe\n",
       "house             hous      hous         house\n",
       "knee              knee       kne          knee\n",
       "angle             angl      angl         angle\n",
       "acetone         aceton    aceton       acetone\n",
       "time              time       tim          time\n",
       "brownie         browni    browny       brownie\n",
       "climate         climat      clim       climate\n",
       "independence  independ  independ  independence"
      ]
     },
     "execution_count": 153,
     "metadata": {},
     "output_type": "execute_result"
    }
   ],
   "source": [
    "normalise_text(['pie', 'globe', 'house', 'knee', 'angle', 'acetone', 'time', 'brownie', 'climate',\\\n",
    "                'independence'], pos='n')"
   ]
  },
  {
   "cell_type": "code",
   "execution_count": null,
   "id": "cbae0b8b",
   "metadata": {},
   "outputs": [
    {
     "data": {
      "text/html": [
       "<div>\n",
       "<style scoped>\n",
       "    .dataframe tbody tr th:only-of-type {\n",
       "        vertical-align: middle;\n",
       "    }\n",
       "\n",
       "    .dataframe tbody tr th {\n",
       "        vertical-align: top;\n",
       "    }\n",
       "\n",
       "    .dataframe thead th {\n",
       "        text-align: right;\n",
       "    }\n",
       "</style>\n",
       "<table border=\"1\" class=\"dataframe\">\n",
       "  <thead>\n",
       "    <tr style=\"text-align: right;\">\n",
       "      <th></th>\n",
       "      <th>Porter</th>\n",
       "      <th>Lancaster</th>\n",
       "      <th>Lemmatiser</th>\n",
       "    </tr>\n",
       "  </thead>\n",
       "  <tbody>\n",
       "    <tr>\n",
       "      <th>wrote</th>\n",
       "      <td>wrote</td>\n",
       "      <td>wrot</td>\n",
       "      <td>write</td>\n",
       "    </tr>\n",
       "    <tr>\n",
       "      <th>thinking</th>\n",
       "      <td>think</td>\n",
       "      <td>think</td>\n",
       "      <td>think</td>\n",
       "    </tr>\n",
       "    <tr>\n",
       "      <th>remembered</th>\n",
       "      <td>rememb</td>\n",
       "      <td>rememb</td>\n",
       "      <td>remember</td>\n",
       "    </tr>\n",
       "    <tr>\n",
       "      <th>relies</th>\n",
       "      <td>reli</td>\n",
       "      <td>rely</td>\n",
       "      <td>rely</td>\n",
       "    </tr>\n",
       "    <tr>\n",
       "      <th>ate</th>\n",
       "      <td>ate</td>\n",
       "      <td>at</td>\n",
       "      <td>eat</td>\n",
       "    </tr>\n",
       "    <tr>\n",
       "      <th>gone</th>\n",
       "      <td>gone</td>\n",
       "      <td>gon</td>\n",
       "      <td>go</td>\n",
       "    </tr>\n",
       "    <tr>\n",
       "      <th>won</th>\n",
       "      <td>won</td>\n",
       "      <td>won</td>\n",
       "      <td>win</td>\n",
       "    </tr>\n",
       "    <tr>\n",
       "      <th>ran</th>\n",
       "      <td>ran</td>\n",
       "      <td>ran</td>\n",
       "      <td>run</td>\n",
       "    </tr>\n",
       "    <tr>\n",
       "      <th>swimming</th>\n",
       "      <td>swim</td>\n",
       "      <td>swim</td>\n",
       "      <td>swim</td>\n",
       "    </tr>\n",
       "    <tr>\n",
       "      <th>mistreated</th>\n",
       "      <td>mistreat</td>\n",
       "      <td>mist</td>\n",
       "      <td>mistreat</td>\n",
       "    </tr>\n",
       "  </tbody>\n",
       "</table>\n",
       "</div>"
      ],
      "text/plain": [
       "              Porter Lancaster Lemmatiser\n",
       "wrote          wrote      wrot      write\n",
       "thinking       think     think      think\n",
       "remembered    rememb    rememb   remember\n",
       "relies          reli      rely       rely\n",
       "ate              ate        at        eat\n",
       "gone            gone       gon         go\n",
       "won              won       won        win\n",
       "ran              ran       ran        run\n",
       "swimming        swim      swim       swim\n",
       "mistreated  mistreat      mist   mistreat"
      ]
     },
     "execution_count": 154,
     "metadata": {},
     "output_type": "execute_result"
    }
   ],
   "source": [
    "normalise_text(['wrote', 'thinking', 'remembered', 'relies', 'ate', 'gone', 'won', 'ran', \\\n",
    "                'swimming', 'mistreated'], pos='v')"
   ]
  }
 ],
 "metadata": {
  "kernelspec": {
   "display_name": "Python 3 (ipykernel)",
   "language": "python",
   "name": "python3"
  },
  "language_info": {
   "codemirror_mode": {
    "name": "ipython",
    "version": 3
   },
   "file_extension": ".py",
   "mimetype": "text/x-python",
   "name": "python",
   "nbconvert_exporter": "python",
   "pygments_lexer": "ipython3",
   "version": "3.11.5"
  },
  "toc": {
   "base_numbering": 1,
   "nav_menu": {},
   "number_sections": false,
   "sideBar": true,
   "skip_h1_title": false,
   "title_cell": "Table of Contents",
   "title_sidebar": "Contents",
   "toc_cell": false,
   "toc_position": {},
   "toc_section_display": true,
   "toc_window_display": true
  }
 },
 "nbformat": 4,
 "nbformat_minor": 5
}
