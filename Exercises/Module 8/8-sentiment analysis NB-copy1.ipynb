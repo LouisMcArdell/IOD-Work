{
 "cells": [
  {
   "cell_type": "code",
   "execution_count": 2,
   "id": "6b601976",
   "metadata": {},
   "outputs": [],
   "source": [
    "import pandas as pd\n",
    "import numpy as np\n",
    "\n",
    "# We are using the BernoulliNB version of Naive Bayes, which assumes predictors are binary encoded.\n",
    "from sklearn.naive_bayes import BernoulliNB\n",
    "from sklearn.model_selection import cross_val_score, train_test_split\n",
    "\n",
    "from sklearn.feature_extraction.text import CountVectorizer"
   ]
  },
  {
   "cell_type": "code",
   "execution_count": 3,
   "id": "189adaed",
   "metadata": {},
   "outputs": [],
   "source": [
    "rotten = pd.read_csv('d:/data/rt_critics.csv')"
   ]
  },
  {
   "cell_type": "markdown",
   "id": "5682272f",
   "metadata": {},
   "source": [
    "The columns fresh contains three classes, namely, \"fresh\", \"rotten\" and \"none\". The third one needs to be removed which can be done using the Python method isin( ) which returns a boolean DataFrame showing whether each element in the DataFrame is contained in values."
   ]
  },
  {
   "cell_type": "code",
   "execution_count": 4,
   "id": "5b8fef37",
   "metadata": {},
   "outputs": [],
   "source": [
    "rotten = rotten[rotten['fresh'].isin(['fresh','rotten'])]"
   ]
  },
  {
   "cell_type": "markdown",
   "id": "dbdfd726",
   "metadata": {},
   "source": [
    "We now turn the fresh column into 0s and 1s using .map( )."
   ]
  },
  {
   "cell_type": "code",
   "execution_count": 5,
   "id": "38ff99b7",
   "metadata": {},
   "outputs": [],
   "source": [
    "rotten['fresh'] = rotten['fresh'].map(lambda x: 1 if x == 'fresh' else 0)"
   ]
  },
  {
   "cell_type": "markdown",
   "id": "deb3cc94",
   "metadata": {},
   "source": [
    "We have to choose a range value ngram_range. The latter is:\n",
    "\n",
    "The lower and upper boundary of the range of n-values for different n-grams to be extracted. All values of n such that min_n <= n <= max_n will be used."
   ]
  },
  {
   "cell_type": "code",
   "execution_count": 6,
   "id": "63245941",
   "metadata": {},
   "outputs": [],
   "source": [
    "from sklearn.feature_extraction.text import CountVectorizer\n",
    "ngram_range = (1,2)\n",
    "max_features = 2000\n",
    "\n",
    "cv = CountVectorizer(ngram_range=ngram_range, max_features=max_features, binary=True, stop_words='english')"
   ]
  },
  {
   "cell_type": "markdown",
   "id": "6bdd9e44",
   "metadata": {},
   "source": [
    "The next step is to \"learn the vocabulary dictionary and return term-document matrix\" using cv.fit_transform"
   ]
  },
  {
   "cell_type": "code",
   "execution_count": 7,
   "id": "c1889e56",
   "metadata": {},
   "outputs": [],
   "source": [
    "words = cv.fit_transform(rotten.quote)"
   ]
  },
  {
   "cell_type": "markdown",
   "id": "46bd2e5f",
   "metadata": {},
   "source": [
    "The dataframe corresponding to this term-document matrix will be called `df_words`. This is our predictor matrix.\n",
    "\n",
    "The method todense() returns a dense matrix representation of the matrix words."
   ]
  },
  {
   "cell_type": "code",
   "execution_count": 8,
   "id": "c9598cb3",
   "metadata": {},
   "outputs": [
    {
     "name": "stderr",
     "output_type": "stream",
     "text": [
      "C:\\Users\\aicyb\\anaconda3\\lib\\site-packages\\sklearn\\utils\\deprecation.py:87: FutureWarning: Function get_feature_names is deprecated; get_feature_names is deprecated in 1.0 and will be removed in 1.2. Please use get_feature_names_out instead.\n",
      "  warnings.warn(msg, category=FutureWarning)\n"
     ]
    }
   ],
   "source": [
    "df_words = pd.DataFrame(words.todense(), columns=cv.get_feature_names())\n",
    "\n",
    "# In this dataframe:\n",
    "\n",
    "# Rows are classes\n",
    "# Columns are features."
   ]
  },
  {
   "cell_type": "code",
   "execution_count": 9,
   "id": "052b2965",
   "metadata": {},
   "outputs": [],
   "source": [
    "X_train, X_test, y_train, y_test = train_test_split(df_words.values, rotten.fresh.values, test_size=0.25)"
   ]
  },
  {
   "cell_type": "markdown",
   "id": "3cc89ee9",
   "metadata": {},
   "source": [
    "We will now use BernoulliNB() on the training data to build a model to predict if the class is \"fresh\" or \"rotten\" based on the word appearances:"
   ]
  },
  {
   "cell_type": "code",
   "execution_count": 10,
   "id": "f6f54664",
   "metadata": {},
   "outputs": [
    {
     "data": {
      "text/plain": [
       "BernoulliNB()"
      ]
     },
     "execution_count": 10,
     "metadata": {},
     "output_type": "execute_result"
    }
   ],
   "source": [
    "nb = BernoulliNB()\n",
    "nb.fit(X_train, y_train)"
   ]
  },
  {
   "cell_type": "markdown",
   "id": "25e1789d",
   "metadata": {},
   "source": [
    "We will now obtain the probability of words given the \"fresh\" classification. The log probabilities of a feature for given a class is obtained using nb.feature_log_prob_. We then exponentiate the result to get the actual probabilities. To organize our results we build a DataFrame which includes a new column showing the difference in probabilities:"
   ]
  },
  {
   "cell_type": "code",
   "execution_count": 11,
   "id": "bb979ceb",
   "metadata": {},
   "outputs": [],
   "source": [
    "feat_lp = nb.feature_log_prob_\n",
    "fresh_p = np.exp(feat_lp[1])\n",
    "rotten_p = np.exp(feat_lp[0])\n",
    "\n",
    "df_new = pd.DataFrame({'fresh_probability':fresh_p, \n",
    "                       'rotten_probability':rotten_p, \n",
    "                       'feature':df_words.columns.values})\n",
    "\n",
    "df_new['probability_diff'] = df_new['fresh_probability'] - df_new['rotten_probability']"
   ]
  },
  {
   "cell_type": "code",
   "execution_count": 12,
   "id": "8e7e6d5d",
   "metadata": {},
   "outputs": [
    {
     "data": {
      "text/plain": [
       "0.7295758610873897"
      ]
     },
     "execution_count": 12,
     "metadata": {},
     "output_type": "execute_result"
    }
   ],
   "source": [
    "nb.score(X_test, y_test)"
   ]
  },
  {
   "cell_type": "markdown",
   "id": "9c61d4b8",
   "metadata": {},
   "source": [
    "We now investigate which words are more likely to be found in \"fresh\" and \"rotten\" reviews"
   ]
  },
  {
   "cell_type": "code",
   "execution_count": 16,
   "id": "f43818fd",
   "metadata": {},
   "outputs": [
    {
     "name": "stdout",
     "output_type": "stream",
     "text": [
      "Words are more likely to be found in \"fresh\"\n"
     ]
    },
    {
     "data": {
      "text/plain": [
       "['film', 'best', 'entertaining', 'great', 'performance']"
      ]
     },
     "execution_count": 16,
     "metadata": {},
     "output_type": "execute_result"
    }
   ],
   "source": [
    "df_fresh = df_new.sort_values('probability_diff', ascending=False)\n",
    "df_rotten = df_new.sort_values('probability_diff', ascending=True)\n",
    "print('Words are more likely to be found in \"fresh\"')\n",
    "df_fresh['feature'].tolist()[0:5]"
   ]
  },
  {
   "cell_type": "code",
   "execution_count": 18,
   "id": "eb9bd31f",
   "metadata": {},
   "outputs": [
    {
     "name": "stdout",
     "output_type": "stream",
     "text": [
      "Words are more likely to be found in \"rotten\"\n"
     ]
    },
    {
     "data": {
      "text/plain": [
       "['like', 'bad', 'really', 'little', 'isn']"
      ]
     },
     "execution_count": 18,
     "metadata": {},
     "output_type": "execute_result"
    }
   ],
   "source": [
    "print('Words are more likely to be found in \"rotten\"')\n",
    "df_rotten['feature'].tolist()[0:5]"
   ]
  },
  {
   "cell_type": "code",
   "execution_count": null,
   "id": "c2164230",
   "metadata": {},
   "outputs": [],
   "source": []
  },
  {
   "cell_type": "markdown",
   "id": "114a297e",
   "metadata": {},
   "source": [
    "We conclude by find which movies have highest probability of being \"fresh\" or \"rotten\"\n",
    "\n",
    "We need to use the other columns of the original table for that. Defining the target and predictors, fitting the model to all data:"
   ]
  },
  {
   "cell_type": "code",
   "execution_count": 19,
   "id": "1fe3adef",
   "metadata": {},
   "outputs": [],
   "source": [
    "X = df_words.values\n",
    "y = rotten['fresh']\n",
    "\n",
    "model = BernoulliNB().fit(X,y)\n",
    "\n",
    "df_full = pd.DataFrame({\n",
    "        'probability_fresh':model.predict_proba(X)[:,1],\n",
    "        'movie':rotten.title,\n",
    "        'quote':rotten.quote\n",
    "    })\n",
    "\n",
    "df_fresh = df_full.sort_values('probability_fresh',ascending=False)\n",
    "df_rotten = df_full.sort_values('probability_fresh',ascending=True)"
   ]
  },
  {
   "cell_type": "code",
   "execution_count": 21,
   "id": "fafd9fea",
   "metadata": {},
   "outputs": [
    {
     "name": "stdout",
     "output_type": "stream",
     "text": [
      "5 Movies most likely to be fresh:\n"
     ]
    },
    {
     "data": {
      "text/html": [
       "<div>\n",
       "<style scoped>\n",
       "    .dataframe tbody tr th:only-of-type {\n",
       "        vertical-align: middle;\n",
       "    }\n",
       "\n",
       "    .dataframe tbody tr th {\n",
       "        vertical-align: top;\n",
       "    }\n",
       "\n",
       "    .dataframe thead th {\n",
       "        text-align: right;\n",
       "    }\n",
       "</style>\n",
       "<table border=\"1\" class=\"dataframe\">\n",
       "  <thead>\n",
       "    <tr style=\"text-align: right;\">\n",
       "      <th></th>\n",
       "      <th>probability_fresh</th>\n",
       "      <th>movie</th>\n",
       "      <th>quote</th>\n",
       "    </tr>\n",
       "  </thead>\n",
       "  <tbody>\n",
       "    <tr>\n",
       "      <th>7549</th>\n",
       "      <td>0.999990</td>\n",
       "      <td>Kundun</td>\n",
       "      <td>Stunning, odd, glorious, calm and sensationall...</td>\n",
       "    </tr>\n",
       "    <tr>\n",
       "      <th>7352</th>\n",
       "      <td>0.999989</td>\n",
       "      <td>Witness</td>\n",
       "      <td>Powerful, assured, full of beautiful imagery a...</td>\n",
       "    </tr>\n",
       "    <tr>\n",
       "      <th>7188</th>\n",
       "      <td>0.999986</td>\n",
       "      <td>Mrs Brown</td>\n",
       "      <td>Centering on a lesser-known chapter in the rei...</td>\n",
       "    </tr>\n",
       "    <tr>\n",
       "      <th>5610</th>\n",
       "      <td>0.999978</td>\n",
       "      <td>Diva</td>\n",
       "      <td>The most exciting debut in years, it is unifie...</td>\n",
       "    </tr>\n",
       "    <tr>\n",
       "      <th>4735</th>\n",
       "      <td>0.999977</td>\n",
       "      <td>Sophie's Choice</td>\n",
       "      <td>Though it's far from a flawless movie, Sophie'...</td>\n",
       "    </tr>\n",
       "  </tbody>\n",
       "</table>\n",
       "</div>"
      ],
      "text/plain": [
       "      probability_fresh            movie  \\\n",
       "7549           0.999990           Kundun   \n",
       "7352           0.999989          Witness   \n",
       "7188           0.999986        Mrs Brown   \n",
       "5610           0.999978             Diva   \n",
       "4735           0.999977  Sophie's Choice   \n",
       "\n",
       "                                                  quote  \n",
       "7549  Stunning, odd, glorious, calm and sensationall...  \n",
       "7352  Powerful, assured, full of beautiful imagery a...  \n",
       "7188  Centering on a lesser-known chapter in the rei...  \n",
       "5610  The most exciting debut in years, it is unifie...  \n",
       "4735  Though it's far from a flawless movie, Sophie'...  "
      ]
     },
     "execution_count": 21,
     "metadata": {},
     "output_type": "execute_result"
    }
   ],
   "source": [
    "print('5 Movies most likely to be fresh:')\n",
    "df_fresh.head()"
   ]
  },
  {
   "cell_type": "code",
   "execution_count": 22,
   "id": "0ad23270",
   "metadata": {},
   "outputs": [
    {
     "name": "stdout",
     "output_type": "stream",
     "text": [
      "5 Movies most likely to be rotten:\n"
     ]
    },
    {
     "data": {
      "text/html": [
       "<div>\n",
       "<style scoped>\n",
       "    .dataframe tbody tr th:only-of-type {\n",
       "        vertical-align: middle;\n",
       "    }\n",
       "\n",
       "    .dataframe tbody tr th {\n",
       "        vertical-align: top;\n",
       "    }\n",
       "\n",
       "    .dataframe thead th {\n",
       "        text-align: right;\n",
       "    }\n",
       "</style>\n",
       "<table border=\"1\" class=\"dataframe\">\n",
       "  <thead>\n",
       "    <tr style=\"text-align: right;\">\n",
       "      <th></th>\n",
       "      <th>probability_fresh</th>\n",
       "      <th>movie</th>\n",
       "      <th>quote</th>\n",
       "    </tr>\n",
       "  </thead>\n",
       "  <tbody>\n",
       "    <tr>\n",
       "      <th>12567</th>\n",
       "      <td>0.000012</td>\n",
       "      <td>Pokémon: The First Movie</td>\n",
       "      <td>With intentionally stilted animation, uninspir...</td>\n",
       "    </tr>\n",
       "    <tr>\n",
       "      <th>3546</th>\n",
       "      <td>0.000013</td>\n",
       "      <td>Joe's Apartment</td>\n",
       "      <td>There's not enough story here for something ha...</td>\n",
       "    </tr>\n",
       "    <tr>\n",
       "      <th>2112</th>\n",
       "      <td>0.000062</td>\n",
       "      <td>The Beverly Hillbillies</td>\n",
       "      <td>Imagine the dumbest half-hour sitcom you've ev...</td>\n",
       "    </tr>\n",
       "    <tr>\n",
       "      <th>3521</th>\n",
       "      <td>0.000097</td>\n",
       "      <td>Kazaam</td>\n",
       "      <td>As fairy tale, buddy comedy, family drama, thr...</td>\n",
       "    </tr>\n",
       "    <tr>\n",
       "      <th>6837</th>\n",
       "      <td>0.000138</td>\n",
       "      <td>Batman &amp; Robin</td>\n",
       "      <td>Pointless, plodding plotting; asinine action; ...</td>\n",
       "    </tr>\n",
       "  </tbody>\n",
       "</table>\n",
       "</div>"
      ],
      "text/plain": [
       "       probability_fresh                     movie  \\\n",
       "12567           0.000012  Pokémon: The First Movie   \n",
       "3546            0.000013           Joe's Apartment   \n",
       "2112            0.000062   The Beverly Hillbillies   \n",
       "3521            0.000097                    Kazaam   \n",
       "6837            0.000138            Batman & Robin   \n",
       "\n",
       "                                                   quote  \n",
       "12567  With intentionally stilted animation, uninspir...  \n",
       "3546   There's not enough story here for something ha...  \n",
       "2112   Imagine the dumbest half-hour sitcom you've ev...  \n",
       "3521   As fairy tale, buddy comedy, family drama, thr...  \n",
       "6837   Pointless, plodding plotting; asinine action; ...  "
      ]
     },
     "execution_count": 22,
     "metadata": {},
     "output_type": "execute_result"
    }
   ],
   "source": [
    "print('5 Movies most likely to be rotten:')\n",
    "df_rotten.head()"
   ]
  },
  {
   "cell_type": "code",
   "execution_count": null,
   "id": "8c72fb9b",
   "metadata": {},
   "outputs": [],
   "source": []
  }
 ],
 "metadata": {
  "kernelspec": {
   "display_name": "Python 3 (ipykernel)",
   "language": "python",
   "name": "python3"
  },
  "language_info": {
   "codemirror_mode": {
    "name": "ipython",
    "version": 3
   },
   "file_extension": ".py",
   "mimetype": "text/x-python",
   "name": "python",
   "nbconvert_exporter": "python",
   "pygments_lexer": "ipython3",
   "version": "3.9.13"
  },
  "toc": {
   "base_numbering": 1,
   "nav_menu": {},
   "number_sections": true,
   "sideBar": true,
   "skip_h1_title": false,
   "title_cell": "Table of Contents",
   "title_sidebar": "Contents",
   "toc_cell": false,
   "toc_position": {},
   "toc_section_display": true,
   "toc_window_display": false
  }
 },
 "nbformat": 4,
 "nbformat_minor": 5
}
