{
 "cells": [
  {
   "cell_type": "code",
   "execution_count": null,
   "metadata": {},
   "outputs": [],
   "source": [
    "# The process of converting data to something a computer can understand is referred to as pre-processing. \n",
    "# One of the major forms of pre-processing is to filter out useless data. In natural language processing, \n",
    "# useless words (data), are referred to as stop words\n",
    "\n",
    "# Stop Words: A stop word is a commonly used word (such as “the”, “a”, “an”, “in”) that a search engine has been programmed\n",
    "# to ignore, both when indexing entries for searching and when retrieving them as the result of a search query. "
   ]
  },
  {
   "attachments": {
    "image.png": {
     "image/png": "[encoded data removed]"
    }
   },
   "cell_type": "markdown",
   "metadata": {},
   "source": [
    "![image.png](attachment:image.png)"
   ]
  },
  {
   "cell_type": "code",
   "execution_count": 1,
   "metadata": {},
   "outputs": [
    {
     "name": "stderr",
     "output_type": "stream",
     "text": [
      "[nltk_data] Downloading package stopwords to\n",
      "[nltk_data]     C:\\Users\\aicyb\\AppData\\Roaming\\nltk_data...\n",
      "[nltk_data]   Package stopwords is already up-to-date!\n"
     ]
    },
    {
     "data": {
      "text/plain": [
       "True"
      ]
     },
     "execution_count": 1,
     "metadata": {},
     "output_type": "execute_result"
    }
   ],
   "source": [
    "import nltk\n",
    "nltk.download('stopwords')"
   ]
  },
  {
   "cell_type": "code",
   "execution_count": 2,
   "metadata": {},
   "outputs": [
    {
     "name": "stdout",
     "output_type": "stream",
     "text": [
      "['i', 'me', 'my', 'myself', 'we', 'our', 'ours', 'ourselves', 'you', \"you're\", \"you've\", \"you'll\", \"you'd\", 'your', 'yours', 'yourself', 'yourselves', 'he', 'him', 'his', 'himself', 'she', \"she's\", 'her', 'hers', 'herself', 'it', \"it's\", 'its', 'itself', 'they', 'them', 'their', 'theirs', 'themselves', 'what', 'which', 'who', 'whom', 'this', 'that', \"that'll\", 'these', 'those', 'am', 'is', 'are', 'was', 'were', 'be', 'been', 'being', 'have', 'has', 'had', 'having', 'do', 'does', 'did', 'doing', 'a', 'an', 'the', 'and', 'but', 'if', 'or', 'because', 'as', 'until', 'while', 'of', 'at', 'by', 'for', 'with', 'about', 'against', 'between', 'into', 'through', 'during', 'before', 'after', 'above', 'below', 'to', 'from', 'up', 'down', 'in', 'out', 'on', 'off', 'over', 'under', 'again', 'further', 'then', 'once', 'here', 'there', 'when', 'where', 'why', 'how', 'all', 'any', 'both', 'each', 'few', 'more', 'most', 'other', 'some', 'such', 'no', 'nor', 'not', 'only', 'own', 'same', 'so', 'than', 'too', 'very', 's', 't', 'can', 'will', 'just', 'don', \"don't\", 'should', \"should've\", 'now', 'd', 'll', 'm', 'o', 're', 've', 'y', 'ain', 'aren', \"aren't\", 'couldn', \"couldn't\", 'didn', \"didn't\", 'doesn', \"doesn't\", 'hadn', \"hadn't\", 'hasn', \"hasn't\", 'haven', \"haven't\", 'isn', \"isn't\", 'ma', 'mightn', \"mightn't\", 'mustn', \"mustn't\", 'needn', \"needn't\", 'shan', \"shan't\", 'shouldn', \"shouldn't\", 'wasn', \"wasn't\", 'weren', \"weren't\", 'won', \"won't\", 'wouldn', \"wouldn't\"]\n"
     ]
    }
   ],
   "source": [
    "from nltk.corpus import stopwords\n",
    "print(stopwords.words('english'))"
   ]
  },
  {
   "cell_type": "code",
   "execution_count": 3,
   "metadata": {},
   "outputs": [
    {
     "name": "stdout",
     "output_type": "stream",
     "text": [
      "['This', 'is', 'a', 'sample', 'sentence', ',', 'showing', 'off', 'the', 'stop', 'words', 'filtration', '.']\n",
      "['This', 'sample', 'sentence', ',', 'showing', 'stop', 'words', 'filtration', '.']\n"
     ]
    }
   ],
   "source": [
    "# Removing stop words with NLTK\n",
    "\n",
    "from nltk.corpus import stopwords\n",
    "from nltk.tokenize import word_tokenize\n",
    " \n",
    "example_sent = \"\"\"This is a sample sentence,\n",
    "                  showing off the stop words filtration.\"\"\"\n",
    " \n",
    "stop_words = set(stopwords.words('english'))\n",
    " \n",
    "word_tokens = word_tokenize(example_sent)\n",
    " \n",
    "filtered_sentence = [w for w in word_tokens if not w.lower() in stop_words]\n",
    " \n",
    "filtered_sentence = []\n",
    " \n",
    "for w in word_tokens:\n",
    "    if w not in stop_words:\n",
    "        filtered_sentence.append(w)\n",
    " \n",
    "print(word_tokens)\n",
    "print(filtered_sentence)"
   ]
  },
  {
   "cell_type": "code",
   "execution_count": 9,
   "metadata": {},
   "outputs": [],
   "source": [
    "# Performing the Stopwords operations in a file\n",
    "\n",
    "import io\n",
    "from nltk.corpus import stopwords\n",
    "from nltk.tokenize import word_tokenize\n",
    " \n",
    "# word_tokenize accepts\n",
    "# a string as an input, not a file.\n",
    "stop_words = set(stopwords.words('english'))\n",
    "file1 = open(\"d:/data/text.txt\")\n",
    " \n",
    "# Use this to read file content as a stream:\n",
    "line = file1.read()\n",
    "words = line.split()\n",
    "for r in words:\n",
    "    if not r in stop_words:\n",
    "        appendFile = open('d:/data/text.txt','a')\n",
    "        appendFile.write(\" \"+r)\n",
    "        appendFile.close()"
   ]
  },
  {
   "cell_type": "code",
   "execution_count": 11,
   "metadata": {},
   "outputs": [
    {
     "data": {
      "text/plain": [
       "'A file with .TXT extension represents a text document that contains plain text in the form of lines. Paragraphs in a text document are recognized by carriage returns and are used for better arrangement of file contents. A standard text document can be opened in any text editor or word processing application on different operating systems. All the text contained in such a file is in human-readable format and represented by sequence of characters.\\n\\nText files can store large amount of data as there is no limitation on the size of contents. However, text editors opening such large files need to be smart for loading and displaying these. Almost all operating systems come with text editors that allow you to create and edit text files. For example, Windows OS comes with Notepad and Wordpad for this purpose. Similarly, MacOS comes with TextEdit for creating and editing Text Documents. There are, however, other free text editors available as well over the internet that provide you the capability to work with Text Documents like Notepad++ which is far more advanced in terms of functionality.'"
      ]
     },
     "execution_count": 11,
     "metadata": {},
     "output_type": "execute_result"
    }
   ],
   "source": [
    "line"
   ]
  },
  {
   "cell_type": "code",
   "execution_count": 12,
   "metadata": {},
   "outputs": [
    {
     "data": {
      "text/plain": [
       "['A',\n",
       " 'file',\n",
       " 'with',\n",
       " '.TXT',\n",
       " 'extension',\n",
       " 'represents',\n",
       " 'a',\n",
       " 'text',\n",
       " 'document',\n",
       " 'that',\n",
       " 'contains',\n",
       " 'plain',\n",
       " 'text',\n",
       " 'in',\n",
       " 'the',\n",
       " 'form',\n",
       " 'of',\n",
       " 'lines.',\n",
       " 'Paragraphs',\n",
       " 'in',\n",
       " 'a',\n",
       " 'text',\n",
       " 'document',\n",
       " 'are',\n",
       " 'recognized',\n",
       " 'by',\n",
       " 'carriage',\n",
       " 'returns',\n",
       " 'and',\n",
       " 'are',\n",
       " 'used',\n",
       " 'for',\n",
       " 'better',\n",
       " 'arrangement',\n",
       " 'of',\n",
       " 'file',\n",
       " 'contents.',\n",
       " 'A',\n",
       " 'standard',\n",
       " 'text',\n",
       " 'document',\n",
       " 'can',\n",
       " 'be',\n",
       " 'opened',\n",
       " 'in',\n",
       " 'any',\n",
       " 'text',\n",
       " 'editor',\n",
       " 'or',\n",
       " 'word',\n",
       " 'processing',\n",
       " 'application',\n",
       " 'on',\n",
       " 'different',\n",
       " 'operating',\n",
       " 'systems.',\n",
       " 'All',\n",
       " 'the',\n",
       " 'text',\n",
       " 'contained',\n",
       " 'in',\n",
       " 'such',\n",
       " 'a',\n",
       " 'file',\n",
       " 'is',\n",
       " 'in',\n",
       " 'human-readable',\n",
       " 'format',\n",
       " 'and',\n",
       " 'represented',\n",
       " 'by',\n",
       " 'sequence',\n",
       " 'of',\n",
       " 'characters.',\n",
       " 'Text',\n",
       " 'files',\n",
       " 'can',\n",
       " 'store',\n",
       " 'large',\n",
       " 'amount',\n",
       " 'of',\n",
       " 'data',\n",
       " 'as',\n",
       " 'there',\n",
       " 'is',\n",
       " 'no',\n",
       " 'limitation',\n",
       " 'on',\n",
       " 'the',\n",
       " 'size',\n",
       " 'of',\n",
       " 'contents.',\n",
       " 'However,',\n",
       " 'text',\n",
       " 'editors',\n",
       " 'opening',\n",
       " 'such',\n",
       " 'large',\n",
       " 'files',\n",
       " 'need',\n",
       " 'to',\n",
       " 'be',\n",
       " 'smart',\n",
       " 'for',\n",
       " 'loading',\n",
       " 'and',\n",
       " 'displaying',\n",
       " 'these.',\n",
       " 'Almost',\n",
       " 'all',\n",
       " 'operating',\n",
       " 'systems',\n",
       " 'come',\n",
       " 'with',\n",
       " 'text',\n",
       " 'editors',\n",
       " 'that',\n",
       " 'allow',\n",
       " 'you',\n",
       " 'to',\n",
       " 'create',\n",
       " 'and',\n",
       " 'edit',\n",
       " 'text',\n",
       " 'files.',\n",
       " 'For',\n",
       " 'example,',\n",
       " 'Windows',\n",
       " 'OS',\n",
       " 'comes',\n",
       " 'with',\n",
       " 'Notepad',\n",
       " 'and',\n",
       " 'Wordpad',\n",
       " 'for',\n",
       " 'this',\n",
       " 'purpose.',\n",
       " 'Similarly,',\n",
       " 'MacOS',\n",
       " 'comes',\n",
       " 'with',\n",
       " 'TextEdit',\n",
       " 'for',\n",
       " 'creating',\n",
       " 'and',\n",
       " 'editing',\n",
       " 'Text',\n",
       " 'Documents.',\n",
       " 'There',\n",
       " 'are,',\n",
       " 'however,',\n",
       " 'other',\n",
       " 'free',\n",
       " 'text',\n",
       " 'editors',\n",
       " 'available',\n",
       " 'as',\n",
       " 'well',\n",
       " 'over',\n",
       " 'the',\n",
       " 'internet',\n",
       " 'that',\n",
       " 'provide',\n",
       " 'you',\n",
       " 'the',\n",
       " 'capability',\n",
       " 'to',\n",
       " 'work',\n",
       " 'with',\n",
       " 'Text',\n",
       " 'Documents',\n",
       " 'like',\n",
       " 'Notepad++',\n",
       " 'which',\n",
       " 'is',\n",
       " 'far',\n",
       " 'more',\n",
       " 'advanced',\n",
       " 'in',\n",
       " 'terms',\n",
       " 'of',\n",
       " 'functionality.']"
      ]
     },
     "execution_count": 12,
     "metadata": {},
     "output_type": "execute_result"
    }
   ],
   "source": [
    "words"
   ]
  },
  {
   "cell_type": "code",
   "execution_count": null,
   "metadata": {},
   "outputs": [],
   "source": []
  }
 ],
 "metadata": {
  "kernelspec": {
   "display_name": "Python 3 (ipykernel)",
   "language": "python",
   "name": "python3"
  },
  "language_info": {
   "codemirror_mode": {
    "name": "ipython",
    "version": 3
   },
   "file_extension": ".py",
   "mimetype": "text/x-python",
   "name": "python",
   "nbconvert_exporter": "python",
   "pygments_lexer": "ipython3",
   "version": "3.9.13"
  },
  "toc": {
   "base_numbering": 1,
   "nav_menu": {},
   "number_sections": true,
   "sideBar": true,
   "skip_h1_title": false,
   "title_cell": "Table of Contents",
   "title_sidebar": "Contents",
   "toc_cell": false,
   "toc_position": {},
   "toc_section_display": true,
   "toc_window_display": false
  }
 },
 "nbformat": 4,
 "nbformat_minor": 4
}
