{
 "cells": [
  {
   "cell_type": "markdown",
   "metadata": {},
   "source": [
    "## Web Scraping with Python Using Beautiful Soup"
   ]
  },
  {
   "cell_type": "code",
   "execution_count": 7,
   "metadata": {},
   "outputs": [
    {
     "data": {
      "text/plain": [
       "<Response [200]>"
      ]
     },
     "execution_count": 7,
     "metadata": {},
     "output_type": "execute_result"
    }
   ],
   "source": [
    "import requests\n",
    "page = requests.get(\"https://dataquestio.github.io/web-scraping-pages/simple.html\")\n",
    "page"
   ]
  },
  {
   "cell_type": "code",
   "execution_count": 9,
   "metadata": {},
   "outputs": [
    {
     "data": {
      "text/plain": [
       "b'<!DOCTYPE html>\\n<html>\\n    <head>\\n        <title>A simple example page</title>\\n    </head>\\n    <body>\\n        <p>Here is some simple content for this page.</p>\\n    </body>\\n</html>'"
      ]
     },
     "execution_count": 9,
     "metadata": {},
     "output_type": "execute_result"
    }
   ],
   "source": [
    "page.content"
   ]
  },
  {
   "cell_type": "code",
   "execution_count": 10,
   "metadata": {},
   "outputs": [],
   "source": [
    "# Parsing a page with BeautifulSoup\n",
    "\n",
    "from bs4 import BeautifulSoup\n",
    "soup = BeautifulSoup(page.content, 'html.parser')"
   ]
  },
  {
   "cell_type": "code",
   "execution_count": 11,
   "metadata": {},
   "outputs": [
    {
     "name": "stdout",
     "output_type": "stream",
     "text": [
      "<!DOCTYPE html>\n",
      "<html>\n",
      " <head>\n",
      "  <title>\n",
      "   A simple example page\n",
      "  </title>\n",
      " </head>\n",
      " <body>\n",
      "  <p>\n",
      "   Here is some simple content for this page.\n",
      "  </p>\n",
      " </body>\n",
      "</html>\n"
     ]
    }
   ],
   "source": [
    "# We can now print out the HTML content of the page, formatted nicely, using the prettify method on the BeautifulSoup object.\n",
    "\n",
    "print(soup.prettify())"
   ]
  },
  {
   "cell_type": "code",
   "execution_count": 12,
   "metadata": {},
   "outputs": [
    {
     "data": {
      "text/plain": [
       "['html',\n",
       " '\\n',\n",
       " <html>\n",
       " <head>\n",
       " <title>A simple example page</title>\n",
       " </head>\n",
       " <body>\n",
       " <p>Here is some simple content for this page.</p>\n",
       " </body>\n",
       " </html>]"
      ]
     },
     "execution_count": 12,
     "metadata": {},
     "output_type": "execute_result"
    }
   ],
   "source": [
    "# As all the tags are nested, we can move through the structure one level at a time. We can first select all the elements \n",
    "# at the top level of the page using the children property of soup.\n",
    "\n",
    "# Note that children returns a list generator, so we need to call the list function on:\n",
    "\n",
    "list(soup.children)\n",
    "\n",
    "# The above tells us that there are two tags at the top level of the page — the initial <!DOCTYPE html> tag, and the <html> tag. \n",
    "# There is a newline character (n) in the list as well"
   ]
  },
  {
   "cell_type": "code",
   "execution_count": 13,
   "metadata": {},
   "outputs": [
    {
     "data": {
      "text/plain": [
       "[bs4.element.Doctype, bs4.element.NavigableString, bs4.element.Tag]"
      ]
     },
     "execution_count": 13,
     "metadata": {},
     "output_type": "execute_result"
    }
   ],
   "source": [
    "# Let’s see what the type of each element in the list i\n",
    "\n",
    "[type(item) for item in list(soup.children)]\n",
    "\n",
    "# As we can see, all of the items are BeautifulSoup objects\n",
    "# 1 The first is a Doctype object, which contains information about the type of the document\n",
    "# 2 The second is a NavigableString, which represents text found in the HTML document.\n",
    "# 3 The final item is a Tag object, which contains other nested tags"
   ]
  },
  {
   "cell_type": "code",
   "execution_count": 14,
   "metadata": {},
   "outputs": [],
   "source": [
    "# The most important object type, and the one we’ll deal with most often, is the Tag object.\n",
    "\n",
    "# We can now select the html tag and its children by taking the third item in the list\n",
    "\n",
    "html = list(soup.children)[2]"
   ]
  },
  {
   "cell_type": "code",
   "execution_count": 15,
   "metadata": {},
   "outputs": [
    {
     "data": {
      "text/plain": [
       "['\\n',\n",
       " <head>\n",
       " <title>A simple example page</title>\n",
       " </head>,\n",
       " '\\n',\n",
       " <body>\n",
       " <p>Here is some simple content for this page.</p>\n",
       " </body>,\n",
       " '\\n']"
      ]
     },
     "execution_count": 15,
     "metadata": {},
     "output_type": "execute_result"
    }
   ],
   "source": [
    "# Now, we can find the children inside the html tag\n",
    "\n",
    "list(html.children)"
   ]
  },
  {
   "cell_type": "code",
   "execution_count": 18,
   "metadata": {},
   "outputs": [],
   "source": [
    "# As we can see above, there are two tags here, head, and body. We want to extract the text inside the p tag, \n",
    "# so we’ll dive into the body\n",
    "\n",
    "body = list(html.children)[3]"
   ]
  },
  {
   "cell_type": "code",
   "execution_count": 19,
   "metadata": {},
   "outputs": [
    {
     "data": {
      "text/plain": [
       "['\\n', <p>Here is some simple content for this page.</p>, '\\n']"
      ]
     },
     "execution_count": 19,
     "metadata": {},
     "output_type": "execute_result"
    }
   ],
   "source": [
    "# Now, we can get the p tag by finding the children of the body ta\n",
    "\n",
    "list(body.children)"
   ]
  },
  {
   "cell_type": "code",
   "execution_count": 20,
   "metadata": {},
   "outputs": [],
   "source": [
    "# We can now isolate the p tag\n",
    "\n",
    "p = list(body.children)[1]"
   ]
  },
  {
   "cell_type": "code",
   "execution_count": 21,
   "metadata": {},
   "outputs": [
    {
     "data": {
      "text/plain": [
       "'Here is some simple content for this page.'"
      ]
     },
     "execution_count": 21,
     "metadata": {},
     "output_type": "execute_result"
    }
   ],
   "source": [
    "# Once we’ve isolated the tag, we can use the get_text method to extract all of the text inside the tag\n",
    "\n",
    "p.get_text()"
   ]
  },
  {
   "cell_type": "code",
   "execution_count": 22,
   "metadata": {},
   "outputs": [],
   "source": [
    "# Finding all instances of a tag at once"
   ]
  },
  {
   "cell_type": "code",
   "execution_count": 23,
   "metadata": {},
   "outputs": [
    {
     "data": {
      "text/plain": [
       "[<p>Here is some simple content for this page.</p>]"
      ]
     },
     "execution_count": 23,
     "metadata": {},
     "output_type": "execute_result"
    }
   ],
   "source": [
    "soup = BeautifulSoup(page.content, 'html.parser')\n",
    "soup.find_all('p')"
   ]
  },
  {
   "cell_type": "code",
   "execution_count": 24,
   "metadata": {},
   "outputs": [
    {
     "data": {
      "text/plain": [
       "'Here is some simple content for this page.'"
      ]
     },
     "execution_count": 24,
     "metadata": {},
     "output_type": "execute_result"
    }
   ],
   "source": [
    "# Note that find_all returns a list, so we’ll have to loop through, or use list indexing, it to extract text\n",
    "\n",
    "soup.find_all('p')[0].get_text()"
   ]
  },
  {
   "cell_type": "code",
   "execution_count": 25,
   "metadata": {},
   "outputs": [
    {
     "data": {
      "text/plain": [
       "<p>Here is some simple content for this page.</p>"
      ]
     },
     "execution_count": 25,
     "metadata": {},
     "output_type": "execute_result"
    }
   ],
   "source": [
    "# find the first instance of a tag\n",
    "\n",
    "soup.find('p')"
   ]
  },
  {
   "cell_type": "code",
   "execution_count": null,
   "metadata": {},
   "outputs": [],
   "source": []
  },
  {
   "cell_type": "code",
   "execution_count": 26,
   "metadata": {},
   "outputs": [
    {
     "data": {
      "text/plain": [
       "<html>\n",
       "<head>\n",
       "<title>A simple example page</title>\n",
       "</head>\n",
       "<body>\n",
       "<div>\n",
       "<p class=\"inner-text first-item\" id=\"first\">\n",
       "                First paragraph.\n",
       "            </p>\n",
       "<p class=\"inner-text\">\n",
       "                Second paragraph.\n",
       "            </p>\n",
       "</div>\n",
       "<p class=\"outer-text first-item\" id=\"second\">\n",
       "<b>\n",
       "                First outer paragraph.\n",
       "            </b>\n",
       "</p>\n",
       "<p class=\"outer-text\">\n",
       "<b>\n",
       "                Second outer paragraph.\n",
       "            </b>\n",
       "</p>\n",
       "</body>\n",
       "</html>"
      ]
     },
     "execution_count": 26,
     "metadata": {},
     "output_type": "execute_result"
    }
   ],
   "source": [
    "# Searching the tag by class\n",
    "\n",
    "page = requests.get(\"https://dataquestio.github.io/web-scraping-pages/ids_and_classes.html\")\n",
    "soup = BeautifulSoup(page.content, 'html.parser')\n",
    "soup"
   ]
  },
  {
   "cell_type": "code",
   "execution_count": 27,
   "metadata": {},
   "outputs": [
    {
     "data": {
      "text/plain": [
       "[<p class=\"outer-text first-item\" id=\"second\">\n",
       " <b>\n",
       "                 First outer paragraph.\n",
       "             </b>\n",
       " </p>,\n",
       " <p class=\"outer-text\">\n",
       " <b>\n",
       "                 Second outer paragraph.\n",
       "             </b>\n",
       " </p>]"
      ]
     },
     "execution_count": 27,
     "metadata": {},
     "output_type": "execute_result"
    }
   ],
   "source": [
    "# find_all method to search for items by class or by id\n",
    "\n",
    "soup.find_all('p', class_='outer-text')"
   ]
  },
  {
   "cell_type": "code",
   "execution_count": 28,
   "metadata": {},
   "outputs": [
    {
     "data": {
      "text/plain": [
       "[<p class=\"outer-text first-item\" id=\"second\">\n",
       " <b>\n",
       "                 First outer paragraph.\n",
       "             </b>\n",
       " </p>,\n",
       " <p class=\"outer-text\">\n",
       " <b>\n",
       "                 Second outer paragraph.\n",
       "             </b>\n",
       " </p>]"
      ]
     },
     "execution_count": 28,
     "metadata": {},
     "output_type": "execute_result"
    }
   ],
   "source": [
    "# we’ll look for any tag that has the class outer-text\n",
    "\n",
    "soup.find_all(class_=\"outer-text\")"
   ]
  },
  {
   "cell_type": "code",
   "execution_count": 29,
   "metadata": {},
   "outputs": [
    {
     "data": {
      "text/plain": [
       "[<p class=\"inner-text first-item\" id=\"first\">\n",
       "                 First paragraph.\n",
       "             </p>]"
      ]
     },
     "execution_count": 29,
     "metadata": {},
     "output_type": "execute_result"
    }
   ],
   "source": [
    "# We can also search for elements by id\n",
    "\n",
    "soup.find_all(id=\"first\")"
   ]
  },
  {
   "cell_type": "code",
   "execution_count": null,
   "metadata": {},
   "outputs": [],
   "source": []
  },
  {
   "cell_type": "code",
   "execution_count": 43,
   "metadata": {},
   "outputs": [],
   "source": [
    "import bs4\n",
    "from bs4 import BeautifulSoup\n",
    "import requests\n",
    "import pandas as pd\n",
    "from datetime import datetime"
   ]
  },
  {
   "cell_type": "code",
   "execution_count": 45,
   "metadata": {},
   "outputs": [
    {
     "name": "stdout",
     "output_type": "stream",
     "text": [
      "<Response [404]>\n",
      "<!DOCTYPE html>\n",
      "\n",
      "<html style=\"height:100%\">\n",
      "<head>\n",
      "<meta content=\"width=device-width, initial-scale=1, shrink-to-fit=no\" name=\"viewport\"/>\n",
      "<title> 404 Not Found\r\n",
      "</title></head>\n",
      "<body style=\"color: #444; margin:0;font: normal 14px/20px Arial, Helvetica, sans-serif; height:100%; background-color: #fff;\">\n",
      "<div style=\"height:auto; min-height:100%; \"> <div style=\"text-align: center; width:800px; margin-left: -400px; position:absolute; top: 30%; left:50%;\">\n",
      "<h1 style=\"margin:0; font-size:150px; line-height:150px; font-weight:bold;\">404</h1>\n",
      "<h2 style=\"margin-top:20px;font-size: 30px;\">Not Found\r\n",
      "</h2>\n",
      "<p>The resource requested could not be found on this server!</p>\n",
      "</div></div><div style=\"color:#f0f0f0; font-size:12px;margin:auto;padding:0px 30px 0px 30px;position:relative;clear:both;height:100px;margin-top:-101px;background-color:#474747;border-top: 1px solid rgba(0,0,0,0.15);box-shadow: 0 1px 0 rgba(255, 255, 255, 0.3) inset;\">\n",
      "<br/>Proudly powered by  <a href=\"http://www.litespeedtech.com/error-page\" style=\"color:#fff;\">LiteSpeed Web Server</a><p>Please be advised that LiteSpeed Technologies Inc. is not a web hosting company and, as such, has no control over content found on this site.</p></div></body></html>\n",
      "\n"
     ]
    }
   ],
   "source": [
    "url='https://www.estesparkweather.net/archive_reports.phpdate=202005'\n",
    "page = requests.get(url)\n",
    "print(page)\n",
    "soup =  BeautifulSoup(page.content,'html.parser')\n",
    "print(soup)"
   ]
  },
  {
   "cell_type": "code",
   "execution_count": null,
   "metadata": {},
   "outputs": [],
   "source": []
  },
  {
   "cell_type": "code",
   "execution_count": null,
   "metadata": {},
   "outputs": [],
   "source": []
  },
  {
   "cell_type": "code",
   "execution_count": 62,
   "metadata": {},
   "outputs": [
    {
     "name": "stdout",
     "output_type": "stream",
     "text": [
      "b'<html lang=\"en\" op=\"news\"><head><meta name=\"referrer\" content=\"origin\"><meta name=\"viewport\" content=\"width=device-width, initial-scale=1.0\"><link rel=\"stylesheet\" type=\"text/css\" href=\"news.css?FJc2HJ5ky117YsmUhGiy\">\\n        <link rel=\"shortcut icon\" href=\"favicon.ico\">\\n          <link rel=\"alternate\" type=\"application/rss+xml\" title=\"RSS\" href=\"rss\">\\n        <title>Hacker News</title></head><body><center><table id=\"hnmain\" border=\"0\" cellpadding=\"0\" cellspacing=\"0\" width=\"85%\" bgcolor=\"#f6f6ef\">\\n        <tr><td bgcolor=\"#ff6600\"><table border=\"0\" cellpadding=\"0\" cellspacing=\"0\" width=\"100%\" style=\"padding:2px\"><tr><td style=\"width:18px;padding-right:4px\"><a href=\"https://news.ycombinator.com\"><img src=\"y18.gif\" width=\"18\" height=\"18\" style=\"border:1px white solid;\"></a></td>\\n                  <td style=\"line-height:12pt; height:10px;\"><span class=\"pagetop\"><b class=\"hnname\"><a href=\"news\">Hacker News</a></b>\\n              <a href=\"newest\">new</a> | <a href=\"front\">past</a> | <a href=\"newcomments\">comments</a> | <a href=\"ask\">ask</a> | <a href=\"show\">show</a> | <a href=\"jobs\">jobs</a> | <a href=\"submit\">submit</a>            </span></td><td style=\"text-align:right;padding-right:4px;\"><span class=\"pagetop\">\\n                              <a href=\"login?goto=news\">login</a>\\n                          </span></td>\\n              </tr></table></td></tr>\\n<tr id=\"pagespace\" title=\"\" style=\"height:10px\"></tr><tr><td><table border=\"0\" cellpadding=\"0\" cellspacing=\"0\" class=\"itemlist\">\\n              <tr class=\\'athing\\' id=\\'28196178\\'>\\n      <td align=\"right\" valign=\"top\" class=\"title\"><span class=\"rank\">1.</span></td>      <td valign=\"top\" class=\"votelinks\"><center><a id=\\'up_28196178\\' href=\\'vote?id=28196178&amp;how=up&amp;goto=news\\'><div class=\\'votearrow\\' title=\\'upvote\\'></div></a></center></td><td class=\"title\"><a href=\"https://www.widelands.org/\" class=\"storylink\">Widelands is a free, open-source real-time strategy game</a><span class=\"sitebit comhead\"> (<a href=\"from?site=widelands.org\"><span class=\"sitestr\">widelands.org</span></a>)</span></td></tr><tr><td colspan=\"2\"></td><td class=\"subtext\">\\n        <span class=\"score\" id=\"score_28196178\">159 points</span> by <a href=\"user?id=doener\" class=\"hnuser\">doener</a> <span class=\"age\" title=\"2021-08-16T08:58:58\"><a href=\"item?id=28196178\">3 hours ago</a></span> <span id=\"unv_28196178\"></span> | <a href=\"hide?id=28196178&amp;goto=news\">hide</a> | <a href=\"item?id=28196178\">21&nbsp;comments</a>              </td></tr>\\n      <tr class=\"spacer\" style=\"height:5px\"></tr>\\n                <tr class=\\'athing\\' id=\\'28195439\\'>\\n      <td align=\"right\" valign=\"top\" class=\"title\"><span class=\"rank\">2.</span></td>      <td valign=\"top\" class=\"votelinks\"><center><a id=\\'up_28195439\\' href=\\'vote?id=28195439&amp;how=up&amp;goto=news\\'><div class=\\'votearrow\\' title=\\'upvote\\'></div></a></center></td><td class=\"title\"><a href=\"https://dawn.cs.stanford.edu//2018/01/11/index-baselines/\" class=\"storylink\">Classical Data Structures That Can Outperform Learned Indexes (2018)</a><span class=\"sitebit comhead\"> (<a href=\"from?site=stanford.edu\"><span class=\"sitestr\">stanford.edu</span></a>)</span></td></tr><tr><td colspan=\"2\"></td><td class=\"subtext\">\\n        <span class=\"score\" id=\"score_28195439\">142 points</span> by <a href=\"user?id=signa11\" class=\"hnuser\">signa11</a> <span class=\"age\" title=\"2021-08-16T06:21:19\"><a href=\"item?id=28195439\">5 hours ago</a></span> <span id=\"unv_28195439\"></span> | <a href=\"hide?id=28195439&amp;goto=news\">hide</a> | <a href=\"item?id=28195439\">18&nbsp;comments</a>              </td></tr>\\n      <tr class=\"spacer\" style=\"height:5px\"></tr>\\n                <tr class=\\'athing\\' id=\\'28194477\\'>\\n      <td align=\"right\" valign=\"top\" class=\"title\"><span class=\"rank\">3.</span></td>      <td valign=\"top\" class=\"votelinks\"><center><a id=\\'up_28194477\\' href=\\'vote?id=28194477&amp;how=up&amp;goto=news\\'><div class=\\'votearrow\\' title=\\'upvote\\'></div></a></center></td><td class=\"title\"><a href=\"https://www.alexblackie.com/articles/email-authenticity-dkim-spf-dmarc/\" class=\"storylink\">Email Authenticity 101: DKIM, Dmarc, and SPF</a><span class=\"sitebit comhead\"> (<a href=\"from?site=alexblackie.com\"><span class=\"sitestr\">alexblackie.com</span></a>)</span></td></tr><tr><td colspan=\"2\"></td><td class=\"subtext\">\\n        <span class=\"score\" id=\"score_28194477\">268 points</span> by <a href=\"user?id=alexblackie\" class=\"hnuser\">alexblackie</a> <span class=\"age\" title=\"2021-08-16T02:40:23\"><a href=\"item?id=28194477\">9 hours ago</a></span> <span id=\"unv_28194477\"></span> | <a href=\"hide?id=28194477&amp;goto=news\">hide</a> | <a href=\"item?id=28194477\">62&nbsp;comments</a>              </td></tr>\\n      <tr class=\"spacer\" style=\"height:5px\"></tr>\\n                <tr class=\\'athing\\' id=\\'28195853\\'>\\n      <td align=\"right\" valign=\"top\" class=\"title\"><span class=\"rank\">4.</span></td>      <td valign=\"top\" class=\"votelinks\"><center><a id=\\'up_28195853\\' href=\\'vote?id=28195853&amp;how=up&amp;goto=news\\'><div class=\\'votearrow\\' title=\\'upvote\\'></div></a></center></td><td class=\"title\"><a href=\"https://techtaiwan.com/20210816/tsmc-speciality-technology/\" class=\"storylink\">TSMC\\xe2\\x80\\x99s Speciality Technologies</a><span class=\"sitebit comhead\"> (<a href=\"from?site=techtaiwan.com\"><span class=\"sitestr\">techtaiwan.com</span></a>)</span></td></tr><tr><td colspan=\"2\"></td><td class=\"subtext\">\\n        <span class=\"score\" id=\"score_28195853\">59 points</span> by <a href=\"user?id=Klyonova\" class=\"hnuser\">Klyonova</a> <span class=\"age\" title=\"2021-08-16T07:44:52\"><a href=\"item?id=28195853\">4 hours ago</a></span> <span id=\"unv_28195853\"></span> | <a href=\"hide?id=28195853&amp;goto=news\">hide</a> | <a href=\"item?id=28195853\">13&nbsp;comments</a>              </td></tr>\\n      <tr class=\"spacer\" style=\"height:5px\"></tr>\\n                <tr class=\\'athing\\' id=\\'28196672\\'>\\n      <td align=\"right\" valign=\"top\" class=\"title\"><span class=\"rank\">5.</span></td>      <td valign=\"top\" class=\"votelinks\"><center><a id=\\'up_28196672\\' href=\\'vote?id=28196672&amp;how=up&amp;goto=news\\'><div class=\\'votearrow\\' title=\\'upvote\\'></div></a></center></td><td class=\"title\"><a href=\"https://austinvernon.eth.link/blog/softwareisprocess.html\" class=\"storylink\">Software is a Process and hidden driver of Productivity</a><span class=\"sitebit comhead\"> (<a href=\"from?site=eth.link\"><span class=\"sitestr\">eth.link</span></a>)</span></td></tr><tr><td colspan=\"2\"></td><td class=\"subtext\">\\n        <span class=\"score\" id=\"score_28196672\">11 points</span> by <a href=\"user?id=Wildgoose\" class=\"hnuser\">Wildgoose</a> <span class=\"age\" title=\"2021-08-16T10:42:04\"><a href=\"item?id=28196672\">1 hour ago</a></span> <span id=\"unv_28196672\"></span> | <a href=\"hide?id=28196672&amp;goto=news\">hide</a> | <a href=\"item?id=28196672\">discuss</a>              </td></tr>\\n      <tr class=\"spacer\" style=\"height:5px\"></tr>\\n                <tr class=\\'athing\\' id=\\'28197083\\'>\\n      <td align=\"right\" valign=\"top\" class=\"title\"><span class=\"rank\">6.</span></td>      <td></td><td class=\"title\"><a href=\"item?id=28197083\" class=\"storylink\">Sirum (YC W15) Is Hiring a Lead Engineer to Improve Medicine Access</a></td></tr><tr><td colspan=\"2\"></td><td class=\"subtext\">\\n        <span class=\"age\" title=\"2021-08-16T12:00:44\"><a href=\"item?id=28197083\">7 minutes ago</a></span> | <a href=\"hide?id=28197083&amp;goto=news\">hide</a>      </td></tr>\\n      <tr class=\"spacer\" style=\"height:5px\"></tr>\\n                <tr class=\\'athing\\' id=\\'28194883\\'>\\n      <td align=\"right\" valign=\"top\" class=\"title\"><span class=\"rank\">7.</span></td>      <td valign=\"top\" class=\"votelinks\"><center><a id=\\'up_28194883\\' href=\\'vote?id=28194883&amp;how=up&amp;goto=news\\'><div class=\\'votearrow\\' title=\\'upvote\\'></div></a></center></td><td class=\"title\"><a href=\"https://www.youtube.com/watch?v=kDZzyi-EaLQ\" class=\"storylink\">How to avoid being hit by a laser in a room of mirrors [video]</a><span class=\"sitebit comhead\"> (<a href=\"from?site=youtube.com\"><span class=\"sitestr\">youtube.com</span></a>)</span></td></tr><tr><td colspan=\"2\"></td><td class=\"subtext\">\\n        <span class=\"score\" id=\"score_28194883\">191 points</span> by <a href=\"user?id=sigil\" class=\"hnuser\">sigil</a> <span class=\"age\" title=\"2021-08-16T04:17:18\"><a href=\"item?id=28194883\">7 hours ago</a></span> <span id=\"unv_28194883\"></span> | <a href=\"hide?id=28194883&amp;goto=news\">hide</a> | <a href=\"item?id=28194883\">56&nbsp;comments</a>              </td></tr>\\n      <tr class=\"spacer\" style=\"height:5px\"></tr>\\n                <tr class=\\'athing\\' id=\\'28182181\\'>\\n      <td align=\"right\" valign=\"top\" class=\"title\"><span class=\"rank\">8.</span></td>      <td valign=\"top\" class=\"votelinks\"><center><a id=\\'up_28182181\\' href=\\'vote?id=28182181&amp;how=up&amp;goto=news\\'><div class=\\'votearrow\\' title=\\'upvote\\'></div></a></center></td><td class=\"title\"><a href=\"https://hackernoon.com/nerds-dont-respond-to-marketing-try-technical-documentation-instead\" class=\"storylink\">Nerds Don\\'t Respond to Marketing; Try Technical Documentation Instead</a><span class=\"sitebit comhead\"> (<a href=\"from?site=hackernoon.com\"><span class=\"sitestr\">hackernoon.com</span></a>)</span></td></tr><tr><td colspan=\"2\"></td><td class=\"subtext\">\\n        <span class=\"score\" id=\"score_28182181\">200 points</span> by <a href=\"user?id=mooreds\" class=\"hnuser\">mooreds</a> <span class=\"age\" title=\"2021-08-14T17:00:35\"><a href=\"item?id=28182181\">11 hours ago</a></span> <span id=\"unv_28182181\"></span> | <a href=\"hide?id=28182181&amp;goto=news\">hide</a> | <a href=\"item?id=28182181\">119&nbsp;comments</a>              </td></tr>\\n      <tr class=\"spacer\" style=\"height:5px\"></tr>\\n                <tr class=\\'athing\\' id=\\'28195580\\'>\\n      <td align=\"right\" valign=\"top\" class=\"title\"><span class=\"rank\">9.</span></td>      <td valign=\"top\" class=\"votelinks\"><center><a id=\\'up_28195580\\' href=\\'vote?id=28195580&amp;how=up&amp;goto=news\\'><div class=\\'votearrow\\' title=\\'upvote\\'></div></a></center></td><td class=\"title\"><a href=\"https://github.com/google/zx/releases/tag/3.0.0\" class=\"storylink\">Released Google/zx \\xe2\\x80\\x93 tons of DX improvements and more</a><span class=\"sitebit comhead\"> (<a href=\"from?site=github.com/google\"><span class=\"sitestr\">github.com/google</span></a>)</span></td></tr><tr><td colspan=\"2\"></td><td class=\"subtext\">\\n        <span class=\"score\" id=\"score_28195580\">62 points</span> by <a href=\"user?id=medv\" class=\"hnuser\">medv</a> <span class=\"age\" title=\"2021-08-16T06:51:51\"><a href=\"item?id=28195580\">5 hours ago</a></span> <span id=\"unv_28195580\"></span> | <a href=\"hide?id=28195580&amp;goto=news\">hide</a> | <a href=\"item?id=28195580\">49&nbsp;comments</a>              </td></tr>\\n      <tr class=\"spacer\" style=\"height:5px\"></tr>\\n                <tr class=\\'athing\\' id=\\'28183263\\'>\\n      <td align=\"right\" valign=\"top\" class=\"title\"><span class=\"rank\">10.</span></td>      <td valign=\"top\" class=\"votelinks\"><center><a id=\\'up_28183263\\' href=\\'vote?id=28183263&amp;how=up&amp;goto=news\\'><div class=\\'votearrow\\' title=\\'upvote\\'></div></a></center></td><td class=\"title\"><a href=\"https://nicole.express/2021/alf-2-alf-harder.html\" class=\"storylink\">Alf 2: Collision Detection Is Hard, Blog Posts Are Harder</a><span class=\"sitebit comhead\"> (<a href=\"from?site=nicole.express\"><span class=\"sitestr\">nicole.express</span></a>)</span></td></tr><tr><td colspan=\"2\"></td><td class=\"subtext\">\\n        <span class=\"score\" id=\"score_28183263\">21 points</span> by <a href=\"user?id=zdw\" class=\"hnuser\">zdw</a> <span class=\"age\" title=\"2021-08-14T19:23:38\"><a href=\"item?id=28183263\">4 hours ago</a></span> <span id=\"unv_28183263\"></span> | <a href=\"hide?id=28183263&amp;goto=news\">hide</a> | <a href=\"item?id=28183263\">1&nbsp;comment</a>              </td></tr>\\n      <tr class=\"spacer\" style=\"height:5px\"></tr>\\n                <tr class=\\'athing\\' id=\\'28183707\\'>\\n      <td align=\"right\" valign=\"top\" class=\"title\"><span class=\"rank\">11.</span></td>      <td valign=\"top\" class=\"votelinks\"><center><a id=\\'up_28183707\\' href=\\'vote?id=28183707&amp;how=up&amp;goto=news\\'><div class=\\'votearrow\\' title=\\'upvote\\'></div></a></center></td><td class=\"title\"><a href=\"https://web.archive.org/web/19970220012313/http://home.netscape.com:80/\" class=\"storylink\">home.netscape.com in 1997</a><span class=\"sitebit comhead\"> (<a href=\"from?site=archive.org\"><span class=\"sitestr\">archive.org</span></a>)</span></td></tr><tr><td colspan=\"2\"></td><td class=\"subtext\">\\n        <span class=\"score\" id=\"score_28183707\">98 points</span> by <a href=\"user?id=codetrotter\" class=\"hnuser\">codetrotter</a> <span class=\"age\" title=\"2021-08-14T20:30:54\"><a href=\"item?id=28183707\">7 hours ago</a></span> <span id=\"unv_28183707\"></span> | <a href=\"hide?id=28183707&amp;goto=news\">hide</a> | <a href=\"item?id=28183707\">39&nbsp;comments</a>              </td></tr>\\n      <tr class=\"spacer\" style=\"height:5px\"></tr>\\n                <tr class=\\'athing\\' id=\\'28195746\\'>\\n      <td align=\"right\" valign=\"top\" class=\"title\"><span class=\"rank\">12.</span></td>      <td valign=\"top\" class=\"votelinks\"><center><a id=\\'up_28195746\\' href=\\'vote?id=28195746&amp;how=up&amp;goto=news\\'><div class=\\'votearrow\\' title=\\'upvote\\'></div></a></center></td><td class=\"title\"><a href=\"https://www.theguardian.com/us-news/2021/aug/16/guantanamo-detainee-mansoor-adayfi\" class=\"storylink\">The US should be held accountable: Gitmo survivor on the war on terror\\xe2\\x80\\x99s failure</a><span class=\"sitebit comhead\"> (<a href=\"from?site=theguardian.com\"><span class=\"sitestr\">theguardian.com</span></a>)</span></td></tr><tr><td colspan=\"2\"></td><td class=\"subtext\">\\n        <span class=\"score\" id=\"score_28195746\">175 points</span> by <a href=\"user?id=sofixa\" class=\"hnuser\">sofixa</a> <span class=\"age\" title=\"2021-08-16T07:25:08\"><a href=\"item?id=28195746\">4 hours ago</a></span> <span id=\"unv_28195746\"></span> | <a href=\"hide?id=28195746&amp;goto=news\">hide</a> | <a href=\"item?id=28195746\">112&nbsp;comments</a>              </td></tr>\\n      <tr class=\"spacer\" style=\"height:5px\"></tr>\\n                <tr class=\\'athing\\' id=\\'28187175\\'>\\n      <td align=\"right\" valign=\"top\" class=\"title\"><span class=\"rank\">13.</span></td>      <td valign=\"top\" class=\"votelinks\"><center><a id=\\'up_28187175\\' href=\\'vote?id=28187175&amp;how=up&amp;goto=news\\'><div class=\\'votearrow\\' title=\\'upvote\\'></div></a></center></td><td class=\"title\"><a href=\"https://vieb.dev\" class=\"storylink\" rel=\"nofollow\">Vieb \\xe2\\x80\\x93 Vim Inspired Electron Browser</a><span class=\"sitebit comhead\"> (<a href=\"from?site=vieb.dev\"><span class=\"sitestr\">vieb.dev</span></a>)</span></td></tr><tr><td colspan=\"2\"></td><td class=\"subtext\">\\n        <span class=\"score\" id=\"score_28187175\">8 points</span> by <a href=\"user?id=bwidlar\" class=\"hnuser\">bwidlar</a> <span class=\"age\" title=\"2021-08-15T08:40:34\"><a href=\"item?id=28187175\">1 hour ago</a></span> <span id=\"unv_28187175\"></span> | <a href=\"hide?id=28187175&amp;goto=news\">hide</a> | <a href=\"item?id=28187175\">1&nbsp;comment</a>              </td></tr>\\n      <tr class=\"spacer\" style=\"height:5px\"></tr>\\n                <tr class=\\'athing\\' id=\\'28196339\\'>\\n      <td align=\"right\" valign=\"top\" class=\"title\"><span class=\"rank\">14.</span></td>      <td valign=\"top\" class=\"votelinks\"><center><a id=\\'up_28196339\\' href=\\'vote?id=28196339&amp;how=up&amp;goto=news\\'><div class=\\'votearrow\\' title=\\'upvote\\'></div></a></center></td><td class=\"title\"><a href=\"https://www.dw.com/en/nokias-smartphone-25-years-since-it-changed-the-world/a-58841329\" class=\"storylink\">Nokia\\'s smartphone: 25 years since it changed the world</a><span class=\"sitebit comhead\"> (<a href=\"from?site=dw.com\"><span class=\"sitestr\">dw.com</span></a>)</span></td></tr><tr><td colspan=\"2\"></td><td class=\"subtext\">\\n        <span class=\"score\" id=\"score_28196339\">42 points</span> by <a href=\"user?id=samizdis\" class=\"hnuser\">samizdis</a> <span class=\"age\" title=\"2021-08-16T09:28:16\"><a href=\"item?id=28196339\">2 hours ago</a></span> <span id=\"unv_28196339\"></span> | <a href=\"hide?id=28196339&amp;goto=news\">hide</a> | <a href=\"item?id=28196339\">49&nbsp;comments</a>              </td></tr>\\n      <tr class=\"spacer\" style=\"height:5px\"></tr>\\n                <tr class=\\'athing\\' id=\\'28184500\\'>\\n      <td align=\"right\" valign=\"top\" class=\"title\"><span class=\"rank\">15.</span></td>      <td valign=\"top\" class=\"votelinks\"><center><a id=\\'up_28184500\\' href=\\'vote?id=28184500&amp;how=up&amp;goto=news\\'><div class=\\'votearrow\\' title=\\'upvote\\'></div></a></center></td><td class=\"title\"><a href=\"https://scattered-thoughts.net/writing/imperative-thinking-and-the-making-of-sandwiches/\" class=\"storylink\">Imperative Thinking and the Making of Sandwiches (2014)</a><span class=\"sitebit comhead\"> (<a href=\"from?site=scattered-thoughts.net\"><span class=\"sitestr\">scattered-thoughts.net</span></a>)</span></td></tr><tr><td colspan=\"2\"></td><td class=\"subtext\">\\n        <span class=\"score\" id=\"score_28184500\">17 points</span> by <a href=\"user?id=luu\" class=\"hnuser\">luu</a> <span class=\"age\" title=\"2021-08-14T22:31:30\"><a href=\"item?id=28184500\">5 hours ago</a></span> <span id=\"unv_28184500\"></span> | <a href=\"hide?id=28184500&amp;goto=news\">hide</a> | <a href=\"item?id=28184500\">5&nbsp;comments</a>              </td></tr>\\n      <tr class=\"spacer\" style=\"height:5px\"></tr>\\n                <tr class=\\'athing\\' id=\\'28184494\\'>\\n      <td align=\"right\" valign=\"top\" class=\"title\"><span class=\"rank\">16.</span></td>      <td valign=\"top\" class=\"votelinks\"><center><a id=\\'up_28184494\\' href=\\'vote?id=28184494&amp;how=up&amp;goto=news\\'><div class=\\'votearrow\\' title=\\'upvote\\'></div></a></center></td><td class=\"title\"><a href=\"https://www.persuasion.community/p/-how-to-boost-innovation\" class=\"storylink\">How to Boost Innovation</a><span class=\"sitebit comhead\"> (<a href=\"from?site=persuasion.community\"><span class=\"sitestr\">persuasion.community</span></a>)</span></td></tr><tr><td colspan=\"2\"></td><td class=\"subtext\">\\n        <span class=\"score\" id=\"score_28184494\">22 points</span> by <a href=\"user?id=jseliger\" class=\"hnuser\">jseliger</a> <span class=\"age\" title=\"2021-08-14T22:30:36\"><a href=\"item?id=28184494\">6 hours ago</a></span> <span id=\"unv_28184494\"></span> | <a href=\"hide?id=28184494&amp;goto=news\">hide</a> | <a href=\"item?id=28184494\">15&nbsp;comments</a>              </td></tr>\\n      <tr class=\"spacer\" style=\"height:5px\"></tr>\\n                <tr class=\\'athing\\' id=\\'28185708\\'>\\n      <td align=\"right\" valign=\"top\" class=\"title\"><span class=\"rank\">17.</span></td>      <td valign=\"top\" class=\"votelinks\"><center><a id=\\'up_28185708\\' href=\\'vote?id=28185708&amp;how=up&amp;goto=news\\'><div class=\\'votearrow\\' title=\\'upvote\\'></div></a></center></td><td class=\"title\"><a href=\"https://heatinghelp.com/dead-men-tales/the-duke-mansion-mystery/\" class=\"storylink\">The Duke Mansion Mystery</a><span class=\"sitebit comhead\"> (<a href=\"from?site=heatinghelp.com\"><span class=\"sitestr\">heatinghelp.com</span></a>)</span></td></tr><tr><td colspan=\"2\"></td><td class=\"subtext\">\\n        <span class=\"score\" id=\"score_28185708\">53 points</span> by <a href=\"user?id=userbinator\" class=\"hnuser\">userbinator</a> <span class=\"age\" title=\"2021-08-15T02:17:58\"><a href=\"item?id=28185708\">9 hours ago</a></span> <span id=\"unv_28185708\"></span> | <a href=\"hide?id=28185708&amp;goto=news\">hide</a> | <a href=\"item?id=28185708\">14&nbsp;comments</a>              </td></tr>\\n      <tr class=\"spacer\" style=\"height:5px\"></tr>\\n                <tr class=\\'athing\\' id=\\'28191843\\'>\\n      <td align=\"right\" valign=\"top\" class=\"title\"><span class=\"rank\">18.</span></td>      <td valign=\"top\" class=\"votelinks\"><center><a id=\\'up_28191843\\' href=\\'vote?id=28191843&amp;how=up&amp;goto=news\\'><div class=\\'votearrow\\' title=\\'upvote\\'></div></a></center></td><td class=\"title\"><a href=\"https://www.nytimes.com/2021/07/13/books/review/fernando-pessoa-biography-richard-zenith.html\" class=\"storylink\">Fernando Pessoa: Office Worker, Occultist, Galaxy of Writers</a><span class=\"sitebit comhead\"> (<a href=\"from?site=nytimes.com\"><span class=\"sitestr\">nytimes.com</span></a>)</span></td></tr><tr><td colspan=\"2\"></td><td class=\"subtext\">\\n        <span class=\"score\" id=\"score_28191843\">68 points</span> by <a href=\"user?id=CrocodileStreet\" class=\"hnuser\">CrocodileStreet</a> <span class=\"age\" title=\"2021-08-15T19:42:46\"><a href=\"item?id=28191843\">11 hours ago</a></span> <span id=\"unv_28191843\"></span> | <a href=\"hide?id=28191843&amp;goto=news\">hide</a> | <a href=\"item?id=28191843\">11&nbsp;comments</a>              </td></tr>\\n      <tr class=\"spacer\" style=\"height:5px\"></tr>\\n                <tr class=\\'athing\\' id=\\'28192423\\'>\\n      <td align=\"right\" valign=\"top\" class=\"title\"><span class=\"rank\">19.</span></td>      <td valign=\"top\" class=\"votelinks\"><center><a id=\\'up_28192423\\' href=\\'vote?id=28192423&amp;how=up&amp;goto=news\\'><div class=\\'votearrow\\' title=\\'upvote\\'></div></a></center></td><td class=\"title\"><a href=\"https://www.reuters.com/article/t-mobile-us-data/update-1-t-mobile-investigating-claims-of-customer-data-breach-idUSL1N2PM0K7\" class=\"storylink\">T-Mobile investigating claims of 100M customer data breach</a><span class=\"sitebit comhead\"> (<a href=\"from?site=reuters.com\"><span class=\"sitestr\">reuters.com</span></a>)</span></td></tr><tr><td colspan=\"2\"></td><td class=\"subtext\">\\n        <span class=\"score\" id=\"score_28192423\">362 points</span> by <a href=\"user?id=hourislate\" class=\"hnuser\">hourislate</a> <span class=\"age\" title=\"2021-08-15T20:51:29\"><a href=\"item?id=28192423\">15 hours ago</a></span> <span id=\"unv_28192423\"></span> | <a href=\"hide?id=28192423&amp;goto=news\">hide</a> | <a href=\"item?id=28192423\">152&nbsp;comments</a>              </td></tr>\\n      <tr class=\"spacer\" style=\"height:5px\"></tr>\\n                <tr class=\\'athing\\' id=\\'28196835\\'>\\n      <td align=\"right\" valign=\"top\" class=\"title\"><span class=\"rank\">20.</span></td>      <td valign=\"top\" class=\"votelinks\"><center><a id=\\'up_28196835\\' href=\\'vote?id=28196835&amp;how=up&amp;goto=news\\'><div class=\\'votearrow\\' title=\\'upvote\\'></div></a></center></td><td class=\"title\"><a href=\"https://twitter.com/babaktaghvaee/status/1427187756845965315\" class=\"storylink\">Afghan civilians cling to landing gear of USAF planes and fall to their death</a><span class=\"sitebit comhead\"> (<a href=\"from?site=twitter.com/babaktaghvaee\"><span class=\"sitestr\">twitter.com/babaktaghvaee</span></a>)</span></td></tr><tr><td colspan=\"2\"></td><td class=\"subtext\">\\n        <span class=\"score\" id=\"score_28196835\">28 points</span> by <a href=\"user?id=United857\" class=\"hnuser\">United857</a> <span class=\"age\" title=\"2021-08-16T11:15:36\"><a href=\"item?id=28196835\">53 minutes ago</a></span> <span id=\"unv_28196835\"></span> | <a href=\"hide?id=28196835&amp;goto=news\">hide</a> | <a href=\"item?id=28196835\">2&nbsp;comments</a>              </td></tr>\\n      <tr class=\"spacer\" style=\"height:5px\"></tr>\\n                <tr class=\\'athing\\' id=\\'28196551\\'>\\n      <td align=\"right\" valign=\"top\" class=\"title\"><span class=\"rank\">21.</span></td>      <td valign=\"top\" class=\"votelinks\"><center><a id=\\'up_28196551\\' href=\\'vote?id=28196551&amp;how=up&amp;goto=news\\'><div class=\\'votearrow\\' title=\\'upvote\\'></div></a></center></td><td class=\"title\"><a href=\"https://www.pypy.org/posts/2021/04/ways-pypy-graphviz.html\" class=\"storylink\">Some Ways that PyPy uses Graphviz</a><span class=\"sitebit comhead\"> (<a href=\"from?site=pypy.org\"><span class=\"sitestr\">pypy.org</span></a>)</span></td></tr><tr><td colspan=\"2\"></td><td class=\"subtext\">\\n        <span class=\"score\" id=\"score_28196551\">21 points</span> by <a href=\"user?id=genericlemon24\" class=\"hnuser\">genericlemon24</a> <span class=\"age\" title=\"2021-08-16T10:18:44\"><a href=\"item?id=28196551\">1 hour ago</a></span> <span id=\"unv_28196551\"></span> | <a href=\"hide?id=28196551&amp;goto=news\">hide</a> | <a href=\"item?id=28196551\">discuss</a>              </td></tr>\\n      <tr class=\"spacer\" style=\"height:5px\"></tr>\\n                <tr class=\\'athing\\' id=\\'28191703\\'>\\n      <td align=\"right\" valign=\"top\" class=\"title\"><span class=\"rank\">22.</span></td>      <td valign=\"top\" class=\"votelinks\"><center><a id=\\'up_28191703\\' href=\\'vote?id=28191703&amp;how=up&amp;goto=news\\'><div class=\\'votearrow\\' title=\\'upvote\\'></div></a></center></td><td class=\"title\"><a href=\"https://codetapper.com/atari-st/st-interviews/zippy/\" class=\"storylink\" rel=\"nofollow\">Zippy (2020)</a><span class=\"sitebit comhead\"> (<a href=\"from?site=codetapper.com\"><span class=\"sitestr\">codetapper.com</span></a>)</span></td></tr><tr><td colspan=\"2\"></td><td class=\"subtext\">\\n        <span class=\"score\" id=\"score_28191703\">4 points</span> by <a href=\"user?id=collapse\" class=\"hnuser\">collapse</a> <span class=\"age\" title=\"2021-08-15T19:30:20\"><a href=\"item?id=28191703\">2 hours ago</a></span> <span id=\"unv_28191703\"></span> | <a href=\"hide?id=28191703&amp;goto=news\">hide</a> | <a href=\"item?id=28191703\">discuss</a>              </td></tr>\\n      <tr class=\"spacer\" style=\"height:5px\"></tr>\\n                <tr class=\\'athing\\' id=\\'28192747\\'>\\n      <td align=\"right\" valign=\"top\" class=\"title\"><span class=\"rank\">23.</span></td>      <td valign=\"top\" class=\"votelinks\"><center><a id=\\'up_28192747\\' href=\\'vote?id=28192747&amp;how=up&amp;goto=news\\'><div class=\\'votearrow\\' title=\\'upvote\\'></div></a></center></td><td class=\"title\"><a href=\"https://www.facebook.com/groups/firebuffing/posts/715890382181744/\" class=\"storylink\">\\xe2\\x80\\x9cSan Jose Fire had an impossibly complex incident scene..\\xe2\\x80\\x9d (2019)</a><span class=\"sitebit comhead\"> (<a href=\"from?site=facebook.com\"><span class=\"sitestr\">facebook.com</span></a>)</span></td></tr><tr><td colspan=\"2\"></td><td class=\"subtext\">\\n        <span class=\"score\" id=\"score_28192747\">244 points</span> by <a href=\"user?id=mik3y\" class=\"hnuser\">mik3y</a> <span class=\"age\" title=\"2021-08-15T21:36:17\"><a href=\"item?id=28192747\">14 hours ago</a></span> <span id=\"unv_28192747\"></span> | <a href=\"hide?id=28192747&amp;goto=news\">hide</a> | <a href=\"item?id=28192747\">152&nbsp;comments</a>              </td></tr>\\n      <tr class=\"spacer\" style=\"height:5px\"></tr>\\n                <tr class=\\'athing\\' id=\\'28192269\\'>\\n      <td align=\"right\" valign=\"top\" class=\"title\"><span class=\"rank\">24.</span></td>      <td valign=\"top\" class=\"votelinks\"><center><a id=\\'up_28192269\\' href=\\'vote?id=28192269&amp;how=up&amp;goto=news\\'><div class=\\'votearrow\\' title=\\'upvote\\'></div></a></center></td><td class=\"title\"><a href=\"https://simonandrews.ca/articles/how-to-set-up-spf-dkim-dmarc\" class=\"storylink\">How to prevent email spoofing, using an unholy combination of silly standards</a><span class=\"sitebit comhead\"> (<a href=\"from?site=simonandrews.ca\"><span class=\"sitestr\">simonandrews.ca</span></a>)</span></td></tr><tr><td colspan=\"2\"></td><td class=\"subtext\">\\n        <span class=\"score\" id=\"score_28192269\">321 points</span> by <a href=\"user?id=simon360\" class=\"hnuser\">simon360</a> <span class=\"age\" title=\"2021-08-15T20:33:11\"><a href=\"item?id=28192269\">15 hours ago</a></span> <span id=\"unv_28192269\"></span> | <a href=\"hide?id=28192269&amp;goto=news\">hide</a> | <a href=\"item?id=28192269\">110&nbsp;comments</a>              </td></tr>\\n      <tr class=\"spacer\" style=\"height:5px\"></tr>\\n                <tr class=\\'athing\\' id=\\'28196458\\'>\\n      <td align=\"right\" valign=\"top\" class=\"title\"><span class=\"rank\">25.</span></td>      <td valign=\"top\" class=\"votelinks\"><center><a id=\\'up_28196458\\' href=\\'vote?id=28196458&amp;how=up&amp;goto=news\\'><div class=\\'votearrow\\' title=\\'upvote\\'></div></a></center></td><td class=\"title\"><a href=\"https://en.wikipedia.org/wiki/South_Atlantic_Anomaly\" class=\"storylink\">South Atlantic Anomaly</a><span class=\"sitebit comhead\"> (<a href=\"from?site=wikipedia.org\"><span class=\"sitestr\">wikipedia.org</span></a>)</span></td></tr><tr><td colspan=\"2\"></td><td class=\"subtext\">\\n        <span class=\"score\" id=\"score_28196458\">12 points</span> by <a href=\"user?id=JNRowe\" class=\"hnuser\">JNRowe</a> <span class=\"age\" title=\"2021-08-16T09:57:15\"><a href=\"item?id=28196458\">2 hours ago</a></span> <span id=\"unv_28196458\"></span> | <a href=\"hide?id=28196458&amp;goto=news\">hide</a> | <a href=\"item?id=28196458\">1&nbsp;comment</a>              </td></tr>\\n      <tr class=\"spacer\" style=\"height:5px\"></tr>\\n                <tr class=\\'athing\\' id=\\'28194608\\'>\\n      <td align=\"right\" valign=\"top\" class=\"title\"><span class=\"rank\">26.</span></td>      <td valign=\"top\" class=\"votelinks\"><center><a id=\\'up_28194608\\' href=\\'vote?id=28194608&amp;how=up&amp;goto=news\\'><div class=\\'votearrow\\' title=\\'upvote\\'></div></a></center></td><td class=\"title\"><a href=\"https://www.thenationalnews.com/world/asia/2021/08/12/indian-inventor-dies-in-homemade-helicopter-accident/\" class=\"storylink\">Indian inventor dies in homemade helicopter accident</a><span class=\"sitebit comhead\"> (<a href=\"from?site=thenationalnews.com\"><span class=\"sitestr\">thenationalnews.com</span></a>)</span></td></tr><tr><td colspan=\"2\"></td><td class=\"subtext\">\\n        <span class=\"score\" id=\"score_28194608\">129 points</span> by <a href=\"user?id=skbohra123\" class=\"hnuser\">skbohra123</a> <span class=\"age\" title=\"2021-08-16T03:10:05\"><a href=\"item?id=28194608\">8 hours ago</a></span> <span id=\"unv_28194608\"></span> | <a href=\"hide?id=28194608&amp;goto=news\">hide</a> | <a href=\"item?id=28194608\">107&nbsp;comments</a>              </td></tr>\\n      <tr class=\"spacer\" style=\"height:5px\"></tr>\\n                <tr class=\\'athing\\' id=\\'28196847\\'>\\n      <td align=\"right\" valign=\"top\" class=\"title\"><span class=\"rank\">27.</span></td>      <td valign=\"top\" class=\"votelinks\"><center><a id=\\'up_28196847\\' href=\\'vote?id=28196847&amp;how=up&amp;goto=news\\'><div class=\\'votearrow\\' title=\\'upvote\\'></div></a></center></td><td class=\"title\"><a href=\"https://www.bloomberg.com/news/features/2021-08-16/taxing-the-rich-do-housing-prices-fall-when-empty-second-homes-are-taxed\" class=\"storylink\" rel=\"nofollow\">Taxing the Rich Is Failing to Ease the Global Housing Crunch</a><span class=\"sitebit comhead\"> (<a href=\"from?site=bloomberg.com\"><span class=\"sitestr\">bloomberg.com</span></a>)</span></td></tr><tr><td colspan=\"2\"></td><td class=\"subtext\">\\n        <span class=\"score\" id=\"score_28196847\">6 points</span> by <a href=\"user?id=champagnepapi\" class=\"hnuser\">champagnepapi</a> <span class=\"age\" title=\"2021-08-16T11:18:19\"><a href=\"item?id=28196847\">50 minutes ago</a></span> <span id=\"unv_28196847\"></span> | <a href=\"hide?id=28196847&amp;goto=news\">hide</a> | <a href=\"item?id=28196847\">5&nbsp;comments</a>              </td></tr>\\n      <tr class=\"spacer\" style=\"height:5px\"></tr>\\n                <tr class=\\'athing\\' id=\\'28186555\\'>\\n      <td align=\"right\" valign=\"top\" class=\"title\"><span class=\"rank\">28.</span></td>      <td valign=\"top\" class=\"votelinks\"><center><a id=\\'up_28186555\\' href=\\'vote?id=28186555&amp;how=up&amp;goto=news\\'><div class=\\'votearrow\\' title=\\'upvote\\'></div></a></center></td><td class=\"title\"><a href=\"https://literaryreview.co.uk/virtuosos-of-the-asylum\" class=\"storylink\">Virtuosos of the Asylum</a><span class=\"sitebit comhead\"> (<a href=\"from?site=literaryreview.co.uk\"><span class=\"sitestr\">literaryreview.co.uk</span></a>)</span></td></tr><tr><td colspan=\"2\"></td><td class=\"subtext\">\\n        <span class=\"score\" id=\"score_28186555\">8 points</span> by <a href=\"user?id=benbreen\" class=\"hnuser\">benbreen</a> <span class=\"age\" title=\"2021-08-15T06:03:15\"><a href=\"item?id=28186555\">5 hours ago</a></span> <span id=\"unv_28186555\"></span> | <a href=\"hide?id=28186555&amp;goto=news\">hide</a> | <a href=\"item?id=28186555\">discuss</a>              </td></tr>\\n      <tr class=\"spacer\" style=\"height:5px\"></tr>\\n                <tr class=\\'athing\\' id=\\'28191362\\'>\\n      <td align=\"right\" valign=\"top\" class=\"title\"><span class=\"rank\">29.</span></td>      <td valign=\"top\" class=\"votelinks\"><center><a id=\\'up_28191362\\' href=\\'vote?id=28191362&amp;how=up&amp;goto=news\\'><div class=\\'votearrow\\' title=\\'upvote\\'></div></a></center></td><td class=\"title\"><a href=\"https://www.youtube.com/watch?v=aneK0TUUAfA\" class=\"storylink\">OpenAI\\'s Codex sure knows a lot about HN [video]</a><span class=\"sitebit comhead\"> (<a href=\"from?site=youtube.com\"><span class=\"sitestr\">youtube.com</span></a>)</span></td></tr><tr><td colspan=\"2\"></td><td class=\"subtext\">\\n        <span class=\"score\" id=\"score_28191362\">353 points</span> by <a href=\"user?id=tectonic\" class=\"hnuser\">tectonic</a> <span class=\"age\" title=\"2021-08-15T18:53:39\"><a href=\"item?id=28191362\">17 hours ago</a></span> <span id=\"unv_28191362\"></span> | <a href=\"hide?id=28191362&amp;goto=news\">hide</a> | <a href=\"item?id=28191362\">94&nbsp;comments</a>              </td></tr>\\n      <tr class=\"spacer\" style=\"height:5px\"></tr>\\n                <tr class=\\'athing\\' id=\\'28194823\\'>\\n      <td align=\"right\" valign=\"top\" class=\"title\"><span class=\"rank\">30.</span></td>      <td valign=\"top\" class=\"votelinks\"><center><a id=\\'up_28194823\\' href=\\'vote?id=28194823&amp;how=up&amp;goto=news\\'><div class=\\'votearrow\\' title=\\'upvote\\'></div></a></center></td><td class=\"title\"><a href=\"https://en.wikipedia.org/wiki/Carolyn_S._Shoemaker\" class=\"storylink\">Carolyn Shoemaker has died</a><span class=\"sitebit comhead\"> (<a href=\"from?site=wikipedia.org\"><span class=\"sitestr\">wikipedia.org</span></a>)</span></td></tr><tr><td colspan=\"2\"></td><td class=\"subtext\">\\n        <span class=\"score\" id=\"score_28194823\">89 points</span> by <a href=\"user?id=herodotus\" class=\"hnuser\">herodotus</a> <span class=\"age\" title=\"2021-08-16T04:02:06\"><a href=\"item?id=28194823\">8 hours ago</a></span> <span id=\"unv_28194823\"></span> | <a href=\"hide?id=28194823&amp;goto=news\">hide</a> | <a href=\"item?id=28194823\">5&nbsp;comments</a>              </td></tr>\\n      <tr class=\"spacer\" style=\"height:5px\"></tr>\\n            <tr class=\"morespace\" style=\"height:10px\"></tr><tr><td colspan=\"2\"></td><td class=\"title\"><a href=\"news?p=2\" class=\"morelink\" rel=\"next\">More</a></td></tr>\\n  </table>\\n</td></tr>\\n<tr><td><img src=\"s.gif\" height=\"10\" width=\"0\"><table width=\"100%\" cellspacing=\"0\" cellpadding=\"1\"><tr><td bgcolor=\"#ff6600\"></td></tr></table><br><center><a href=\"https://www.ycombinator.com/apply/\">\\n        Applications are open for YC Winter 2022\\n      </a></center><br><center><span class=\"yclinks\"><a href=\"newsguidelines.html\">Guidelines</a>\\n        | <a href=\"newsfaq.html\">FAQ</a>\\n        | <a href=\"lists\">Lists</a>\\n        | <a href=\"https://github.com/HackerNews/API\">API</a>\\n        | <a href=\"security.html\">Security</a>\\n        | <a href=\"http://www.ycombinator.com/legal/\">Legal</a>\\n        | <a href=\"http://www.ycombinator.com/apply/\">Apply to YC</a>\\n        | <a href=\"mailto:hn@ycombinator.com\">Contact</a></span><br><br><form method=\"get\" action=\"//hn.algolia.com/\">Search:\\n          <input type=\"text\" name=\"q\" value=\"\" size=\"17\" autocorrect=\"off\" spellcheck=\"false\" autocapitalize=\"off\" autocomplete=\"false\"></form>\\n            </center></td></tr>\\n      </table></center></body><script type=\\'text/javascript\\' src=\\'hn.js?FJc2HJ5ky117YsmUhGiy\\'></script></html>\\n'\n"
     ]
    }
   ],
   "source": [
    "import requests\n",
    "response = requests.get(\"https://news.ycombinator.com/\")\n",
    "if response.status_code != 200:\n",
    "\tprint(\"Error fetching page\")\n",
    "\texit()\n",
    "else:\n",
    "\tcontent = response.content\n",
    "print(content)"
   ]
  },
  {
   "cell_type": "code",
   "execution_count": 63,
   "metadata": {},
   "outputs": [],
   "source": [
    "from bs4 import BeautifulSoup\n",
    "soup = BeautifulSoup(response.content, 'html.parser')"
   ]
  },
  {
   "cell_type": "code",
   "execution_count": 64,
   "metadata": {},
   "outputs": [
    {
     "name": "stdout",
     "output_type": "stream",
     "text": [
      "<title>Hacker News</title>\n"
     ]
    }
   ],
   "source": [
    "# The HTML title of the page\n",
    "print(soup.title)"
   ]
  },
  {
   "cell_type": "code",
   "execution_count": 65,
   "metadata": {},
   "outputs": [
    {
     "name": "stdout",
     "output_type": "stream",
     "text": [
      "Hacker News\n"
     ]
    }
   ],
   "source": [
    "# The test title of the page\n",
    "print(soup.title.string)"
   ]
  },
  {
   "cell_type": "code",
   "execution_count": 66,
   "metadata": {},
   "outputs": [
    {
     "name": "stdout",
     "output_type": "stream",
     "text": [
      "There are 226 links in this page\n"
     ]
    }
   ],
   "source": [
    "# All links in the page\n",
    "nb_links = len(soup.find_all('a'))\n",
    "print(f\"There are {nb_links} links in this page\")"
   ]
  },
  {
   "cell_type": "code",
   "execution_count": 67,
   "metadata": {},
   "outputs": [
    {
     "name": "stdout",
     "output_type": "stream",
     "text": [
      "\n",
      "\n",
      "\n",
      "Hacker News\n",
      "\n",
      "Hacker News\n",
      "new | past | comments | ask | show | jobs | submit \n",
      "login\n",
      "\n",
      "\n",
      "\n",
      "\n",
      "1. Widelands is a free, open-source real-time strategy game (widelands.org)\n",
      "159 points by doener 3 hours ago  | hide | 21 comments \n",
      "\n",
      "\n",
      "2. Classical Data Structures That Can Outperform Learned Indexes (2018) (stanford.edu)\n",
      "142 points by signa11 5 hours ago  | hide | 18 comments \n",
      "\n",
      "\n",
      "3. Email Authenticity 101: DKIM, Dmarc, and SPF (alexblackie.com)\n",
      "268 points by alexblackie 9 hours ago  | hide | 62 comments \n",
      "\n",
      "\n",
      "4. TSMC’s Speciality Technologies (techtaiwan.com)\n",
      "59 points by Klyonova 4 hours ago  | hide | 13 comments \n",
      "\n",
      "\n",
      "5. Software is a Process and hidden driver of Productivity (eth.link)\n",
      "11 points by Wildgoose 1 hour ago  | hide | discuss \n",
      "\n",
      "\n",
      "6. Sirum (YC W15) Is Hiring a Lead Engineer to Improve Medicine Access\n",
      "7 minutes ago | hide \n",
      "\n",
      "\n",
      "7. How to avoid being hit by a laser in a room of mirrors [video] (youtube.com)\n",
      "191 points by sigil 7 hours ago  | hide | 56 comments \n",
      "\n",
      "\n",
      "8. Nerds Don't Respond to Marketing; Try Technical Documentation Instead (hackernoon.com)\n",
      "200 points by mooreds 11 hours ago  | hide | 119 comments \n",
      "\n",
      "\n",
      "9. Released Google/zx – tons of DX improvements and more (github.com/google)\n",
      "62 points by medv 5 hours ago  | hide | 49 comments \n",
      "\n",
      "\n",
      "10. Alf 2: Collision Detection Is Hard, Blog Posts Are Harder (nicole.express)\n",
      "21 points by zdw 4 hours ago  | hide | 1 comment \n",
      "\n",
      "\n",
      "11. home.netscape.com in 1997 (archive.org)\n",
      "98 points by codetrotter 7 hours ago  | hide | 39 comments \n",
      "\n",
      "\n",
      "12. The US should be held accountable: Gitmo survivor on the war on terror’s failure (theguardian.com)\n",
      "175 points by sofixa 4 hours ago  | hide | 112 comments \n",
      "\n",
      "\n",
      "13. Vieb – Vim Inspired Electron Browser (vieb.dev)\n",
      "8 points by bwidlar 1 hour ago  | hide | 1 comment \n",
      "\n",
      "\n",
      "14. Nokia's smartphone: 25 years since it changed the world (dw.com)\n",
      "42 points by samizdis 2 hours ago  | hide | 49 comments \n",
      "\n",
      "\n",
      "15. Imperative Thinking and the Making of Sandwiches (2014) (scattered-thoughts.net)\n",
      "17 points by luu 5 hours ago  | hide | 5 comments \n",
      "\n",
      "\n",
      "16. How to Boost Innovation (persuasion.community)\n",
      "22 points by jseliger 6 hours ago  | hide | 15 comments \n",
      "\n",
      "\n",
      "17. The Duke Mansion Mystery (heatinghelp.com)\n",
      "53 points by userbinator 9 hours ago  | hide | 14 comments \n",
      "\n",
      "\n",
      "18. Fernando Pessoa: Office Worker, Occultist, Galaxy of Writers (nytimes.com)\n",
      "68 points by CrocodileStreet 11 hours ago  | hide | 11 comments \n",
      "\n",
      "\n",
      "19. T-Mobile investigating claims of 100M customer data breach (reuters.com)\n",
      "362 points by hourislate 15 hours ago  | hide | 152 comments \n",
      "\n",
      "\n",
      "20. Afghan civilians cling to landing gear of USAF planes and fall to their death (twitter.com/babaktaghvaee)\n",
      "28 points by United857 53 minutes ago  | hide | 2 comments \n",
      "\n",
      "\n",
      "21. Some Ways that PyPy uses Graphviz (pypy.org)\n",
      "21 points by genericlemon24 1 hour ago  | hide | discuss \n",
      "\n",
      "\n",
      "22. Zippy (2020) (codetapper.com)\n",
      "4 points by collapse 2 hours ago  | hide | discuss \n",
      "\n",
      "\n",
      "23. “San Jose Fire had an impossibly complex incident scene..” (2019) (facebook.com)\n",
      "244 points by mik3y 14 hours ago  | hide | 152 comments \n",
      "\n",
      "\n",
      "24. How to prevent email spoofing, using an unholy combination of silly standards (simonandrews.ca)\n",
      "321 points by simon360 15 hours ago  | hide | 110 comments \n",
      "\n",
      "\n",
      "25. South Atlantic Anomaly (wikipedia.org)\n",
      "12 points by JNRowe 2 hours ago  | hide | 1 comment \n",
      "\n",
      "\n",
      "26. Indian inventor dies in homemade helicopter accident (thenationalnews.com)\n",
      "129 points by skbohra123 8 hours ago  | hide | 107 comments \n",
      "\n",
      "\n",
      "27. Taxing the Rich Is Failing to Ease the Global Housing Crunch (bloomberg.com)\n",
      "6 points by champagnepapi 50 minutes ago  | hide | 5 comments \n",
      "\n",
      "\n",
      "28. Virtuosos of the Asylum (literaryreview.co.uk)\n",
      "8 points by benbreen 5 hours ago  | hide | discuss \n",
      "\n",
      "\n",
      "29. OpenAI's Codex sure knows a lot about HN [video] (youtube.com)\n",
      "353 points by tectonic 17 hours ago  | hide | 94 comments \n",
      "\n",
      "\n",
      "30. Carolyn Shoemaker has died (wikipedia.org)\n",
      "89 points by herodotus 8 hours ago  | hide | 5 comments \n",
      "\n",
      "More\n",
      "\n",
      "\n",
      "\n",
      "        Applications are open for YC Winter 2022\n",
      "      Guidelines\n",
      "        | FAQ\n",
      "        | Lists\n",
      "        | API\n",
      "        | Security\n",
      "        | Legal\n",
      "        | Apply to YC\n",
      "        | ContactSearch:\n",
      "          \n",
      "\n",
      "\n",
      "\n"
     ]
    }
   ],
   "source": [
    "# Text from the page\n",
    "print(soup.get_text())"
   ]
  },
  {
   "cell_type": "code",
   "execution_count": 69,
   "metadata": {},
   "outputs": [
    {
     "name": "stdout",
     "output_type": "stream",
     "text": [
      "<a href=\"https://news.ycombinator.com\"><img height=\"18\" src=\"y18.gif\" style=\"border:1px white solid;\" width=\"18\"/></a>\n"
     ]
    }
   ],
   "source": [
    "first_link = soup.a\n",
    "print(first_link)"
   ]
  },
  {
   "cell_type": "code",
   "execution_count": 70,
   "metadata": {},
   "outputs": [
    {
     "name": "stdout",
     "output_type": "stream",
     "text": [
      "\n"
     ]
    }
   ],
   "source": [
    "# The text of the link\n",
    "print(first_link.text)"
   ]
  },
  {
   "cell_type": "code",
   "execution_count": 72,
   "metadata": {},
   "outputs": [
    {
     "name": "stdout",
     "output_type": "stream",
     "text": [
      "https://news.ycombinator.com\n"
     ]
    }
   ],
   "source": [
    "# The href of the link\n",
    "print(first_link.get('href'))"
   ]
  },
  {
   "cell_type": "code",
   "execution_count": 73,
   "metadata": {},
   "outputs": [
    {
     "name": "stdout",
     "output_type": "stream",
     "text": [
      "<tr id=\"pagespace\" style=\"height:10px\" title=\"\"></tr>\n"
     ]
    }
   ],
   "source": [
    "pagespace = soup.find(id=\"pagespace\")\n",
    "print(pagespace)"
   ]
  },
  {
   "cell_type": "code",
   "execution_count": 74,
   "metadata": {},
   "outputs": [
    {
     "name": "stdout",
     "output_type": "stream",
     "text": [
      "<tr class=\"athing\" id=\"28196178\">\n",
      "<td align=\"right\" class=\"title\" valign=\"top\"><span class=\"rank\">1.</span></td> <td class=\"votelinks\" valign=\"top\"><center><a href=\"vote?id=28196178&amp;how=up&amp;goto=news\" id=\"up_28196178\"><div class=\"votearrow\" title=\"upvote\"></div></a></center></td><td class=\"title\"><a class=\"storylink\" href=\"https://www.widelands.org/\">Widelands is a free, open-source real-time strategy game</a><span class=\"sitebit comhead\"> (<a href=\"from?site=widelands.org\"><span class=\"sitestr\">widelands.org</span></a>)</span></td></tr>\n"
     ]
    }
   ],
   "source": [
    "# class is a reserved keyword in Python, hence the '_'\n",
    "athing = soup.find(class_=\"athing\")\n",
    "print(athing)"
   ]
  },
  {
   "cell_type": "code",
   "execution_count": 75,
   "metadata": {},
   "outputs": [
    {
     "name": "stdout",
     "output_type": "stream",
     "text": [
      "[('item?id=28196178', 2), ('item?id=28195439', 2), ('item?id=28194477', 2)]\n"
     ]
    }
   ],
   "source": [
    "from collections import Counter\n",
    "all_hrefs = [a.get('href') for a in soup.find_all('a')]\n",
    "top_3_links = Counter(all_hrefs).most_common(3)\n",
    "print(top_3_links)"
   ]
  },
  {
   "cell_type": "code",
   "execution_count": null,
   "metadata": {},
   "outputs": [],
   "source": []
  }
 ],
 "metadata": {
  "kernelspec": {
   "display_name": "Python 3 (ipykernel)",
   "language": "python",
   "name": "python3"
  },
  "language_info": {
   "codemirror_mode": {
    "name": "ipython",
    "version": 3
   },
   "file_extension": ".py",
   "mimetype": "text/x-python",
   "name": "python",
   "nbconvert_exporter": "python",
   "pygments_lexer": "ipython3",
   "version": "3.9.13"
  },
  "toc": {
   "base_numbering": 1,
   "nav_menu": {},
   "number_sections": true,
   "sideBar": true,
   "skip_h1_title": false,
   "title_cell": "Table of Contents",
   "title_sidebar": "Contents",
   "toc_cell": false,
   "toc_position": {},
   "toc_section_display": true,
   "toc_window_display": false
  }
 },
 "nbformat": 4,
 "nbformat_minor": 4
}
