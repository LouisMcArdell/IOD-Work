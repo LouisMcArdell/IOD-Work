{
 "cells": [
  {
   "attachments": {
    "image.png": {
     "image/png": "[encoded data removed]"
    }
   },
   "cell_type": "markdown",
   "id": "aec433e3",
   "metadata": {},
   "source": [
    "![image.png](attachment:image.png)"
   ]
  },
  {
   "cell_type": "markdown",
   "id": "eacd853c",
   "metadata": {},
   "source": [
    "# Multi-Linear Regression Using Python"
   ]
  },
  {
   "cell_type": "code",
   "execution_count": 1,
   "id": "b15e15a2",
   "metadata": {},
   "outputs": [
    {
     "name": "stdout",
     "output_type": "stream",
     "text": [
      "(15, 3)\n"
     ]
    },
    {
     "data": {
      "text/html": [
       "<div>\n",
       "<style scoped>\n",
       "    .dataframe tbody tr th:only-of-type {\n",
       "        vertical-align: middle;\n",
       "    }\n",
       "\n",
       "    .dataframe tbody tr th {\n",
       "        vertical-align: top;\n",
       "    }\n",
       "\n",
       "    .dataframe thead th {\n",
       "        text-align: right;\n",
       "    }\n",
       "</style>\n",
       "<table border=\"1\" class=\"dataframe\">\n",
       "  <thead>\n",
       "    <tr style=\"text-align: right;\">\n",
       "      <th></th>\n",
       "      <th>pie_sales</th>\n",
       "      <th>price</th>\n",
       "      <th>advertising</th>\n",
       "    </tr>\n",
       "    <tr>\n",
       "      <th>week</th>\n",
       "      <th></th>\n",
       "      <th></th>\n",
       "      <th></th>\n",
       "    </tr>\n",
       "  </thead>\n",
       "  <tbody>\n",
       "    <tr>\n",
       "      <th>1</th>\n",
       "      <td>350</td>\n",
       "      <td>5.5</td>\n",
       "      <td>3.3</td>\n",
       "    </tr>\n",
       "    <tr>\n",
       "      <th>2</th>\n",
       "      <td>460</td>\n",
       "      <td>7.5</td>\n",
       "      <td>3.3</td>\n",
       "    </tr>\n",
       "    <tr>\n",
       "      <th>3</th>\n",
       "      <td>350</td>\n",
       "      <td>8.0</td>\n",
       "      <td>3.0</td>\n",
       "    </tr>\n",
       "    <tr>\n",
       "      <th>4</th>\n",
       "      <td>430</td>\n",
       "      <td>8.0</td>\n",
       "      <td>4.5</td>\n",
       "    </tr>\n",
       "    <tr>\n",
       "      <th>5</th>\n",
       "      <td>350</td>\n",
       "      <td>6.8</td>\n",
       "      <td>3.0</td>\n",
       "    </tr>\n",
       "    <tr>\n",
       "      <th>6</th>\n",
       "      <td>380</td>\n",
       "      <td>7.5</td>\n",
       "      <td>4.0</td>\n",
       "    </tr>\n",
       "    <tr>\n",
       "      <th>7</th>\n",
       "      <td>430</td>\n",
       "      <td>4.5</td>\n",
       "      <td>3.0</td>\n",
       "    </tr>\n",
       "    <tr>\n",
       "      <th>8</th>\n",
       "      <td>470</td>\n",
       "      <td>6.4</td>\n",
       "      <td>3.7</td>\n",
       "    </tr>\n",
       "    <tr>\n",
       "      <th>9</th>\n",
       "      <td>450</td>\n",
       "      <td>7.0</td>\n",
       "      <td>3.5</td>\n",
       "    </tr>\n",
       "    <tr>\n",
       "      <th>10</th>\n",
       "      <td>490</td>\n",
       "      <td>5.0</td>\n",
       "      <td>4.0</td>\n",
       "    </tr>\n",
       "    <tr>\n",
       "      <th>11</th>\n",
       "      <td>340</td>\n",
       "      <td>7.2</td>\n",
       "      <td>3.5</td>\n",
       "    </tr>\n",
       "    <tr>\n",
       "      <th>12</th>\n",
       "      <td>300</td>\n",
       "      <td>7.9</td>\n",
       "      <td>3.2</td>\n",
       "    </tr>\n",
       "    <tr>\n",
       "      <th>13</th>\n",
       "      <td>440</td>\n",
       "      <td>5.9</td>\n",
       "      <td>4.0</td>\n",
       "    </tr>\n",
       "    <tr>\n",
       "      <th>14</th>\n",
       "      <td>450</td>\n",
       "      <td>5.0</td>\n",
       "      <td>3.5</td>\n",
       "    </tr>\n",
       "    <tr>\n",
       "      <th>15</th>\n",
       "      <td>300</td>\n",
       "      <td>7.0</td>\n",
       "      <td>2.7</td>\n",
       "    </tr>\n",
       "  </tbody>\n",
       "</table>\n",
       "</div>"
      ],
      "text/plain": [
       "      pie_sales  price  advertising\n",
       "week                               \n",
       "1           350    5.5          3.3\n",
       "2           460    7.5          3.3\n",
       "3           350    8.0          3.0\n",
       "4           430    8.0          4.5\n",
       "5           350    6.8          3.0\n",
       "6           380    7.5          4.0\n",
       "7           430    4.5          3.0\n",
       "8           470    6.4          3.7\n",
       "9           450    7.0          3.5\n",
       "10          490    5.0          4.0\n",
       "11          340    7.2          3.5\n",
       "12          300    7.9          3.2\n",
       "13          440    5.9          4.0\n",
       "14          450    5.0          3.5\n",
       "15          300    7.0          2.7"
      ]
     },
     "execution_count": 1,
     "metadata": {},
     "output_type": "execute_result"
    }
   ],
   "source": [
    "# Import libraries\n",
    "## Basic libs\n",
    "import pandas as pd\n",
    "import numpy as np\n",
    "import warnings\n",
    "\n",
    "## Building Model\n",
    "from sklearn import linear_model\n",
    "from scipy import stats\n",
    "import statsmodels\n",
    "import statsmodels.api as sm\n",
    "\n",
    "\n",
    "## Data Visualization\n",
    "import seaborn as sns\n",
    "import matplotlib.pyplot as plt\n",
    "from mpl_toolkits.mplot3d import Axes3D\n",
    "\n",
    "\n",
    "# Load dataset\n",
    "df_pie = pd.read_csv('https://raw.githubusercontent.com/rafiag/DTI-Linear-Regression/main/data/pie-sales.csv', \n",
    "                     index_col='week', sep=';')\n",
    "warnings.filterwarnings('ignore')\n",
    "\n",
    "plt.rcParams['figure.figsize'] = (7, 7)\n",
    "plt.style.use('ggplot')\n",
    "\n",
    "print(df_pie.shape)\n",
    "df_pie\n",
    "\n"
   ]
  },
  {
   "cell_type": "markdown",
   "id": "c29ca01b",
   "metadata": {},
   "source": [
    "#### Descriptive Analysis"
   ]
  },
  {
   "cell_type": "code",
   "execution_count": 31,
   "id": "7d71e6ea",
   "metadata": {},
   "outputs": [
    {
     "data": {
      "text/plain": [
       "<seaborn.axisgrid.PairGrid at 0x250ec69efa0>"
      ]
     },
     "execution_count": 31,
     "metadata": {},
     "output_type": "execute_result"
    }
   ],
   "source": [
    "# Visualize the data using scatter plot and histogram\n",
    "sns.set_palette('colorblind')\n",
    "sns.pairplot(data=df_pie, height=3)"
   ]
  },
  {
   "cell_type": "markdown",
   "id": "a7721015",
   "metadata": {},
   "source": [
    "#### Building Regression Model"
   ]
  },
  {
   "cell_type": "code",
   "execution_count": 24,
   "id": "70fff5c1",
   "metadata": {},
   "outputs": [
    {
     "name": "stdout",
     "output_type": "stream",
     "text": [
      "Intercept: 306.5261932837436\n",
      "Coefficients: [-24.97508952  74.13095749]\n"
     ]
    }
   ],
   "source": [
    "# Set independent and dependent variables\n",
    "X = df_pie[['price', 'advertising']]\n",
    "y = df_pie['pie_sales']\n",
    "\n",
    "# Initialize model from sklearn and fit it into our data\n",
    "regr = linear_model.LinearRegression()\n",
    "model = regr.fit(X, y)\n",
    "\n",
    "print('Intercept:', model.intercept_)\n",
    "print('Coefficients:', model.coef_)"
   ]
  },
  {
   "attachments": {
    "image.png": {
     "image/png": "[encoded data removed]"
    }
   },
   "cell_type": "markdown",
   "id": "485a5c40",
   "metadata": {},
   "source": [
    "![image.png](attachment:image.png)"
   ]
  },
  {
   "cell_type": "markdown",
   "id": "7852ee82",
   "metadata": {},
   "source": [
    "#### Stats Model"
   ]
  },
  {
   "cell_type": "code",
   "execution_count": 25,
   "id": "ae42be80",
   "metadata": {},
   "outputs": [
    {
     "name": "stdout",
     "output_type": "stream",
     "text": [
      "                            OLS Regression Results                            \n",
      "==============================================================================\n",
      "Dep. Variable:              pie_sales   R-squared:                       0.521\n",
      "Model:                            OLS   Adj. R-squared:                  0.442\n",
      "Method:                 Least Squares   F-statistic:                     6.539\n",
      "Date:                Mon, 17 Apr 2023   Prob (F-statistic):             0.0120\n",
      "Time:                        15:00:21   Log-Likelihood:                -77.510\n",
      "No. Observations:                  15   AIC:                             161.0\n",
      "Df Residuals:                      12   BIC:                             163.1\n",
      "Df Model:                           2                                         \n",
      "Covariance Type:            nonrobust                                         \n",
      "===============================================================================\n",
      "                  coef    std err          t      P>|t|      [0.025      0.975]\n",
      "-------------------------------------------------------------------------------\n",
      "const         306.5262    114.254      2.683      0.020      57.588     555.464\n",
      "price         -24.9751     10.832     -2.306      0.040     -48.576      -1.374\n",
      "advertising    74.1310     25.967      2.855      0.014      17.553     130.709\n",
      "==============================================================================\n",
      "Omnibus:                        1.505   Durbin-Watson:                   1.683\n",
      "Prob(Omnibus):                  0.471   Jarque-Bera (JB):                0.937\n",
      "Skew:                           0.595   Prob(JB):                        0.626\n",
      "Kurtosis:                       2.709   Cond. No.                         72.2\n",
      "==============================================================================\n",
      "\n",
      "Notes:\n",
      "[1] Standard Errors assume that the covariance matrix of the errors is correctly specified.\n"
     ]
    }
   ],
   "source": [
    "X = df_pie[['price', 'advertising']]\n",
    "X = sm.add_constant(X) # adding a constant\n",
    "\n",
    "olsmod = sm.OLS(df_pie['pie_sales'], X).fit()\n",
    "print(olsmod.summary())"
   ]
  },
  {
   "cell_type": "markdown",
   "id": "a8fbb342",
   "metadata": {},
   "source": [
    "#### Coefficient of Determination (R²)"
   ]
  },
  {
   "attachments": {
    "image.png": {
     "image/png": "[encoded data removed]"
    }
   },
   "cell_type": "markdown",
   "id": "1f8dafef",
   "metadata": {},
   "source": [
    "![image.png](attachment:image.png)"
   ]
  },
  {
   "cell_type": "code",
   "execution_count": 26,
   "id": "ce2685ac",
   "metadata": {},
   "outputs": [
    {
     "name": "stdout",
     "output_type": "stream",
     "text": [
      "R2 score: 0.5214779360292289\n"
     ]
    }
   ],
   "source": [
    "print('R2 score:', olsmod.rsquared)"
   ]
  },
  {
   "cell_type": "markdown",
   "id": "997b2cf2",
   "metadata": {},
   "source": [
    "\n",
    "R² range between 0 and 1, where R²=0 means there are no linear relationship between the variables and R²=1 shows a \n",
    "perfect linear relationship. In our case, we got R² score about 0.5214 which means 52.14% of our dependent variable \n",
    "can be explained using our independent variables."
   ]
  },
  {
   "cell_type": "code",
   "execution_count": 2,
   "id": "cac296f4",
   "metadata": {},
   "outputs": [],
   "source": [
    "################################################################################################################################"
   ]
  },
  {
   "cell_type": "markdown",
   "id": "ab136a76",
   "metadata": {},
   "source": [
    "#### F-Test (ANOVA)"
   ]
  },
  {
   "cell_type": "markdown",
   "id": "f5845555",
   "metadata": {},
   "source": [
    "\n",
    "F-test or ANOVA (Analysis of variance) in multi-linear regression can be used to determine whether our complex model \n",
    "perform better than a simpler model (e.g. model with only one independent variable). With F-test we can evaluate the \n",
    "significance of our model by calculating the probability of observing an F-statistic that is at least as high as the value \n",
    "that our model obtained. Similar to R² score, we can easily get the F-statistic and probability of said F-statistic by \n",
    "accessing the .fvalues and .f_pvalues attribute of our model as below."
   ]
  },
  {
   "cell_type": "code",
   "execution_count": 27,
   "id": "4d108666",
   "metadata": {},
   "outputs": [
    {
     "name": "stdout",
     "output_type": "stream",
     "text": [
      "F-statistic: 6.5386067890204735\n",
      "Probability of observing value at least as high as F-statistic: 0.012006372233186352\n"
     ]
    }
   ],
   "source": [
    "print('F-statistic:', olsmod.fvalue)\n",
    "print('Probability of observing value at least as high as F-statistic:', olsmod.f_pvalue)"
   ]
  },
  {
   "cell_type": "markdown",
   "id": "53f88e10",
   "metadata": {},
   "source": [
    "\n",
    "Because our f_pvalue is lower than 0.05 we can conclude that our model performs better than other simpler model."
   ]
  },
  {
   "cell_type": "markdown",
   "id": "8a37df2e",
   "metadata": {},
   "source": [
    "#### T-test"
   ]
  },
  {
   "cell_type": "markdown",
   "id": "0366d559",
   "metadata": {},
   "source": [
    "\n",
    "The t-statistic is the coefficient divided by its standard error. The standard error is an estimate of the standard \n",
    "deviation of the coefficient, the amount it varies across cases. It can be thought of as a measure of the precision with \n",
    "which the regression coefficient is measured. Same as the F-test, the p-value show the probability of seeing a result as \n",
    "extreme as the one our model have. We can also get the p-value for all of our variables by calling the .pvalues attribute \n",
    "on the model."
   ]
  },
  {
   "cell_type": "code",
   "execution_count": 28,
   "id": "fed63f32",
   "metadata": {},
   "outputs": [
    {
     "name": "stdout",
     "output_type": "stream",
     "text": [
      "const          0.019932\n",
      "price          0.039788\n",
      "advertising    0.014494\n",
      "dtype: float64\n"
     ]
    }
   ],
   "source": [
    "print(olsmod.pvalues)"
   ]
  },
  {
   "cell_type": "markdown",
   "id": "7cdf1d38",
   "metadata": {},
   "source": [
    "\n",
    "Both of our independent variables, price and advertising, have p-value less than 0.05 which shows that there is sufficient \n",
    "evidence that price and advertising affects our pie sales."
   ]
  },
  {
   "cell_type": "markdown",
   "id": "b93b33ef",
   "metadata": {},
   "source": [
    "#### Assumption Testing"
   ]
  },
  {
   "cell_type": "markdown",
   "id": "b1b1cae8",
   "metadata": {},
   "source": [
    "\n",
    "Next, we will validate our model by doing residual analysis, below are the list of test or assumption we will do to check \n",
    "on our model validity:\n",
    "    \n",
    "Linearity\n",
    "Normality\n",
    "Multicollinearity\n",
    "Autocorrelation\n",
    "Homoscedasticity\n",
    "\n",
    "Residual is the difference between the observed value and predicted value from our dataset. With statsmodel we can \n",
    "easily get the residual value of our model by simply accesing the .resid attribute of the model and then we can keep \n",
    "it in a new column called 'residual' in our df_pie dataframe."
   ]
  },
  {
   "cell_type": "code",
   "execution_count": 29,
   "id": "2fe0d22f",
   "metadata": {},
   "outputs": [
    {
     "data": {
      "text/html": [
       "<div>\n",
       "<style scoped>\n",
       "    .dataframe tbody tr th:only-of-type {\n",
       "        vertical-align: middle;\n",
       "    }\n",
       "\n",
       "    .dataframe tbody tr th {\n",
       "        vertical-align: top;\n",
       "    }\n",
       "\n",
       "    .dataframe thead th {\n",
       "        text-align: right;\n",
       "    }\n",
       "</style>\n",
       "<table border=\"1\" class=\"dataframe\">\n",
       "  <thead>\n",
       "    <tr style=\"text-align: right;\">\n",
       "      <th></th>\n",
       "      <th>pie_sales</th>\n",
       "      <th>price</th>\n",
       "      <th>advertising</th>\n",
       "      <th>pie_sales_pred</th>\n",
       "      <th>residual</th>\n",
       "    </tr>\n",
       "    <tr>\n",
       "      <th>week</th>\n",
       "      <th></th>\n",
       "      <th></th>\n",
       "      <th></th>\n",
       "      <th></th>\n",
       "      <th></th>\n",
       "    </tr>\n",
       "  </thead>\n",
       "  <tbody>\n",
       "    <tr>\n",
       "      <th>1</th>\n",
       "      <td>350</td>\n",
       "      <td>5.5</td>\n",
       "      <td>3.3</td>\n",
       "      <td>413.795361</td>\n",
       "      <td>-63.795361</td>\n",
       "    </tr>\n",
       "    <tr>\n",
       "      <th>2</th>\n",
       "      <td>460</td>\n",
       "      <td>7.5</td>\n",
       "      <td>3.3</td>\n",
       "      <td>363.845182</td>\n",
       "      <td>96.154818</td>\n",
       "    </tr>\n",
       "    <tr>\n",
       "      <th>3</th>\n",
       "      <td>350</td>\n",
       "      <td>8.0</td>\n",
       "      <td>3.0</td>\n",
       "      <td>329.118350</td>\n",
       "      <td>20.881650</td>\n",
       "    </tr>\n",
       "    <tr>\n",
       "      <th>4</th>\n",
       "      <td>430</td>\n",
       "      <td>8.0</td>\n",
       "      <td>4.5</td>\n",
       "      <td>440.314786</td>\n",
       "      <td>-10.314786</td>\n",
       "    </tr>\n",
       "    <tr>\n",
       "      <th>5</th>\n",
       "      <td>350</td>\n",
       "      <td>6.8</td>\n",
       "      <td>3.0</td>\n",
       "      <td>359.088457</td>\n",
       "      <td>-9.088457</td>\n",
       "    </tr>\n",
       "  </tbody>\n",
       "</table>\n",
       "</div>"
      ],
      "text/plain": [
       "      pie_sales  price  advertising  pie_sales_pred   residual\n",
       "week                                                          \n",
       "1           350    5.5          3.3      413.795361 -63.795361\n",
       "2           460    7.5          3.3      363.845182  96.154818\n",
       "3           350    8.0          3.0      329.118350  20.881650\n",
       "4           430    8.0          4.5      440.314786 -10.314786\n",
       "5           350    6.8          3.0      359.088457  -9.088457"
      ]
     },
     "execution_count": 29,
     "metadata": {},
     "output_type": "execute_result"
    }
   ],
   "source": [
    "df_pie['pie_sales_pred'] = olsmod.predict(X)\n",
    "df_pie['residual'] = olsmod.resid\n",
    "df_pie.head()"
   ]
  },
  {
   "cell_type": "code",
   "execution_count": null,
   "id": "857f9693",
   "metadata": {},
   "outputs": [],
   "source": [
    "################################################################################################################################"
   ]
  },
  {
   "cell_type": "markdown",
   "id": "70772ca7",
   "metadata": {},
   "source": [
    "#### Linearity\n",
    "This assumes that there is a linear relationship between the independent variables and the dependent variable. In our case since we have multiple independent variables, we can do this by using a scatter plot to see our predicted values versus the actual values."
   ]
  },
  {
   "cell_type": "code",
   "execution_count": 34,
   "id": "ef8a8e55",
   "metadata": {},
   "outputs": [
    {
     "data": {
      "image/png": "[encoded data removed]",
      "text/plain": [
       "<Figure size 500x500 with 1 Axes>"
      ]
     },
     "metadata": {},
     "output_type": "display_data"
    }
   ],
   "source": [
    "# Plotting the observed vs predicted values\n",
    "sns.lmplot(x='pie_sales', y='pie_sales_pred', data=df_pie, fit_reg=True, size=5)\n",
    "    \n",
    "# Plotting the diagonal line\n",
    "line_coords = np.arange(df_pie[['pie_sales', 'pie_sales_pred']].min().min()-10, \n",
    "                        df_pie[['pie_sales', 'pie_sales_pred']].max().max()+10)\n",
    "# plt.plot(line_coords, line_coords,  # X and y points\n",
    "#         color='darkorange', linestyle='--')\n",
    "\n",
    "plt.ylabel('Predicted Pie Sales', fontsize=14)\n",
    "plt.xlabel('Actual Pie Sales', fontsize=14)\n",
    "plt.title('Linearity Assumption', fontsize=16)\n",
    "plt.show()"
   ]
  },
  {
   "cell_type": "markdown",
   "id": "d89acede",
   "metadata": {},
   "source": [
    "\n",
    "The scatter plots show residual point evenly spread around the diagonal line, so we can assume that there is linear relationship between our independent and dependent variables."
   ]
  },
  {
   "cell_type": "markdown",
   "id": "dc93ea13",
   "metadata": {},
   "source": [
    "#### Conclusion\n",
    "Our models succesfuly passed all the tests in the model validation steps, so we can conclude that our model can perform well to predict future pie sales by using the two independent variables, price and advertising. But still, our model only has R² score of 52.14%, which means that there is still about 48% unknown factors that are affecting our pie sales."
   ]
  },
  {
   "cell_type": "markdown",
   "id": "9e39b789",
   "metadata": {},
   "source": [
    "#### References\n",
    "Telkom Digital Talent Incubator — Data Scientist Module 4 (Regression)\n",
    "\n",
    "Multiple Linear Regression and Visualization in Python https://aegis4048.github.io/mutiple_linear_regression_and_visualization_in_python\n",
    "\n",
    "Testing Linear Regression Assumptions in Python\n",
    "https://jeffmacaluso.github.io/post/LinearRegressionAssumptions/"
   ]
  },
  {
   "cell_type": "code",
   "execution_count": null,
   "id": "58495acc",
   "metadata": {},
   "outputs": [],
   "source": []
  }
 ],
 "metadata": {
  "kernelspec": {
   "display_name": "Python 3 (ipykernel)",
   "language": "python",
   "name": "python3"
  },
  "language_info": {
   "codemirror_mode": {
    "name": "ipython",
    "version": 3
   },
   "file_extension": ".py",
   "mimetype": "text/x-python",
   "name": "python",
   "nbconvert_exporter": "python",
   "pygments_lexer": "ipython3",
   "version": "3.11.5"
  },
  "toc": {
   "base_numbering": 1,
   "nav_menu": {},
   "number_sections": true,
   "sideBar": true,
   "skip_h1_title": false,
   "title_cell": "Table of Contents",
   "title_sidebar": "Contents",
   "toc_cell": false,
   "toc_position": {},
   "toc_section_display": true,
   "toc_window_display": false
  }
 },
 "nbformat": 4,
 "nbformat_minor": 5
}
