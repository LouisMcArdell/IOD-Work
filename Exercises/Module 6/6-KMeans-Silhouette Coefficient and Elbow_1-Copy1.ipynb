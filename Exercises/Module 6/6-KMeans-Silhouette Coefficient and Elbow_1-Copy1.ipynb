{
 "cells": [
  {
   "cell_type": "markdown",
   "id": "8f39f3f5",
   "metadata": {},
   "source": [
    "### Silhouette Coefficient"
   ]
  },
  {
   "cell_type": "code",
   "execution_count": 1,
   "id": "f22d83a6",
   "metadata": {},
   "outputs": [],
   "source": [
    "#Importing libraries:\n",
    "    \n",
    "import pandas as pd\n",
    "import numpy as np\n",
    "import seaborn as sns\n",
    "import matplotlib.pyplot as plt\n",
    "from sklearn.cluster import KMeans\n",
    "from sklearn.metrics import silhouette_score\n",
    "%matplotlib inline"
   ]
  },
  {
   "cell_type": "code",
   "execution_count": 2,
   "id": "06d52bff",
   "metadata": {},
   "outputs": [],
   "source": [
    "# Generating some random data:\n",
    "\n",
    "X= np.random.rand(50,2)\n",
    "Y= 2 + np.random.rand(50,2)\n",
    "Z= np.concatenate((X,Y))\n",
    "Z=pd.DataFrame(Z) #converting into data frame for ease"
   ]
  },
  {
   "cell_type": "code",
   "execution_count": 3,
   "id": "9203f2db",
   "metadata": {},
   "outputs": [
    {
     "data": {
      "text/html": [
       "<div>\n",
       "<style scoped>\n",
       "    .dataframe tbody tr th:only-of-type {\n",
       "        vertical-align: middle;\n",
       "    }\n",
       "\n",
       "    .dataframe tbody tr th {\n",
       "        vertical-align: top;\n",
       "    }\n",
       "\n",
       "    .dataframe thead th {\n",
       "        text-align: right;\n",
       "    }\n",
       "</style>\n",
       "<table border=\"1\" class=\"dataframe\">\n",
       "  <thead>\n",
       "    <tr style=\"text-align: right;\">\n",
       "      <th></th>\n",
       "      <th>0</th>\n",
       "      <th>1</th>\n",
       "    </tr>\n",
       "  </thead>\n",
       "  <tbody>\n",
       "    <tr>\n",
       "      <th>0</th>\n",
       "      <td>0.103982</td>\n",
       "      <td>0.489555</td>\n",
       "    </tr>\n",
       "    <tr>\n",
       "      <th>1</th>\n",
       "      <td>0.069558</td>\n",
       "      <td>0.318007</td>\n",
       "    </tr>\n",
       "    <tr>\n",
       "      <th>2</th>\n",
       "      <td>0.750454</td>\n",
       "      <td>0.195152</td>\n",
       "    </tr>\n",
       "    <tr>\n",
       "      <th>3</th>\n",
       "      <td>0.754573</td>\n",
       "      <td>0.301488</td>\n",
       "    </tr>\n",
       "    <tr>\n",
       "      <th>4</th>\n",
       "      <td>0.622667</td>\n",
       "      <td>0.270076</td>\n",
       "    </tr>\n",
       "  </tbody>\n",
       "</table>\n",
       "</div>"
      ],
      "text/plain": [
       "          0         1\n",
       "0  0.103982  0.489555\n",
       "1  0.069558  0.318007\n",
       "2  0.750454  0.195152\n",
       "3  0.754573  0.301488\n",
       "4  0.622667  0.270076"
      ]
     },
     "execution_count": 3,
     "metadata": {},
     "output_type": "execute_result"
    }
   ],
   "source": [
    "Z.head()"
   ]
  },
  {
   "cell_type": "code",
   "execution_count": 4,
   "id": "dacfcae9",
   "metadata": {},
   "outputs": [
    {
     "name": "stderr",
     "output_type": "stream",
     "text": [
      "C:\\Users\\aicyb\\anaconda3\\lib\\site-packages\\seaborn\\_decorators.py:36: FutureWarning: Pass the following variables as keyword args: x, y. From version 0.12, the only valid positional argument will be `data`, and passing other arguments without an explicit keyword will result in an error or misinterpretation.\n",
      "  warnings.warn(\n"
     ]
    },
    {
     "data": {
      "text/plain": [
       "<AxesSubplot:xlabel='0', ylabel='1'>"
      ]
     },
     "execution_count": 4,
     "metadata": {},
     "output_type": "execute_result"
    },
    {
     "data": {
      "image/png": "[encoded data removed]",
      "text/plain": [
       "<Figure size 432x288 with 1 Axes>"
      ]
     },
     "metadata": {
      "needs_background": "light"
     },
     "output_type": "display_data"
    }
   ],
   "source": [
    "sns.scatterplot(Z[0],Z[1])"
   ]
  },
  {
   "cell_type": "code",
   "execution_count": 5,
   "id": "607835e3",
   "metadata": {},
   "outputs": [],
   "source": [
    "# Applying KMeans Clustering with 2 clusters:\n",
    "\n",
    "KMean= KMeans(n_clusters=2)\n",
    "KMean.fit(Z)\n",
    "label=KMean.predict(Z)"
   ]
  },
  {
   "cell_type": "code",
   "execution_count": 6,
   "id": "64157257",
   "metadata": {},
   "outputs": [
    {
     "name": "stdout",
     "output_type": "stream",
     "text": [
      "Silhouette Score(n=2): 0.8242707314077591\n"
     ]
    }
   ],
   "source": [
    "# Calculating the silhouette score:\n",
    "\n",
    "print(f'Silhouette Score(n=2): {silhouette_score(Z, label)}')"
   ]
  },
  {
   "cell_type": "markdown",
   "id": "76482c58",
   "metadata": {},
   "source": [
    "We can say that the clusters are well apart from each other as the silhouette score is closer to 1.\\\n",
    "To check whether our silhouette score is providing the right information or not let’s create another scatter plot showing labelled data points."
   ]
  },
  {
   "cell_type": "code",
   "execution_count": 7,
   "id": "7a4f039c",
   "metadata": {},
   "outputs": [
    {
     "name": "stderr",
     "output_type": "stream",
     "text": [
      "C:\\Users\\aicyb\\anaconda3\\lib\\site-packages\\seaborn\\_decorators.py:36: FutureWarning: Pass the following variables as keyword args: x, y. From version 0.12, the only valid positional argument will be `data`, and passing other arguments without an explicit keyword will result in an error or misinterpretation.\n",
      "  warnings.warn(\n"
     ]
    },
    {
     "data": {
      "text/plain": [
       "<AxesSubplot:xlabel='0', ylabel='1'>"
      ]
     },
     "execution_count": 7,
     "metadata": {},
     "output_type": "execute_result"
    },
    {
     "data": {
      "image/png": "[encoded data removed]",
      "text/plain": [
       "<Figure size 432x288 with 1 Axes>"
      ]
     },
     "metadata": {
      "needs_background": "light"
     },
     "output_type": "display_data"
    }
   ],
   "source": [
    "sns.scatterplot(Z[0],Z[1],hue=label)"
   ]
  },
  {
   "cell_type": "markdown",
   "id": "5604a092",
   "metadata": {},
   "source": [
    "It can be seen clearly in the above figure that each cluster is well apart from each other.\\\n",
    "Let’s try with 3 clusters:"
   ]
  },
  {
   "cell_type": "code",
   "execution_count": 17,
   "id": "77912e17",
   "metadata": {},
   "outputs": [
    {
     "name": "stdout",
     "output_type": "stream",
     "text": [
      "Silhouette Score(n=3): 0.8242707314077591\n"
     ]
    },
    {
     "name": "stderr",
     "output_type": "stream",
     "text": [
      "C:\\Users\\aicyb\\anaconda3\\lib\\site-packages\\seaborn\\_decorators.py:36: FutureWarning: Pass the following variables as keyword args: x, y. From version 0.12, the only valid positional argument will be `data`, and passing other arguments without an explicit keyword will result in an error or misinterpretation.\n",
      "  warnings.warn(\n"
     ]
    },
    {
     "data": {
      "text/plain": [
       "<AxesSubplot:xlabel='0', ylabel='1'>"
      ]
     },
     "execution_count": 17,
     "metadata": {},
     "output_type": "execute_result"
    },
    {
     "data": {
      "image/png": "[encoded data removed]",
      "text/plain": [
       "<Figure size 432x288 with 1 Axes>"
      ]
     },
     "metadata": {
      "needs_background": "light"
     },
     "output_type": "display_data"
    }
   ],
   "source": [
    "KMean= KMeans(n_clusters=2)\n",
    "KMean.fit(Z)\n",
    "label=KMean.predict(Z)\n",
    "print(f'Silhouette Score(n=3): {silhouette_score(Z, label)}')\n",
    "sns.scatterplot(Z[0],Z[1],hue=label,palette='inferno_r')"
   ]
  },
  {
   "cell_type": "markdown",
   "id": "49f570dc",
   "metadata": {},
   "source": [
    "As you can see in the above figure clusters are not well apart. The inter cluster distance between cluster 1 and cluster 2 is almost negligible.That is why the silhouette score for n= 3(0.596) is lesser than that of n=2(0.806)."
   ]
  },
  {
   "cell_type": "markdown",
   "id": "f73fd8c4",
   "metadata": {},
   "source": [
    "We can also use the silhouette score to check the optimal number of clusters. \\\n",
    "In the above example, we can say that the optimal number of clusters is 2 as its silhouette score is greater than that of 3 clusters."
   ]
  },
  {
   "cell_type": "code",
   "execution_count": null,
   "id": "22d0a4ce",
   "metadata": {},
   "outputs": [],
   "source": []
  },
  {
   "cell_type": "markdown",
   "id": "3f2c3c38",
   "metadata": {},
   "source": [
    "### Elbow"
   ]
  },
  {
   "cell_type": "code",
   "execution_count": 13,
   "id": "a9f16fdb",
   "metadata": {},
   "outputs": [
    {
     "data": {
      "image/png": "[encoded data removed]",
      "text/plain": [
       "<Figure size 432x288 with 1 Axes>"
      ]
     },
     "metadata": {
      "needs_background": "light"
     },
     "output_type": "display_data"
    }
   ],
   "source": [
    "range_n_clusters = [2, 3, 4, 5, 6, 7] # number of clusters\n",
    "avg_distance=[] # compte inertia / metric for each cluster value\n",
    "for n_clusters in range_n_clusters:\n",
    "  clusterer = KMeans(n_clusters=n_clusters, random_state=42).fit(X) # fit a k-Means clustering model\n",
    "  avg_distance.append(clusterer.inertia_)\n",
    "  \n",
    "# elbow plot\n",
    "plt.plot(range_n_clusters, avg_distance)\n",
    "plt.xlabel(\"Number of Clusters (k)\")\n",
    "plt.ylabel(\"Inertia\")\n",
    "plt.show()"
   ]
  }
 ],
 "metadata": {
  "kernelspec": {
   "display_name": "Python 3 (ipykernel)",
   "language": "python",
   "name": "python3"
  },
  "language_info": {
   "codemirror_mode": {
    "name": "ipython",
    "version": 3
   },
   "file_extension": ".py",
   "mimetype": "text/x-python",
   "name": "python",
   "nbconvert_exporter": "python",
   "pygments_lexer": "ipython3",
   "version": "3.9.13"
  },
  "toc": {
   "base_numbering": 1,
   "nav_menu": {},
   "number_sections": false,
   "sideBar": true,
   "skip_h1_title": false,
   "title_cell": "Table of Contents",
   "title_sidebar": "Contents",
   "toc_cell": false,
   "toc_position": {},
   "toc_section_display": true,
   "toc_window_display": true
  }
 },
 "nbformat": 4,
 "nbformat_minor": 5
}
