{
 "cells": [
  {
   "cell_type": "markdown",
   "metadata": {},
   "source": [
    "## Webapp for clustering and analysing crash hotspots"
   ]
  },
  {
   "cell_type": "markdown",
   "metadata": {},
   "source": [
    "My first task is trying to get my dataset below 100MB so I can upload the csv to Github and use it on the fly"
   ]
  },
  {
   "cell_type": "code",
   "execution_count": 6,
   "metadata": {},
   "outputs": [],
   "source": [
    "# Importing libraries\n",
    "import numpy as np\n",
    "import pandas as pd\n",
    "import matplotlib.pyplot as plt\n",
    "import seaborn as sns\n",
    "import streamlit as st\n",
    "\n",
    "%matplotlib inline"
   ]
  },
  {
   "cell_type": "markdown",
   "metadata": {},
   "source": [
    "The data I'm using has been saved directly in my github repository. I will read the data straight from there"
   ]
  },
  {
   "cell_type": "code",
   "execution_count": 3,
   "metadata": {},
   "outputs": [],
   "source": [
    "\n",
    "# URL pointing to the raw version of the Parquet file on GitHub\n",
    "url = 'https://github.com/LouisMcArdell/IOD-Work/raw/main/Projects/Capstone/app_data.parquet'\n",
    "\n",
    "# Read the Parquet file directly into a DataFrame\n",
    "df = pd.read_parquet(url)\n",
    "\n",
    "# Now df contains the data from the Parquet file\n"
   ]
  },
  {
   "cell_type": "code",
   "execution_count": 5,
   "metadata": {},
   "outputs": [
    {
     "name": "stdout",
     "output_type": "stream",
     "text": [
      "<class 'pandas.core.frame.DataFrame'>\n",
      "RangeIndex: 821744 entries, 0 to 821743\n",
      "Data columns (total 66 columns):\n",
      " #   Column                    Non-Null Count   Dtype  \n",
      "---  ------                    --------------   -----  \n",
      " 0   Y                         821744 non-null  float64\n",
      " 1   X                         821744 non-null  float64\n",
      " 2   advisorySpeed             821744 non-null  int64  \n",
      " 3   bicycle                   821744 non-null  int64  \n",
      " 4   bridge                    332913 non-null  float64\n",
      " 5   bus                       821744 non-null  int64  \n",
      " 6   carStationWagon           821744 non-null  int64  \n",
      " 7   cliffBank                 332913 non-null  float64\n",
      " 8   crashLocation1            821744 non-null  object \n",
      " 9   crashLocation2            820470 non-null  object \n",
      " 10  crashSeverity             821744 non-null  object \n",
      " 11  crashSHDescription        821744 non-null  object \n",
      " 12  crashYear                 821744 non-null  int64  \n",
      " 13  debris                    332913 non-null  float64\n",
      " 14  directionRoleDescription  821744 non-null  object \n",
      " 15  ditch                     332913 non-null  float64\n",
      " 16  fatalCount                821744 non-null  int64  \n",
      " 17  fence                     332913 non-null  float64\n",
      " 18  flatHill                  821744 non-null  object \n",
      " 19  guardRail                 332913 non-null  float64\n",
      " 20  holiday                   821744 non-null  int64  \n",
      " 21  houseOrBuilding           332913 non-null  float64\n",
      " 22  kerb                      332913 non-null  float64\n",
      " 23  light                     821744 non-null  object \n",
      " 24  minorInjuryCount          821744 non-null  int64  \n",
      " 25  moped                     821744 non-null  int64  \n",
      " 26  motorcycle                821744 non-null  int64  \n",
      " 27  NumberOfLanes             821744 non-null  int64  \n",
      " 28  objectThrownOrDropped     332913 non-null  float64\n",
      " 29  otherObject               332913 non-null  float64\n",
      " 30  otherVehicleType          821744 non-null  int64  \n",
      " 31  overBank                  332913 non-null  float64\n",
      " 32  parkedVehicle             332913 non-null  float64\n",
      " 33  pedestrian                821744 non-null  int64  \n",
      " 34  phoneBoxEtc               332913 non-null  float64\n",
      " 35  postOrPole                332913 non-null  float64\n",
      " 36  region                    821744 non-null  object \n",
      " 37  roadCharacter             821744 non-null  object \n",
      " 38  roadLane                  821744 non-null  object \n",
      " 39  roadSurface               821744 non-null  object \n",
      " 40  roadworks                 332913 non-null  float64\n",
      " 41  schoolBus                 821744 non-null  int64  \n",
      " 42  seriousInjuryCount        821744 non-null  int64  \n",
      " 43  slipOrFlood               332913 non-null  float64\n",
      " 44  speedLimit                821744 non-null  int64  \n",
      " 45  strayAnimal               332913 non-null  float64\n",
      " 46  streetLight               821744 non-null  object \n",
      " 47  suv                       821744 non-null  int64  \n",
      " 48  taxi                      821744 non-null  int64  \n",
      " 49  temporarySpeedLimit       821744 non-null  int64  \n",
      " 50  trafficControl            821744 non-null  object \n",
      " 51  trafficIsland             332913 non-null  float64\n",
      " 52  trafficSign               332913 non-null  float64\n",
      " 53  train                     332913 non-null  float64\n",
      " 54  tree                      332913 non-null  float64\n",
      " 55  truck                     821744 non-null  int64  \n",
      " 56  unknownVehicleType        821744 non-null  int64  \n",
      " 57  urban                     821744 non-null  object \n",
      " 58  vanOrUtility              821744 non-null  int64  \n",
      " 59  vehicle                   332913 non-null  float64\n",
      " 60  waterRiver                332913 non-null  float64\n",
      " 61  weatherA                  821744 non-null  object \n",
      " 62  weatherB                  821744 non-null  object \n",
      " 63  weight                    821744 non-null  float64\n",
      " 64  latitude                  821744 non-null  float64\n",
      " 65  longitude                 821744 non-null  float64\n",
      "dtypes: float64(28), int64(22), object(16)\n",
      "memory usage: 413.8+ MB\n"
     ]
    }
   ],
   "source": [
    "df.info()"
   ]
  },
  {
   "cell_type": "code",
   "execution_count": 8,
   "metadata": {},
   "outputs": [],
   "source": [
    "app_title = 'NZ Crash Data Clustering'\n",
    "app_subtitle = 'Source: NZTA Crash Analysis System (CAS)'"
   ]
  }
 ],
 "metadata": {
  "kernelspec": {
   "display_name": "Python 3",
   "language": "python",
   "name": "python3"
  },
  "language_info": {
   "codemirror_mode": {
    "name": "ipython",
    "version": 3
   },
   "file_extension": ".py",
   "mimetype": "text/x-python",
   "name": "python",
   "nbconvert_exporter": "python",
   "pygments_lexer": "ipython3",
   "version": "3.11.4"
  }
 },
 "nbformat": 4,
 "nbformat_minor": 2
}
