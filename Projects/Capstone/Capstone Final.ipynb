{
 "cells": [
  {
   "cell_type": "markdown",
   "metadata": {},
   "source": [
    "## Capstone Project: Geospatial clustering of NZ crash data to identify high-risk areas"
   ]
  },
  {
   "cell_type": "markdown",
   "metadata": {},
   "source": [
    "## Introduction/Problem Statement\n",
    "Every year on New Zealand roads there are over 300 fatalities, 10,000 crashes which result in at least one injury, and over 30,000 crashes total reported to NZ Police.\n",
    "\n",
    "The cost of NOT acting to improve our roads is immeasurable  and goes beyond monetary costs; it includes the emotional toll for families and communities, increased burden for our healthcare and emergency services, and an overall impact on societal well-being and safety. This highlights the importance and urgency to provide authorities responsible for maintaining and improving our roads the information and tools to enable them to minimise loss of life.\n",
    "\n",
    "Stakeholder: New Zealand Transport Agency"
   ]
  },
  {
   "cell_type": "markdown",
   "metadata": {},
   "source": [
    "## Business context, stakeholders and value\n",
    "\n",
    "● Overall understanding of the business domain\n",
    "\n",
    "● Explanation of the business context\n",
    "\n",
    "● Formulation of the business question\n",
    "\n",
    "● Understanding and engagement of stakeholders\n",
    "\n",
    "● Estimation of the business value\n",
    "\n",
    "\n",
    "\n",
    "## Data description, sources, quality\n",
    "\n",
    "● Translation of the business question into a data question\n",
    "\n",
    "● Defining what data is needed to answer the business question\n",
    "\n",
    "● Understand how to source the data\n",
    "\n",
    "● Understanding of how the data was generated\n",
    "\n",
    "● Understanding of the quality of data and its limitations\n",
    "\n",
    "● Understanding of how the data can be sourced in the future"
   ]
  },
  {
   "cell_type": "markdown",
   "metadata": {},
   "source": [
    "## The Dataset\n",
    "The New Zealand Transport Agency maintains a system called the Crash Analysis System (CAS), which records all traffic crashes reported to us by the NZ Police. CAS covers crashes on all New Zealand roadways or places where the public have legal access with a motor vehicle.\n",
    "\n",
    "The data updates monthly, in the first week of each month. Data is currently available from 1 January 2000. The dataset includes crash variables that are non-personal data.\n",
    "\n",
    "Note: Not all crashes are reported to NZ Police, and therefore won't appear in this dataset. Most unprocessed crash reports will be for crashes where there weren’t any injuries.\n",
    "\n",
    "Crash severity is the severity of the worst injury in the crash. There may be more than one injury in a crash."
   ]
  },
  {
   "cell_type": "code",
   "execution_count": null,
   "metadata": {},
   "outputs": [],
   "source": [
    "# testds"
   ]
  },
  {
   "cell_type": "markdown",
   "metadata": {},
   "source": [
    "## References\n",
    "\n",
    "https://maphub.nzta.govt.nz/cas/\n",
    "\n",
    "https://catalogue.data.govt.nz/dataset/crash-analysis-system-cas-data5\n",
    "\n",
    "https://opendata-nzta.opendata.arcgis.com/pages/cas-data-field-descriptions"
   ]
  }
 ],
 "metadata": {
  "kernelspec": {
   "display_name": "Python 3",
   "language": "python",
   "name": "python3"
  },
  "language_info": {
   "name": "python",
   "version": "3.11.4"
  }
 },
 "nbformat": 4,
 "nbformat_minor": 2
}
