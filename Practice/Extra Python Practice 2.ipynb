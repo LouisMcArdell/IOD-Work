{
 "cells": [
  {
   "cell_type": "markdown",
   "id": "ade2864a-a57b-4db6-9bfb-034cf62d97a9",
   "metadata": {},
   "source": [
    "## Extra Python Practice 2"
   ]
  },
  {
   "cell_type": "markdown",
   "id": "af03f995-501d-488e-9c95-003ffbebcefb",
   "metadata": {},
   "source": [
    "#### 1. List Comprehensions\n",
    "\n",
    "Given a list of numbers, write some code using list comprehension that will return only the even elements within the list.\n",
    "\n",
    "**Desired Output**: [2, 30, 42, 56, 94]"
   ]
  },
  {
   "cell_type": "code",
   "execution_count": 2,
   "id": "66c1e2bd-1c56-4405-aa20-d83db4e2986c",
   "metadata": {},
   "outputs": [
    {
     "name": "stdout",
     "output_type": "stream",
     "text": [
      "[2, 30, 42, 56, 94]\n"
     ]
    }
   ],
   "source": [
    "#Answer:\n",
    "a = [2, 9, 13, 23, 30, 41, 42, 56, 87, 94]\n",
    "even_a = [x for x in a if x % 2 == 0]\n",
    "print(even_a)"
   ]
  },
  {
   "cell_type": "markdown",
   "id": "e353218c-d41f-4ffe-b448-be7a9b7285f8",
   "metadata": {},
   "source": [
    "**Extra**:\n",
    "\n",
    "Given a list of birth years, calculate the current age of each person(Again, using list comprehension) </br>\n",
    "**Note**: Make the current year dynamic (if you were to run the exact same code next year it would update the ages accordingly) </br>\n",
    "**Hint**: Use `datetime`."
   ]
  },
  {
   "cell_type": "code",
   "execution_count": 12,
   "id": "cc560302-9459-4761-b2ac-8dbe933f26f5",
   "metadata": {},
   "outputs": [],
   "source": [
    "from datetime import datetime"
   ]
  },
  {
   "cell_type": "code",
   "execution_count": 15,
   "id": "e5d44d18-f944-467c-b696-4492576e140b",
   "metadata": {},
   "outputs": [
    {
     "name": "stdout",
     "output_type": "stream",
     "text": [
      "[41, 35, 33, 29, 34, 35, 22]\n"
     ]
    }
   ],
   "source": [
    "#Answer:\n",
    "birth_years = [1982, 1988, 1990, 1994, 1989, 1988, 2001] \n",
    "\n",
    "current_year = datetime.now().year\n",
    "\n",
    "ages = [current_year - x for x in birth_years]\n",
    "print(ages)"
   ]
  },
  {
   "cell_type": "markdown",
   "id": "f5fbbdd7-aab6-4dc3-9f19-ae2d268e775d",
   "metadata": {},
   "source": [
    "</br>\n",
    "\n",
    "#### 2. Guess the Number - Two\n",
    "\n",
    "Instead of having the user guess a randomly generated number, have the program try and guess the users number (between something like 0 and 100). It is up to you to decide what strategy the program will use to guess (you could begin at 1 and increment by 1 until the correct number is guessed - but try and be a little more creative!). \n",
    "\n",
    " - When the program guesses a number it is up to the user to say if it is too high, too low, or correct.\n",
    " - Once the number is correctly guessed, have the program print out the number of attempts."
   ]
  },
  {
   "cell_type": "code",
   "execution_count": null,
   "id": "405b625a-f971-4934-8d3f-bb4324e38710",
   "metadata": {
    "tags": []
   },
   "outputs": [],
   "source": [
    "#Answer:"
   ]
  },
  {
   "cell_type": "markdown",
   "id": "ab86caac-efcf-4d0d-b9a3-d2fbca6bfcfd",
   "metadata": {},
   "source": [
    "</br>\n",
    "\n",
    "#### 3. Cows and Bulls\n",
    "\n",
    "Build a \"Cows and Bulls\" game that allows a player to guess a secret number. The game will provide feedback in terms of \"Cows\" and \"Bulls\" after each guess and will give a total number of guesses once the game ends (the number has been correctly guessed).\n",
    "\n",
    " - A number guessed correctly *in the correct place* is considered a cow.\n",
    " - A number guessed correctly *in the wrong place* is considered a bull.\n",
    " \n",
    " \n",
    "</br>\n",
    "\n",
    "**Example**:\n",
    "\n",
    "secret_number = 1038\n",
    "\n",
    "A guess of 1234 would return;\n",
    " - 2 cows, 0 bulls\n",
    " \n",
    "A guess of 4321 would return;\n",
    " - 0 cows, 2 bulls\n",
    "\n"
   ]
  },
  {
   "cell_type": "code",
   "execution_count": 7,
   "id": "739e96c8-8818-4202-a38b-1bd8b611db6c",
   "metadata": {},
   "outputs": [],
   "source": [
    "#Answer:"
   ]
  },
  {
   "cell_type": "markdown",
   "id": "224e337a-41f2-4568-a029-8b0e03a7bdcc",
   "metadata": {},
   "source": [
    "**Extra**:\n",
    "\n",
    "Try adding in difficulty levels, eg. `Easy` to guess three numbers, `Medium` to guess four numbers, and `Hard` to guess five numbers."
   ]
  },
  {
   "cell_type": "markdown",
   "id": "8a36d165-2b9a-4ff8-8be4-9ca066e03997",
   "metadata": {},
   "source": [
    "</br>\n",
    "\n",
    "#### 4. Morse Code Translator\n",
    "\n",
    "Write a program that can translate text to Morse code. </br>\n",
    "**Example Input**: \"IOD\"</br>\n",
    "**Example Output**: \".. --- -..\""
   ]
  },
  {
   "cell_type": "code",
   "execution_count": 8,
   "id": "51f2f000-4a6e-451d-9438-30fda04cca7f",
   "metadata": {},
   "outputs": [],
   "source": [
    "#Answer:\n",
    "\n",
    "morse_code_dict = {\n",
    "    'A': '.-', 'B': '-...', 'C': '-.-.', 'D': '-..', 'E': '.', 'F': '..-.', 'G': '--.', 'H': '....',\n",
    "    'I': '..', 'J': '.---', 'K': '-.-', 'L': '.-..', 'M': '--', 'N': '-.', 'O': '---', 'P': '.--.',\n",
    "    'Q': '--.-', 'R': '.-.', 'S': '...', 'T': '-', 'U': '..-', 'V': '...-', 'W': '.--', 'X': '-..-',\n",
    "    'Y': '-.--', 'Z': '--..',\n",
    "    '0': '-----', '1': '.----', '2': '..---', '3': '...--', '4': '....-', '5': '.....',\n",
    "    '6': '-....', '7': '--...', '8': '---..', '9': '----.',\n",
    "    ' ': ' '  # Space\n",
    "}"
   ]
  },
  {
   "cell_type": "markdown",
   "id": "d96d9f48-c7b4-44dd-827f-e8a30a60705b",
   "metadata": {},
   "source": [
    "**Extra**:\n",
    "\n",
    "Create a program that will allow the user to also translate Morse code to text. (Have the user choose what they want to do, either text to Morse code or vice versa, and have the program translate accordingly).</br>\n",
    "\n",
    "**Hint**: \n",
    " - Press 1 for Text to Morse code\n",
    " - Press 2 for Morse code to Text"
   ]
  }
 ],
 "metadata": {
  "kernelspec": {
   "display_name": "Python 3 (ipykernel)",
   "language": "python",
   "name": "python3"
  },
  "language_info": {
   "codemirror_mode": {
    "name": "ipython",
    "version": 3
   },
   "file_extension": ".py",
   "mimetype": "text/x-python",
   "name": "python",
   "nbconvert_exporter": "python",
   "pygments_lexer": "ipython3",
   "version": "3.11.4"
  }
 },
 "nbformat": 4,
 "nbformat_minor": 5
}
