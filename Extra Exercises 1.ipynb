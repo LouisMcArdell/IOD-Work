{
 "cells": [
  {
   "cell_type": "markdown",
   "id": "f65e78a9-61e4-4ada-89b0-6889ef02c254",
   "metadata": {},
   "source": [
    "## Extra Exercises 1"
   ]
  },
  {
   "cell_type": "code",
   "execution_count": 1,
   "id": "1726cd3d-bf56-4f7f-95c2-d1a9d09e18b2",
   "metadata": {},
   "outputs": [],
   "source": [
    "import numpy as np\n",
    "import pandas as pd"
   ]
  },
  {
   "cell_type": "markdown",
   "id": "569acc5c-a6c7-4b5b-bc57-6226f3aed3f1",
   "metadata": {},
   "source": [
    "</br>\n",
    "\n",
    "#### 1. Combine multiple series to form a DataFrame"
   ]
  },
  {
   "cell_type": "code",
   "execution_count": 2,
   "id": "cb02f8de-9190-4fde-9f18-ee943003bf55",
   "metadata": {},
   "outputs": [],
   "source": [
    "series1 = pd.Series(list('abcedfghijklmnopqrstuvwxyz'))\n",
    "series2 = pd.Series(np.arange(26))"
   ]
  },
  {
   "cell_type": "code",
   "execution_count": 12,
   "id": "1ac2e944-2eb8-4b60-8cc1-f302d9cb5df6",
   "metadata": {},
   "outputs": [
    {
     "data": {
      "text/html": [
       "<div>\n",
       "<style scoped>\n",
       "    .dataframe tbody tr th:only-of-type {\n",
       "        vertical-align: middle;\n",
       "    }\n",
       "\n",
       "    .dataframe tbody tr th {\n",
       "        vertical-align: top;\n",
       "    }\n",
       "\n",
       "    .dataframe thead th {\n",
       "        text-align: right;\n",
       "    }\n",
       "</style>\n",
       "<table border=\"1\" class=\"dataframe\">\n",
       "  <thead>\n",
       "    <tr style=\"text-align: right;\">\n",
       "      <th></th>\n",
       "      <th>A</th>\n",
       "      <th>B</th>\n",
       "    </tr>\n",
       "  </thead>\n",
       "  <tbody>\n",
       "    <tr>\n",
       "      <th>0</th>\n",
       "      <td>a</td>\n",
       "      <td>0</td>\n",
       "    </tr>\n",
       "    <tr>\n",
       "      <th>1</th>\n",
       "      <td>b</td>\n",
       "      <td>1</td>\n",
       "    </tr>\n",
       "    <tr>\n",
       "      <th>2</th>\n",
       "      <td>c</td>\n",
       "      <td>2</td>\n",
       "    </tr>\n",
       "    <tr>\n",
       "      <th>3</th>\n",
       "      <td>e</td>\n",
       "      <td>3</td>\n",
       "    </tr>\n",
       "    <tr>\n",
       "      <th>4</th>\n",
       "      <td>d</td>\n",
       "      <td>4</td>\n",
       "    </tr>\n",
       "    <tr>\n",
       "      <th>5</th>\n",
       "      <td>f</td>\n",
       "      <td>5</td>\n",
       "    </tr>\n",
       "    <tr>\n",
       "      <th>6</th>\n",
       "      <td>g</td>\n",
       "      <td>6</td>\n",
       "    </tr>\n",
       "    <tr>\n",
       "      <th>7</th>\n",
       "      <td>h</td>\n",
       "      <td>7</td>\n",
       "    </tr>\n",
       "    <tr>\n",
       "      <th>8</th>\n",
       "      <td>i</td>\n",
       "      <td>8</td>\n",
       "    </tr>\n",
       "    <tr>\n",
       "      <th>9</th>\n",
       "      <td>j</td>\n",
       "      <td>9</td>\n",
       "    </tr>\n",
       "    <tr>\n",
       "      <th>10</th>\n",
       "      <td>k</td>\n",
       "      <td>10</td>\n",
       "    </tr>\n",
       "    <tr>\n",
       "      <th>11</th>\n",
       "      <td>l</td>\n",
       "      <td>11</td>\n",
       "    </tr>\n",
       "    <tr>\n",
       "      <th>12</th>\n",
       "      <td>m</td>\n",
       "      <td>12</td>\n",
       "    </tr>\n",
       "    <tr>\n",
       "      <th>13</th>\n",
       "      <td>n</td>\n",
       "      <td>13</td>\n",
       "    </tr>\n",
       "    <tr>\n",
       "      <th>14</th>\n",
       "      <td>o</td>\n",
       "      <td>14</td>\n",
       "    </tr>\n",
       "    <tr>\n",
       "      <th>15</th>\n",
       "      <td>p</td>\n",
       "      <td>15</td>\n",
       "    </tr>\n",
       "    <tr>\n",
       "      <th>16</th>\n",
       "      <td>q</td>\n",
       "      <td>16</td>\n",
       "    </tr>\n",
       "    <tr>\n",
       "      <th>17</th>\n",
       "      <td>r</td>\n",
       "      <td>17</td>\n",
       "    </tr>\n",
       "    <tr>\n",
       "      <th>18</th>\n",
       "      <td>s</td>\n",
       "      <td>18</td>\n",
       "    </tr>\n",
       "    <tr>\n",
       "      <th>19</th>\n",
       "      <td>t</td>\n",
       "      <td>19</td>\n",
       "    </tr>\n",
       "    <tr>\n",
       "      <th>20</th>\n",
       "      <td>u</td>\n",
       "      <td>20</td>\n",
       "    </tr>\n",
       "    <tr>\n",
       "      <th>21</th>\n",
       "      <td>v</td>\n",
       "      <td>21</td>\n",
       "    </tr>\n",
       "    <tr>\n",
       "      <th>22</th>\n",
       "      <td>w</td>\n",
       "      <td>22</td>\n",
       "    </tr>\n",
       "    <tr>\n",
       "      <th>23</th>\n",
       "      <td>x</td>\n",
       "      <td>23</td>\n",
       "    </tr>\n",
       "    <tr>\n",
       "      <th>24</th>\n",
       "      <td>y</td>\n",
       "      <td>24</td>\n",
       "    </tr>\n",
       "    <tr>\n",
       "      <th>25</th>\n",
       "      <td>z</td>\n",
       "      <td>25</td>\n",
       "    </tr>\n",
       "  </tbody>\n",
       "</table>\n",
       "</div>"
      ],
      "text/plain": [
       "    A   B\n",
       "0   a   0\n",
       "1   b   1\n",
       "2   c   2\n",
       "3   e   3\n",
       "4   d   4\n",
       "5   f   5\n",
       "6   g   6\n",
       "7   h   7\n",
       "8   i   8\n",
       "9   j   9\n",
       "10  k  10\n",
       "11  l  11\n",
       "12  m  12\n",
       "13  n  13\n",
       "14  o  14\n",
       "15  p  15\n",
       "16  q  16\n",
       "17  r  17\n",
       "18  s  18\n",
       "19  t  19\n",
       "20  u  20\n",
       "21  v  21\n",
       "22  w  22\n",
       "23  x  23\n",
       "24  y  24\n",
       "25  z  25"
      ]
     },
     "execution_count": 12,
     "metadata": {},
     "output_type": "execute_result"
    }
   ],
   "source": [
    "#Answer:\n",
    "df = pd.DataFrame({'A':series1,'B':series2})\n",
    "df.head(26)"
   ]
  },
  {
   "cell_type": "markdown",
   "id": "4caa4f95-87a8-40ac-b039-39fb59a1c7a5",
   "metadata": {},
   "source": [
    "**Extra**: Create a third series and combine the three. What happens if one series is a different length?"
   ]
  },
  {
   "cell_type": "code",
   "execution_count": 21,
   "id": "918ccafa",
   "metadata": {},
   "outputs": [
    {
     "data": {
      "text/html": [
       "<div>\n",
       "<style scoped>\n",
       "    .dataframe tbody tr th:only-of-type {\n",
       "        vertical-align: middle;\n",
       "    }\n",
       "\n",
       "    .dataframe tbody tr th {\n",
       "        vertical-align: top;\n",
       "    }\n",
       "\n",
       "    .dataframe thead th {\n",
       "        text-align: right;\n",
       "    }\n",
       "</style>\n",
       "<table border=\"1\" class=\"dataframe\">\n",
       "  <thead>\n",
       "    <tr style=\"text-align: right;\">\n",
       "      <th></th>\n",
       "      <th>A</th>\n",
       "      <th>B</th>\n",
       "      <th>C</th>\n",
       "    </tr>\n",
       "  </thead>\n",
       "  <tbody>\n",
       "    <tr>\n",
       "      <th>0</th>\n",
       "      <td>a</td>\n",
       "      <td>0</td>\n",
       "      <td>0.0</td>\n",
       "    </tr>\n",
       "    <tr>\n",
       "      <th>1</th>\n",
       "      <td>b</td>\n",
       "      <td>1</td>\n",
       "      <td>1.0</td>\n",
       "    </tr>\n",
       "    <tr>\n",
       "      <th>2</th>\n",
       "      <td>c</td>\n",
       "      <td>2</td>\n",
       "      <td>2.0</td>\n",
       "    </tr>\n",
       "    <tr>\n",
       "      <th>3</th>\n",
       "      <td>e</td>\n",
       "      <td>3</td>\n",
       "      <td>3.0</td>\n",
       "    </tr>\n",
       "    <tr>\n",
       "      <th>4</th>\n",
       "      <td>d</td>\n",
       "      <td>4</td>\n",
       "      <td>4.0</td>\n",
       "    </tr>\n",
       "    <tr>\n",
       "      <th>5</th>\n",
       "      <td>f</td>\n",
       "      <td>5</td>\n",
       "      <td>5.0</td>\n",
       "    </tr>\n",
       "    <tr>\n",
       "      <th>6</th>\n",
       "      <td>g</td>\n",
       "      <td>6</td>\n",
       "      <td>6.0</td>\n",
       "    </tr>\n",
       "    <tr>\n",
       "      <th>7</th>\n",
       "      <td>h</td>\n",
       "      <td>7</td>\n",
       "      <td>7.0</td>\n",
       "    </tr>\n",
       "    <tr>\n",
       "      <th>8</th>\n",
       "      <td>i</td>\n",
       "      <td>8</td>\n",
       "      <td>8.0</td>\n",
       "    </tr>\n",
       "    <tr>\n",
       "      <th>9</th>\n",
       "      <td>j</td>\n",
       "      <td>9</td>\n",
       "      <td>9.0</td>\n",
       "    </tr>\n",
       "    <tr>\n",
       "      <th>10</th>\n",
       "      <td>k</td>\n",
       "      <td>10</td>\n",
       "      <td>NaN</td>\n",
       "    </tr>\n",
       "    <tr>\n",
       "      <th>11</th>\n",
       "      <td>l</td>\n",
       "      <td>11</td>\n",
       "      <td>NaN</td>\n",
       "    </tr>\n",
       "    <tr>\n",
       "      <th>12</th>\n",
       "      <td>m</td>\n",
       "      <td>12</td>\n",
       "      <td>NaN</td>\n",
       "    </tr>\n",
       "    <tr>\n",
       "      <th>13</th>\n",
       "      <td>n</td>\n",
       "      <td>13</td>\n",
       "      <td>NaN</td>\n",
       "    </tr>\n",
       "    <tr>\n",
       "      <th>14</th>\n",
       "      <td>o</td>\n",
       "      <td>14</td>\n",
       "      <td>NaN</td>\n",
       "    </tr>\n",
       "    <tr>\n",
       "      <th>15</th>\n",
       "      <td>p</td>\n",
       "      <td>15</td>\n",
       "      <td>NaN</td>\n",
       "    </tr>\n",
       "    <tr>\n",
       "      <th>16</th>\n",
       "      <td>q</td>\n",
       "      <td>16</td>\n",
       "      <td>NaN</td>\n",
       "    </tr>\n",
       "    <tr>\n",
       "      <th>17</th>\n",
       "      <td>r</td>\n",
       "      <td>17</td>\n",
       "      <td>NaN</td>\n",
       "    </tr>\n",
       "    <tr>\n",
       "      <th>18</th>\n",
       "      <td>s</td>\n",
       "      <td>18</td>\n",
       "      <td>NaN</td>\n",
       "    </tr>\n",
       "    <tr>\n",
       "      <th>19</th>\n",
       "      <td>t</td>\n",
       "      <td>19</td>\n",
       "      <td>NaN</td>\n",
       "    </tr>\n",
       "    <tr>\n",
       "      <th>20</th>\n",
       "      <td>u</td>\n",
       "      <td>20</td>\n",
       "      <td>NaN</td>\n",
       "    </tr>\n",
       "    <tr>\n",
       "      <th>21</th>\n",
       "      <td>v</td>\n",
       "      <td>21</td>\n",
       "      <td>NaN</td>\n",
       "    </tr>\n",
       "    <tr>\n",
       "      <th>22</th>\n",
       "      <td>w</td>\n",
       "      <td>22</td>\n",
       "      <td>NaN</td>\n",
       "    </tr>\n",
       "    <tr>\n",
       "      <th>23</th>\n",
       "      <td>x</td>\n",
       "      <td>23</td>\n",
       "      <td>NaN</td>\n",
       "    </tr>\n",
       "    <tr>\n",
       "      <th>24</th>\n",
       "      <td>y</td>\n",
       "      <td>24</td>\n",
       "      <td>NaN</td>\n",
       "    </tr>\n",
       "    <tr>\n",
       "      <th>25</th>\n",
       "      <td>z</td>\n",
       "      <td>25</td>\n",
       "      <td>NaN</td>\n",
       "    </tr>\n",
       "  </tbody>\n",
       "</table>\n",
       "</div>"
      ],
      "text/plain": [
       "    A   B    C\n",
       "0   a   0  0.0\n",
       "1   b   1  1.0\n",
       "2   c   2  2.0\n",
       "3   e   3  3.0\n",
       "4   d   4  4.0\n",
       "5   f   5  5.0\n",
       "6   g   6  6.0\n",
       "7   h   7  7.0\n",
       "8   i   8  8.0\n",
       "9   j   9  9.0\n",
       "10  k  10  NaN\n",
       "11  l  11  NaN\n",
       "12  m  12  NaN\n",
       "13  n  13  NaN\n",
       "14  o  14  NaN\n",
       "15  p  15  NaN\n",
       "16  q  16  NaN\n",
       "17  r  17  NaN\n",
       "18  s  18  NaN\n",
       "19  t  19  NaN\n",
       "20  u  20  NaN\n",
       "21  v  21  NaN\n",
       "22  w  22  NaN\n",
       "23  x  23  NaN\n",
       "24  y  24  NaN\n",
       "25  z  25  NaN"
      ]
     },
     "execution_count": 21,
     "metadata": {},
     "output_type": "execute_result"
    }
   ],
   "source": [
    "series3 = pd.Series(np.arange(10))\n",
    "df['C'] = series3\n",
    "df.head(30)"
   ]
  },
  {
   "cell_type": "markdown",
   "id": "0c30f460-fd70-42e7-b587-65922ffd7bbd",
   "metadata": {},
   "source": [
    "</br>\n",
    "\n",
    "#### 2. Keep only top 2 most frequent values as it is and replace everything else as 'Other'"
   ]
  },
  {
   "cell_type": "code",
   "execution_count": 20,
   "id": "137abe04-59dc-44b1-8c05-44d92700778f",
   "metadata": {},
   "outputs": [],
   "source": [
    "np.random.seed(42)\n",
    "series = pd.Series(np.random.randint(1, 5, [12]))"
   ]
  },
  {
   "cell_type": "code",
   "execution_count": 72,
   "id": "db96827c-d543-444e-82fe-858daadca620",
   "metadata": {},
   "outputs": [
    {
     "name": "stdout",
     "output_type": "stream",
     "text": [
      "3    6\n",
      "1    3\n",
      "4    2\n",
      "2    1\n",
      "Name: count, dtype: int64\n",
      "3    6\n",
      "Name: count, dtype: int64\n"
     ]
    }
   ],
   "source": [
    "#Answer:\n",
    "value_count = series.value_counts()\n",
    "print(value_count)\n",
    "top_two = value_count[:2]\n",
    "print(value_count[:1])\n",
    "\n"
   ]
  },
  {
   "cell_type": "markdown",
   "id": "fbfdf207-bf2d-4a03-bb2b-80f034cb9b8b",
   "metadata": {},
   "source": [
    "**Extra**: Do the same but for the highest and lowest value count, replacing everything else as other."
   ]
  },
  {
   "cell_type": "markdown",
   "id": "11299682-6ef3-4b7b-bfdc-f21413aa5230",
   "metadata": {},
   "source": [
    "</br>\n",
    "\n",
    "#### 3. Extract items at given positions from a series"
   ]
  },
  {
   "cell_type": "code",
   "execution_count": 8,
   "id": "ddbee5e7-87bd-4ef2-add2-22609a9bfe0a",
   "metadata": {},
   "outputs": [],
   "source": [
    "series = pd.Series(list('abcdefghijklmnopqrstuvwxyz'))\n",
    "positions = [0, 4, 8, 14, 20]"
   ]
  },
  {
   "cell_type": "code",
   "execution_count": null,
   "id": "2701f4aa-1730-4e6a-8ae9-3fd8442647b7",
   "metadata": {},
   "outputs": [],
   "source": [
    "#Answer:"
   ]
  },
  {
   "cell_type": "markdown",
   "id": "2d7618f9-67fc-4cec-8f2a-07802556763d",
   "metadata": {},
   "source": [
    "</br>\n",
    "\n",
    "#### 4. Compute differences between consecutive numbers of a series\n",
    "\n",
    "**Desired Output**: [nan, 2.0, 3.0, 4.0, 5.0, 6.0, 6.0, 8.0]"
   ]
  },
  {
   "cell_type": "code",
   "execution_count": null,
   "id": "fc5f57e3-7af4-4f45-b7bd-67317cb90322",
   "metadata": {},
   "outputs": [],
   "source": [
    "series = pd.Series([1, 3, 6, 10, 15, 21, 27, 35])"
   ]
  },
  {
   "cell_type": "code",
   "execution_count": 11,
   "id": "f6f5ea3b-500a-42d1-a980-9c0158b34bf2",
   "metadata": {},
   "outputs": [],
   "source": [
    "#Answer:"
   ]
  },
  {
   "cell_type": "markdown",
   "id": "471233ef-b90d-450d-b30c-3a94d9cc6827",
   "metadata": {},
   "source": [
    "**Extra**: Find the cumulative sum of the series instead of the differences. </br>\n",
    "**Desired Output**: [1, 4, 10, 20, 35, 56, 83, 118]"
   ]
  },
  {
   "cell_type": "markdown",
   "id": "81db0ba6-9bfa-4b1b-93ae-486033fc6572",
   "metadata": {},
   "source": [
    "</br>\n",
    "\n",
    "#### 5. String Manipulation\n",
    "\n",
    "Have the user enter a string and write a function that capitalizes the first letter of each word."
   ]
  },
  {
   "cell_type": "code",
   "execution_count": 20,
   "id": "468fd90b-e8b0-490d-a2b1-a1b130847ada",
   "metadata": {},
   "outputs": [],
   "source": [
    "#Answer:"
   ]
  },
  {
   "cell_type": "markdown",
   "id": "b554ac68-f59f-426a-8a63-9db7aa6a8dc5",
   "metadata": {},
   "source": [
    "**Extra**: Print out the count of the number of words in the string."
   ]
  },
  {
   "cell_type": "markdown",
   "id": "c6f08207-8df8-4a74-9f68-27ce021db8d0",
   "metadata": {},
   "source": [
    "</br>\n",
    "\n",
    "#### 6. Extracting Data"
   ]
  },
  {
   "cell_type": "code",
   "execution_count": 12,
   "id": "3cf385e6-4013-454e-9cf2-5d14e5612ea4",
   "metadata": {},
   "outputs": [],
   "source": [
    "data = [\n",
    "    {\n",
    "        \"id\": 1,\n",
    "        \"name\": \"John\",\n",
    "        \"department\": [\"HR\", \"New York\"],\n",
    "        \"skills\": [\"communication\", \"teamwork\", \"leadership\"]\n",
    "    },\n",
    "    {\n",
    "        \"id\": 2,\n",
    "        \"name\": \"Jane\",\n",
    "        \"department\": [\"Finance\", \"San Francisco\"],\n",
    "        \"skills\": [\"accounting\", \"analysis\"]\n",
    "    },\n",
    "    {\n",
    "        \"id\": 3,\n",
    "        \"name\": \"Michael\",\n",
    "        \"department\": [\"Engineering\", \"Seattle\"],\n",
    "        \"skills\": [\"programming\", \"problem-solving\"]\n",
    "    },\n",
    "    {\n",
    "        \"id\": 4,\n",
    "        \"name\": \"Sarah\",\n",
    "        \"department\": [\"Marketing\", \"Los Angeles\"],\n",
    "        \"skills\": [\"marketing\", \"creativity\"]\n",
    "    },\n",
    "    {\n",
    "        \"id\": 5,\n",
    "        \"name\": \"David\",\n",
    "        \"department\": [\"Sales\", \"Chicago\"],\n",
    "        \"skills\": [\"sales\", \"negotiation\"]\n",
    "    },\n",
    "    {\n",
    "        \"id\": 6,\n",
    "        \"name\": \"Emily\",\n",
    "        \"department\": [\"Engineering\", \"Seattle\"],\n",
    "        \"skills\": [\"coding\", \"troubleshooting\"]\n",
    "    }\n",
    "]"
   ]
  },
  {
   "cell_type": "markdown",
   "id": "0ef19782-6e4a-45aa-8675-4d1a9a0b6891",
   "metadata": {},
   "source": [
    "##### A. Extract all employee names"
   ]
  },
  {
   "cell_type": "code",
   "execution_count": 13,
   "id": "62974dce-3743-42a9-b680-8f9f5062af11",
   "metadata": {},
   "outputs": [],
   "source": [
    "#Answer:"
   ]
  },
  {
   "cell_type": "markdown",
   "id": "001ccf59-8c3c-4ee4-816d-12d7bc30c16d",
   "metadata": {},
   "source": [
    "##### B. Find the department of employee with ID 4"
   ]
  },
  {
   "cell_type": "code",
   "execution_count": 14,
   "id": "06888026-4300-4fbd-a41b-fd94a51369d9",
   "metadata": {},
   "outputs": [],
   "source": [
    "#Answer:"
   ]
  },
  {
   "cell_type": "markdown",
   "id": "bde81642-6d1e-46d7-b8ae-ec8e2384dec5",
   "metadata": {},
   "source": [
    "##### C. Count the number of employees in each department"
   ]
  },
  {
   "cell_type": "code",
   "execution_count": 15,
   "id": "0ae54e86-9085-4514-abed-233ac53c6596",
   "metadata": {},
   "outputs": [],
   "source": [
    "#Answer:"
   ]
  },
  {
   "cell_type": "markdown",
   "id": "b968d71f-c5ad-48fe-90c5-5110e6d26180",
   "metadata": {},
   "source": [
    "##### D. Find the names of employees in the \"Engineering\" department"
   ]
  },
  {
   "cell_type": "code",
   "execution_count": 16,
   "id": "ae0b5e7d-40f6-4ea5-8361-7c3a28bccf4e",
   "metadata": {},
   "outputs": [],
   "source": [
    "#Answer:"
   ]
  },
  {
   "cell_type": "markdown",
   "id": "25ebed69-05d8-4a11-99e1-bece445de7fe",
   "metadata": {},
   "source": [
    "##### E. Extract names of employees with skills including \"Programming\""
   ]
  },
  {
   "cell_type": "code",
   "execution_count": 17,
   "id": "f1dd22be-2a32-421e-980a-75700947529b",
   "metadata": {},
   "outputs": [],
   "source": [
    "#Answer:"
   ]
  },
  {
   "cell_type": "markdown",
   "id": "47328ffe-5c48-4dcc-a550-0dae430cbb1e",
   "metadata": {},
   "source": [
    "##### F. Calculate the average number of skills per employee"
   ]
  },
  {
   "cell_type": "code",
   "execution_count": 18,
   "id": "d9a8a64d-c22f-41f1-a029-2e63dfb27e6d",
   "metadata": {},
   "outputs": [],
   "source": [
    "#Answer:"
   ]
  },
  {
   "cell_type": "markdown",
   "id": "54e98d4f-31b7-456a-beee-0c69a7717a3f",
   "metadata": {},
   "source": [
    "##### G. Find the employee with the most skills"
   ]
  },
  {
   "cell_type": "code",
   "execution_count": 19,
   "id": "4b49152f-f8e6-4466-81ec-f073a8b78fc3",
   "metadata": {},
   "outputs": [],
   "source": [
    "#Answer:"
   ]
  }
 ],
 "metadata": {
  "kernelspec": {
   "display_name": "Python 3 (ipykernel)",
   "language": "python",
   "name": "python3"
  },
  "language_info": {
   "codemirror_mode": {
    "name": "ipython",
    "version": 3
   },
   "file_extension": ".py",
   "mimetype": "text/x-python",
   "name": "python",
   "nbconvert_exporter": "python",
   "pygments_lexer": "ipython3",
   "version": "3.9.10"
  }
 },
 "nbformat": 4,
 "nbformat_minor": 5
}
